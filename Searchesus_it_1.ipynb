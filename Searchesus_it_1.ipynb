{
  "nbformat": 4,
  "nbformat_minor": 0,
  "metadata": {
    "colab": {
      "provenance": []
    },
    "kernelspec": {
      "name": "python3",
      "display_name": "Python 3"
    },
    "language_info": {
      "name": "python"
    }
  },
  "cells": [
    {
      "cell_type": "code",
      "source": [
        "import requests\n",
        "from bs4 import BeautifulSoup\n",
        "import re\n"
      ],
      "metadata": {
        "id": "HYxaSC8AC-GV"
      },
      "execution_count": null,
      "outputs": []
    },
    {
      "cell_type": "code",
      "source": [
        "from google.colab import drive\n",
        "drive.mount('/content/drive')"
      ],
      "metadata": {
        "colab": {
          "base_uri": "https://localhost:8080/"
        },
        "id": "qsciVaaKNhV4",
        "outputId": "34b6d117-d14f-4616-8a98-78b63981d345"
      },
      "execution_count": null,
      "outputs": [
        {
          "output_type": "stream",
          "name": "stdout",
          "text": [
            "Mounted at /content/drive\n"
          ]
        }
      ]
    },
    {
      "cell_type": "code",
      "execution_count": null,
      "metadata": {
        "colab": {
          "base_uri": "https://localhost:8080/"
        },
        "id": "slSdhjL83z0H",
        "outputId": "7175ff28-45df-4b13-c194-fdd3f48b0ca1"
      },
      "outputs": [
        {
          "output_type": "stream",
          "name": "stdout",
          "text": [
            "25\n",
            "24\n",
            "25\n",
            "{'Citations': ['211', '911', '66', '51', '100', '75', '18', '4', '14', '40', '7', '7', '20', '29', '3', '30', '32'], 'h-index': ['7', '10', '6', '3', '6', '4', '2', '2', '2', '3', '2', '2', '2', '2', '1', '4', '3'], 'Expertise': [['Computer Science interdisciplinary', 'Data Mining, Software Testing, Immage Processing\\xa0'], ['Computer Science Information Systems', 'Data Mining, Artificial Intelligence'], ['Computer Science Information Systems ', 'Blockchain, Cryptography and Network Security, Design and Analysis of Security Protocols, Attacks and Defense, Cognitive Security, Bioinformatics '], ['Information and Communication', 'Soft Computing, Evolutionary Algorithms,Data Mining'], ['Computer Science Information Systems ', 'Computational Intelligence and Image Processing'], ['Computer Science Information Systems ', 'Data mining, Machine Learning, Deep Learning, Differential Privacy'], ['Computer Science Information Systems', 'Medical Imaging and Bioinformatics'], ['Computer Science Information Systems', 'Wireless Sensor Network, Internet of Things'], ['Computer Science Information Systems', 'Web security'], ['Computer Science Artificial Intelligence', 'Network Security, Cryprography,'], ['Computer Science Information Systems ', 'Distributed system,Swarm Intelligence, Database, Scripting Languages'], ['Computer Science Artificial Intelligence', 'Medical Image Processing and Pattern Recognition'], ['Information and Communication ', 'Security'], ['Information and Communication', 'Machine learning, image processing, networks'], ['Computer Science Information Systems', 'Machine learning, Cyber Security, Big Data Analytics, Cloud Computing, Malware Analysis'], ['Computer Science Information Systems', 'Data mining, C/C++ Programming'], ['Computer Science Information Systems', 'Cloud Computing, Software Engineering and Service Oriented Architecture'], ['Computer Science Information Systems', 'Medical Image Processing and ML'], ['Information and Communication', 'Machine learning, image processing, Block chain'], ['Computer Science Information Systems', 'Blockchain for Data Analytics'], ['Computer Science Information Systems', 'Computer Science'], ['Computer Science Information Systems', 'Internet of Things and Predicitve Analysis'], ['Computer Science Information Systems', 'Medical Image Processing'], ['Computer Science Information Systems', 'Computer Science Information Systems'], ['Computer Science Information Systems', 'Computer Science Information Systems']], 'Name': ['  Dr Chandran K. R', '  Dr Umamaheswari K', '  Dr Anitha Kumari Kumarasamy', '  Dr Karthika Renuka Dhanaraj', '  Dr Vinoth Kumar Balasubramanian', '  Ms Sangeetha S', '  Dr Somasundaram S K', '  Dr Vairam T', '  Ms Anusuya R', '  Ms Padmashani Rajkumar', '  Dr Sarathambekai S', '  Ms Ravitha Rajalakshmi Narayanamurthy', '  Dr SenthilPrabha Rajagopal', '  Dr Rekha Rajagopal', '  Ms Shymala Gowri Selvaganapathy', '  Ms Akalya Devi Chakaravarthy', '  Ms Radhika Engimuri', '  Dr Sivakumar Paulraj', '  Dr Sangeetha B', 'Ms Dharani Dhanaraj', 'Ms Jeneessha Pandiraj', 'Ms Priya S', 'Ms Thamilselvi KP', 'Ms Logeswari Saranya R', 'Mrs Sindhu G'], 'Google_schloe_id': ['UY-fBFMAAAAJ', 'kkzFx-gAAAAJ', 'FnhpYpQAAAAJ', '36WR6sAAAAAJ', 'qjeyjG0AAAAJ', 'jYTKw8QAAAAJ', 'rykqot0AAAAJ', 'sM6DbdwAAAAJ', 'P6hOylwAAAAJ', '6Ok36p4AAAAJ', 'blJKS2kAAAAJ', 'Y-Vx0AUAAAAJ', '-AmVi-8AAAAJ', '3HUsVdwAAAAJ', 'hs5ukg0AAAAJ', 'uauqA84AAAAJ', '5oI4jhwAAAAJ', 'ZL-rnSgAAAAJ', 'E0sUhKMAAAAJ', 'DWHrrnUAAAAJ', 'AEGDNzEAAAAJ', '0000-0002-3876-9152 ', '0000-0001-7353-1660 ', '', '']}\n",
            "5\n"
          ]
        }
      ],
      "source": [
        "\n",
        "def scrape_faculty_details(url):\n",
        "    \"\"\"\n",
        "    Scrape the faculty details from the given URL.\n",
        "\n",
        "    url: URL to scrape\n",
        "\n",
        "    Returns: list of dictionaries, where each dictionary represents a faculty member\n",
        "    \"\"\"\n",
        "    response = requests.get(url)\n",
        "    soup = BeautifulSoup(response.text, \"html.parser\")\n",
        "    #print(soup)\n",
        "    l = []\n",
        "    links = soup.find_all(\"a\")\n",
        "\n",
        "    # Extract all the links\n",
        "    for link in links:\n",
        "        href = link.get(\"href\")\n",
        "        l.append(href)\n",
        "    l1 = []\n",
        "    for i in l:\n",
        "      if re.fullmatch('https://psgtech.irins.org/profile/\\d+', i):\n",
        "        l1.append(i)\n",
        "      else:\n",
        "        continue\n",
        "    print(len(l1))\n",
        "    l3 = []\n",
        "    c = 0\n",
        "    l4 = {'Citations': [], 'h-index': [], 'Expertise': [], 'Name': [], 'Google_schloe_id': []}\n",
        "    for i in l1:\n",
        "        c+=1\n",
        "        response = requests.get(i)\n",
        "        soup = BeautifulSoup(response.text, \"html.parser\")\n",
        "\n",
        "        # Extract citation and h-index\n",
        "\n",
        "        list1 = soup.find_all(class_ = 'Cell-citation br1')\n",
        "        l2 = []\n",
        "        for j in list1:\n",
        "          l2.append([j.find(class_ = 'counter'),j.find(class_ = 'service-heading black-text small-text')])\n",
        "        #l4 = {}\n",
        "        for j in l2:\n",
        "          try:\n",
        "            l4[j[1].text].append(j[0].text)\n",
        "          except:\n",
        "            try:\n",
        "              if j[1].text in l4:\n",
        "                l4[j[1].text].append('')\n",
        "            except:\n",
        "              continue\n",
        "\n",
        "        # Expertise\n",
        "\n",
        "        ex = soup.find_all(class_ = 'panel-body border_box')\n",
        "        for j in ex:\n",
        "          ex1 = j.find_all(class_ = 'tag-box tag-box-v1')\n",
        "          for k in ex1:\n",
        "            l4['Expertise'].append([w for w in ((k.text).split('\\n')) if w !=''])\n",
        "            #l4['Expertise'] = (k.find('h2')).text\n",
        "\n",
        "        # Name and Location\n",
        "\n",
        "        name = soup.find_all(class_ = 'name-location')\n",
        "        for j in name:\n",
        "          for k in j.find_all('h1'):\n",
        "            l4['Name'].append(k.text)\n",
        "\n",
        "        # Publications\n",
        "\n",
        "        # p0 = soup.find_all(class_ = 'panel panel-profile margin-bottom-10')\n",
        "        # print(p0)\n",
        "        # p = p0[0].find_all(class_ = 'panel-body border_box')\n",
        "        # print(p[0])\n",
        "        # print(p[0].find_all('h2'))\n",
        "\n",
        "        # for j in p:\n",
        "        #   p1 = j.find_all('div')\n",
        "        #   print(p1)\n",
        "        #   print(p1)\n",
        "        #   for k in p1:\n",
        "        #     print(k.find('h2'))\n",
        "        # publication_titles = [item.text for item in soup.select(\"div.publication_div\")]\n",
        "        # print(publication_titles)\n",
        "\n",
        "        # Related professors and department\n",
        "\n",
        "        # rel = soup.find_all(class_ = 'col-md-2')\n",
        "\n",
        "        # Google ID\n",
        "\n",
        "        rel = soup.find_all(class_ = 'list-unstyled margin-bottom-20')\n",
        "        try:\n",
        "          id = rel[0].text\n",
        "          id = id.split('\\n')\n",
        "          #id = id.remove('')\n",
        "          l4['Google_schloe_id'].append(id[-5])\n",
        "        except:\n",
        "          print(c)\n",
        "          l4['Google_schloe_id'].append('')\n",
        "          continue\n",
        "        #l3.append(l4)\n",
        "    return l4\n",
        "\n",
        "url = \"https://psgtech.irins.org/faculty/index/Information+Technology\"\n",
        "result = scrape_faculty_details(url)\n",
        "print(result)\n",
        "print(len(result))\n"
      ]
    },
    {
      "cell_type": "code",
      "source": [
        "result1 = result\n",
        "for i in result:\n",
        "  print(len(result[i]))"
      ],
      "metadata": {
        "colab": {
          "base_uri": "https://localhost:8080/"
        },
        "id": "GJpRT-pbJcyA",
        "outputId": "e0007fa8-928b-49d9-9b33-0f5cf324574a"
      },
      "execution_count": null,
      "outputs": [
        {
          "output_type": "stream",
          "name": "stdout",
          "text": [
            "17\n",
            "17\n",
            "25\n",
            "25\n",
            "25\n"
          ]
        }
      ]
    },
    {
      "cell_type": "code",
      "source": [
        "result2 = {key: val for key,\n",
        "            val in result1.items() if key != 'h-index'}"
      ],
      "metadata": {
        "id": "I3nD7DGpMMTT"
      },
      "execution_count": null,
      "outputs": []
    },
    {
      "cell_type": "code",
      "source": [
        "result1"
      ],
      "metadata": {
        "id": "AHvFfTdTNCjS"
      },
      "execution_count": null,
      "outputs": []
    },
    {
      "cell_type": "code",
      "source": [
        "for i in result2:\n",
        "  print(len(result2[i]))"
      ],
      "metadata": {
        "colab": {
          "base_uri": "https://localhost:8080/"
        },
        "id": "8FTI3KoAM9jg",
        "outputId": "c003b493-1cd9-4f8d-fe7a-a195f36eef62"
      },
      "execution_count": null,
      "outputs": [
        {
          "output_type": "stream",
          "name": "stdout",
          "text": [
            "25\n",
            "25\n",
            "25\n"
          ]
        }
      ]
    },
    {
      "cell_type": "code",
      "source": [
        "import pandas as pd\n",
        "df = pd.DataFrame(result2)"
      ],
      "metadata": {
        "id": "smRey7mMJSeQ"
      },
      "execution_count": null,
      "outputs": []
    },
    {
      "cell_type": "code",
      "source": [
        "df.head()"
      ],
      "metadata": {
        "colab": {
          "base_uri": "https://localhost:8080/",
          "height": 206
        },
        "id": "MJn53dw8NSyI",
        "outputId": "4f1b2944-64d7-4ab6-d571-947b252ff810"
      },
      "execution_count": null,
      "outputs": [
        {
          "output_type": "execute_result",
          "data": {
            "text/plain": [
              "                                           Expertise  \\\n",
              "0  [Computer Science interdisciplinary, Data Mini...   \n",
              "1  [Computer Science Information Systems, Data Mi...   \n",
              "2  [Computer Science Information Systems , Blockc...   \n",
              "3  [Information and Communication, Soft Computing...   \n",
              "4  [Computer Science Information Systems , Comput...   \n",
              "\n",
              "                                Name Google_schloe_id  \n",
              "0                   Dr Chandran K. R     UY-fBFMAAAAJ  \n",
              "1                  Dr Umamaheswari K     kkzFx-gAAAAJ  \n",
              "2        Dr Anitha Kumari Kumarasamy     FnhpYpQAAAAJ  \n",
              "3        Dr Karthika Renuka Dhanaraj     36WR6sAAAAAJ  \n",
              "4    Dr Vinoth Kumar Balasubramanian     qjeyjG0AAAAJ  "
            ],
            "text/html": [
              "\n",
              "  <div id=\"df-79be7d19-a922-4730-b401-f103fdeccfe3\">\n",
              "    <div class=\"colab-df-container\">\n",
              "      <div>\n",
              "<style scoped>\n",
              "    .dataframe tbody tr th:only-of-type {\n",
              "        vertical-align: middle;\n",
              "    }\n",
              "\n",
              "    .dataframe tbody tr th {\n",
              "        vertical-align: top;\n",
              "    }\n",
              "\n",
              "    .dataframe thead th {\n",
              "        text-align: right;\n",
              "    }\n",
              "</style>\n",
              "<table border=\"1\" class=\"dataframe\">\n",
              "  <thead>\n",
              "    <tr style=\"text-align: right;\">\n",
              "      <th></th>\n",
              "      <th>Expertise</th>\n",
              "      <th>Name</th>\n",
              "      <th>Google_schloe_id</th>\n",
              "    </tr>\n",
              "  </thead>\n",
              "  <tbody>\n",
              "    <tr>\n",
              "      <th>0</th>\n",
              "      <td>[Computer Science interdisciplinary, Data Mini...</td>\n",
              "      <td>Dr Chandran K. R</td>\n",
              "      <td>UY-fBFMAAAAJ</td>\n",
              "    </tr>\n",
              "    <tr>\n",
              "      <th>1</th>\n",
              "      <td>[Computer Science Information Systems, Data Mi...</td>\n",
              "      <td>Dr Umamaheswari K</td>\n",
              "      <td>kkzFx-gAAAAJ</td>\n",
              "    </tr>\n",
              "    <tr>\n",
              "      <th>2</th>\n",
              "      <td>[Computer Science Information Systems , Blockc...</td>\n",
              "      <td>Dr Anitha Kumari Kumarasamy</td>\n",
              "      <td>FnhpYpQAAAAJ</td>\n",
              "    </tr>\n",
              "    <tr>\n",
              "      <th>3</th>\n",
              "      <td>[Information and Communication, Soft Computing...</td>\n",
              "      <td>Dr Karthika Renuka Dhanaraj</td>\n",
              "      <td>36WR6sAAAAAJ</td>\n",
              "    </tr>\n",
              "    <tr>\n",
              "      <th>4</th>\n",
              "      <td>[Computer Science Information Systems , Comput...</td>\n",
              "      <td>Dr Vinoth Kumar Balasubramanian</td>\n",
              "      <td>qjeyjG0AAAAJ</td>\n",
              "    </tr>\n",
              "  </tbody>\n",
              "</table>\n",
              "</div>\n",
              "      <button class=\"colab-df-convert\" onclick=\"convertToInteractive('df-79be7d19-a922-4730-b401-f103fdeccfe3')\"\n",
              "              title=\"Convert this dataframe to an interactive table.\"\n",
              "              style=\"display:none;\">\n",
              "        \n",
              "  <svg xmlns=\"http://www.w3.org/2000/svg\" height=\"24px\"viewBox=\"0 0 24 24\"\n",
              "       width=\"24px\">\n",
              "    <path d=\"M0 0h24v24H0V0z\" fill=\"none\"/>\n",
              "    <path d=\"M18.56 5.44l.94 2.06.94-2.06 2.06-.94-2.06-.94-.94-2.06-.94 2.06-2.06.94zm-11 1L8.5 8.5l.94-2.06 2.06-.94-2.06-.94L8.5 2.5l-.94 2.06-2.06.94zm10 10l.94 2.06.94-2.06 2.06-.94-2.06-.94-.94-2.06-.94 2.06-2.06.94z\"/><path d=\"M17.41 7.96l-1.37-1.37c-.4-.4-.92-.59-1.43-.59-.52 0-1.04.2-1.43.59L10.3 9.45l-7.72 7.72c-.78.78-.78 2.05 0 2.83L4 21.41c.39.39.9.59 1.41.59.51 0 1.02-.2 1.41-.59l7.78-7.78 2.81-2.81c.8-.78.8-2.07 0-2.86zM5.41 20L4 18.59l7.72-7.72 1.47 1.35L5.41 20z\"/>\n",
              "  </svg>\n",
              "      </button>\n",
              "      \n",
              "  <style>\n",
              "    .colab-df-container {\n",
              "      display:flex;\n",
              "      flex-wrap:wrap;\n",
              "      gap: 12px;\n",
              "    }\n",
              "\n",
              "    .colab-df-convert {\n",
              "      background-color: #E8F0FE;\n",
              "      border: none;\n",
              "      border-radius: 50%;\n",
              "      cursor: pointer;\n",
              "      display: none;\n",
              "      fill: #1967D2;\n",
              "      height: 32px;\n",
              "      padding: 0 0 0 0;\n",
              "      width: 32px;\n",
              "    }\n",
              "\n",
              "    .colab-df-convert:hover {\n",
              "      background-color: #E2EBFA;\n",
              "      box-shadow: 0px 1px 2px rgba(60, 64, 67, 0.3), 0px 1px 3px 1px rgba(60, 64, 67, 0.15);\n",
              "      fill: #174EA6;\n",
              "    }\n",
              "\n",
              "    [theme=dark] .colab-df-convert {\n",
              "      background-color: #3B4455;\n",
              "      fill: #D2E3FC;\n",
              "    }\n",
              "\n",
              "    [theme=dark] .colab-df-convert:hover {\n",
              "      background-color: #434B5C;\n",
              "      box-shadow: 0px 1px 3px 1px rgba(0, 0, 0, 0.15);\n",
              "      filter: drop-shadow(0px 1px 2px rgba(0, 0, 0, 0.3));\n",
              "      fill: #FFFFFF;\n",
              "    }\n",
              "  </style>\n",
              "\n",
              "      <script>\n",
              "        const buttonEl =\n",
              "          document.querySelector('#df-79be7d19-a922-4730-b401-f103fdeccfe3 button.colab-df-convert');\n",
              "        buttonEl.style.display =\n",
              "          google.colab.kernel.accessAllowed ? 'block' : 'none';\n",
              "\n",
              "        async function convertToInteractive(key) {\n",
              "          const element = document.querySelector('#df-79be7d19-a922-4730-b401-f103fdeccfe3');\n",
              "          const dataTable =\n",
              "            await google.colab.kernel.invokeFunction('convertToInteractive',\n",
              "                                                     [key], {});\n",
              "          if (!dataTable) return;\n",
              "\n",
              "          const docLinkHtml = 'Like what you see? Visit the ' +\n",
              "            '<a target=\"_blank\" href=https://colab.research.google.com/notebooks/data_table.ipynb>data table notebook</a>'\n",
              "            + ' to learn more about interactive tables.';\n",
              "          element.innerHTML = '';\n",
              "          dataTable['output_type'] = 'display_data';\n",
              "          await google.colab.output.renderOutput(dataTable, element);\n",
              "          const docLink = document.createElement('div');\n",
              "          docLink.innerHTML = docLinkHtml;\n",
              "          element.appendChild(docLink);\n",
              "        }\n",
              "      </script>\n",
              "    </div>\n",
              "  </div>\n",
              "  "
            ]
          },
          "metadata": {},
          "execution_count": 10
        }
      ]
    },
    {
      "cell_type": "code",
      "source": [
        "df.to_csv('/content/drive/MyDrive/Sem8/NLP/nlp_hackathon_it/nlp_hathon_it.csv')"
      ],
      "metadata": {
        "id": "_xRmlAGLNVRv"
      },
      "execution_count": null,
      "outputs": []
    },
    {
      "cell_type": "code",
      "source": [
        "response = requests.get('https://link.springer.com/chapter/10.1007/978-3-642-45062-4_16')\n",
        "soup = BeautifulSoup(response.text, \"html.parser\")"
      ],
      "metadata": {
        "id": "8eeDH0zrirR-"
      },
      "execution_count": null,
      "outputs": []
    },
    {
      "cell_type": "code",
      "source": [
        "soup"
      ],
      "metadata": {
        "id": "h8AHtk471qsM"
      },
      "execution_count": null,
      "outputs": []
    },
    {
      "cell_type": "code",
      "source": [
        " p = soup.find_all(class_ = 'c-article-subject-list')\n",
        " key = p[0].find_all('li')\n",
        " for i in key:\n",
        "   print(i.text)"
      ],
      "metadata": {
        "colab": {
          "base_uri": "https://localhost:8080/"
        },
        "id": "nMKXvX5F1sCN",
        "outputId": "6fade260-686d-4112-88c4-78134c1c9c75"
      },
      "execution_count": null,
      "outputs": [
        {
          "output_type": "stream",
          "name": "stdout",
          "text": [
            "Off-line signature verification\n",
            "Simplified fuzzy ARTMAP\n",
            "fuzzy inference rules\n",
            "contrast intensification\n",
            "fuzzy rough sets\n",
            "feature selection\n"
          ]
        }
      ]
    },
    {
      "cell_type": "code",
      "source": [],
      "metadata": {
        "id": "K5BZWbU627AM"
      },
      "execution_count": null,
      "outputs": []
    }
  ]
}