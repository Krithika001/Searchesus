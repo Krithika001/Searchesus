{
  "cells": [
    {
      "cell_type": "markdown",
      "metadata": {
        "id": "cUwgDUTKFxNY"
      },
      "source": [
        "# Packages"
      ]
    },
    {
      "cell_type": "code",
      "execution_count": null,
      "metadata": {
        "colab": {
          "base_uri": "https://localhost:8080/"
        },
        "id": "epqAonIw1n5K",
        "outputId": "aec9f33f-074b-407f-8a0b-33178579beee"
      },
      "outputs": [
        {
          "name": "stdout",
          "output_type": "stream",
          "text": [
            "Looking in indexes: https://pypi.org/simple, https://us-python.pkg.dev/colab-wheels/public/simple/\n",
            "Collecting pytextrank\n",
            "  Downloading pytextrank-3.2.4-py3-none-any.whl (30 kB)\n",
            "Requirement already satisfied: networkx[default]>=2.6 in /usr/local/lib/python3.8/dist-packages (from pytextrank) (3.0)\n",
            "Requirement already satisfied: scipy>=1.7 in /usr/local/lib/python3.8/dist-packages (from pytextrank) (1.7.3)\n",
            "Requirement already satisfied: spacy>=3.0 in /usr/local/lib/python3.8/dist-packages (from pytextrank) (3.4.4)\n",
            "Collecting pygments>=2.7.4\n",
            "  Downloading Pygments-2.14.0-py3-none-any.whl (1.1 MB)\n",
            "\u001b[2K     \u001b[90m━━━━━━━━━━━━━━━━━━━━━━━━━━━━━━━━━━━━━━━━\u001b[0m \u001b[32m1.1/1.1 MB\u001b[0m \u001b[31m39.4 MB/s\u001b[0m eta \u001b[36m0:00:00\u001b[0m\n",
            "\u001b[?25hCollecting icecream>=2.1\n",
            "  Downloading icecream-2.1.3-py2.py3-none-any.whl (8.4 kB)\n",
            "Collecting graphviz>=0.13\n",
            "  Downloading graphviz-0.20.1-py3-none-any.whl (47 kB)\n",
            "\u001b[2K     \u001b[90m━━━━━━━━━━━━━━━━━━━━━━━━━━━━━━━━━━━━━━━━\u001b[0m \u001b[32m47.0/47.0 KB\u001b[0m \u001b[31m6.1 MB/s\u001b[0m eta \u001b[36m0:00:00\u001b[0m\n",
            "\u001b[?25hCollecting executing>=0.3.1\n",
            "  Downloading executing-1.2.0-py2.py3-none-any.whl (24 kB)\n",
            "Collecting colorama>=0.3.9\n",
            "  Downloading colorama-0.4.6-py2.py3-none-any.whl (25 kB)\n",
            "Collecting asttokens>=2.0.1\n",
            "  Downloading asttokens-2.2.1-py2.py3-none-any.whl (26 kB)\n",
            "Requirement already satisfied: pandas>=1.3 in /usr/local/lib/python3.8/dist-packages (from networkx[default]>=2.6->pytextrank) (1.3.5)\n",
            "Collecting matplotlib>=3.4\n",
            "  Downloading matplotlib-3.6.3-cp38-cp38-manylinux_2_12_x86_64.manylinux2010_x86_64.whl (9.4 MB)\n",
            "\u001b[2K     \u001b[90m━━━━━━━━━━━━━━━━━━━━━━━━━━━━━━━━━━━━━━━━\u001b[0m \u001b[32m9.4/9.4 MB\u001b[0m \u001b[31m76.6 MB/s\u001b[0m eta \u001b[36m0:00:00\u001b[0m\n",
            "\u001b[?25hCollecting scipy>=1.7\n",
            "  Downloading scipy-1.10.0-cp38-cp38-manylinux_2_17_x86_64.manylinux2014_x86_64.whl (34.5 MB)\n",
            "\u001b[2K     \u001b[90m━━━━━━━━━━━━━━━━━━━━━━━━━━━━━━━━━━━━━━━━\u001b[0m \u001b[32m34.5/34.5 MB\u001b[0m \u001b[31m14.8 MB/s\u001b[0m eta \u001b[36m0:00:00\u001b[0m\n",
            "\u001b[?25hRequirement already satisfied: numpy>=1.20 in /usr/local/lib/python3.8/dist-packages (from networkx[default]>=2.6->pytextrank) (1.21.6)\n",
            "Requirement already satisfied: tqdm<5.0.0,>=4.38.0 in /usr/local/lib/python3.8/dist-packages (from spacy>=3.0->pytextrank) (4.64.1)\n",
            "Requirement already satisfied: requests<3.0.0,>=2.13.0 in /usr/local/lib/python3.8/dist-packages (from spacy>=3.0->pytextrank) (2.25.1)\n",
            "Requirement already satisfied: preshed<3.1.0,>=3.0.2 in /usr/local/lib/python3.8/dist-packages (from spacy>=3.0->pytextrank) (3.0.8)\n",
            "Requirement already satisfied: pydantic!=1.8,!=1.8.1,<1.11.0,>=1.7.4 in /usr/local/lib/python3.8/dist-packages (from spacy>=3.0->pytextrank) (1.10.4)\n",
            "Requirement already satisfied: smart-open<7.0.0,>=5.2.1 in /usr/local/lib/python3.8/dist-packages (from spacy>=3.0->pytextrank) (6.3.0)\n",
            "Requirement already satisfied: catalogue<2.1.0,>=2.0.6 in /usr/local/lib/python3.8/dist-packages (from spacy>=3.0->pytextrank) (2.0.8)\n",
            "Requirement already satisfied: pathy>=0.3.5 in /usr/local/lib/python3.8/dist-packages (from spacy>=3.0->pytextrank) (0.10.1)\n",
            "Requirement already satisfied: jinja2 in /usr/local/lib/python3.8/dist-packages (from spacy>=3.0->pytextrank) (2.11.3)\n",
            "Requirement already satisfied: setuptools in /usr/local/lib/python3.8/dist-packages (from spacy>=3.0->pytextrank) (57.4.0)\n",
            "Requirement already satisfied: murmurhash<1.1.0,>=0.28.0 in /usr/local/lib/python3.8/dist-packages (from spacy>=3.0->pytextrank) (1.0.9)\n",
            "Requirement already satisfied: spacy-loggers<2.0.0,>=1.0.0 in /usr/local/lib/python3.8/dist-packages (from spacy>=3.0->pytextrank) (1.0.4)\n",
            "Requirement already satisfied: thinc<8.2.0,>=8.1.0 in /usr/local/lib/python3.8/dist-packages (from spacy>=3.0->pytextrank) (8.1.7)\n",
            "Requirement already satisfied: langcodes<4.0.0,>=3.2.0 in /usr/local/lib/python3.8/dist-packages (from spacy>=3.0->pytextrank) (3.3.0)\n",
            "Requirement already satisfied: spacy-legacy<3.1.0,>=3.0.10 in /usr/local/lib/python3.8/dist-packages (from spacy>=3.0->pytextrank) (3.0.12)\n",
            "Requirement already satisfied: packaging>=20.0 in /usr/local/lib/python3.8/dist-packages (from spacy>=3.0->pytextrank) (23.0)\n",
            "Requirement already satisfied: srsly<3.0.0,>=2.4.3 in /usr/local/lib/python3.8/dist-packages (from spacy>=3.0->pytextrank) (2.4.5)\n",
            "Requirement already satisfied: cymem<2.1.0,>=2.0.2 in /usr/local/lib/python3.8/dist-packages (from spacy>=3.0->pytextrank) (2.0.7)\n",
            "Requirement already satisfied: typer<0.8.0,>=0.3.0 in /usr/local/lib/python3.8/dist-packages (from spacy>=3.0->pytextrank) (0.7.0)\n",
            "Requirement already satisfied: wasabi<1.1.0,>=0.9.1 in /usr/local/lib/python3.8/dist-packages (from spacy>=3.0->pytextrank) (0.10.1)\n",
            "Requirement already satisfied: six in /usr/local/lib/python3.8/dist-packages (from asttokens>=2.0.1->icecream>=2.1->pytextrank) (1.15.0)\n",
            "Requirement already satisfied: pillow>=6.2.0 in /usr/local/lib/python3.8/dist-packages (from matplotlib>=3.4->networkx[default]>=2.6->pytextrank) (7.1.2)\n",
            "Requirement already satisfied: cycler>=0.10 in /usr/local/lib/python3.8/dist-packages (from matplotlib>=3.4->networkx[default]>=2.6->pytextrank) (0.11.0)\n",
            "Requirement already satisfied: python-dateutil>=2.7 in /usr/local/lib/python3.8/dist-packages (from matplotlib>=3.4->networkx[default]>=2.6->pytextrank) (2.8.2)\n",
            "Collecting contourpy>=1.0.1\n",
            "  Downloading contourpy-1.0.7-cp38-cp38-manylinux_2_17_x86_64.manylinux2014_x86_64.whl (300 kB)\n",
            "\u001b[2K     \u001b[90m━━━━━━━━━━━━━━━━━━━━━━━━━━━━━━━━━━━━━━\u001b[0m \u001b[32m300.0/300.0 KB\u001b[0m \u001b[31m29.7 MB/s\u001b[0m eta \u001b[36m0:00:00\u001b[0m\n",
            "\u001b[?25hRequirement already satisfied: kiwisolver>=1.0.1 in /usr/local/lib/python3.8/dist-packages (from matplotlib>=3.4->networkx[default]>=2.6->pytextrank) (1.4.4)\n",
            "Collecting fonttools>=4.22.0\n",
            "  Downloading fonttools-4.38.0-py3-none-any.whl (965 kB)\n",
            "\u001b[2K     \u001b[90m━━━━━━━━━━━━━━━━━━━━━━━━━━━━━━━━━━━━━━\u001b[0m \u001b[32m965.4/965.4 KB\u001b[0m \u001b[31m50.5 MB/s\u001b[0m eta \u001b[36m0:00:00\u001b[0m\n",
            "\u001b[?25hRequirement already satisfied: pyparsing>=2.2.1 in /usr/local/lib/python3.8/dist-packages (from matplotlib>=3.4->networkx[default]>=2.6->pytextrank) (3.0.9)\n",
            "Requirement already satisfied: pytz>=2017.3 in /usr/local/lib/python3.8/dist-packages (from pandas>=1.3->networkx[default]>=2.6->pytextrank) (2022.7.1)\n",
            "Requirement already satisfied: typing-extensions>=4.2.0 in /usr/local/lib/python3.8/dist-packages (from pydantic!=1.8,!=1.8.1,<1.11.0,>=1.7.4->spacy>=3.0->pytextrank) (4.4.0)\n",
            "Requirement already satisfied: idna<3,>=2.5 in /usr/local/lib/python3.8/dist-packages (from requests<3.0.0,>=2.13.0->spacy>=3.0->pytextrank) (2.10)\n",
            "Requirement already satisfied: chardet<5,>=3.0.2 in /usr/local/lib/python3.8/dist-packages (from requests<3.0.0,>=2.13.0->spacy>=3.0->pytextrank) (4.0.0)\n",
            "Requirement already satisfied: certifi>=2017.4.17 in /usr/local/lib/python3.8/dist-packages (from requests<3.0.0,>=2.13.0->spacy>=3.0->pytextrank) (2022.12.7)\n",
            "Requirement already satisfied: urllib3<1.27,>=1.21.1 in /usr/local/lib/python3.8/dist-packages (from requests<3.0.0,>=2.13.0->spacy>=3.0->pytextrank) (1.24.3)\n",
            "Requirement already satisfied: blis<0.8.0,>=0.7.8 in /usr/local/lib/python3.8/dist-packages (from thinc<8.2.0,>=8.1.0->spacy>=3.0->pytextrank) (0.7.9)\n",
            "Requirement already satisfied: confection<1.0.0,>=0.0.1 in /usr/local/lib/python3.8/dist-packages (from thinc<8.2.0,>=8.1.0->spacy>=3.0->pytextrank) (0.0.4)\n",
            "Requirement already satisfied: click<9.0.0,>=7.1.1 in /usr/local/lib/python3.8/dist-packages (from typer<0.8.0,>=0.3.0->spacy>=3.0->pytextrank) (7.1.2)\n",
            "Requirement already satisfied: MarkupSafe>=0.23 in /usr/local/lib/python3.8/dist-packages (from jinja2->spacy>=3.0->pytextrank) (2.0.1)\n",
            "Installing collected packages: executing, scipy, pygments, graphviz, fonttools, contourpy, colorama, asttokens, matplotlib, icecream, pytextrank\n",
            "  Attempting uninstall: scipy\n",
            "    Found existing installation: scipy 1.7.3\n",
            "    Uninstalling scipy-1.7.3:\n",
            "      Successfully uninstalled scipy-1.7.3\n",
            "  Attempting uninstall: pygments\n",
            "    Found existing installation: Pygments 2.6.1\n",
            "    Uninstalling Pygments-2.6.1:\n",
            "      Successfully uninstalled Pygments-2.6.1\n",
            "  Attempting uninstall: graphviz\n",
            "    Found existing installation: graphviz 0.10.1\n",
            "    Uninstalling graphviz-0.10.1:\n",
            "      Successfully uninstalled graphviz-0.10.1\n",
            "  Attempting uninstall: matplotlib\n",
            "    Found existing installation: matplotlib 3.2.2\n",
            "    Uninstalling matplotlib-3.2.2:\n",
            "      Successfully uninstalled matplotlib-3.2.2\n",
            "\u001b[31mERROR: pip's dependency resolver does not currently take into account all the packages that are installed. This behaviour is the source of the following dependency conflicts.\n",
            "ipython 7.9.0 requires jedi>=0.10, which is not installed.\u001b[0m\u001b[31m\n",
            "\u001b[0mSuccessfully installed asttokens-2.2.1 colorama-0.4.6 contourpy-1.0.7 executing-1.2.0 fonttools-4.38.0 graphviz-0.20.1 icecream-2.1.3 matplotlib-3.6.3 pygments-2.14.0 pytextrank-3.2.4 scipy-1.10.0\n"
          ]
        }
      ],
      "source": [
        "!pip3 install pytextrank\n"
      ]
    },
    {
      "cell_type": "code",
      "execution_count": null,
      "metadata": {
        "colab": {
          "base_uri": "https://localhost:8080/"
        },
        "id": "hf5tvQ221x4s",
        "outputId": "181dfbec-32de-4f77-ae24-c1ac5e16dea1"
      },
      "outputs": [
        {
          "name": "stdout",
          "output_type": "stream",
          "text": [
            "2023-02-12 05:42:49.011442: I tensorflow/core/platform/cpu_feature_guard.cc:193] This TensorFlow binary is optimized with oneAPI Deep Neural Network Library (oneDNN) to use the following CPU instructions in performance-critical operations:  AVX2 AVX512F FMA\n",
            "To enable them in other operations, rebuild TensorFlow with the appropriate compiler flags.\n",
            "2023-02-12 05:42:50.183871: W tensorflow/compiler/xla/stream_executor/platform/default/dso_loader.cc:64] Could not load dynamic library 'libnvinfer.so.7'; dlerror: libnvinfer.so.7: cannot open shared object file: No such file or directory; LD_LIBRARY_PATH: /usr/lib64-nvidia\n",
            "2023-02-12 05:42:50.183993: W tensorflow/compiler/xla/stream_executor/platform/default/dso_loader.cc:64] Could not load dynamic library 'libnvinfer_plugin.so.7'; dlerror: libnvinfer_plugin.so.7: cannot open shared object file: No such file or directory; LD_LIBRARY_PATH: /usr/lib64-nvidia\n",
            "2023-02-12 05:42:50.184012: W tensorflow/compiler/tf2tensorrt/utils/py_utils.cc:38] TF-TRT Warning: Cannot dlopen some TensorRT libraries. If you would like to use Nvidia GPU with TensorRT, please make sure the missing libraries mentioned above are installed properly.\n",
            "Looking in indexes: https://pypi.org/simple, https://us-python.pkg.dev/colab-wheels/public/simple/\n",
            "Collecting en-core-web-sm==3.4.1\n",
            "  Downloading https://github.com/explosion/spacy-models/releases/download/en_core_web_sm-3.4.1/en_core_web_sm-3.4.1-py3-none-any.whl (12.8 MB)\n",
            "\u001b[2K     \u001b[90m━━━━━━━━━━━━━━━━━━━━━━━━━━━━━━━━━━━━━━━━\u001b[0m \u001b[32m12.8/12.8 MB\u001b[0m \u001b[31m98.4 MB/s\u001b[0m eta \u001b[36m0:00:00\u001b[0m\n",
            "\u001b[?25hRequirement already satisfied: spacy<3.5.0,>=3.4.0 in /usr/local/lib/python3.8/dist-packages (from en-core-web-sm==3.4.1) (3.4.4)\n",
            "Requirement already satisfied: langcodes<4.0.0,>=3.2.0 in /usr/local/lib/python3.8/dist-packages (from spacy<3.5.0,>=3.4.0->en-core-web-sm==3.4.1) (3.3.0)\n",
            "Requirement already satisfied: catalogue<2.1.0,>=2.0.6 in /usr/local/lib/python3.8/dist-packages (from spacy<3.5.0,>=3.4.0->en-core-web-sm==3.4.1) (2.0.8)\n",
            "Requirement already satisfied: requests<3.0.0,>=2.13.0 in /usr/local/lib/python3.8/dist-packages (from spacy<3.5.0,>=3.4.0->en-core-web-sm==3.4.1) (2.25.1)\n",
            "Requirement already satisfied: smart-open<7.0.0,>=5.2.1 in /usr/local/lib/python3.8/dist-packages (from spacy<3.5.0,>=3.4.0->en-core-web-sm==3.4.1) (6.3.0)\n",
            "Requirement already satisfied: pathy>=0.3.5 in /usr/local/lib/python3.8/dist-packages (from spacy<3.5.0,>=3.4.0->en-core-web-sm==3.4.1) (0.10.1)\n",
            "Requirement already satisfied: preshed<3.1.0,>=3.0.2 in /usr/local/lib/python3.8/dist-packages (from spacy<3.5.0,>=3.4.0->en-core-web-sm==3.4.1) (3.0.8)\n",
            "Requirement already satisfied: cymem<2.1.0,>=2.0.2 in /usr/local/lib/python3.8/dist-packages (from spacy<3.5.0,>=3.4.0->en-core-web-sm==3.4.1) (2.0.7)\n",
            "Requirement already satisfied: packaging>=20.0 in /usr/local/lib/python3.8/dist-packages (from spacy<3.5.0,>=3.4.0->en-core-web-sm==3.4.1) (23.0)\n",
            "Requirement already satisfied: spacy-loggers<2.0.0,>=1.0.0 in /usr/local/lib/python3.8/dist-packages (from spacy<3.5.0,>=3.4.0->en-core-web-sm==3.4.1) (1.0.4)\n",
            "Requirement already satisfied: wasabi<1.1.0,>=0.9.1 in /usr/local/lib/python3.8/dist-packages (from spacy<3.5.0,>=3.4.0->en-core-web-sm==3.4.1) (0.10.1)\n",
            "Requirement already satisfied: srsly<3.0.0,>=2.4.3 in /usr/local/lib/python3.8/dist-packages (from spacy<3.5.0,>=3.4.0->en-core-web-sm==3.4.1) (2.4.5)\n",
            "Requirement already satisfied: spacy-legacy<3.1.0,>=3.0.10 in /usr/local/lib/python3.8/dist-packages (from spacy<3.5.0,>=3.4.0->en-core-web-sm==3.4.1) (3.0.12)\n",
            "Requirement already satisfied: jinja2 in /usr/local/lib/python3.8/dist-packages (from spacy<3.5.0,>=3.4.0->en-core-web-sm==3.4.1) (2.11.3)\n",
            "Requirement already satisfied: murmurhash<1.1.0,>=0.28.0 in /usr/local/lib/python3.8/dist-packages (from spacy<3.5.0,>=3.4.0->en-core-web-sm==3.4.1) (1.0.9)\n",
            "Requirement already satisfied: numpy>=1.15.0 in /usr/local/lib/python3.8/dist-packages (from spacy<3.5.0,>=3.4.0->en-core-web-sm==3.4.1) (1.21.6)\n",
            "Requirement already satisfied: thinc<8.2.0,>=8.1.0 in /usr/local/lib/python3.8/dist-packages (from spacy<3.5.0,>=3.4.0->en-core-web-sm==3.4.1) (8.1.7)\n",
            "Requirement already satisfied: setuptools in /usr/local/lib/python3.8/dist-packages (from spacy<3.5.0,>=3.4.0->en-core-web-sm==3.4.1) (57.4.0)\n",
            "Requirement already satisfied: typer<0.8.0,>=0.3.0 in /usr/local/lib/python3.8/dist-packages (from spacy<3.5.0,>=3.4.0->en-core-web-sm==3.4.1) (0.7.0)\n",
            "Requirement already satisfied: pydantic!=1.8,!=1.8.1,<1.11.0,>=1.7.4 in /usr/local/lib/python3.8/dist-packages (from spacy<3.5.0,>=3.4.0->en-core-web-sm==3.4.1) (1.10.4)\n",
            "Requirement already satisfied: tqdm<5.0.0,>=4.38.0 in /usr/local/lib/python3.8/dist-packages (from spacy<3.5.0,>=3.4.0->en-core-web-sm==3.4.1) (4.64.1)\n",
            "Requirement already satisfied: typing-extensions>=4.2.0 in /usr/local/lib/python3.8/dist-packages (from pydantic!=1.8,!=1.8.1,<1.11.0,>=1.7.4->spacy<3.5.0,>=3.4.0->en-core-web-sm==3.4.1) (4.4.0)\n",
            "Requirement already satisfied: idna<3,>=2.5 in /usr/local/lib/python3.8/dist-packages (from requests<3.0.0,>=2.13.0->spacy<3.5.0,>=3.4.0->en-core-web-sm==3.4.1) (2.10)\n",
            "Requirement already satisfied: chardet<5,>=3.0.2 in /usr/local/lib/python3.8/dist-packages (from requests<3.0.0,>=2.13.0->spacy<3.5.0,>=3.4.0->en-core-web-sm==3.4.1) (4.0.0)\n",
            "Requirement already satisfied: certifi>=2017.4.17 in /usr/local/lib/python3.8/dist-packages (from requests<3.0.0,>=2.13.0->spacy<3.5.0,>=3.4.0->en-core-web-sm==3.4.1) (2022.12.7)\n",
            "Requirement already satisfied: urllib3<1.27,>=1.21.1 in /usr/local/lib/python3.8/dist-packages (from requests<3.0.0,>=2.13.0->spacy<3.5.0,>=3.4.0->en-core-web-sm==3.4.1) (1.24.3)\n",
            "Requirement already satisfied: confection<1.0.0,>=0.0.1 in /usr/local/lib/python3.8/dist-packages (from thinc<8.2.0,>=8.1.0->spacy<3.5.0,>=3.4.0->en-core-web-sm==3.4.1) (0.0.4)\n",
            "Requirement already satisfied: blis<0.8.0,>=0.7.8 in /usr/local/lib/python3.8/dist-packages (from thinc<8.2.0,>=8.1.0->spacy<3.5.0,>=3.4.0->en-core-web-sm==3.4.1) (0.7.9)\n",
            "Requirement already satisfied: click<9.0.0,>=7.1.1 in /usr/local/lib/python3.8/dist-packages (from typer<0.8.0,>=0.3.0->spacy<3.5.0,>=3.4.0->en-core-web-sm==3.4.1) (7.1.2)\n",
            "Requirement already satisfied: MarkupSafe>=0.23 in /usr/local/lib/python3.8/dist-packages (from jinja2->spacy<3.5.0,>=3.4.0->en-core-web-sm==3.4.1) (2.0.1)\n",
            "\u001b[38;5;2m✔ Download and installation successful\u001b[0m\n",
            "You can now load the package via spacy.load('en_core_web_sm')\n"
          ]
        }
      ],
      "source": [
        "!spacy download en_core_web_sm"
      ]
    },
    {
      "cell_type": "code",
      "execution_count": null,
      "metadata": {
        "colab": {
          "base_uri": "https://localhost:8080/"
        },
        "id": "Rxt1nH4oHZ3K",
        "outputId": "6591d90e-227d-4665-d450-e3143a4a8068"
      },
      "outputs": [
        {
          "name": "stdout",
          "output_type": "stream",
          "text": [
            "Looking in indexes: https://pypi.org/simple, https://us-python.pkg.dev/colab-wheels/public/simple/\n",
            "Collecting streamlit\n",
            "  Downloading streamlit-1.18.1-py2.py3-none-any.whl (9.6 MB)\n",
            "\u001b[2K     \u001b[90m━━━━━━━━━━━━━━━━━━━━━━━━━━━━━━━━━━━━━━━━\u001b[0m \u001b[32m9.6/9.6 MB\u001b[0m \u001b[31m88.4 MB/s\u001b[0m eta \u001b[36m0:00:00\u001b[0m\n",
            "\u001b[?25hCollecting pympler>=0.9\n",
            "  Downloading Pympler-1.0.1-py3-none-any.whl (164 kB)\n",
            "\u001b[2K     \u001b[90m━━━━━━━━━━━━━━━━━━━━━━━━━━━━━━━━━━━━━━\u001b[0m \u001b[32m164.8/164.8 KB\u001b[0m \u001b[31m23.3 MB/s\u001b[0m eta \u001b[36m0:00:00\u001b[0m\n",
            "\u001b[?25hCollecting validators>=0.2\n",
            "  Downloading validators-0.20.0.tar.gz (30 kB)\n",
            "  Preparing metadata (setup.py) ... \u001b[?25l\u001b[?25hdone\n",
            "Collecting pydeck>=0.1.dev5\n",
            "  Downloading pydeck-0.8.0-py2.py3-none-any.whl (4.7 MB)\n",
            "\u001b[2K     \u001b[90m━━━━━━━━━━━━━━━━━━━━━━━━━━━━━━━━━━━━━━━━\u001b[0m \u001b[32m4.7/4.7 MB\u001b[0m \u001b[31m102.7 MB/s\u001b[0m eta \u001b[36m0:00:00\u001b[0m\n",
            "\u001b[?25hCollecting gitpython!=3.1.19\n",
            "  Downloading GitPython-3.1.30-py3-none-any.whl (184 kB)\n",
            "\u001b[2K     \u001b[90m━━━━━━━━━━━━━━━━━━━━━━━━━━━━━━━━━━━━━━\u001b[0m \u001b[32m184.0/184.0 KB\u001b[0m \u001b[31m15.9 MB/s\u001b[0m eta \u001b[36m0:00:00\u001b[0m\n",
            "\u001b[?25hRequirement already satisfied: altair>=3.2.0 in /usr/local/lib/python3.8/dist-packages (from streamlit) (4.2.2)\n",
            "Requirement already satisfied: typing-extensions>=3.10.0.0 in /usr/local/lib/python3.8/dist-packages (from streamlit) (4.4.0)\n",
            "Requirement already satisfied: importlib-metadata>=1.4 in /usr/local/lib/python3.8/dist-packages (from streamlit) (6.0.0)\n",
            "Collecting watchdog\n",
            "  Downloading watchdog-2.2.1-py3-none-manylinux2014_x86_64.whl (78 kB)\n",
            "\u001b[2K     \u001b[90m━━━━━━━━━━━━━━━━━━━━━━━━━━━━━━━━━━━━━━━━\u001b[0m \u001b[32m79.0/79.0 KB\u001b[0m \u001b[31m10.5 MB/s\u001b[0m eta \u001b[36m0:00:00\u001b[0m\n",
            "\u001b[?25hRequirement already satisfied: requests>=2.4 in /usr/local/lib/python3.8/dist-packages (from streamlit) (2.25.1)\n",
            "Requirement already satisfied: numpy in /usr/local/lib/python3.8/dist-packages (from streamlit) (1.21.6)\n",
            "Requirement already satisfied: click>=7.0 in /usr/local/lib/python3.8/dist-packages (from streamlit) (7.1.2)\n",
            "Requirement already satisfied: pillow>=6.2.0 in /usr/local/lib/python3.8/dist-packages (from streamlit) (7.1.2)\n",
            "Requirement already satisfied: protobuf<4,>=3.12 in /usr/local/lib/python3.8/dist-packages (from streamlit) (3.19.6)\n",
            "Requirement already satisfied: tornado>=6.0.3 in /usr/local/lib/python3.8/dist-packages (from streamlit) (6.0.4)\n",
            "Requirement already satisfied: pyarrow>=4.0 in /usr/local/lib/python3.8/dist-packages (from streamlit) (9.0.0)\n",
            "Requirement already satisfied: toml in /usr/local/lib/python3.8/dist-packages (from streamlit) (0.10.2)\n",
            "Requirement already satisfied: packaging>=14.1 in /usr/local/lib/python3.8/dist-packages (from streamlit) (23.0)\n",
            "Requirement already satisfied: python-dateutil in /usr/local/lib/python3.8/dist-packages (from streamlit) (2.8.2)\n",
            "Collecting semver\n",
            "  Downloading semver-2.13.0-py2.py3-none-any.whl (12 kB)\n",
            "Requirement already satisfied: cachetools>=4.0 in /usr/local/lib/python3.8/dist-packages (from streamlit) (5.3.0)\n",
            "Requirement already satisfied: pandas>=0.25 in /usr/local/lib/python3.8/dist-packages (from streamlit) (1.3.5)\n",
            "Collecting blinker>=1.0.0\n",
            "  Downloading blinker-1.5-py2.py3-none-any.whl (12 kB)\n",
            "Collecting rich>=10.11.0\n",
            "  Downloading rich-13.3.1-py3-none-any.whl (239 kB)\n",
            "\u001b[2K     \u001b[90m━━━━━━━━━━━━━━━━━━━━━━━━━━━━━━━━━━━━━━\u001b[0m \u001b[32m239.0/239.0 KB\u001b[0m \u001b[31m27.2 MB/s\u001b[0m eta \u001b[36m0:00:00\u001b[0m\n",
            "\u001b[?25hRequirement already satisfied: tzlocal>=1.1 in /usr/local/lib/python3.8/dist-packages (from streamlit) (1.5.1)\n",
            "Requirement already satisfied: jinja2 in /usr/local/lib/python3.8/dist-packages (from altair>=3.2.0->streamlit) (2.11.3)\n",
            "Requirement already satisfied: entrypoints in /usr/local/lib/python3.8/dist-packages (from altair>=3.2.0->streamlit) (0.4)\n",
            "Requirement already satisfied: jsonschema>=3.0 in /usr/local/lib/python3.8/dist-packages (from altair>=3.2.0->streamlit) (4.3.3)\n",
            "Requirement already satisfied: toolz in /usr/local/lib/python3.8/dist-packages (from altair>=3.2.0->streamlit) (0.12.0)\n",
            "Collecting gitdb<5,>=4.0.1\n",
            "  Downloading gitdb-4.0.10-py3-none-any.whl (62 kB)\n",
            "\u001b[2K     \u001b[90m━━━━━━━━━━━━━━━━━━━━━━━━━━━━━━━━━━━━━━━━\u001b[0m \u001b[32m62.7/62.7 KB\u001b[0m \u001b[31m8.2 MB/s\u001b[0m eta \u001b[36m0:00:00\u001b[0m\n",
            "\u001b[?25hRequirement already satisfied: zipp>=0.5 in /usr/local/lib/python3.8/dist-packages (from importlib-metadata>=1.4->streamlit) (3.12.1)\n",
            "Requirement already satisfied: pytz>=2017.3 in /usr/local/lib/python3.8/dist-packages (from pandas>=0.25->streamlit) (2022.7.1)\n",
            "Requirement already satisfied: six>=1.5 in /usr/local/lib/python3.8/dist-packages (from python-dateutil->streamlit) (1.15.0)\n",
            "Requirement already satisfied: idna<3,>=2.5 in /usr/local/lib/python3.8/dist-packages (from requests>=2.4->streamlit) (2.10)\n",
            "Requirement already satisfied: urllib3<1.27,>=1.21.1 in /usr/local/lib/python3.8/dist-packages (from requests>=2.4->streamlit) (1.24.3)\n",
            "Requirement already satisfied: chardet<5,>=3.0.2 in /usr/local/lib/python3.8/dist-packages (from requests>=2.4->streamlit) (4.0.0)\n",
            "Requirement already satisfied: certifi>=2017.4.17 in /usr/local/lib/python3.8/dist-packages (from requests>=2.4->streamlit) (2022.12.7)\n",
            "Collecting markdown-it-py<3.0.0,>=2.1.0\n",
            "  Downloading markdown_it_py-2.1.0-py3-none-any.whl (84 kB)\n",
            "\u001b[2K     \u001b[90m━━━━━━━━━━━━━━━━━━━━━━━━━━━━━━━━━━━━━━━━\u001b[0m \u001b[32m84.5/84.5 KB\u001b[0m \u001b[31m10.0 MB/s\u001b[0m eta \u001b[36m0:00:00\u001b[0m\n",
            "\u001b[?25hRequirement already satisfied: pygments<3.0.0,>=2.14.0 in /usr/local/lib/python3.8/dist-packages (from rich>=10.11.0->streamlit) (2.14.0)\n",
            "Requirement already satisfied: decorator>=3.4.0 in /usr/local/lib/python3.8/dist-packages (from validators>=0.2->streamlit) (4.4.2)\n",
            "Collecting smmap<6,>=3.0.1\n",
            "  Downloading smmap-5.0.0-py3-none-any.whl (24 kB)\n",
            "Requirement already satisfied: MarkupSafe>=0.23 in /usr/local/lib/python3.8/dist-packages (from jinja2->altair>=3.2.0->streamlit) (2.0.1)\n",
            "Requirement already satisfied: attrs>=17.4.0 in /usr/local/lib/python3.8/dist-packages (from jsonschema>=3.0->altair>=3.2.0->streamlit) (22.2.0)\n",
            "Requirement already satisfied: pyrsistent!=0.17.0,!=0.17.1,!=0.17.2,>=0.14.0 in /usr/local/lib/python3.8/dist-packages (from jsonschema>=3.0->altair>=3.2.0->streamlit) (0.19.3)\n",
            "Requirement already satisfied: importlib-resources>=1.4.0 in /usr/local/lib/python3.8/dist-packages (from jsonschema>=3.0->altair>=3.2.0->streamlit) (5.10.2)\n",
            "Collecting mdurl~=0.1\n",
            "  Downloading mdurl-0.1.2-py3-none-any.whl (10.0 kB)\n",
            "Building wheels for collected packages: validators\n",
            "  Building wheel for validators (setup.py) ... \u001b[?25l\u001b[?25hdone\n",
            "  Created wheel for validators: filename=validators-0.20.0-py3-none-any.whl size=19581 sha256=191516344bd6c7236e9f2db840e7421de08431f2063b4b501c052f770b913802\n",
            "  Stored in directory: /root/.cache/pip/wheels/19/09/72/3eb74d236bb48bd0f3c6c3c83e4e0c5bbfcbcad7c6c3539db8\n",
            "Successfully built validators\n",
            "Installing collected packages: watchdog, validators, smmap, semver, pympler, mdurl, blinker, pydeck, markdown-it-py, gitdb, rich, gitpython, streamlit\n",
            "Successfully installed blinker-1.5 gitdb-4.0.10 gitpython-3.1.30 markdown-it-py-2.1.0 mdurl-0.1.2 pydeck-0.8.0 pympler-1.0.1 rich-13.3.1 semver-2.13.0 smmap-5.0.0 streamlit-1.18.1 validators-0.20.0 watchdog-2.2.1\n"
          ]
        }
      ],
      "source": [
        "!pip install streamlit"
      ]
    },
    {
      "cell_type": "code",
      "execution_count": null,
      "metadata": {
        "id": "3NnpJ0Ygx8Wi"
      },
      "outputs": [],
      "source": [
        "import pandas as pd\n",
        "import ast\n",
        "import requests\n",
        "from bs4 import BeautifulSoup\n",
        "import re\n",
        "import spacy\n",
        "#import pytextrank"
      ]
    },
    {
      "cell_type": "code",
      "execution_count": null,
      "metadata": {
        "id": "h5kyeqC4drJT"
      },
      "outputs": [],
      "source": [
        "import gensim\n",
        "from gensim import corpora\n",
        "import numpy as np"
      ]
    },
    {
      "cell_type": "code",
      "execution_count": null,
      "metadata": {
        "id": "QETwPIR48RzG"
      },
      "outputs": [],
      "source": [
        "from sklearn.feature_extraction.text import TfidfVectorizer\n",
        "from sklearn.metrics.pairwise import cosine_similarity\n",
        "from sklearn.cluster import KMeans\n",
        "from gensim.models import Word2Vec\n",
        "from scipy.cluster.hierarchy import linkage, dendrogram, cut_tree\n",
        "import matplotlib.pyplot as plt\n",
        "import plotly.express as px"
      ]
    },
    {
      "cell_type": "code",
      "execution_count": null,
      "metadata": {
        "id": "MhlmtZHrHmSb"
      },
      "outputs": [],
      "source": [
        "import streamlit as st"
      ]
    },
    {
      "cell_type": "markdown",
      "metadata": {
        "id": "utwbExeWzXbA"
      },
      "source": [
        "# Pre_process"
      ]
    },
    {
      "cell_type": "code",
      "execution_count": null,
      "metadata": {
        "id": "BsHKVoOhyDR6"
      },
      "outputs": [],
      "source": [
        "df = pd.read_csv('/content/drive/MyDrive/Sem 8/NLP/Hackathon_1/Scholar_Data_v1.csv')"
      ]
    },
    {
      "cell_type": "code",
      "execution_count": null,
      "metadata": {
        "colab": {
          "base_uri": "https://localhost:8080/"
        },
        "id": "kXcaf2vgKEyL",
        "outputId": "63ba4729-2210-4505-b1f8-5117966dd0e0"
      },
      "outputs": [
        {
          "name": "stdout",
          "output_type": "stream",
          "text": [
            "Mounted at /content/drive\n"
          ]
        }
      ],
      "source": [
        "from google.colab import drive\n",
        "drive.mount('/content/drive')"
      ]
    },
    {
      "cell_type": "code",
      "execution_count": null,
      "metadata": {
        "colab": {
          "base_uri": "https://localhost:8080/",
          "height": 547
        },
        "id": "4pCILoXZycsa",
        "outputId": "b57708d6-3d00-4cab-dbbe-14c1ee4bfa2f"
      },
      "outputs": [
        {
          "data": {
            "text/html": [
              "\n",
              "  <div id=\"df-f2fc2453-f0fc-45a5-a26e-c6b40d01699c\">\n",
              "    <div class=\"colab-df-container\">\n",
              "      <div>\n",
              "<style scoped>\n",
              "    .dataframe tbody tr th:only-of-type {\n",
              "        vertical-align: middle;\n",
              "    }\n",
              "\n",
              "    .dataframe tbody tr th {\n",
              "        vertical-align: top;\n",
              "    }\n",
              "\n",
              "    .dataframe thead th {\n",
              "        text-align: right;\n",
              "    }\n",
              "</style>\n",
              "<table border=\"1\" class=\"dataframe\">\n",
              "  <thead>\n",
              "    <tr style=\"text-align: right;\">\n",
              "      <th></th>\n",
              "      <th>name</th>\n",
              "      <th>interests</th>\n",
              "      <th>affiliations</th>\n",
              "      <th>cited_by_graph</th>\n",
              "      <th>article_title</th>\n",
              "      <th>article_published_year</th>\n",
              "      <th>authors</th>\n",
              "      <th>journals</th>\n",
              "      <th>citations</th>\n",
              "      <th>h_index</th>\n",
              "      <th>i10_index</th>\n",
              "      <th>Descrption_citation</th>\n",
              "      <th>Unnamed: 12</th>\n",
              "    </tr>\n",
              "  </thead>\n",
              "  <tbody>\n",
              "    <tr>\n",
              "      <th>0</th>\n",
              "      <td>Geetha Ganapathi</td>\n",
              "      <td>['Pattern Recognition', 'Machine Learning']</td>\n",
              "      <td>Professor, P S G College of Technology</td>\n",
              "      <td>[{'year': 2014, 'citations': 2}, {'year': 2015...</td>\n",
              "      <td>['A fuzzy hybrid framework for offline signatu...</td>\n",
              "      <td>['QbdPMtIAAAAJ:u5HHmVD_uO8C', 'QbdPMtIAAAAJ:u-...</td>\n",
              "      <td>{'G Ganapathi, NV Kumar', 'G Ganapathi, N Reth...</td>\n",
              "      <td>['Pattern Recognition and Machine Intelligence...</td>\n",
              "      <td>{'all': 18, 'since_2018': 10}</td>\n",
              "      <td>{'all': 2, 'since_2018': 1}</td>\n",
              "      <td>{'all': 1, 'since_2018': 1}</td>\n",
              "      <td>[{'title': 'A fuzzy hybrid framework for offli...</td>\n",
              "      <td>NaN</td>\n",
              "    </tr>\n",
              "    <tr>\n",
              "      <th>1</th>\n",
              "      <td>sai sundara Krishnan</td>\n",
              "      <td>['OpeartionTopology', 'Digital Topology and So...</td>\n",
              "      <td>Professor,Department of Applied Mathematics an...</td>\n",
              "      <td>[{'year': 2004, 'citations': 12}, {'year': 200...</td>\n",
              "      <td>['A similarity measure of intuitionistic fuzzy...</td>\n",
              "      <td>['j5RFpaQAAAAJ:hC7cP41nSMkC', 'j5RFpaQAAAAJ:u5...</td>\n",
              "      <td>{'R Parimelazhagan, N Nagaveni, S sundara Kris...</td>\n",
              "      <td>['Applied Soft Computing 41 (41(2016)), 148–15...</td>\n",
              "      <td>{'all': 475, 'since_2018': 288}</td>\n",
              "      <td>{'all': 12, 'since_2018': 9}</td>\n",
              "      <td>{'all': 13, 'since_2018': 8}</td>\n",
              "      <td>NaN</td>\n",
              "      <td>NaN</td>\n",
              "    </tr>\n",
              "    <tr>\n",
              "      <th>2</th>\n",
              "      <td>Muthukrishnan, Senthil Kumar</td>\n",
              "      <td>['Retrial Queue', 'Queueing Theory', 'Communic...</td>\n",
              "      <td>Professor of Applied Mathematics and Computati...</td>\n",
              "      <td>[{'year': 2009, 'citations': 1}, {'year': 2010...</td>\n",
              "      <td>['On the single server Batch Arrival Retrial Q...</td>\n",
              "      <td>['sh3pjU8AAAAJ:d1gkVwhDpl0C', 'sh3pjU8AAAAJ:9y...</td>\n",
              "      <td>{'K Myilsamy, A Satheesh Kumar, SK Muthukrishn...</td>\n",
              "      <td>['Quality Technology and Quantitative Manageme...</td>\n",
              "      <td>{'all': 344, 'since_2018': 200}</td>\n",
              "      <td>{'all': 12, 'since_2018': 8}</td>\n",
              "      <td>{'all': 14, 'since_2018': 7}</td>\n",
              "      <td>NaN</td>\n",
              "      <td>NaN</td>\n",
              "    </tr>\n",
              "    <tr>\n",
              "      <th>3</th>\n",
              "      <td>MOHANRAJ NATARAJAN</td>\n",
              "      <td>['Software Engineering', 'OOAD', 'Agile Softwa...</td>\n",
              "      <td>Associate Professor</td>\n",
              "      <td>NaN</td>\n",
              "      <td>['Distributed Pair Programming: A Survey', 'In...</td>\n",
              "      <td>['Ln8nvagAAAAJ:u-x6o8ySG0sC', 'Ln8nvagAAAAJ:d1...</td>\n",
              "      <td>{'N Mohanraj, A Sankar, VS Kumaran', 'N Mohanr...</td>\n",
              "      <td>['International Journal of Engineering Researc...</td>\n",
              "      <td>{'all': 1, 'since_2018': 0}</td>\n",
              "      <td>{'all': 1, 'since_2018': 0}</td>\n",
              "      <td>{'all': 0, 'since_2018': 0}</td>\n",
              "      <td>[{'title': 'Distributed Pair Programming: A Su...</td>\n",
              "      <td>NaN</td>\n",
              "    </tr>\n",
              "    <tr>\n",
              "      <th>4</th>\n",
              "      <td>Shina Sheen</td>\n",
              "      <td>['Malware detection', 'Network security', 'Dat...</td>\n",
              "      <td>Associate Professor, PSG College of Technology...</td>\n",
              "      <td>[{'year': 2009, 'citations': 1}, {'year': 2010...</td>\n",
              "      <td>['Android based malware detection using a mult...</td>\n",
              "      <td>['d0ptyhgAAAAJ:qjMakFHDy7sC', 'd0ptyhgAAAAJ:u5...</td>\n",
              "      <td>{'S Sheen, A Ramalingam', 'S Sheen, R Anitha, ...</td>\n",
              "      <td>['Neurocomputing 151, 905-912, 2015', 'TENCON ...</td>\n",
              "      <td>{'all': 299, 'since_2018': 187}</td>\n",
              "      <td>{'all': 8, 'since_2018': 7}</td>\n",
              "      <td>{'all': 6, 'since_2018': 6}</td>\n",
              "      <td>[{'title': 'Android based malware detection us...</td>\n",
              "      <td>NaN</td>\n",
              "    </tr>\n",
              "  </tbody>\n",
              "</table>\n",
              "</div>\n",
              "      <button class=\"colab-df-convert\" onclick=\"convertToInteractive('df-f2fc2453-f0fc-45a5-a26e-c6b40d01699c')\"\n",
              "              title=\"Convert this dataframe to an interactive table.\"\n",
              "              style=\"display:none;\">\n",
              "        \n",
              "  <svg xmlns=\"http://www.w3.org/2000/svg\" height=\"24px\"viewBox=\"0 0 24 24\"\n",
              "       width=\"24px\">\n",
              "    <path d=\"M0 0h24v24H0V0z\" fill=\"none\"/>\n",
              "    <path d=\"M18.56 5.44l.94 2.06.94-2.06 2.06-.94-2.06-.94-.94-2.06-.94 2.06-2.06.94zm-11 1L8.5 8.5l.94-2.06 2.06-.94-2.06-.94L8.5 2.5l-.94 2.06-2.06.94zm10 10l.94 2.06.94-2.06 2.06-.94-2.06-.94-.94-2.06-.94 2.06-2.06.94z\"/><path d=\"M17.41 7.96l-1.37-1.37c-.4-.4-.92-.59-1.43-.59-.52 0-1.04.2-1.43.59L10.3 9.45l-7.72 7.72c-.78.78-.78 2.05 0 2.83L4 21.41c.39.39.9.59 1.41.59.51 0 1.02-.2 1.41-.59l7.78-7.78 2.81-2.81c.8-.78.8-2.07 0-2.86zM5.41 20L4 18.59l7.72-7.72 1.47 1.35L5.41 20z\"/>\n",
              "  </svg>\n",
              "      </button>\n",
              "      \n",
              "  <style>\n",
              "    .colab-df-container {\n",
              "      display:flex;\n",
              "      flex-wrap:wrap;\n",
              "      gap: 12px;\n",
              "    }\n",
              "\n",
              "    .colab-df-convert {\n",
              "      background-color: #E8F0FE;\n",
              "      border: none;\n",
              "      border-radius: 50%;\n",
              "      cursor: pointer;\n",
              "      display: none;\n",
              "      fill: #1967D2;\n",
              "      height: 32px;\n",
              "      padding: 0 0 0 0;\n",
              "      width: 32px;\n",
              "    }\n",
              "\n",
              "    .colab-df-convert:hover {\n",
              "      background-color: #E2EBFA;\n",
              "      box-shadow: 0px 1px 2px rgba(60, 64, 67, 0.3), 0px 1px 3px 1px rgba(60, 64, 67, 0.15);\n",
              "      fill: #174EA6;\n",
              "    }\n",
              "\n",
              "    [theme=dark] .colab-df-convert {\n",
              "      background-color: #3B4455;\n",
              "      fill: #D2E3FC;\n",
              "    }\n",
              "\n",
              "    [theme=dark] .colab-df-convert:hover {\n",
              "      background-color: #434B5C;\n",
              "      box-shadow: 0px 1px 3px 1px rgba(0, 0, 0, 0.15);\n",
              "      filter: drop-shadow(0px 1px 2px rgba(0, 0, 0, 0.3));\n",
              "      fill: #FFFFFF;\n",
              "    }\n",
              "  </style>\n",
              "\n",
              "      <script>\n",
              "        const buttonEl =\n",
              "          document.querySelector('#df-f2fc2453-f0fc-45a5-a26e-c6b40d01699c button.colab-df-convert');\n",
              "        buttonEl.style.display =\n",
              "          google.colab.kernel.accessAllowed ? 'block' : 'none';\n",
              "\n",
              "        async function convertToInteractive(key) {\n",
              "          const element = document.querySelector('#df-f2fc2453-f0fc-45a5-a26e-c6b40d01699c');\n",
              "          const dataTable =\n",
              "            await google.colab.kernel.invokeFunction('convertToInteractive',\n",
              "                                                     [key], {});\n",
              "          if (!dataTable) return;\n",
              "\n",
              "          const docLinkHtml = 'Like what you see? Visit the ' +\n",
              "            '<a target=\"_blank\" href=https://colab.research.google.com/notebooks/data_table.ipynb>data table notebook</a>'\n",
              "            + ' to learn more about interactive tables.';\n",
              "          element.innerHTML = '';\n",
              "          dataTable['output_type'] = 'display_data';\n",
              "          await google.colab.output.renderOutput(dataTable, element);\n",
              "          const docLink = document.createElement('div');\n",
              "          docLink.innerHTML = docLinkHtml;\n",
              "          element.appendChild(docLink);\n",
              "        }\n",
              "      </script>\n",
              "    </div>\n",
              "  </div>\n",
              "  "
            ],
            "text/plain": [
              "                           name  \\\n",
              "0              Geetha Ganapathi   \n",
              "1          sai sundara Krishnan   \n",
              "2  Muthukrishnan, Senthil Kumar   \n",
              "3            MOHANRAJ NATARAJAN   \n",
              "4                   Shina Sheen   \n",
              "\n",
              "                                           interests  \\\n",
              "0        ['Pattern Recognition', 'Machine Learning']   \n",
              "1  ['OpeartionTopology', 'Digital Topology and So...   \n",
              "2  ['Retrial Queue', 'Queueing Theory', 'Communic...   \n",
              "3  ['Software Engineering', 'OOAD', 'Agile Softwa...   \n",
              "4  ['Malware detection', 'Network security', 'Dat...   \n",
              "\n",
              "                                        affiliations  \\\n",
              "0             Professor, P S G College of Technology   \n",
              "1  Professor,Department of Applied Mathematics an...   \n",
              "2  Professor of Applied Mathematics and Computati...   \n",
              "3                                Associate Professor   \n",
              "4  Associate Professor, PSG College of Technology...   \n",
              "\n",
              "                                      cited_by_graph  \\\n",
              "0  [{'year': 2014, 'citations': 2}, {'year': 2015...   \n",
              "1  [{'year': 2004, 'citations': 12}, {'year': 200...   \n",
              "2  [{'year': 2009, 'citations': 1}, {'year': 2010...   \n",
              "3                                                NaN   \n",
              "4  [{'year': 2009, 'citations': 1}, {'year': 2010...   \n",
              "\n",
              "                                       article_title  \\\n",
              "0  ['A fuzzy hybrid framework for offline signatu...   \n",
              "1  ['A similarity measure of intuitionistic fuzzy...   \n",
              "2  ['On the single server Batch Arrival Retrial Q...   \n",
              "3  ['Distributed Pair Programming: A Survey', 'In...   \n",
              "4  ['Android based malware detection using a mult...   \n",
              "\n",
              "                              article_published_year  \\\n",
              "0  ['QbdPMtIAAAAJ:u5HHmVD_uO8C', 'QbdPMtIAAAAJ:u-...   \n",
              "1  ['j5RFpaQAAAAJ:hC7cP41nSMkC', 'j5RFpaQAAAAJ:u5...   \n",
              "2  ['sh3pjU8AAAAJ:d1gkVwhDpl0C', 'sh3pjU8AAAAJ:9y...   \n",
              "3  ['Ln8nvagAAAAJ:u-x6o8ySG0sC', 'Ln8nvagAAAAJ:d1...   \n",
              "4  ['d0ptyhgAAAAJ:qjMakFHDy7sC', 'd0ptyhgAAAAJ:u5...   \n",
              "\n",
              "                                             authors  \\\n",
              "0  {'G Ganapathi, NV Kumar', 'G Ganapathi, N Reth...   \n",
              "1  {'R Parimelazhagan, N Nagaveni, S sundara Kris...   \n",
              "2  {'K Myilsamy, A Satheesh Kumar, SK Muthukrishn...   \n",
              "3  {'N Mohanraj, A Sankar, VS Kumaran', 'N Mohanr...   \n",
              "4  {'S Sheen, A Ramalingam', 'S Sheen, R Anitha, ...   \n",
              "\n",
              "                                            journals  \\\n",
              "0  ['Pattern Recognition and Machine Intelligence...   \n",
              "1  ['Applied Soft Computing 41 (41(2016)), 148–15...   \n",
              "2  ['Quality Technology and Quantitative Manageme...   \n",
              "3  ['International Journal of Engineering Researc...   \n",
              "4  ['Neurocomputing 151, 905-912, 2015', 'TENCON ...   \n",
              "\n",
              "                         citations                       h_index  \\\n",
              "0    {'all': 18, 'since_2018': 10}   {'all': 2, 'since_2018': 1}   \n",
              "1  {'all': 475, 'since_2018': 288}  {'all': 12, 'since_2018': 9}   \n",
              "2  {'all': 344, 'since_2018': 200}  {'all': 12, 'since_2018': 8}   \n",
              "3      {'all': 1, 'since_2018': 0}   {'all': 1, 'since_2018': 0}   \n",
              "4  {'all': 299, 'since_2018': 187}   {'all': 8, 'since_2018': 7}   \n",
              "\n",
              "                      i10_index  \\\n",
              "0   {'all': 1, 'since_2018': 1}   \n",
              "1  {'all': 13, 'since_2018': 8}   \n",
              "2  {'all': 14, 'since_2018': 7}   \n",
              "3   {'all': 0, 'since_2018': 0}   \n",
              "4   {'all': 6, 'since_2018': 6}   \n",
              "\n",
              "                                 Descrption_citation Unnamed: 12  \n",
              "0  [{'title': 'A fuzzy hybrid framework for offli...         NaN  \n",
              "1                                                NaN         NaN  \n",
              "2                                                NaN         NaN  \n",
              "3  [{'title': 'Distributed Pair Programming: A Su...         NaN  \n",
              "4  [{'title': 'Android based malware detection us...         NaN  "
            ]
          },
          "execution_count": 10,
          "metadata": {},
          "output_type": "execute_result"
        }
      ],
      "source": [
        "df.head()"
      ]
    },
    {
      "cell_type": "code",
      "execution_count": null,
      "metadata": {
        "colab": {
          "base_uri": "https://localhost:8080/"
        },
        "id": "E__eA-_yyegp",
        "outputId": "99a62f20-2aaa-4ef5-ae0e-7d82031f3b3f"
      },
      "outputs": [
        {
          "data": {
            "text/plain": [
              "4"
            ]
          },
          "execution_count": 11,
          "metadata": {},
          "output_type": "execute_result"
        }
      ],
      "source": [
        "len(ast.literal_eval(df['Descrption_citation'][0]))"
      ]
    },
    {
      "cell_type": "code",
      "execution_count": null,
      "metadata": {
        "colab": {
          "base_uri": "https://localhost:8080/"
        },
        "id": "sBqfBXjmo_QB",
        "outputId": "839ac338-c945-494b-9985-3207f133c81c"
      },
      "outputs": [
        {
          "data": {
            "text/plain": [
              "nan"
            ]
          },
          "execution_count": 12,
          "metadata": {},
          "output_type": "execute_result"
        }
      ],
      "source": [
        "df['Descrption_citation'][1]"
      ]
    },
    {
      "cell_type": "code",
      "execution_count": null,
      "metadata": {
        "colab": {
          "background_save": true
        },
        "id": "PeSWyZG4pBnn"
      },
      "outputs": [],
      "source": [
        "def Pre(x):\n",
        "  try:\n",
        "    return ast.literal_eval(x)\n",
        "  except:\n",
        "    return[{}]"
      ]
    },
    {
      "cell_type": "code",
      "execution_count": null,
      "metadata": {
        "id": "9_Su-yfUza4Z"
      },
      "outputs": [],
      "source": [
        "df['Descrption_citation'] = df['Descrption_citation'].apply(lambda x: Pre(x))"
      ]
    },
    {
      "cell_type": "code",
      "execution_count": null,
      "metadata": {
        "colab": {
          "base_uri": "https://localhost:8080/"
        },
        "id": "S6s6Yi9-yi2J",
        "outputId": "493d0fb2-832d-41d4-d3c9-bc7da0d2f70a"
      },
      "outputs": [
        {
          "data": {
            "text/plain": [
              "{'title': 'Assessment of Bone Mineral Health of Humans Based on X-Ray Images Using Inference',\n",
              " 'link': 'https://link.springer.com/chapter/10.1007/978-981-10-3274-5_23',\n",
              " 'resources': [{'title': 'from springer.com',\n",
              "   'file_format': 'HTML',\n",
              "   'link': 'https://link.springer.com/chapter/10.1007/978-981-10-3274-5_23'}],\n",
              " 'authors': 'Geetha Ganapathi, N Venkatesh Kumar',\n",
              " 'publication_date': '2016',\n",
              " 'conference': 'Digital Connectivity–Social Impact: 51st Annual Convention of the Computer Society of India, CSI 2016, Coimbatore, India, December 8-9, 2016, Proceedings 51',\n",
              " 'publisher': 'Springer Singapore',\n",
              " 'description': 'Bones that provide the structural support of the body, are composed of many inorganic compounds and organic materials that all together can be used to determine the mineral density of the bone. The bone mineral density (BMD) is an index measure that is widely used as an indicator of the health of the bone. A densitometry study from dual X-ray absorptiometry (DEXA) system is a popularly used method to assess BMD. BMD values vary depending on race, age, gender and other health conditions. As DEXA is quite an expensive method and requires frequent calibration process to work properly, in this paper, we explore the possibility of developing an affordable and reliable system depending on single X-ray absorptiometry with the use of supervised learning methods. The methodology based on inference is tested on a data set consisting of spine and pelvis X-ray images of patients of varying ages between 10 …'}"
            ]
          },
          "execution_count": 19,
          "metadata": {},
          "output_type": "execute_result"
        }
      ],
      "source": [
        "df['Descrption_citation'][0][2]"
      ]
    },
    {
      "cell_type": "code",
      "execution_count": null,
      "metadata": {
        "id": "2Zs118b3yn0A"
      },
      "outputs": [],
      "source": [
        "df['Unnamed: 12'] =  df['Unnamed: 12'].apply(lambda x: Pre(x))"
      ]
    },
    {
      "cell_type": "code",
      "execution_count": null,
      "metadata": {
        "id": "cAHu8dBpyr1v"
      },
      "outputs": [],
      "source": [
        " df['Unnamed: 12'][46]"
      ]
    },
    {
      "cell_type": "code",
      "execution_count": null,
      "metadata": {
        "id": "ni7i3TjUy0Z5"
      },
      "outputs": [],
      "source": [
        "publication_date = []\n",
        "conference = []\n",
        "publisher = []\n",
        "description = []\n",
        "link = []\n",
        "for i in df['Unnamed: 12']:\n",
        "  pd, c, pb, des, l = [],[],[],[], []\n",
        "  for j in i:\n",
        "    try:\n",
        "      pd.append(j['publication_date'])\n",
        "    except:\n",
        "      pd.append('')\n",
        "    try:\n",
        "      c.append(j['conference'])\n",
        "    except:\n",
        "      c.append('')\n",
        "    try:\n",
        "      pb.append(j['publisher'])\n",
        "    except:\n",
        "      pb.append('')\n",
        "    try:\n",
        "      des.append(j['description'])\n",
        "    except:\n",
        "      des.append('')\n",
        "    try:\n",
        "      l.append(j['link'])\n",
        "    except:\n",
        "      l.append('')\n",
        "\n",
        "  publication_date.append(pd)\n",
        "  conference.append(c)\n",
        "  publisher.append(pb)\n",
        "  description.append(des)\n",
        "  link.append(l)"
      ]
    },
    {
      "cell_type": "code",
      "execution_count": null,
      "metadata": {
        "colab": {
          "base_uri": "https://localhost:8080/"
        },
        "id": "WeiAlScb0OHU",
        "outputId": "dea09a81-70a7-4316-938e-6e6865ba4293"
      },
      "outputs": [
        {
          "name": "stdout",
          "output_type": "stream",
          "text": [
            "[[''], [''], [''], [''], [''], [''], [''], [''], [''], [''], [''], [''], [''], [''], [''], [''], [''], [''], [''], [''], [''], [''], [''], ['CiNii 論文 - A survey on automatic test case generation CiNii 国立情報学研究所 学術情報 ナビゲータ[サイニィ] 日本の論文をさがす 大学図書館の本をさがす 日本の博士論文をさがす 新規 登録 ログイン English 検索 すべて 本文あり すべて 本文あり 閉じる タイトル 著者名 著者ID 著者 所属 刊行物名 ISSN 巻号ページ 出版者 参考文献 出版年 年から 年まで 検索 検索 検索 [1/6更新]2022年 4月1日からのCiNii ArticlesのCiNii Researchへの統合について A survey on automatic test case generation PRASANNA M. 被引用文献: 1件 著者 PRASANNA M. 収録刊行物 Academic Open Internet Journal Academic Open Internet Journal 15, 2005 被引用文献: 1件中 1-1件を 表示 1 設計モデルを用いたテスト項目抽出とテストデータ生成手法 張 暁晶 , 星野 隆 電子情報通信学会 技術研究報告. KBSE, 知能ソフトウェア工学 109(41), 37-42, 2009-05-14 参考文献10件 被引用 文献1件 Tweet 各種コード NII論文ID(NAID) 10025257073 資料種別 雑誌論文 データ提供元 CJP…', 'Web caching has been used extensively to enhance content delivery to the clients by minimizing client-observed latency, reducing network bandwidth usage and improving scalability of the network. Caching performance can be improved by designing good replacement policies, prefetching techniques, clustering of web users and proper placement of proxy caches in the network. In this paper, we discuss the various approaches that were designed based on neural networks, genetic algorithms and fuzzy logic to optimize the performance of web caching. The approaches discussed here proved to be more effective in solving the problems as compared to the conventional techniques that were used earlier in this problem domain. Neural networks and evolutionary algorithms can be considered for further exploration in the various issues related to web caching and content delivery.', 'In wireless sensor networks (WSN), the clustering technique reduces energy efficiency and network lifetime. In this paper, a Fuzzy-based clustering architecture is proposed for cooperative communication in WSN in order to overcome this issue. In this work, a Cluster Head (CH) is chosen based on the parameters residual energy, trust, signal-to-interference-plus-noise ratio and load. Then, the intra-cluster routing is performed using network coding-based probabilistic routing scheme. The fuzzy-based clustering protocol helps in determining the cooperative node (CN) which joins the cluster. Finally, particle swarm optimization is used to establish the optimum path between each CN and the CH for data transmission. The simulation results show that the proposed technique enhances the network lifetime and energy efficiency.', 'Wireless sensor networks (WSNs) exert a pull on the modern research community towards many design challenges, especially, constraints on their lifetimes. Solutions proposed to save energy in WSNs posses their own merits and limitations. The trends evolved from the perspective of improving performance and scalability of conventional clustering approaches. They emerge by adopting cognitive techniques to handle uncertainty and instability present in the application atmosphere. This paper proposes a clustering approach for WSNs, namely, energy aware fuzzy clustering algorithm (EAFCA) which achieves lifetime enhancement in CH election, data aggregation and inter-cluster traffic phases of a multi-hop WSN environment. This algorithm contributes the process of cluster head (CH) election in a cluster in an energy-efficient manner by considering the residual energy, mean distance to 1-hop …', 'Link prediction has become an important task, especially with the rise of large-scale, complex and dynamic networks. The emerging research area of network dynamics and evolution is directly related to predicting new interactions between objects, a possibility in the near future. Recent studies show that the precision of link prediction can be improved to a great extent by including community information in the prediction methods. As traditional community-based link prediction algorithms can run only on stand-alone computers, they are not well suited for most of the large networks. Graph parallelization can be one solution to such problems. Bulk Synchronous Parallel (BSP) programming model is a recently emerged framework for parallelizing graph algorithms. In this paper, we propose a hybrid similarity measure for link prediction in real world networks. We also propose a scalable method for community structure …', \"Internet is an important part in the daily life of people in many ways, which allows the people in any corner of the world to share all types of information. Image encryption is used to transmit sensitive multimedia information in unsecured networks to provide high degree of confidentiality. In this paper, a new image encryption method is proposed based on novel implementation of pixel scan, utilizing the Knight's Travel Path, and true random number. The Knight's travel path is a pattern in which the path of a Knight around a chess board is taken without revisiting any node. This travel path pattern is used to permute the pixel positions of the original image to obtain the scrambled image. The scrambled image is further XORed with the random key numbers to get the cipher image. To change the pixel values of the scrambled image, true random numbers are generated from the amplitude values of a chosen noise audio file …\", 'Sensor node localization is considered as one of the most significant issues in wireless sensor networks (WSNs) and is classified as an unconstrained optimization problem that falls under NP-hard class of problems. Localization is stated as determination of physical co-ordinates of the sensor nodes that constitutes a WSN. In applications of sensor networks such as routing and target tracking, the data gathered by sensor nodes becomes meaningless without localization information. This work aims at determining the location of the sensor nodes with high precision. Initially this work is performed by localizing the sensor nodes using a range-free localization method namely, Mobile Anchor Positioning (MAP) which gives an approximate solution. To further minimize the location error, certain meta-heuristic approaches have been applied over the result given by MAP. Accordingly, Bat Optimization Algorithm with MAP …', 'Cryptography provides an effective solution to secure the communication over public networks. The communication over public networks that includes electronic commerce, business and military services, necessitates the requirement of simple and robust encryption techniques. In this paper, a novel image encryption method which employs calligraphy based hybrid scan and random number is presented. The original image is scrambled by pixel position permutation with calligraphy based diagonal and novel calligraphy based scan patterns. The cipher image is obtained by XORing the scrambled image with random numbers. The suggested method resists statistical, differential, entropy, and noise attacks which have been demonstrated with a set of standard images.', 'In today’s digital era, information is extensively stored and transmitted in the form of digital images, audio, and video files. Security is an important issue for storage and transmission of information due to the growth of electronic data exchange. Digital images are used in fields like telemedicine, military communication, and space research, so it is essential to protect the images from unauthorized disclosure during transmission. In this paper, a novel image encryption method is proposed using scan pattern, circular shift, and transposition methods. The pixels of the original image are permuted by the scan pattern generated by the notion of Kth smallest and stack dynamically. The circular shift and transposition are done by Shuffling Key (SK) generated from the original image. Value transformation is performed to confuse the relationship between the original and encrypted images using bitwise XOR operation. The proposed method satisfies the performance analysis tests such as histogram, correlation, large key space, and acceptable encryption speed. Also, the proposed method is resistant to statistical, brute force, and differential attacks.', 'Transmission and storage of multimedia data like audio, video, and images over the Internet has increased in today’s digital communication. Among the different multimedia data, images are transmitted and used very often. It is essential to protect the multimedia data from unauthorized disclosure during transmit. A novel approach for encrypting digital images using Matrix Reordering (MR), a kind of scanning, and simple XOR operation is proposed in this paper. The MR is applied to permute the pixel positions and the XOR operation is done to diffuse the pixel values. The bitwise XOR operation is performed using pseudorandom numbers generated by the linear congruential method. The image encryption algorithm evaluation parameters such as histogram, correlation, cut test, dispersion test, visual testing, and speed test have been conducted using the suggested method, and the results are analyzed. The analysis shows that the proposed system is resistant to statistical and differential attacks, and could be used in real-time applications to provide confidentiality service for images with less computational overhead.', 'Need for information security and privacy is increasing in recent times. Since several valuable data and files are stored in an organization server system and moreover personal information are being shared in WWW, the need for providing security and permitting only the authorized user is becoming indispensable. For this purpose, biometric authentication is used in several applications and it is progressively acquiring more attention in the field of research. Several biometrics like fingerprint, iris, retina, etc., are used in rendering security to the information or key. The generation of cryptographic key from biometrics is used generally to secure the system. On the other hand, the storage and security for the biometric templates and the encryption keys are of a major concern. The effectiveness and the flexibility of the cryptographic key generation schemes make it suitable for integrating it with the biometric features (Biometric cryptosystems). Security is one of the major concerns in the present world and there is need for many researches to deal with the better biometrics based cryptographic key generation schemes. In this survey, discussed the several biometrics based cryptographic key generation schemes which will show the way for development of better security schemes using biometrics and cryptography.', 'Effective prediction of software modules, those that are prone to defects, will enable software developers to achieve efficient allocation of resources and to concentrate on quality assurance activities. The process of software development life cycle basically includes design, analysis, implementation, testing, and release phases. Generally, software testing is a critical task in the software development process wherein it is to save time and budget by detecting defects at the earliest and deliver a product without defects to the customers. This testing phase should be carefully operated in an effective manner to release a defect-free (bug-free) software product to the customers. In order to improve the software testing process, fault prediction methods identify the software parts that are more noted to be defect-prone. This paper proposes a prediction approach based on conventional radial basis function neural network (RBFNN) and the novel adaptive dimensional biogeography based optimization (ADBBO) model. The developed ADBBO based RBFNN model is tested with five publicly available datasets from the NASA data program repository. The computed results prove the effectiveness of the proposed ADBBO-RBFNN classifier approach with respect to the considered metrics in comparison with that of the early predictors available in the literature for the same datasets.', 'Secured data storage and transmission has become an important issue in the digital world due to the increased use of Internet for communication purposes. Information security is becoming more important as the amount of sensitive data being exchanged on the Internet increases. The services like confidentiality and data integrity are required to protect data against unauthorized usage and modification. In recent years, several image encryption methods are introduced by various researchers to secure multimedia information while transit via public networks. A novel image encryption method based on pixels position permutation and random key stream is suggested in this paper. The pixels position permutation is done based on Hilbert Curve (HC). The pixel shuffled image is XORed with random key stream constructed by adopting the random bit pattern procedure used in the MD5 hash function to obtain the cipher …', 'Increasing the lifetime of wireless sensor networks (WSNs) is a challenging issue in many sensor applications due to the limited energy available in sensor nodes. To improve the lifetime of a sensor network, it is essential to achieve load balancing among the sensor nodes. The grouping of sensor nodes into clusters is an efficient technique for conserving energy. Cluster Heads are elected for each of these clusters, in order to collect and aggregate the data from the sensor nodes within a cluster and forward it to the sink through a single-hop or multi-hop relay. In a multi-hop relay, cluster heads near to the sink are exposed to heavy traffic. The energy of these nodes is soon depleted and this is referred to the ‘hot-spot’ issue in sensor networks. This paper proposes a geo-clustering process based on the location of the sink. Each of the clusters is assigned a set of geo-cluster heads, in which a primary cluster head is …', 'In emerging wireless sensor applications, sensor nodes are equipped with low battery and limited capacity when transmitting the sensed data to the sink.To prolong the lifetime of sensor networks, the energy consumption has to be reduced and the bandwidth channel utilization has to be improved. To accomplish these requirements, we have proposed a new scheme as software based multi-flow in wireless sensor network. This scheme is developed based on the Software Defined Network (SDN) and allocates separated channels for data plane and control plane. It also generates inbuilt software module in every sensor nodeto increase the speed of the network. The proposed scheme is used to maintain the topology and also manages the limited battery power usage. Experimental results demonstrate the performance of the proposed software based multi flow in terms of indispensible network parameters including …', 'Exact and automatic recognition and authentication of users are a essential difficulty in all systems. Shared secrets like Personal Identification Numbers or Passwords and key devices such as Smart cards are not presently sufficient in few situations. What is required is a system that could authenticate that the person is actually the person. The biometrics is improving the capability to recognize the persons. The usage of biometrics system permits the recognition of a living person according to the physiological features or behavioral features to be recognized without human involvement. This leads to the world wide usage of biometrics to secure the system. The various biometrics used in securing system are fingerprint, iris, retina, etc. The construction of cryptographic key from biometrics is used generally to secure the system. The efficiency and the flexibility of the cryptographic make it suitable for securing purpose. In some times, biometrics can be stolen; this makes the attackers to access the system for any time. This problem is diminished in this paper by using two biometrics features. The biometrics used in this paper is fingerprint and iris. These two features are combined with the help of fusion algorithm. From the combined features, cryptographic key is generated. The experimental result shows that the proposed techniques results in better security than the existing techniques.', '', '', 'In the development of various large-scale sensor systems, a particularly challenging problem is how to dynamically organize the sensor nodes into a wireless communication network and route sensed information from the field sensors to a remote base station. This work presents a new energy-efficient dynamic clustering technique for large-scale sensor networks. By monitoring the received signal about power from its neighboring nodes, each node estimates the number of active nodes in real time and computes its optimal probability of becoming a cluster head, so that the amount of energy spent in both intra- and inter-cluster communications can be minimized. Cluster head selection is an important problem in sensor networks. Cluster-based routing has been shown to be more energy efficient and increase the network lifetime through data aggregation. The goal is to select cluster heads that minimize transmission …', 'Web prefetching is an effective technique to minimize user’s web access latency. Web page content provides useful information for making the predictions that is used to perform prefetching of web objects. In this paper we propose semantic prefetching scheme that uses anchor texts present in the web page to make effective predictions. The scheme applies Naïve Bayes Classifier for computing the probability values of anchor texts, based on which the predictions are generated and given as input to the prefetch unit. Predictions are dynamic and are based on the browsing pattern exhibited by the user in a session. The browsing pattern of user should be specific towards a particular topic of interest to achieve good hit rate. When user has long browsing sessions, predictions and prefetching are more effective and helps to increase the hit rate and minimize access latency.', 'This paper proposes novel energy efficient algorithm FDPCA for Wireless Sensor Networks (WSN). However, energy consumption is one of the major drawbacks in most of the Wireless Sensor Networks. Parameters like End to End Delay and Received Signal Strength Indicator (RSSI) are considered for exercising the influence on transmit power. These parameters are fuzzified and optimal transmission power levels are selected. The throughput for both DPCA and FDPCA are compared. High throughput is obtained by using FDPCA. In our first phase, the parameters are calculated. The proposed algorithm can effectively save energy without degrading the throughput of the network and reduce the energy consumption of the network. Our experimental results demonstrate that the proposed algorithm significantly overtake previous method, in terms of throughput. Keywords: Wireless Sensor Networks (WSN), Dynamic Power Control Algorithm (DPCA), Received Signal Strength Indicator (RSSI), End to End Delay (EED), Throughput, Fuzzy Logic.', 'Node localization in wireless sensor networks (WSNs) is one of the most important primary requisite that needs to be resolved efficiently as it plays a significant role in many applications namely environmental monitoring, routing and target tracking which is location dependent. Localization is defined as finding the physical co-ordinates of a group of sensor nodes. Localization is classified as an unconstrained optimization problem. Localization protocols are broadly classified as range-based and range-free protocols. The range based protocols employ distance or angle estimation techniques, hardware. The range-free techniques depend on the contents of received messages to support coarse grained accuracy. In this paper, a range-free localization method known as Mobile Anchor Positioning-Mobile Anchor & Neighbor (MAP-M&N) is used to calculate the location of sensor nodes. Mobile Anchor equipped with Global Positioning System (GPS), broadcasts its coordinates to the sensor nodes as it moves through the network. As the sensor nodes collect enough beacons, they are able to calculate their locations. MAP-M&N with Fish Swarm Optimization Algorithm (MAP-M&N with FSO) is the proposed metaheuristic approach to calculate the location of sensor nodes with minimal error. Root Mean Square Error (RMSE) is used as the performance metric to compare between the two approaches namely, MAP-M&N and MAP-M&N with FSO. Simulation results reveal that MAP-M&N with FSO algorithm is effective to bring down the localization error to a bigger level when compared to using only MAP-M&N algorithm.', 'Wireless sensor networks (WSNs) are employed in various applications from healthcare to military. Due to their limited, tiny power sources, energy becomes the most precious resource for sensor nodes in such networks. To optimize the usage of energy resources, researchers have proposed several ideas from diversified angles. Clustering of nodes plays an important role in conserving energy of WSNs. Clustering approaches focus on resolving the conflicts arising in effective data transmission. In this chapter, we have outlined a few modern energy-efficient clustering approaches to improve the lifetime of WSNs. The proposed clustering methods are:(i) fuzzy-logic-based cluster head election,(ii) efficient sleep duty cycle for sensor nodes,(iii) hierarchical clustering, and (iv) estimated energy harvesting. Classical clustering approaches such as low energy adaptive clustering hierarchy (LEACH) and selected contemporary clustering methods are considered for comparing the performance of proposed approaches. The proposed modern clustering approaches exhibit better lifetime compared to the selected benchmarked protocols.', 'Localization is considered as one of the most significant research issues in Wireless Sensor Network (WSN). The objective of localization is to determine the physical co-ordinates of sensor nodes distributed over the sensing field. Location information plays a vital role for coverage, deployment of sensor nodes, routing and target tracking applications. Initially, the localization of sensor nodes can be performed by Mobile Anchor Positioning (MAP), a range-free localization method. To further enhance the location accuracy obtained by MAP, we propose three algorithms, viz. Differential Evolution with MAP (DE-MAP), Ant Colony Optimization with MAP (ACO-MAP) and Simulated Annealing-Differential Evolution with MAP (SA-DE-MAP). The scope of this work is to compare the performance of these three algorithms. Root Mean Square Error (RMSE) has been used as the metrics for comparing the performance. Simulation result demonstrates that out of the proposed algorithms, SA-DE-MAP algorithm achieves better performance in minimizing the localization error when compared to DE-MAP and ACO-MAP algorithms.', 'The important tasks in a wireless sensor network such as routing, target tracking are highly dependent on the location of a sensor node. Hence localization becomes an essential criterion in wireless sensor networks. Higher the localization accuracy better is the performance of the sensor network as a whole. Traditional mathematical algorithms can be used for localization. But these algorithms do not give very high localization accuracy. Genetic algorithm is proven to be effective in searching a solution space and hence can be modeled for the localization problem in Wireless Sensor Network (WSN). The strategy used in this paper for localization uses two phases. The first phase uses a traditional range free localization algorithm based on Mobile anchor to estimate the location of a sensor node roughly. The second phase is a post optimization phase that uses Genetic algorithm which increases the accuracy of localization.'], ['Cloud computing has been build upon the development of distributed computing, grid computing and virtualization. Since cost of each task in cloud resources is different with one another, scheduling of user tasks in cloud is not the same as in traditional scheduling methods. The objective of this paper is to schedule task groups in cloud computing platform, where resources have different resource costs and computation performance. Due to job grouping, communication of coarse-grained jobs and resources optimizes computation/communication ratio. For this purpose, an algorithm based on both costs with user task grouping is proposed. The proposed scheduling approach in cloud employs an improved cost-based scheduling algorithm for making efficient mapping of tasks to available resources in cloud. This scheduling algorithm measures both resource cost and computation performance, it also improves the …', 'Cloud computing focuses on delivery of reliable, fault-tolerant and scalable infrastructure for hosting Internet based application services. This paper presents the implementation of an efficient Quality of Service (QoS) based Meta-Scheduler and Backfill strategy based light weight Virtual Machine Scheduler for dispatching jobs. The user centric meta-scheduler deals with selection of proper resources to execute high level jobs. The system centric Virtual Machine (VM) scheduler optimally dispatches the jobs to processors for better resource utilization. We also present our thoughts on scheduling heuristics that can be incorporated at data center level for selecting ideal host for VM creation. The implementation can be further extended at the host level, using Inter VM scheduler for adaptive load balancing in cloud environment.', 'Multiple alignment of protein sequences is an essential tool in molecular biology. It aids to determine evolutionary linkage and to predict molecular structures. The factors to be considered while aligning multiple sequences are speed and accuracy of alignment. Dynamic programming algorithms like Needleman-Wunsch and Smith-Waterman produce accurate alignments. But these algorithms are computation intensive and are limited to a small number of short sequences. In this paper we propose a time efficient approach to sequence alignment that produces quality alignment. The dynamic nature of the algorithm coupled with data and computational parallelism of hadoop data grids improves the accuracy and speed of sequence alignment. Further due to the scalability of hadoop framework, the proposed multiple sequence alignment is also highly suited for large scale alignment problems.', 'Businesses share data, outsourcing for specific business problems. Large companies stake a large part of their business on analysis of private data. Consulting firms often handle sensitive third party data as part of client projects. Organizations face great risks while sharing their data. Most of this sharing takes place with little secrecy. It also increases the legal responsibility of the parties involved in the process. So, it is crucial to reliably protect their data due to legal and customer concerns. In this paper, a review of the state-of-the-art methods for privacy preservation is presented. It also analyzes the techniques for privacy preserving association rule mining and points out their merits and demerits. Finally the challenges and directions for future research are discussed.', 'Scheduling heterogeneous tasks in a heterogeneous grid environment aims at effectively utilizing the resources and sharing the load among the available resources. Such a task assignment problem is NP-hard. This paper presents a Hybrid Particle Swarm Optimization - Genetic Algorithm (HPSO-GA) for solving the Task Assignment Problem. The novel Particle Swarm Optimization (PSO) implements GA operations such as crossover and mutation in PSO to improve effective resource utilization and complete tasks within deadline. The algorithm aims at distributing load among the heterogeneous resources in the grid environment based on their capacity. Analysis of data and computation intensive applications like web log processing and bioinformatics to achieve optimal performance is time consuming. Hence parallelization of optimization function is essential. Large-scale parallellisation of optimization function …', 'Objectives: As the plenty of Web services on the Internet increases, developing efficient techniques for Web service recommendation has become more significant. The main objective of this paper is to compare and study the drawbacks of the performance of different existing similarity measures against the proposed similarity measure that use the concept of collaborative filtering technique. Methods/Analysis: Collaborative filtering has turned into one of the most used technique to give personalized services for users. The key of this technique is to find alike users or items using user-item rating matrix such that the system can show recommendations for users. Experiments on Web Service (WSDL) data sets are conducted and compared with many traditional similarity measures namely Pearson correlation coefficient, JacUOD, Bhattacharyya coefficient. The result shows the superiority of the proposed similarity model in recommendation performance. Findings: However, existing approaches related to these techniques are derived from similarity algorithms, such as Pearson correlation coefficient, mean squared distance, and cosine. These methods are not much efficient, particularly in the cold user conditions. Applications/Improvement: This paper presents a new user based similarity calculation model to enhance the recommendation performance and to estimate the similarities for each user. The proposed model incorporates two traditional similarity measures namely Pearson Correlation Coefficient and Jaccard Coefficient.', 'Resource management in a grid environment is complex. Scheduling strategy plays an important role in the grid environment to schedule the user jobs, and dispatch them to appropriate grid resources. A good task scheduling method is essential to reduce the total time taken for job execution in the grid. In a grid environment, the jobs are processed at the grid resources in a fine-grained form that results in a low computation-communication ratio. So an efficient job grouping-based scheduling system is required to dynamically assemble the individual fine-grained jobs of an application into a group of jobs and then transmit these coarse-grained jobs to the grid resources. The objective of this paper is to develop a scheduling strategy using job groups that optimizes the utilization of processing capabilities of grid resource and reduces the total time taken to process user jobs.', 'Collaborative filtering is one of the most widely used techniques for personalized recommendation services to users, since it can assist users to specify their interest on available items. The key feature of this technique is to find similar users by applying similarity measures on user-item rating matrix. Personalized system can thus provide recommendations for users based on the interest of the active user as well as a likeminded users. The success of the recommendation process depends upon the similarity metric used to find the most similar users. Similarity measures like cosine, Pearson Correlation Coefficient, Jaccard Uniform Operator Distance etc are not much effective when user-item rating matrix is sparse. This paper presents a new similarity model to calculate the similarities between each user, when only few ratings are available in the user profile. The proposed model considers both global preference as well as the local context of the user behavior. Experiments are conducted on two different datasets and compared with many existing similarity measures. The results of the experiments show that the proposed similarity measure improves the performance of the personalized recommendation process.', 'Big data has become Buzzword in recent years. It is due to the fact that voluminous amount of structured, semi structured and unstructured data that is generated in the digital era. But, this huge data can be tracked and used for monetary benefits which thwart individual’s privacy. Hence numerous fruitful researches are made in privacy preservation. This book chapter lays emphases on the state-of-art privacy preserving data mining mechanisms and reviews the application of these mechanisms in big data environment.', 'Authentication remains as significant security challenge in hadoop environment. Hadoop does not strongly authenticate the client. As a result, data nodes can be accessed using block locations. This paper suggests the usage of the fundamental properties of a triangle and dual servers to improve the security level of hadoop clusters The password given by the user is interpreted and alienated into more than one unit using the authentication server and stored in multiple Backend Servers along with the corresponding username. The Authentication Server uses the values stored in multiple Backend Servers to authenticate the user. Authentication and Backend servers work together to authenticate the user. The registration process and the authentication process are hosted as a web service to authenticate the users before logging into the hadoop cluster. This paper suggests three approaches for security enhancement …', 'Online news article reading has become very popular as the World Wide Web provides an access to variety of news articles from large volume of sources around the world. A key challenge of news portals is to provide articles to the users based on their interest. Personalized news recommendation systems provide news articles to the readers based on their interest rather than presenting articles in order of their occurrences. The effectiveness of news recommendation systems reduces due to lack of user ratings and automated novelty detection. A progressive summary helps a user to monitor changes in news items over a period of time. The automatic detection of novelty in personalized news recommendation system could improve a reader’s search experience by providing news items that add more information’s to already known information’s to the users. This paper presents a rough set based …', '', 'Traditional news recommendation systems strive to adapt their services to individual users by virtue of both user and news context information. This paper describes personalized news recommendation approach based on dynamic updating policy and collaborative filtering. Adaptive user profiling is a principled framework for news selection based on the intrinsic property of user interest presented, with a good balance between the novelty and diversity of the recommendation result. Also it considers the exclusive characteristics like news context, access patterns, popularity of the news and recency. Collaborative filtering approach can efficiently capture user’s behavior in case where the overlap in historical assumptions across users in relatively high and the context universe is almost static. The major issue with the personalized news recommendation system is scalability. This paper addresses the above mentioned issue with the help of hadoop framework. Experiments on a collection of sports related news obtained from various news websites demonstrate the efficiency of the proposed approach.', 'Financial reports of corporations publicise their performance. This in turn motivates manipulation of financial statements. Falsification of financial statements over prolonged period results in sudden collapse of multi-national companies, long-term economic loss to government and loss of trust of public. Detecting management frauds using normal audit procedures is time expensive as huge volume of data needs to be analysed. Hence additional analytical procedures should be used. The proposed work aims at automated analysis of annual reports using MapReduce paradigm to identify fraudulent companies. Annual reports of companies from public repositories are parsed to extract features for preparing a score card. Principal component analysis is applied on the score card to extract the principal features to train support vector machine. Experimental results show that 90% accuracy can be achieved using 10% to …', 'Data mining is the process of extracting hidden patterns from data. With the explosion of data at a tremendous rate, data mining is essential to extract useful information. Association rule mining is a method of finding correlation relationships among large set of data items. A rule is characterized as sensitive if its disclosure risk is above a certain confidence value. Sensitive rules should not be disclosed to the public, as they can be used to infer sensitive data and provide an advantage for the business competitors. Techniques for hiding association rules are limited to binary items. But, real world data consists of quantitative values. In this paper, a method to hide fuzzy association rule is proposed, in which, the fuzzified data is mined using modified apriori algorithm in order to extract rules and identify sensitive rules. The sensitive rules are hidden by decreasing the support value of Right Hand Side (RHS) of the rule. A …', 'An association rule is classified as sensitive if its thread of revelation is above certain confidence value. If these sensitive rules were revealed to the public, it is possible to deduce sensitive knowledge from the published data and offers benefit for the business competitors. Earlier studies in privacy preserving association rule mining focus on binary data and has more side effects. But in practical applications the transactions contain the purchased quantities of the items. Hence preserving privacy of quantitative data is essential. The main goal of the proposed system is to hide a group of interesting patterns which contains sensitive knowledge such that modifications have minimum side effects like lost rules, ghost rules, and number of modifications. The proposed system applies Particle Swarm Optimization to a few clusters of particles thus reducing the number of modification. Experimental results demonstrate that the …', 'In recent years, cloud computing has evolved as an effective, proactive and widely accepted technology. Scalability is an important characteristic to the success of enterprises involved in doing business with cloud. Auto scaling has the ability to scale up or down the cloud resources based on demand. As Auto-scaling provides better fault tolerance, better availability and cost management, it improves an organization’s service level agreements. Most of the cloud service providers implement simplistic reactive autoscaling where resource availability is modified as a reaction to predefined threshold value set. However calculating the exact number of resources to scale up is a challenging task and hence to be addressed efficiently. The other issues arising with respect to auto scaling in cloud is handling dynamic number of requests from time to time with efficient usage of existing resources, adapting a combination of …', 'In large-scale distributed systems, where adversarial attacks have extensive impact, authentication provides fortification against threats involving impersonation of entities and tampering of data. Towards this, we introduce the first tetrahedron (three-dimensional (3D)) based two-server Password Authenticated and Key Exchange (PAKE) protocol to represent text passwords. A 3D PAKE protocol is a hybrid cryptographic algorithm that requires two servers for authentication; one server engages with users and the other is hidden from the clients. A remarkable aspect of the proposed 3D PAKE protocol is that reclaiming password from the stored credentials is not possible when either one/both the servers gets compromised. In this paper, we discuss the properties of tetrahedron that mesh well with Diffie–Hellman key exchange protocol and elliptic curve cryptography encryption scheme and proved that the protocol is …', 'The main aim of this paper is to design a scheme to identify the species from its genome sequence. Feature descriptors for a genome sequence are identified using MapReduce framework. Each feature descriptor is a three lettered keyword generated using A, T, C, G nucleotide bases. Genome sequences of related species are clustered by considering the feature descriptor count. MapReduce version of clustering model that uses K-means, Differential Evolution (DE) and Ant Colony Optimization (ACO) has been proposed. This MapReduce model improves accuracy as the entire genome sequence is considered. The inherent parallelism in the MapReduce model also enhances execution time efficiency.', 'Mobile communication plays an important role in disaster recovery management during emergency situations. It is helpful in situations where the system has less robust and less flexible fixed infrastructure. The Disaster recovery management systems require timely interaction and coordination in order to save lives and property. Energy consumption in heterogeneous network is a major issue, whether they operate within a base station infrastructure, fixed network or in a free-standing Mobile Ad Hoc Network (MANET). The lifetime of network will be improved by suitably reducing the requirement of power for connections. There is a challenge to provide Quality of Service (QoS) solutions to wired cum wireless domains and maintain end-to-end QoS in ad hoc network. In this paper we propose a new protocol Power Aware QoS Multipath Routing protocol (PAQMR) for disaster recovery network. This protocol is the enhanced protocol of Ad-Hoc On Demand Multipath Distance Vector protocol (AOMDV). This routing protocol is used to avoid the loop formation in network so that it reduces congestion in the channel. The Network Simulator (NS-2.34) tool is utilized to measure the performance of AODV, AOMDV and PAQMR protocols in hybrid environment. The metrics for the simulation are energy consumption, average end to end delay and packet delivery ratio by varying the traffic load and pause time in the network. The results shows that the proposed protocol minimize the power, delay, congestion and maximize the packet delivery ratio.', 'Mobility management and bandwidth management are two major research issues in a cellular mobile network. Mobility management consists of two basic components: location management and handoff management. To Provide QoS to the users Handoff is a key element in wireless cellular networks. It is often initiated either by crossing a cell boundary or by deterioration in the quality of signal in the current channel. In this paper, a new admission control policy for cellular mobile network is being proposed. Two important QoS parameter in cellular networks are Call Dropping Probability (CDP) and Handoff Dropping Probability (HDP). CDP represents the probability that a call is dropped due to a handoff failure. HDP represents the probability of a handoff failure due to insufficient available resources in the target cell. Most of the algorithms try to limit the HDP to some target maximum but not CDP. In this paper, we show that when HDP is controlled, the CDP is also controlled to a minimum extent while maintaining lower blocking rates for new calls in the system.', 'In this paper, we have implemented Multipath routing algorithms for heterogeneous network. Multipath routing separates the traffic among different paths to minimize congestion in terms of multiple alternative paths through a network which can provide a variety of benefits such as minimize delay and congestion, maximize bandwidth, or improved security. We propose a newly improved QoS multipath routing algorithm for heterogeneous networks. Different types of adhoc routing protocols are discussed in this paper such as Ad-Hoc On-Demand Distance Vector (AODV), Ad-Hoc On Demand Multipath Distance Vector (AOMDV), QoS Ad-Hoc On Demand Multipath Distance Vector (QAOMDV), AOMDV is the extension of AODV routing protocol. QAOMDV is QoS version of AOMDV. These routing protocol are used in wireless network which is designed to form multiple routes from source to the destination and also avoid …', 'Smartphones usage have become ubiquitous in modern life serving as a double-edged sword with opportunities and challenges in it. Along with the benefits, smartphones also have high exposure to malware. Malware has progressively penetrated thereby causing more turbulence. Malware authors have become increasingly sophisticated and are able to evade detection by anti-malware engines. This has led to a constant arms race between malware authors and malware defenders. This survey converges on Android malware and covers a walkthrough of the various obfuscation attacks deployed during malware analysis phase along with the myriad of adversarial attacks operated at malware detection phase. The review also unscrambles the difficulties currently faced in deploying an on-device, lightweight malware detector. It sheds spotlight for researchers to perceive the current state of the art techniques available to fend off malware along with suggestions on possible future directions', 'The goal of grid computing is to provide powerful computing for complex scientific problems by utilizing and sharing large scale resources available in the grid. Efficient scheduling algorithms are needed to allocate suitable resources for each submitted task. So scheduling is one of the most important issues for achieving high performance computing in grid. This paper addresses an approach for optimizing scheduling using a nature inspired Intelligent Water Drops (IWD) algorithm. In the proposed approach IWD algorithm is adopted to improve the performance of task scheduling in grid environment. The performance of Ant Colony Optimization (ACO) algorithm for task scheduling is compared with the proposed IWD approach and it is proved that task scheduling using IWD can efficiently and effectively allocate tasks to suitable resources in the grid.', 'Power consumption of nodes in ad hoc networks and fixed network is major issue in current world. The lifetime of network will be improved by suitably reducing the requirement of power for connections. There is a challenge to provide QoS solutions that operate seamlessly over wired-wireless domains and maintain end-to-end QoS with user mobility. In this paper we have proposed different QoS Multipath routing protocols for heterogeneous network. Multipath routing separates the traffic among different paths to minimize congestion in terms of multiple alternative paths through a network which can provide a variety of benefits such as minimize delay and congestion , maximize bandwidth or improved security. Different types of adhoc routing protocols are discussed in this paper such as Ad- Hoc On-Demand Distance Vector (AODV) , Ad-Hoc On Demand Multipath Distance Vector (AOMDV). AOMDV is the extension …'], ['Contrast enhancement is an important issue in the field of mammographic image processing. It can be classified into two categories: direct contrast enhancement and in direct contrast enhancement. Indirect contrast enhancement involves in modifying histogram of the image. Histogram equalization (HE) is the simplest indirect contrast enhancement technique which is widely used for contrast enhancement. Many variants of HE are proposed so far. Comparison of these techniques is significantly essential in deciding a suitable algorithm for enhancement and further processing. In this paper we applied few indirect contrast enhancement techniques namely histogram equalization, CLAHE, BBHE, RMSHE, MMBEBHE to preprocess the mammographic images. The performance of the methods is measured using effective measure of enhancement (EME) and peak signal to noise ratio (PSNR).', '', '', 'Sugarcane is one of India’s most important renewable commercial crops. The sugarcane cultivation and sugar industry plays a vital role towards socio-economic development in the rural areas by creating higher income and employment opportunities. Early detection and management of problems associated with sugarcane yield indicators enables the decision makers and planners to decide import or export policies. In this work, a hybrid approach using fuzzy cognitive map (FCM) learning algorithms for sugarcane yield classification is proposed, combining the key aspects of Data Driven Nonlinear Hebbian Learning (DDNHL) algorithm and Genetic Algorithm (GA) called FCM-DDNHL-GA. The FCM model developed for the proposed study includes various soil and climate parameters which influence the precision agriculture application of sugarcane yield prediction. The classification accuracies and inference …', 'Coconut is one of the major perennial food crops that has a long development phase of 44 months. The climatic and seasonal variations affect all stages of coconut’s long development cycle. Besides, the soil composition also plays a vital role in deciding the coconut yield behavior. The present study is focused on categorizing the coconut production level for the given set of agro-climatic conditions using the methodology of fuzzy cognitive map (FCM) enhanced by its learning capabilities. Additionally, an attempt is made to study the impact of climatic variations and weather parameters on the coconut yield behavior using the reasoning capabilities of FCM. Real coconut field data of different seasons for the period from 2009 to 2013 of Kerala state’s Malabar region were used for training and evaluation of the FCM. The present work demonstrates the classification and prediction capabilities of FCM for the …', 'Location discovery or localization is one of the fundamental problems in distributed wireless sensor networks that forms the basis for many location-aware applications. The main goal of localization procedures is to deduce, as accurately as possible, the location of a node from the partial information obtained from a set of nodes, which already know their location. These reference nodes are called beacons. There are several range-based and range-free localization procedures proposed in the literature. Proximity based techniques are considered as one of the effective and low cost alternatives to more expensive range-based techniques for use in resource-constrained ad hoc sensor network environments. The goal of the paper is to give an insight into the performance of the proximity based location discovery procedure used in distributed wireless sensor networks. We analyze the impact of various design choices …', 'The detection of damage at an early stage that affects the supporting element of civil structures proves to be very significant to save invaluable human life and valuable possessions. In this research work, the severity of cracks in the supporting column is assessed using a new technique. This piece of research study uses the soft computing method of fuzzy cognitive map (FCM) to model the domain experts’ knowledge and the knowledge assimilated through relevant literature to grade the severity of cracks in supporting column. The FCM grading model is further improved by using the Hebbian learning algorithms. The presented work demonstrates the classification and prediction capabilities of FCM for the respective structural health monitoring application, using two well-known and efficient FCM learning approaches viz. nonlinear Hebbian learning (NHL) and data-driven nonlinear Hebbian learning (DD …', 'Energy efficiency is of paramount interest to most of the wireless sensor network applications. In a clustered sensor network, some of the nodes become cluster heads, aggregate the data of their cluster members and transmit it to the sink. In this study, we assume a heterogeneous network setup, where a fixed percentage of the population of sensor nodes is equipped with additional energy resources thus acting as cluster heads (two level hierarchy). The behavior of such sensor networks becomes very unstable once the first head dies. Classical clustering techniques for wireless sensor networks pay much importance to reducing the per-node energy consumption, which may not always guarantee a globally efficient solution. We propose E 2 LBC, which considers energy efficiency as a system-wide issue that focuses on improving the overall stability of operation of a wireless sensor network. We prolong the stability …', 'The fifth generation (5G) of wireless communication accompanied by the advancement of mobile internet and the Internet of Things (IoT) will create stormy data traffic. The 5G challenges like higher spectral efficiency, massive connectivity, and low latency are addressed by the Non-Orthogonal Multiple Access (NOMA) in recent years. NOMA is proven to be a promising technique from its capability to accommodate a larger number of users in contrast to the conventional orthogonal multiple access (OMA) schemes. NOMA comprises two distinct techniques such as Power-Domain NOMA and Code-Domain NOMA. The non-orthogonal resource allocation in Power-Domain NOMA is practically realized by the Superposition Coding (SC) at the Base Station (BS) and an advanced Successive Interference Cancellation at the User Equipment (UE). In this manuscript, the basic concepts of NOMA, on comparing its channel …', 'BACKGROUND:Dengue is one of the serious mosquito-borne diseases predominantly caused by the bites of infected Aedes mosquitoes. The global incidence of dengue has significantly increased in the last few years. According to the World Health Organization (WHO), there exist 390 million dengue fever cases worldwide. In India, the number of cases of dengue was doubled during 2014 and 2015. Different geographical regions possess different levels of dengue outbreak risk depending on the meteorological, socioeconomic and lifestyle parameters such as cleanliness around the house, water storage practice, use of mosquito repellent, family history etc. Hence, a geospatial categorization helps in exercising timely prevention mechanism by the public health service personnel before the real outbreak occurs.METHODS:The presented work attempts to classify the dengue outbreak risk of the given geographical …', 'This novel textbook introduces Enterprise Internet of Things from technology, management and business perspectives, carefully examining enterprise environments through the lens of modernization with the Internet of Things (IoT). It also includes detailed case studies to offer meaningful insights for readers from various disciplines and areas.The book analyzes the ways in which the technology could contribute to the enterprise world in terms of revenue and new business models, and addresses the strategies and principles involved in developing IoT solutions with software engineering practices such as DevOps and Micro services architecture principles. By doing so, it offers readers a clear overview of the power of Internet of Things in building next generation enterprise use cases.', 'A Wireless Sensor Network consists of a cluster of sensor nodes connected by a wireless medium to carry out distributed sensing tasks. The resources in these nodes are restricted in terms of processing, storage, and energy supplies. As the sensor nodes rely on low power batteries for their life, energy efficiency is utmost importance for the majority of its applications. Agriculture is one of the biggest industries where the cost-effective wireless sensor technology is effectively applied to support its functions. Clustering is one of the ways to achieve energy efficiency in such networks. In clustered network, few nodes play the role of cluster heads, summative the data from their members, and pass on them to the sink for further processing. In this work, a distance based grid clustering approach (DC) is proposed that considers energy efficiency as a system-wide problem to focuses on enhancing the overall stability of …', 'In this paper, we address the problem of reducing the communication cost and hence the energy costs incurred in data‐gathering applications of a sensor network. Environmental data depicts a huge amount of correlation in both the spatial and temporal domains. We exploit these temporal–spatial correlations to address the aforementioned problem. More specifically, we propose a framework that partitions the physical sensor network topology into a number of feature regions. Each sensor node builds a data model that represents the underlying structure of the data. A representative node in each feature region communicates only the model coefficients to the sink, which then uses them to answer queries. The temporal and spatial similarity has special meaning in outlier cleaning too. We use a modified z‐score technique to precisely label the outliers and use the spatial similarity to confirm whether the outliers are …', 'Data transmission in ad hoc networks necessitates different quality of services (QoS) for ensuring reliable throughput of the network. This reliability in network performance is achievable through a rate adaptation scheme that aids in effective allocation of resource for ensuring QoS, based on network demand. In this approach, the available bandwidth is forecasted based on Hidden Markov Model for improving the efficacy in resource allocation and the new users are facilitated to utilize the resources based on the estimation of currently available resources determined through rough set theory. The rate of adaptation is forecasted based on the present load condition of the network by Rough set theory, which forms the input of the Hidden Markov Model. The fuzzy Rough set concept is mainly used in this technique as they are reliable in analyzing data that not require any basic or auxiliary information pertaining to data …', 'The objective of the packet scheduling algorithm is to avoid the delay and drop rate in the wireless network. At the same time, without proper scheduling it may lead to high collision, delay and drop rate. This can be overcome by a proposed Enhanced Delay Sensitive Data Packet scheduling (EDSP) algorithm. This algorithm mainly focus on reduction of the delay and increase in the network lifetime and energy efficiency. This proposed EDSP algorithm follows three rules for proper scheduling such as medium selection, weight calculation and priority scheduling. After assigning the source and destination node, by using the AODV routing protocol shortest path with lesser number of relay nodes will be found. Then the source node data flows will be stored in the queue, when the queue size starts to increase, a particular threshold rate scheduling is required. Scheduling checks the channel medium, based on …', 'Sugarcane is one of the profit-making crops cultivated in India. Sugarcane cultivation plays a major role in rural development by means of creating employment opportunities. Detection of problems associated with sugarcane yield at an early stage helps the decision makers to decide import and export policies. In this work, a multilevel adaptive neuro fuzzy inference system (ANFIS) based on hybrid learning for sugarcane yield classification is proposed. In addition, clustering ANFIS parameters based on the optimization approaches Genetic Algorithm (GA), Particle Swarm Optimization (PSO) and Imperialist Competitive Algorithm (ICA) is also incorporated in order to enhance the accuracy of the system under study. The performance of the proposed multi level approach is compared with clustered GA, PSO and ICA. Experimental results show the superiority of the PSO approach in sugarcane yield classification.', 'Worldwide, the population of dementia patients is increasing rapidly. As per the findings of experts, most cases diagnosed with mild cognitive impairment (MCI) have the highest risk of developing Alzheimer’s disease (AD). The objective of this chapter is to monitor and evaluate the activities of daily living (ADLs) of MCI patients using noninvasive wearable sensors. The proposed work assists in predicting cognitive decline in early stages and helps clinical experts to provide proper treatment to prevent its progression to further stages. The proposed work comprises two modules: the Activity Recognition (AR) module and the Abnormal Activity Detection (AAD) module. The data from a wearable sensor unit is processed using the AR module to detect ADLs of an MCI patient. The AR module uses ensemble machine learning techniques to detect an MCI patient’s activities. Stochastic gradient boosting detects the ADL with …', \"The choice of using the channel efficiently in mobile Ad hoc Networks is improved by creating multiple channel accessibility for attaining improved system functionality that depends on the metrics such as point to point delay, throughput and overhead. Most probably delivery of QoS (quality of service) hugely complicated in multiple channel ad hoc networks and the available adaptation and signaling methods for QoS, exist in literature survey primarily helps static-width channels or dynamic-width channels that limit the performance of a network. This Erlang Factor Integrated Channel Allocation Mechanism (EFICAM) model analyzes to improve ad hoc network's system functionality. EFICAM utilizes a combined scheme of availability and performance of the existing channel conditions through Erlang Factor that computes the rejection rate of the network. The decision on user request rejection rate depends upon the …\", 'Prolonged network lifetime, scalability and reliability are the most common requirements for many ad-hoc sensor network applications. Clustering sensor nodes is an effective technique to achieve these goals. This paper assumes a heterogeneous network structure where nodes with higher capabilities act as cluster heads and others as members of the cluster. Nodes use multi hopping to reach the cluster heads and hence the cluster heads and the nodes closest to them decide the lifetime of the network. The contributions of this paper are: (i) it outlines the design issues to be considered in optimizing the performance of large-scale wireless sensor networks operating under energy and reliability constraints, (ii) It provides a model to calculate the optimum number of clusters to guarantee a minimum lifetime and validates the model using a simulation study', 'Mammographic images are of low contrast and low resolution. Improving contrast and resolution of the image along with edge preservation in screening mammograms will aid to detect the breast cancer in early stage. In this paper we proposed a hybrid image enhancement technique for mammographic image enhancement. The Recursive mean separate histogram equalization technique (RMSHE) is applied for brightness preserving contrast enhancement. Then DWT-SWT filtering is applied for resolution and edge preservation. The performance of the hybrid enhancement technique is compared with traditional methods using effective measure of contrast enhancement (EME).', 'In recent years, optimization and Wireless Sensor Networks (WSNs) are extensively used in numerous milieus and hostile topographies. In this paper, we proposed an improved localization algorithm by means of Least square and Minimum mean square error that evolvements with the basic DV-Hop algorithm. The localization error is shortened by our proposed algorithm and improves the localization accuracy of the basic DV-Hop algorithm with minimum number of beacon nodes. The proposed method is simulated and compared with other algorithms such as DV-Hop, ROCRSSI and APIT. The simulation is considered both with obstacle as well as without obstacle.', 'Among the numerous numbers of applications the viability of wireless sensor networks have been thought about, environmental monitoring constitutes an important field of application. Given the severity of potential climate changes and its effect on the environment, it is a domain where the use of sensor networks can have great impact and as such, is getting more and more attention. The world we live in is currently undergoing dramatic changes at a global scale, ie, global warming. Most of the time, environmental scientists cannot precisely answer questions regarding the cause and effects, mainly because of the lack of adequate data, given the multifaceted nature of the problem. Specifically, the challenge lies in developing viable techniques to collect and analyze large volumes of spatial and temporal observations of environmental parameters. An easy-to-deploy-and-configure pervasive WSN (Wireless Sensor Network) can be of great help to meet this objective. This paper discusses a framework for wireless sensor networks designed to capture and monitor surface soil moisture level-one of the key contributors of climate change modeling. The data collected could be used for building various models that could enhance our understanding about the effects of climate change on agricultural farms. In a crop field, this data can also be used to prepare effective irrigation schedules; dry situations can be alarmed and adequate irrigation can be done just on time. The paper proposes a communication efficient framework for collecting spatio-temporal observations of surface soil moisture. The proposed work prepares a moisture distribution map that is …', 'In-networks, Data Aggregation is usually warranted for distributed wireless sensor networks, owing to reliability and energy efficiency reasons. Sensor nodes are usually deployed in unattended and unsafe environments and hence are vulnerable to intentional or unintentional damages. Individual nodes are prone to different type of faults such as hardware faults, crash faults etc and other security vulnerabilities wherein one or more nodes are compromised to produce bogus data so as to confuse the rest of the network in collaborative sensing applications. The availability of constrained resources and the presence of faulty nodes make designing fault tolerant information aggregation mechanisms in large sensor networks particularly challenging. In our work, we consider Byzantine type of faults, which encompasses most of the common sensor node faults [9]. Faulty nodes are assumed to send inconsistent and arbitrary values to other nodes during information exchange process. These values are termed as outliers and we use a statistical test called Modified Z-score method to reliably detect and remove outliers. We show by simulation that the proposed strategy works well for 2 major classes of collaborative sensor network applications viz.(i) Target/Event detection and (ii) Continuous data gathering.', 'Internet of Things (IoT) paradigm paves the way of connecting every object with the Internet environment to share information that improves the quality of life. On the other hand, the cloud computing facilitates pay per use model by providing on demand delivery of computing resources. The IoT can gain unlimited resources and computing capabilities from the cloud and the cloud can step ahead in its way towards the real life scenarios in a dynamic and distributed manner. This chapter introduces the role of cloud computing in IoT and discusses the need to integrate IoT and cloud, highlighting its benefits and implementation challenges. It also emphasizes the role of evolution of cloud based IoT systems towards federated ecosystems and its architecture, requirements and challenges', 'This chapter illustrates the role of IoT platform in Enterprise application development. The IoT platform integrates various components of the solution from hardware to cloud application. An IoT platform plays an essential role in the development of complete Enterprise solutions. The manufacturing, industrial, agriculture, and supply chain sectors have started exploring vastly the benefits of remote monitoring of devices, tracking vehicles, predictive maintenance activities, collecting sensor data for real-time production analytics and to ensure that safety standards are followed. And in industries like retail, healthcare, hospitality, and travelling. IoT Platform plays a vital role in building the end to end IoT application starting from data collection to improving customer experience. Personalized services to the customers, effective communication with them are significant revenue drivers and business success. This chapter …'], ['Bloom filter (BF) is a simple but powerful data structure that can check membership to a static set. The trade-off to use Bloom filter is a certain configurable risk of false positives. The odds of a false positive can be made very low if the hash bitmap is sufficiently large. Spam is an irrelevant or inappropriate message sent on the internet to a large number of newsgroups or users. A spam word is a list of well-known words that often appear in spam mails. The proposed system of bin Bloom filter (BBF) groups the words into number of bins with different false positive rates based on the weights of the spam words. Cuckoo search (CS) and bat algorithm are bio-inspired algorithms that imitate the way cuckoo breeding and microbat foraging behaviours respectively. This paper demonstrates the CS and bat algorithm for minimising the total membership invalidation cost of the BBFs by finding the optimal false positive rates and …', 'In the current day scenario, teaching takes place either on the blackboard or on a power point presentation projected on the wall. Traditional methods of teaching are going to become a thing of the past. Instead, imagine students focusing their mobile screens in the middle of the classroom and they will be all viewing holographic 3D objects surfacing from a table and the teacher explaining the visuals. This is going to be a reality in the near future and this technological innovation will transform the teaching-learning process. The objective of this paper is to propose a framework for using Augmented Reality in mobile phones for engineering education. Use of mobile devices in education provide a new educational paradigm, called M-Learning, It offers many opportunities for students to work on their creativity, while at same time it becomes an element of motivation and collaboration. This paper proposes the modern …', 'Bloom Filter (BF) is a simple but powerful data structure that can check membership to a static set. The trade-off to use Bloom filter is a certain configurable risk of false positives. The odds of a false positive can be made very low if the hash bitmap is sufficiently large. Bin Bloom Filter (BBF) has number of BFs with different false positive rates based on their significance. Cuckoo Search (CS) is employed to assign different false positive rates to BFs which minimize the total membership invalidation cost. The experimental results have demonstrated for spam filtering using CS for various numbers of bins.', 'Bloom Filter (BF) is a simple but powerful data structure that can check membership to a static set. The tradeoff to use Bloom filter is a certain configurable risk of false positives. The odds of a false positive can be made very low if the hash bitmap is sufficiently large. Spam is an irrelevant or inappropriate message sent on the internet to a large number of newsgroups or users. A spam word is a list of well-known words that often appear in spam mails. The proposed system of Bin Bloom Filter (BBF) groups the words into number of bins with different false positive rates based on the weights of the spam words. An Enhanced Cuckoo Search (ECS) algorithm is employed to minimize the total membership invalidation cost of the BFs by finding the optimal false positive rates and number of elements stored in every bin. The experimental results have demonstrated for CS and ECS for various numbers of bins.', 'Withdrawal Notice WITHDRAWN: Univariate and multivariate models for Short-term wind speed forecastingC. Bharathi Priya a, â‡‘, N. Arulanand ba Department of Computer Science & Engineering, Kumaraguru College of Technology, Coimbatore, Tamil nadu, India b Department of Computer Science & Engineering, PSG College of Technology, Coimbatore, Tamil nadu, IndiaThis article has been withdrawn: please see Elsevier Policy on Article Withdrawal (https://www. else-vier. com/about/our-business/policies/article-withdrawal). This article has been withdrawn as part of the withdrawal of the Proceedings of the International Con-ference on Emerging Trends in Materials Science, Technology and Engineering (ICMSTE2K21). Sub-sequent to acceptance of these Proceedings papers by the responsible Guest Editors, Dr S. Sakthivel, Dr S. Karthikeyan and Dr IA Palani, several serious concerns arose regarding the …', \"Parkinson's Disease (PD) is a progressive neurodegenerative disorder mainly characterized by motor and non-motor symptoms. Speech symptoms represent as one of the earliest motor indications, exhibited by approximately ninety percent of PD patients. There is a need for prediction of PD based on speech symptoms using machine learning techniques in order to delay the progression of the disorder. The proposed framework performs an early prediction of PD using ensemble classifiers to the speech features dataset which has been retrieved from UCI repository. The speech features dataset consists of multiple feature subsets of 252 subjects with each subject of three speech feature instances. The highly correlated features are integrated using Principal Component Analysis (PCA) and Linear Discriminant Analysis (LDA) without any loss of information. The prediction of PD is performed using ensemble …\", 'In this work, a new educational model with experiential learning concept is proposed to address the skill gap between organizational expectations from their workforce and talent generated from the educational institutions. In this model, at first, skills expected from the workforce are identified across various domains and formed into modules. Then, each module is defined with required skill level and clear evaluation criteria to measure the skill level are framed. In the next stage, these modules are fitted into the syllabus of the curriculum and course content is mapped with outcomes along with expected cognitive level. The teaching and evaluation process, then, follows through experiential learning cycles until the students attain course outcomes with expected cognitive levels. Further the process will be repeated until the student’s cognitive level reaches the organizational expectations by refining the curriculum and …', 'Optimizing the parameters in the controller plays a vital role in the control theory and its applications. Optimizing the PID parameters is finding out the best value from the feasible solutions. Finding the optimal value is an optimization problem. Inverted Pendulum is a very good platform for control engineers to verify and apply different logics in the field of control theory. It is necessary to find an optimization technique for the controller to tune the values automatically in order to minimize the error within the given bounds. In this paper, the algorithmic concepts of Harmony search (HS) and Genetic Algorithm (GA) have been analyzed for the given range of values. The experimental results show that HS performs well than GA.', '', 'This paper presents payload inspection for identification of spam files using bloom filter in dual core processor. Spam files flood the Internet in an attempt to dump the messages on recipients who do not intend to receive it. Spam costs the sender very little to send and most of the costs are levied to the recipients or the carriers. The proposed system identifies and filters the incoming spam files using Bloom filter algorithm implemented in dual core processor. The results of the Bloom filter algorithm are examined and these results demonstrate the performance of Sequential Bloom filter and Parallel Bloom filter in a Dual Core Processor.', 'Biclustering algorithms are used to identify local patterns from gene expression data sets and used to extract biologically relevant information. The fundamental goal of this work is to derive the heuristic approaches to identify the coherent biclusters from gene expression data with minimum MSR (Mean Square Residue) and maximum row variance. Nelder Mead (NM) simplex method is a local search method and very sensitive to the choice of initial points and does not guaranteed to attain the global optimum. The simplex obtained from each iteration continues to shrink and fall into local minima solution. To deal with this problem hybrid optimization approaches namely, Nelder Mead with Levy Flight and Tabu Search with Nelder Mead are proposed and compared. From the analysis, the result shows that NM with levy Flight method performs better to obtain global optima solution when compared and analyzed with NM method and Tabu search with NM.', '', 'Bloom filter is a probabilistic and space efficient data structure designed to check the membership of an element in a set. The trade-off to use Bloom filter may have configurable risk of false positives. The percentages of a false positive can be made low if the hash bit map is sufficiently massive. Spam is an unsolicited or irrelevant message sent on the internet to an outsized range of users or newsgroup. A spam word may be a list of well-known words that usually appear in spam mails. In the proposed system, Bin Bloom Filter (BBF) groups the words into number of bloom filters that have different false positive rates primarily based on the weights of the spam words. Clonal Selection Algorithm is one of the methods in Artificial Immune System (AIS) involved with computational methods inspired by the process of the biological immune system. This paper demonstrates the CSA algorithm for minimizing the total membership invalidation cost of the BBF which finds the optimal false positive rates and number of elements to be stored in bloom filters of Bin. The experimental results demonstrate the application of CSA in BBF and compare the results with Genetic Algorithm (GA).', \"Today internet of things (IoT) plays a major role in interconnecting physical devices, vehicles, etc. to collect, exchange data through networks. Smart Vehicles collect, store and exchange monitoring sensory content about urban streets. Uploading such monitoring data by all vehicles to the infrastructure is challenging. In-order to avoid such situations, the appropriate vehicles important for different urban sensing tasks is identified by measuring its relative importance in the network. First the different location-aware content is autonomously ranked by a vehicle. It then uses a content importance and its mobility pattern to find its importance in the network. Based on the vehicle's centrality score the best content hubs in the network are identified to provide efficient collect, storage and exchange of sensory data based on content-centric networking (CCN) where content request/response data are characterised. Due to limited …\", 'Quality of Service (QoS) attributes as part of the service description is an important factor for service attribute. It is not easy to exactly quantify the weight of each QoS conditions since human judgments based on their preference causes vagueness. As web services selection requires optimization, evolutionary computing based on heuristics to select an optimal solution is adopted. In this work, the evolutionary computing technique Particle Swarm Optimization (PSO) is used for selecting a suitable web services based on the user’s weightage of each QoS values by optimizing the QoS weight vector and thereby finding the best weight vectors for best services that is being selected. Finally the results are compared and analyzed using static inertia weight and deterministic inertia weight of PSO.', 'Bloom filter is a probabilistic and memory efficient data structure designed to answer rapidly whether an element is present in a set. It tells that the element is definitely not in the set but its presence is with certain probability. The trade-off to use Bloom filter is a certain configurable risk of false positives. The odds of a false positive can be made very low if the number of hash function is sufficiently large. For spam detection, weight is attached to each set of elements. The spam weight for a word is a measure used to rate the e-mail. Each word is assigned to a Bloom filter based on its weight. The proposed work introduces an enhanced concept in Bloom filter called Bin Bloom Filter (BBF). The performance of BBF over conventional Bloom filter is evaluated under various optimization techniques. Real time data set and synthetic data sets are used for experimental analysis and the results are demonstrated for bin sizes 4, 5, 6 and 7. Finally analyzing the results, it is found that the BBF which uses heuristic techniques performs better than the traditional Bloom filter in spam detection.', '', 'Parkinson Disorder (PD) is a neurological disorder which is progressive and degenerative in nature. There are no specific tests pertaining to the diagnosis of PD. The symptoms at an early stage are mild. The early diagnosis of PD is really essential to delay the progression of the disorder. Speech disorder namely dysphonia is experienced by approximately 90% of PD patients. The incorporation of Artificial Intelligence (AI) techniques integrated with noninvasive capture of speech data from patients in diagnosis system aids to provide a robust, reliable and accurate estimation of Unified Parkinson Disease Rating Scale (UPDRS) score which ease the decision-making process effective for healthcare professionals. The proposed system incorporates a novel tuned Homogenous Ensemble Regressor wherein the hyperparameters are chosen and tuned using various experiments. Tuned Extreme Gradient (XgBoost) Regressor and Tuned Random Forest (RF) Regressor are the two homogenous regressor model. The proposed system is compared with the Tuned Linear Regression (LR) model which is the single Regressor model. The proposed system is evaluated using the large database of voice features samples of 42 PD patients. The Mean Absolute Error (MAE) and Mean Squared Error (MAE) values are minimal for the proposed system and it shows that the errors of the proposed system are lower than the single classifier errors and existing similar system.', '', 'Localization is considered as an important research concept for underwater acoustic sensor networks (UASNs). It performs significant role in diverse routing methods, estimating the node position and node recovery. In UASNs, localization methods have different characteristics compared with the terrestrial networks. The challenges involved in UASNs are varying water temperature and pressure, time synchronization of beacon nodes, complicated ocean currents, and positioning of nodes. To overcome these challenges, a virtual node is deployed using the Nelder–Mead algorithm with the static localization method. In this study, two types of localization methods namely static and dynamic methods are considered and a virtual node is deployed in a static localization manner. Since anchor nodes cannot communicate to the entire network for localization additionally, virtual nodes are deployed to measure the received …', '', '', '', '', ''], ['Document summarization involves identifying the salient text in a document and creating a representative summary. The event-index cognitive model describes the human cognitive processes involved in generating situational models from a given text to comprehend that text. This paper proposes an adaptive, knowledge based event-index cognitive model that creates an extractive summary for a given document. The proposed cognitive model uses the hierarchical human memory model and emotion to create the extractive summary. The performance of the proposed cognitive model was compared with the existing state-of-art methods using the DUC (Document Understanding Conference) 2001 dataset and the ROUGE (Recall-Oriented Understudy for Gisting Evaluation) summary evaluation tool. Under ROUGE-N, ROUGE-L, ROUGE-S and ROUGE-SU evaluations, the proposed cognitive model for document …', 'Cognitive architectures aim to provide blueprints for achieving artificial general intelligence (AGI). Cognitive models that can provide crucial clues to the working of human mind are typically built on top of cognitive architectures. This paper reviews contemporary cognitive architectures including Soar, ACT-R, CLARION, OpenCog Prime and ICARUS in terms of architecture and components, knowledge and representation, learning and adaptability, and memory models. It then evaluates these architectures based on certain evaluation criteria. In addition, this paper reviews recent research focus in these architectures and their usage in real-world applications. Finally, this paper discusses the trends and challenges ahead in building effective cognitive architectures.'], ['For authentication purposes, the identification and verification of a user is done by biometric traits like finger print, face, iris and gait, etc. Among the various traits finger print is mostly used in commercial applications for recognizing user’s identity. The other hand based modalities such as vein, and finger knuckle are gaining importance. This paper proposes a methodology for secure biometrics authentication using Finger Knuckle Print (FKP). The texture patterns from finger knuckle are extracted using Gabor with Exception-Maximization (EM) algorithm and the feature vectors from these texture patterns are acquired using Scale Invariant Feature Transform (SIFT) algorithm. The main focus is to reduce the false rejection rate without increasing the false acceptance rate and to improve the performance over the conventional hand based modalities. The performance is compared with Genuine Acceptance Rate …', 'Problem statement: The problem is to classify a given web query to a set of 67 target categories. The target categories are ranked based on the degree of similarity to a given query. Approach: The feature set is the set of intermediate categories retrieved from a directory search engine for a given query. Using direct mapping and Normalized Web Distance (NWD) the intermediate categories are mapped to the required target categories. The categories are then ranked based on three parameters of the intermediate categories namely, position, frequency and a combination of frequency and position. Results: The results proved that the third parameter gave a better result and a maximum of 40 search result pages ensure better results. Conclusion: With NWD as the similarity measure, the precision and recall is found to increase by 10% over the previous methods.', 'Assistive technology would be an immense benefit for hearing impaired people by using Audio Visual Speech Recognition (AVSR). Around 466 million people worldwide suffer from hearing loss. Hearing impaired student rely on lip reading for understanding the speech. Lack of trained sign language facilitators and high cost of assistive devices are some of the major challenges faced by hearing impaired students. In this work, we have identified a visual speech recognition technique using cutting edge deep learning models. Moreover, the existing VSR techniques are erroneous. Hence to address the gaps identified, we propose a novel technique by fusion the results from audio and visual speech. This study proposes a new deep learning based audio visual speech recognition model for efficient lip reading. In this paper, an effort has been made to improve the performance of the system significantly by achieving a …', \"Web knowledge and Wordnet based Automatic Web Query Classification - NASA/ADS Now on home page ads icon ads Enable full ADS view NASA/ADS Web knowledge and Wordnet based Automatic Web Query Classification Lovelyn Rose, S. ; Chandran, KR Abstract Publication: International Journal of Computer Applications Pub Date: March 2011 DOI: 10.5120/2232-2849 Bibcode: 2011IJCA...17g..23L full text sources Publisher | © The SAO/NASA Astrophysics Data System adshelp[at]cfa.harvard.edu The ADS is operated by the Smithsonian Astrophysical Observatory under NASA Cooperative Agreement NNX16AC86A NASA logo Smithsonian logo Resources About ADS ADS Help What's New Careers@ADS Social @adsabs ADS Blog Project Switch to full ADS Is ADS down? (or is it just me...) Smithsonian Institution Smithsonian Privacy Notice Smithsonian Terms of Use Smithsonian Astrophysical Observatory …\", '', \"Detecting emotions in tweets is a huge challenge due to its limited 140 characters and extensive use of twitter language with evolving terms and slangs. This paper uses various preprocessing techniques, forms a feature vector using lexicons and classifies tweets into Paul Ekman's basic emotions namely, happy, sad, anger, fear, disgust and surprise using machine learning. Preprocessing is done using the dictionaries available for emoticons, interjections and slangs and by handling punctuation marks and hashtags. The feature vector is created by combining words from the NRC Emotion lexicon, WordNet-Affect and online thesaurus. Feature vectors are assigned weight based on the presence of punctuations and negations in the feature and the tweets are classified using naive Bayes, SVM and random forests. The use of lexicon features and a novel weighting scheme has produced a considerable gain in terms …\", '', 'India is a land of unity; it is home to 122 major languages and 1599 other languages. Around 70% of people in India speak Indo-Aryan languages whereas 19% speak Dravidian languages which are agglutinative morphologically rich. Speech is a lucid, time-saving, and effortless means of communication. Automatic speech recognition (ASR) is a process that accurately transcribes spoken utterances into text. Speech recognition in Indian languages will empower people to easily access their regional language to any content they desire. The ultimate goal of this proposed work is to develop a novel deep sequence modeling-based ASR system with improved spell corrector for seven low-resource languages. The efficacy of our proposed model is evaluated using word error rate (WER) and sequence match ratio. The end-to-end ASR system based on a recurrent neural network-gated recurrent unit (RNN-GRU …', 'Deep neural networks are powerful machine learning systems and many deep learning models for natural language processing tasks focus on learning the compositionality of their inputs. DAN model relies on both simple vector operations and neural network-based models for learning the compositionality. The depth of the model allows it to capture subtle variations in the input even though the composition is unordered. However, overfitting is a serious problem in any deep neural network. Dropout is a technique for addressing overfitting in large neural networks. The idea is to randomly drop neurons and their connections from the neural network during training phase. This prevents neurons from co-adapting. DAN includes a variant of dropout where individual words are dropped rather than individual neurons of the feed forward network. But since this technique has the potential to drop critical words it may have significant impact on the performance of the model in text classification tasks. This paper deliberates on this drawback and the impact of dropping individual neurons rather than word-level dropout.', 'Recent advancements in distributional semantics allow a word to be represented in a multi-dimensional semantic space as vectors. Words that are semantically and syntactically similar are closer in value. Popular methods to generate such embeddings include neural networks, reduction of word-to-word co-occurrence matrices, contextual representation and so on. Most embedding techniques are based upon the distributional hypothesis which states that words in the same context are semantically similar and hence can be broadly classified into count based methods and predictive methods. Word embeddings are quite popular in the field of Natural Language Processing in addition to other fields such as text mining, Sentiment analysis, Information Retrieval, Polarity Detection and so on. This paper aims to make a comprehensive study on the different word embedding techniques available.', '', '', '', '', 'Optimal automatic classification of web queries aid in improving the performance of search engines. To automatically classify web queries into predefined topical categories, a novel approach which transforms a classification problem to a search problem in the state space tree is proposed. The topical categories are converted to a state space tree. The directory search results and query stream are used in determining the criterion function for a node. A final traversal through the tree using best first search yields a ranked list of target categories. Experimentation on unique users of an AOL query log with previous queries yielded a comparable result to the conventional automatic web query classification techniques.', '', '', 'Web search queries are the starting point to access the contents in the WWW for most of the users. Capturing the user intent behind a query statement is crucial for any search engine and is equivalent to figuring out the category to which the query belongs to. In this paper, we analyze a classification system that uses web directory search results as an extended feature of', '', ''], ['In wireless Sensor Networks (WSNs), the coverage hole is obtained due to random deployment of sensor nodes over the dense forest and terrain lands. Coverage holes are the fundamental issue which affects the quality of the WSNs. Only if the coverage holes are detected, they are patched using sensor nodes known as healing. It is not possible to find the coverage holes manually. Therefore the coverage hole, detecting and healing have become a major challenges in order to achieve the best coverage of the WSNs. For this purpose, we proposed the algorithm named as a Delaunay Triangulation merged with the virtual edge based method; it helps to detect the coverage holes in WSNs. The algorithm helps to detect the accurate size of the coverage holes when compared to the existing tree based method. Experimental results reveal that the proposed method detects the coverage hole more accurately and finally …', 'Active Queue Management (AQM) can potentially reduce packet loss rate in the Internet. It works at the routers for controlling congestion, where packets are dropped before queue become full. A new Transmission Control Protocol (TCP) router-based active queue management algorithm, named NEWQUE AQM supporting Explicit Congestion Notification (ECN), is proposed. The objective of the new algorithm is to improve performance of congested routers by keeping low queuing delay, low percentage packet loss and high throughput. The NEWQUE AQM is implemented with help of ns2 simulator. In addition NEWQUE AQM works quiet well for different TCP versions, such as TCP/Vegas and TCP/Newreno. Furthermore, NEWQUE AQM improves the performance in different scenarios like short-lived TCP flows only, mixes of short-lived and long-lived TCP flows, different RTT of TCP flows and dynamic traffic changes.', 'The major operation of the blood bank supply chain is to estimate the demand, perform inventory management and distribute adequate blood for the needs. The proliferation of big data in the blood bank supply chain and data management needs an intelligent, automated system to classify the essential data so that the requests can be handled easily with less human intervention. Big data in the blood bank domain refers to the collection, organization, and analysis of large volumes of data to obtain useful information. For this purpose, in this research work we have employed machine learning techniques to find a better classification model for blood bank data. At the same time, it is vital to manage data storage requirements. The Cloud offers wide benefits for data storage and the simple, efficient technology is adapted in various domains. However, the data to be stored in the cloud should be secured in order to avoid …', 'In geographic routing, position updates and load distribution are crucial to achieve a good performance. There is a concern with load distribution when it comes to dense network where there are large number of connections and huge traffic. Load balanced, Adaptive Position Update (LAPU) routing protocol solves the problem of load distribution among paths in a network with reduced position updates occurring adaptively and next hop decisions based on node’s congestion status in geographic routing. In our proposed work, to achieve load balancing, a node selects two best nodes available to the destination based on node mobility and queue length and it divides the load among them, i.e., it transfers the packets in both paths. Parameters such as end-to-end delay of packet transmission, energy consumption, throughput, and routing overhead are considered to compare the performance of the proposed work.', 'Traffic density in roads has been increasing day by day which needs intelligent transportation system that can handle the traffic. Traffic management has become inevitable for smart cities. The enormous increase in vehicle numbers has generated more pressure to manage traffic congestion especially during peak hours. If the traffic congestion at a particular point of time can be found, then that information can be useful for managing the traffic in different lanes and change the traffic light cycle dynamically according to the vehicle count in different lanes. In recent years video surveillance and monitoring has been gaining importance. Video can be analyzed which can be used to find the traffic density. Many useful information can be obtained by video processing like real time traffic density. Vehicle counting can be done by detecting the object, tracking it and then finally counting the objects. Many different techniques …', '', 'Active Queue Management (AQM) can potentially reduce packet loss rate in the Internet. This is used by routers for control congestion, where packets are dropped before queues become full. In this paper, a new framework of AQM, namely NEWQUE active queue management algorithm supporting explicit congestion notification (ECN), is proposed. The objective of the new algorithm is to improve performance of congested routers by keeping link utilization high, link utilization stable, stable queue size and packet drop rate low. By examining the robustness and system response for the TCP/AQM mode, we present that the proposed scheme has good performance and robustness with respect to the uncertainties of the round-trip time (RTT) and the number of active TCP connections. The proposed NEWQUE AQM is implemented with help of ns2 simulator. The simulation shows that the proposed design outperforms …', 'With the rapid development of digital multimedia applications, the secure data transmission becomes the main issue in data communication system. So the multimedia data hiding techniques have been developed to ensure the secured data transfer. Steganography is an art of hiding a secret message within an image/audio/video file in such a way that the secret message cannot be perceived by hacker/intruder. In this study, we use RSA encryption algorithm to encrypt the message and Genetic Algorithm (GA) to encode the message in the audio file. This study presents a method to access the negative audio bytes and includes the negative audio bytes in the message encoding and position embedding process. This increases the capacity of encoding message in the audio file. The use of GA operators in Genetic Algorithm reduces the noise distortions.', \"Healthcare wireless sensor network (HWSN) is the emerging technology necessary to frequently monitor the patient's condition. It collects the data from the patient where the data might be critical or noncritical. There is no need of doctors to check the patient's condition each time. There are number of sensors which sense the patient's physical details including movements, blood pressure sensor etc,. The major challenge in healthcare wireless sensor network is that the data packets must reach the Physician on time and also reduce congestion while routing the data packets which stores the patient details so that it may increase the lifetime of the patient. This paper gives the survey of varies types of mechanism used in HWSN and the results of each mechanism based on energy consumption, throughput, end to end delay and packet loss.\", 'For the prediction of cardiovascular diseases, a wireless sensor network platform that employs a wireless sensor network-enabled electrocardiogram telemetry system will involve the following steps: the electrocardiogram signal’s acquisition, the electrocardiogram signal’s processing, and alerting the physician in case of any emergencies. This system will aid the physician in early as well as an accurate analysis of heart diseases. Currently, a wireless sensor network enabled electrocardiogram monitoring system is being developed for analyzing the electrocardiogram signal. In the past, the convolutional neural networks have been employed for resolving diverse artificial intelligence problems with good outcomes. Even so, designing the convolutional neural networks architecture continues to be a cumbersome as well as meticulous procedure that needs the field experts’ involvement. This work has explored the …', '', 'Wireless Sensor Network (WSN) is getting a lot of interest from governments, citizens, industries, and universities for applications in various domains like smart buildings, environmental surveillance, and healthcare. Designers of the WSNs must take care of certain prevalent issues associated with security, detection of faults, scheduling of events, energy-aware routing, clustering of nodes, and aggregation of data. In this work, a WSN based healthcare application for detecting Arrhythmia remotely is presented. The Electrocardiogram (ECG) is employed as the principal diagnostic tool for arrhythmia. The ECG signals are composed of information related to the distinct arrhythmia types. Nevertheless, these signals’ non-linearity, as well as complexity, makes their manual analysis quite challenging. The majority of the researchers have a lot of interest in energy efficiency as almost all advancements in diverse …', 'Scheduling in a multiprocessor parallel computing environment is an NP-hard optimization problem. The main objective of this work is to obtain a schedule in a distributed computing system (DCS) environment that minimizes the makespan and maximizes the throughput. We study the use of two of the evolutionary swarm optimization techniques, the firefly algorithm and the artificial bee colony (ABC) algorithm, to optimize the scheduling in a DCS. We also enhance the traditional ABC algorithm by merging the genetic algorithm techniques of crossover and mutation with the employed bee phase and the onlooker phase, respectively. The resulting enhanced ABC algorithm is used as the scheduling algorithm and is evaluated against the fire y and ABC algorithms. The results obtained show that in a distributed environment with a large number of jobs and resources, multiobjective scheduling using evolutionary algorithms can perform well in terms of minimizing makespan and maximizing throughput.', 'Active Queue Management (AQM) can potentially reduce packet drop rate in the Internet. This is used by routers to control congestion, where packets are dropped before queue become full. In order to improve the performance of congestion routers, a new framework of AQM, namely NEWQUE active queue management algorithm supporting explicit congestion notification (ECN), is proposed. The objective of the new algorithm is to improve performance of congested routers by keeping low queuing delay, packet drop rate low, link utilization high, and link utilization stable. The NEWQUE AQM is implemented with help of ns2 simulator. The simulation shows that the proposed design outperforms the peer AQM schemes in terms of packet loss, link utilization and queuing delay.', 'This paper examines and analyzes the security measures that address the difficulties that are faced by the house owners and also the bank locker holders. Current door monitoring system methods involves the use of digital locks, Wi-Fi technology to check the status of the door periodically leading to a reduction in theft and robbery or burglary that happens per every 3 minutes in India as per reports. According to the report, Indians continue to place greater emphasis on keeping their online safety systems up-to-date in order to ensure safety of their homes. Using LoRa technology, we can endlessly monitor the status of the door i.e. whether it is open or closed and based on the status further actions like alarming, sending an emergency notification are done to notify and alert the owner and to improve security. Lora Technology reconfigured the IoT by enabling long distance data connections while using very little power …', 'This paper inspects and analyzes the mold quality which rectifies the challenges faced by the metal casting foundries. Current quality control methods include, stopping the productivity to check the mold condition periodically leading to a production loss of about 5% a day. This requires manpower to check mold condition periodically. Using machine vision, we can capture the mold image in real time and analyze the quality of the mold and alert the operator on faulty mold and initiate cleaning procedures when necessary here by saving costs and improving productivity. The developed IoT inspection device consists of a camera which captures the mold images periodically whenever the mold is created and checks the mold condition and analyzes each mold’s quality by extracting features and comparing it to a reference image which is implemented by Raspberry Pi3.', 'Sentence clustering plays a vital role in text mining and text processing activities. The proposed work is a novel hierarchical fuzzy relational clustering algorithm (HFRECA) capable of identifying sub clusters. It has features of both hierarchical clustering and fuzzy clustering in which it uses page rank to form multiple clusters present in text documents containing hierarchical structure. To enhance the quality of the clusters formed, an optimisation algorithm which is called artificial bee colony (ABC) algorithm is used along with it. The proposed algorithm identifies the sub clusters and finely tunes the cluster to show a better optimised result.', 'Job scheduling algorithm is used for assigning the jobs in number of machines that will optimize the overall performance of the running application. In this study, we proposed enhanced Artificial Bee Colony (ABC) algorithm with cross over and mutation operator for job scheduling. The main objective of this algorithm is to obtain a best schedule for jobs which minimizes the makespan value. The processing time of the jobs are generated randomly by using normal, uniform and exponential distribution. The best schedule obtained is then compared with schedule obtained from normal ABC algorithm. The computational results show that the enhanced ABC proves to be a better algorithm than the normal ABC algorithm.', 'In order to design the congestion control scheme in the routers, an Active Queue Management (AQM) is proposed. This is used to control congestion at the router, where packets are dropped before queue becomes full. A new framework of AQM, namely NEWQUE with Per-flow Scheduling (PerNEWQUE) active queue management algorithm supporting explicit congestion notification (ECN), is proposed by extending scheduling nature in NEWQUE AQM. It is developed with the aim of strengthen the robustness of Internet against unresponsive flows. The objective of the new algorithm is to detect and penalize the unresponsive flows like UDP flows from responsive flows like TCP flows. The PerNEWQUE AQM is implemented with help of ns2 simulator. The simulation shows that the proposed design outperforms other AQM methods in terms of reducing throughput, link utilization and increasing percentage packet loss of …', 'The recent advancements in the personalized medications are through automations with extraordinary opportunities. Currently utilizing AI (Artificial Intelligence) bots to assist the patients has become a fashion in many medical sectors. Automated nurses are there in hospitals to assist the patients during the pandemic period. Along with other technological progressions in the biomedical field, usage of bots in cancer treatment is also a big innovational advancement. Currently various tests performed to diagnose cancer in the patients are done manually with little automation. Automating such process in the preliminary stage of treating cancer has possibly marvelous economic as well as social benefits. Automation lies in designing robots for handling cancer cells which are in size equal to some micro- or nanometers. Various achievements in the field of artificial and computational intelligence paved the way for …', '', '', \"Nowadays many people are opting for online Retail shopping because there is no need to hassle at the checkout counters and the process of shopping is fast. What if people have the liberty to purchase the required products and leave without having to spend unnecessary time at the checkout counters? This could attract more customers to the retail stores and hence increase profits. `i-Shopping' which is an amalgamation of deep learning techniques with analytical processing aims at removing checkout counters at Retail stores. This is possible through sensor fusion with RFID tags to determine the presence or absence of an item. Deep learning algorithms can be made applicable to determine the customer behavior and assess which item the customer has picked or returned to the aisles. The products are automatically billed to the customer account on the app and the soft invoice is provided to the customers.\", '', ''], ['The grid computing system is a new, powerful and innovative system for a group of heterogeneous distributed computing systems. It requires grid scheduling to achieve high performance. The efficient scheduling of independent jobs in a heterogeneous computing environment is an important problem in domains such as grid computing. In general, finding optimal schedule for such an environment using the traditional sequential method is an NP-hard problem whereas heuristic approaches will provide near optimal solutions for complex problems. The Ant colony algorithm, which is one of the heuristic algorithms, suits well for the grid scheduling environment using stigmeric communication. The proposed', 'Selecting the right processor for a task is a complex problem in computational grids. The goal of resource allocation of tasks is the successful scheduling of tasks that reduces execution time. Usually, heuristic approaches are used for solving complex optimisation problems. In this paper, hybridisation of modified pheromone updating rule of ant colony algorithm and modified fitness functions of bee colony algorithm are proposed. The proposed method was simulated by using MATLAB with TORSCHE toolbox. The experimental results show that newly proposed hybrid modified ant colony method and modified bee colony method provide optimal solutions and reduce execution time of a particular task.', '', 'Software Testing is a difficult task and testing web applications may be even more difficult due to peculiarities of such applications. One way to assess IT infrastructure performance is through load testing, which lets you assess how your Web site supports its expected workload by running a specified set of scripts that emulate customer behavior at different load levels. This paper describe the QoS factors load testing addresses, how to conduct load testing, and how it addresses business needs at several requirement levels and presents the efficiency of web based applications in terms of QoS, throughput and Response Time.', 'Optimization problems are considered to be one kind of NP hard problems. Usually heuristic approaches are found to provide solutions for NP hard problems. There are a plenty of heuristic algorithms available to solve optimization problems namely: Ant Colony Optimization, Particle Swarm Optimization, Bee Colony Optimization, etc. The basic Bee Colony algorithm, a population based search algorithm, is analyzed to be a novel tool for complex optimization problems. The algorithm mimics the food foraging behavior of swarms of honey bees. This paper deals with a modified fitness function of Bee Colony algorithm. The effect of problem dimensionality on the performance of the algorithms will be investigated. This enhanced Bee Colony Optimization will be evaluated based on the well-known benchmark problems. The testing functions like Rastrigin, Rosenbrock, Ackley, Griewank and Sphere are used to …', 'Association Rule Mining plays a key role in the process of mining data for frequent pattern matching. It is an universal technique which paves way to refine the mining techniques. This paper shows a complete survey of association rule mining in various domains. Apriori algorithm-a realization of frequent pattern matching based on support and confidence measures produced excellent results in various fields.', '', 'Data mining involves analysis, extraction, refining and representation of required data from large databases. kDCI (k Direct Count and Intersect) algorithm is one of the best scalable algorithms for identifying frequent items in huge repository of data. This algorithm uses a special kind of compressed data structure which helps in mining the datasets easily. Apriori algorithm, a realization of frequent pattern matching, is universally adopted for reliable mining. It is based on parameters namely support and confidence. kDCI algorithm is hybridized with Apriori algorithm for better performance than their individual contribution. The result proves scalability and mining speed effectively.', 'Biometric systems which are both secure and reliable is imperative for the verification and identification of individual subjects. Such systems also need to respond with superior accuracy for proof of identity and concurrently ensure ease of access. In this chapter we propose approaches using deep convolutional networks which give extremely accurate results with substantially smaller processing time for face and iris recognition. Two approaches based on transfer learning using VGG-16 and VGG-19 is considered: using the pre-trained models as feature extractors and fine tuning their existing architectures. The accuracy across a multitude of datasets is evaluated for these ameliorated versions of face and iris recognition using both the techniques.', 'Computational linguistics focuses towards text recognition and synthesis, speech recognition and synthesis and conversion between text to speech and vice versa. Specially designed computers and softwares are available for speech synthesis. This chapter branches out towards a text‐to‐speech system (TTS) which is used for conversion of natural language text into speech distinguishing itself from other systems which renders symbolic linguistic representations like phonetic transcriptions into speech. The quality of any speech synthesizer is evaluated based on its ability to resemble human voice. An intelligible text‐to‐speech program allows a visually impaired or a person with reading disability to familiarize a language. The text‐to‐speech (TTS) system will convert text into acoustic signal. Although there exist many TTS approaches, the intelligibility, naturalness, comprehensibility, and recall ability of …', 'Data mining is a knowledge discovery process which deals with analysing large storage of data in order to identify the relevant data. It is a powerful tool to uncover relationships within the data. Association rule mining is an important data mining model to mine frequent items in huge repository of data. It frames out association rules with the help of minimum support and confidence value which in turns paves way to identify the occurrence of frequent item sets. Frequent pattern mining starts from analysis of customers buying habits. From which various associations between the different items that the customers purchase are identified. With the help of such associations retailers perform selective marketing to promote their business. Biologically inspired algorithms have their process observed in nature as their origin. The best feature of Ant colony algorithm, which is a bio inspired algorithm based on the behaviour of natural ant colonies, is its parallel search over the problem data and previously obtained results from it. Dynamic memory management is done by pheromone updating operation. During each cycle, solutions are constructed by evaluation of the transition probability through pheromone level modification. An improved pheromone updating rule is used to find out all the frequent items. The proposed approach was tested using MATLAB along with WEKA toolkit. The experimental results prove that the stigmeric communication of improved ant colony algorithm helps in mining the frequent items faster and effectively than the existing algorithms.', 'This chapter discusses the implementation of a human-computer interaction system for deaf and mute people in developing countries. The system does not have a dependency on active Internet connection, consumes low-resolution input, and at the same time comprehends the sign language used by deaf and mute people and translates it accordingly for normal people to understand. Such a system shows scope for improving digital literacy among deaf and mute people because of increased understanding and communication. The system is implemented as a three-layer system using image processing and convolutional neural networks: first layer to identify the hand in an image frame, second layer to remove superfluous information, and third layer to classify the gestures.', 'Computational Linguistics involves the techniques of Computer Science which play a vital role in recognizing written or printed characters such as numbers or letters to change them into a form that the computer can use it efficiently. Convolutional Neural Network differs from other approaches by extracting the features automatically. The proposed approach is capable of recognizing characters in a variety of challenging conditions using the Convolutional Neural Network, where traditional character recognition systems fail, notably in the presence of low resolution, substantial blur, low contrast, and other distortions. Intellectual Character Recognition System is an application that uses Convolutional Neural Network (CNN) to recognize the Tamil character dataset accurately developed by HP Labs India. The novelty of this system is that, it recognizes the characters of the Predominant Tamil language. With the help of suitable datasets consisting of the Tamil Scripts, the model is trained efficiently. This work has produced a training accuracy of 99.16% which is far better compared to the traditional approaches.', 'Breast cancer is one of the deadly diseases prevailing in women. Earlier detection and diagnosis might prevent the death rate. Effective diagnosis of breast cancer remains a significant challenge, and early diagnosis is essential to avoid the most severe manifestations of the disease. The existing systems have computational complexity and classification accuracy problems over various breast cancer databases. In order to overcome the above-mentioned issues, this work introduces an efficient classification and segmentation process. Hence, there is a requirement for developing a fully automatic methodology for screening the cancer regions. This paper develops a fully automated method for breast cancer detection and segmentation utilizing Adaptive Neuro Fuzzy Inference System (ANFIS) classification technique. This proposed technique comprises preprocessing, feature extraction, classifications, and …', \"Humans exhibit an essential set of feelings which might be exhibited via steady facial expressions. Emotions have an important role in teaching as well as other disciplines. It is understood that, while culture, the environment, the language and behavior of people vary, emotions are considered to be universal among the entire human population. Emotions are also important in the realm of education, because their power rivals that of the environment or the language used to communicate information. It's important for cognitive functions including learning and digesting new information. Student emotions during lectures play an important role whether it's in classrooms or in virtual learning environments. Unfortunately, due to the adoption of a virtual method of study or simply the incapacity of humans to keep track of all students in a classroom, teachers do not always keep students' emotions in check, making it difficult to adjust and keep the line of communication open. Thus automated facial emotion detection is very useful and brings the hidden indicators of students internal emotions to limelight. The suggested method aids in the detection of emotions and their classification in order to detect interest in a topic, which is then used as feedback to the course management staff in order to improve learner experience and aid in course material updates.\", 'Hostel management is a Web application that is created for managing various hostel activities that limit physical labor and makes jobs much easier for all the users of the app. Many universities are using the traditional procedure for storing data. This has a bad effect on the efficiency of the institution. This Web application provides the users a user-friendly GUI that makes all hostel-related activities easier than before. Machine learning is used in every module such as registration, token booking, room allotment and leave form module to make all these processes quicker and support multiple users at the same time. Machine learning facilitates systems to enrich their ability to automatically improve their functionality through learning. These kinds of systems use datasets to learn and train themselves through it. This training does not even require human assistance or intervention. Supervised machine learning techniques …', 'In our day-to-day lives, the Internet has become of a part of us and there are a lot of things that we want to know and experiment with and of course we need a lot of storage services with a lot security which clearly points to one of the finest technologies of the recent years, Cloud computing. What if we have some application which will make use of both the Internet of Things (IoT) and Cloud computing and which saves a lot of time for us and is also eco-friendly in nature? A lot questions are probably running through your mind. So, let’s go into the imperative parts.', 'Healthcare service has huge demand these days as it really helps in managing a hospital or a medical office. The scope of Healthcare service systems is increasing by each day and it is true for the entire world. Some of these solutions include improved awareness about Healthcare services and health policies. The objective of this system is to provide medical assistance to people instantly with the help of technology. This system eradicates the cultural sensitivity that prevails in many hospitals and improvises the quality of medical assistance. The captivating features of this system are online doctor, medicines at doorstep, bulletin of awareness. The users can also navigate and choose among various insurance schemes that are displayed. Unified Modeling language (UML) is a standardized modeling language enabling developers to specify, visualize, construct and document artifacts of a software system. It uses graphic notation to create visual models of software systems. This paper contains the UML diagrams for better understanding of the system with the help of Star UML tool. Usecase diagrams are used during the analysis phase of a project to identify system functionalities. Class diagram represents the static view of an application. The class diagrams are the only UML diagrams, which can be mapped directly with object-oriented languages. Activity diagram is an important behavioral diagram in UML diagram to describe dynamic aspects of the system. Activity diagram is essentially an advanced version of flow chart that modeling the flow from one activity to another activity. The state machine diagram shows the different states of an entity and …', 'Recently, online mode–based education is having more demand. Major reason behind this that the learners can easily gain insight of the concepts sitting at any geographically location. Also this has paved way for conducting exams in online mode. The knowledge gained by the students through online study has to be assessed. Hence, online assessment system helps to assess knowledge level gained by a learner and highlight the weaker portions of those concepts in the course of study. Need of the hour during any crisis is that education system of a country has to improved, which can be enriched through online assessment kind of system. Conducting examination and answer evaluation are hectic. Testing tools for assessing academic performance, integration of ideas are highly required but might have challenges from the perspective of resource availability and time constraints in …', '', 'Autism Spectrum Disorder (ASD) or Autism is a complex developmental disability that typically appears during early childhood and can impact a person’s social skills, communication, relationships, and self-regulation. Early recognition, as well as behavioural, educational and family therapies may reduce symptoms and support development and learning. Parent as well as the affected child faces severe challenges. IAC system enables the autistic child to overcome such challenges. The main functionalities of this system includes Training parent, Communicator, ABA, Schools nearby, Apprisal Provision, Financial Resources and Emotional Analyser. For this system, StarUML an open source software modelling tool is used to develop UML diagrams and provide users with ready-to-use, expressive modelling. The interesting quality of IAC is that it provides services both to the parent as well as the child affected by ADS.', 'This chapter proposes the design and implementation details of a real-time hand gesture recognition (HGR) system using computational intelligence and super-resolution techniques. The system operates on low-resolution cameras, and the input images are upscaled using super-resolution because they offer efficient feature extraction over lower resolution images. Thereafter, they have been fed into a convolutional neural network-based model to examine and classify gestures translated to specific commands, forming a human-computer interaction (HCI) system.The hand gesture recognition system has received considerable attention because of its manifold applications and the ability to interact with machines efficiently through HCI. The system built caters to the disabled and tried to anticipate the emerging needs of this niche.', '', '', ''], [\"Web Search Engines have become a resource pool for the people to gain information. They always aim at achieving the goal of delivering relevant information to the users. Due to the exponential growth of information and imprecise queries, Search engines could not meet the user's information requirements. Users have to reframe their queries until they get their desired information. Also results are not listed based on the users search context. Personalization is re-ordering of the search results that satisfies the needs of the user. This paper presents an approach to capture the user's preferences in order to provide query suggestions. Web search personalization using collaborative filtering adapts a generic search engine for the needs of a community of users. The main objective of this work is to improve the retrieval of information by expanding the user query and to rank the result list based on the users domain of …\", '', 'The amount of information available via networks and databases has rapidly increased. Existing search and retrieval engines provide limited assistance to users in locating the relevant information that they need. Software agents may prove to be the needed item in transforming passive search and retrieval engines into active, personal assistants. This project aims at developing a search engine that will allow users to search through heterogeneous resources stored in geographically distributed digital collections. Many of the search engines existing today will not have a single centralized index. In some cases, the distributed approach offers advantages over the centralized approach since it is more scalable, can be used on otherwise inaccessible material, and can provide advanced search options customized for each data source. This proposal addresses the situations where centralized indexes are unfeasible and …', 'The World Wide Web has become a resource pool for people seeking information. Current Web search engines try to deliver relevant information to users, but due to both exponential growth of information and imprecise queries, search engines cannot meet users’ information requirements. Users have to reframe queries until they get the desired information. To improve users’ search experience, some search engines provide query suggestions that are semantically related to a particular query. These systems provide the same suggestions to the same queries without considering the personal interest of the user. This paper presents an approach to provide personalized query suggestions based on a genetic algorithm?based clustering technique. This improves retrieval effectiveness and relevancy by expanding the query with additional words. Unlike existing methods, this technique provides personalized query …', \"Traditional search systems provide users with a starting point for their information search. Information Retrieval (IR) Systems present only initial results list. The relevance measure of documents and understanding user's queries are main issues in design of IR Systems. This involves improvements at query level and result display level. Personalized retrieval widens the notion of information need to comprise implicit user needs, not directly conveyed by the user in terms of explicit information requests. This can be achieved by expanding the user query and processing the results according to the user needs. Individual pages are retrieved by the traditional IR systems even though the information is spread across multiple pages. Instead composed pages are generated which contains all the query words. Ranking of retrieved pages can be improved by providing composed pages for the given query. As Agents can …\", '', 'Web Search Engines (WSE) havebecome the main mean of initiating the interaction with the Internet due to the explosion of the number of documents available on the web. However, the problem of information resource location is resolved to a certain extent. The main limitation of these systems is that they do not consider the implicit intent behind the query and rely only on the query keywords.The user queries are limited to a few keywords and also not precise to retrieve the correct information they need. Query expansion assist users to get relevant results by formulating an enhanced query, by appending additional keywords to the initial search request. Leveraging the time dimension, ranking can improve the retrieval effectiveness of search engines. Information is distributed across multiple pages connected via hyperlinks. The information relevant to a specific …', '', '', '', '', '', '', '', '', '', '', '', '', '', '', '', '', '', ''], ['', '', 'The blockchain is an incorruptible digital ledger of economic transactions that can be programmed to record not just financial transactions but virtually everything of value. Blockchain technology makes breakthroughs in business intelligence in many areas such as banking sector, finance, judiciary, commerce, and information technology. Web service compositions have a revolutionary impact on business intelligence by enabling loose coupling, data consolidation from diverse sources, consolidation of information under a single roof, easing ad-hoc querying and reporting. The objective of current work is to investigate the applicability of blockchain for the semantic web service composition process. The paper focuses on design of conceptual architecture and the algorithm for QoS-aware semantic web service composition (SWSC) using blockchain.', 'Due to the advent of service oriented architecture, web services have gained popularity. The need for efficient web service discovery increases because of the enormous growth of the web services. The main concern of this paper is to addresses the challenge of automated web service discovery and service similarity assessment. It utilizes the WordNet and a traditional information retrieval method, combined with structure matching to identify potentially useful services and estimating their relevance. The objective of this paper is to find the best suitable web service assessment method by comparing the three web service similarity assessment methods namely WordNet-powered vector space model, Structure matching and Semantic structure matching.', 'Discovery is one of the central reasoning tasks in SOA systems, concerned with the detection of usable Web services for a specific request or application con-text. Aiming at the automation of this task, most existing works on semantically enabled Web service discovery focus on the degree of match of two services based merely on their I/O pairs. Another approach for matchmaking in Semantic Web Services (SWS) that considers each service as a sub-graph of the semantic network of the ontology formed by inputs, outputs, pre and post-conditions with contribution of syntactical information such as keywords and textual descriptions. The similarity between services is defined as the similarity between these graphs (Behavior Graphs). This paper presents the detailed description of both approaches and it also analyses the advantages, disadvantages and retrieval effectiveness of these two matchmaking systems (I/O Mat, BEH Mat) and proposes new algorithm for semantic match making.', 'The fifth generation of 5G technology, called communications networks on the far side 2020, represents a significant consequent step in evolving the worldwide telecommunications system, with recent active implementations in several areas across nearly all continents. The three main features of 5G cellular networks are categorized as enabling the massive machine style communication, improved mobile broadband, and intensively reliable networking services. The concept of 5G networks here applies to the 5G cellular networks, which have been urged from the long-standing growth of 1G to 4G cellular networks [1]. The explosive development of intelligent mobile devices and the rapid growth of networking technology allows seamless communication across domains by interconnecting billions of devices. Thus, the 5G cellular network via intelligent machines will be a technical enabler for many new innovative business opportunities, communication engineering, and industrial applications. The 5G wireless networks aim to modernize global markets and have immediate impacts on consumers and company stakeholders. A personalized and advanced user-centered value is the key vision of future 5G networks, allowing human interconnection to meet the ever-increasing demands of user traffic and evolving networks. At present, many wireless technologies are proposed to allow 5G technology to enable over cellular networks, together with network communication, edge computing, cloud computing, etc. Though for the new security challenges, such as network reliability, immutability, and privacy issues over the wide deployments, there is a hope to …', 'In the face of disasters, communication between the entities becomes more diverse, and the intricacy of the disaster response also turns out to be greater. The increased demand for communication, oscillating environmental aspects, abandoned communication infrastructure, etc., leads to the development of disaster response networks, which become accustomed to altering situations during disasters. This system was developed by the connection of cyber physical systems (CPS) to networks, with the consolidation of physical and computational elements. CPS includes an always-open network and cloud to provide a constant service to users, based on their requests in disaster situations. The dynamic requests and continuously variable environment encouraged the evolution of a new technology to make an efficient and precise decision in the minimum time. At present, cloud computing has become the most broadly …', 'A Cognitive Radio (CR)–The cognitive radio makes observations of the environment, makes decisions and is reconfigured, as a result of the observations, learning from the experience. A Cognitive Radio Network (CRN)–A network obtained from multiple CRs, which adjusts the network behaviour in response to the changing environment of the network in the event of a disaster.', 'Smart Cyber Physical Systems: Advances, Challenges and Opportunities ISBN: 9780367337889 Cyber Physical Systems (CPS) are the new generation of collaborative computational entities, with a prime focus on integration of the physical world and cyber space. Through a feedback mechanism, the system adapts itself to new conditions in real time. The scope of this book includes research experience by experts in CPS infrastructure systems, incorporating sustainability by embedding computing and communication in day-to-day applications. CPS, integrated with Blockchain, Artificial Intelligence, Internet of Things, Big Data, Cloud Computing and Communication, lay a foundation for the fourth industrial revolution, Industry 4.0. This book will be of immense use to practitioners in industries with a focus on autonomous and adaptive configuration, and on optimization, leading to increased agility, elasticity and cost effectiveness. The contributors of this book include renowned academics, industry practitioners and researchers. It offers a rigorous introduction to the theoretical foundations, techniques and practical solutions, through case studies. Building CPS with effective communication, control, intelligence and security is discussed in terms of societal and research perspectives. The objective of this book is to provide a forum for researchers and practitioners to exchange ideas and to achieve progress in CPS by highlighting applications, advances and research challenges. It is highly recommended to be used as a reference book for graduate and post-graduate level programmes in universities, with a focus on research in computer science-related …', 'Image segmentation is an indispensable component in many image analysis and computer vision tasks. It partitions the whole image into many regions in order to identify a particular object in a given image. In this paper, Differential Evolution (DE) algorithm is applied for multilevel colour image segmentation. Inter cluster variance is used as fitness function in order to find the better chromosome for the next generation. The results show that the Differential evolution algorithm is able to produce better segmentation result with dataset of images consisting of distinct colours.', '', '', 'Adhoc mobile networks are very dynamic, self organizing, self healing distributed networks which supports data networking without an infrastructure. The user can use the network services efficiently and securely while moving, by using our proposed scheme. This technique is used to store backup routes from multiple routes available between source and destination. Furthermore, it also supports heterogeneous interfaces between the nodes with a secured data transmission using voice.', 'Blockchain technology is the key for decentralized society and gathered a lot of attention in recent times. The technology of Blockchain offers an infrastructure of secure network that allows the users to perform any operation without middleman. It is expected to bring a revolution due to its characteristics of being transparent, secure and scalable. Blockchain technology will bring the considerable efficiency gains, transparency, cost savings and fraud detection while allowing the data to be shared in real-time between multiple parties in a trusted and transparent manner. This chapter elaborately discusses the basic building blocks of Blockchain technology such as public key cryptography, Digital signature, Elements and types of Blockchain and its applications in different sectors.'], ['Analyzing sentiment is a process to identify the opinion of a text. It is also known as opinion mining or emotion Artificial Intelligence (AI). People post comments in social media mentioning their experience about an event and are also interested to know if the majority of other people had a positive or negative experience on the same event. This classification can be achieved using Sentiment Analysis. Sentiment analysis takes unstructured text comments about a product reviews, an event, etc., from all comments posted by different users and classifies the comments into different categories as either positive or negative or neutral opinion. This is also known as polarity classification. Sentimental analysis can be performed by Text analysis and computational linguistics. This work aims at comparing the performance of different machine learning algorithms in performing sentiment analysis of Twitter data. The proposed …', 'Businesses share data, outsourcing for specific business problems. Large companies stake a large part of their business on analysis of private data. Consulting firms often handle sensitive third party data as part of client projects. Organizations face great risks while sharing their data. Most of this sharing takes place with little secrecy. It also increases the legal responsibility of the parties involved in the process. So, it is crucial to reliably protect their data due to legal and customer concerns. In this paper, a review of the state-of-the-art methods for privacy preservation is presented. It also analyzes the techniques for privacy preserving association rule mining and points out their merits and demerits. Finally the challenges and directions for future research are discussed.', 'Data mining is the process of extracting hidden patterns from data. With the explosion of data at a tremendous rate, data mining is essential to extract useful information. Association rule mining is a method of finding correlation relationships among large set of data items. A rule is characterized as sensitive if its disclosure risk is above a certain confidence value. Sensitive rules should not be disclosed to the public, as they can be used to infer sensitive data and provide an advantage for the business competitors. Techniques for hiding association rules are limited to binary items. But, real world data consists of quantitative values. In this paper, a method to hide fuzzy association rule is proposed, in which, the fuzzified data is mined using modified apriori algorithm in order to extract rules and identify sensitive rules. The sensitive rules are hidden by decreasing the support value of Right Hand Side (RHS) of the rule. A …', 'An association rule is classified as sensitive if its thread of revelation is above certain confidence value. If these sensitive rules were revealed to the public, it is possible to deduce sensitive knowledge from the published data and offers benefit for the business competitors. Earlier studies in privacy preserving association rule mining focus on binary data and has more side effects. But in practical applications the transactions contain the purchased quantities of the items. Hence preserving privacy of quantitative data is essential. The main goal of the proposed system is to hide a group of interesting patterns which contains sensitive knowledge such that modifications have minimum side effects like lost rules, ghost rules, and number of modifications. The proposed system applies Particle Swarm Optimization to a few clusters of particles thus reducing the number of modification. Experimental results demonstrate that the …', 'Data mining is the process of extracting hidden patterns from data. With the explosion of data, data mining is essential to extract useful information. Association rule mining is a method for finding correlation among large set of data items. A rule is characterized as sensitive if its disclosure risk is above a certain confidence value. Sensitive rules should not be disclosed to the public, as they can be used to infer sensitive data and provide an advantage for the business competitors. Techniques for hiding association rules are almost limited to binary items. But, real world data mostly consists of quantitative values. In this paper, a method to hide fuzzy association rule is proposed, in which, the fuzzified data is mined using modified apriori algorithm in order to extract rules and identify sensitive rules. The sensitive rules are hidden by decreasing the support value of Right Hand Side (RHS) of the rule. Genetic algorithm is used to ensure security of the database and keep the utility and certainty of the mined rules at highest level. Experimental results of the proposed approach demonstrate efficient information hiding with less side effects.', 'Extracting knowledge from large amount of data while preserving the sensitive information is an important issue in data mining. Providing security to sensitive data against unauthorized access has been a long term goal for the database security research community. Almost all the research in privacy preservation is limited to binary dataset. Business and scientific data contain both quantitative and categorical attributes. The technique used for privacy preservation must ensure security of the database while maintaining the utility and certainty of the mined rules at highest level. This paper presents two techniques to hide quantitative sensitive fuzzy association rules-Weighted Item Grouping Algorithm and Rank based Correlated Rule Hiding Algorithm. Then the performance of the two techniques is evaluated based on the number of lost rules and ghost rules generated and how effectively the sensitive rules are hidden. The experimental results shows that the Rank based correlated rule hiding provides better performance than weighted item grouping in terms of side effects and number of modifications.', '', 'Objective:Privacy protection in the medical field means the protection of individuals from being associated with undesirable conditions, diagnoses or treatments (Sensitive Attributes). The problem of knowledge discovery from health care data by applying data mining algorithms is inversely related to the privacy of individuals. Due to the tremendous growth of data in a large scale, there is a demand to protect the sensitive data accessible from medical datasets.Methods:This paper considers the problem of building privacy preserving association rule mining algorithm using the notion of TF* IDF derived from the information retrieval domain. The highly sensitive transaction is chosen using the product of Relative Item Frequency and Condensed Frequency. Finally, sensitive fuzzy data is perturbed to hide these refined rules.Results:It has been found that the number of non-sensitive rules lost as a side effect of hiding …', 'Extracting knowledge from large amount of data while preserving the sensitive information is an important issue in data mining. Almost all the research in privacy preservation is limited to binary dataset. Relation tables in most business and scientific domains contain both quantitative and categorical attributes. In this paper, We introduce a new method for hiding sensitive quantitative association rules based on the concept of genetic algorithm. Genetic algorithm is employed to find the interesting quantitative rules from the given data set. Then, a weighing mechanism is used to identify the transactions for data perturbation, thereby reducing number of modifications to the database and preserving the interesting non sensitive rules. The main purpose of this method is to fully support the security of the database and to maintain the utility and certainty of mined rules at highest level. Experimental results shows that the generation of lost rules have been minimized to a great extent.', 'Extracting hidden useful knowledge from large collection of data is the definitive goal of data mining. But it may create serious threat to business and individual privacy. In this paper, a new method for preserving privacy of sensitive interval based quantitative association rule is proposed. Genetic Algorithm is employed to find the optimal intervals for quantitative rules without relying on support and confidence framework. Then, a mechanism is used to find the number of transactions to be perturbed based on the impact of sensitive rules and non sensitive rules each transaction supports. The proposed algorithm repeatedly modifies selected transactions thereby reducing number of modifications to the database. The main purpose of this method is to fully support the security of the database and to maintain the utility and certainty of mined rules at highest level. Experimental results show that the generation of is reduced by14% and Ghost Rules has increased by 17% than the previous work.', 'Association rule mining technique has been widely used in various applications. However, the abuse of this technique may lead to the discovery of sensitive information. Researchers in recent times have made effort for hiding sensitive association rules. But most of the techniques proposed are generally applied in binary dataset. It suffers from side effects of lost and ghost rule. Most business, medical and scientific domains has quantitative value for its attributes. Limited research is available for hiding sensitive information in quantitative data. The aim of privacy preserving quantitative association rule mining is to i. Prevent the discovery of sensitive information. ii. Not to compromise the access and the use of non sensitive data. iii. Be utilizable on large amounts of data iv. Not to have an exponential computational complexity. In this paper, a hybrid evolutionary algorithm is proposed for effectively hiding the sensitive quantitative association rules and for improving the utility of the database. The performance of the proposed system is compared with existing algorithm by measuring number of lost rules, number of ghost rules and number of modifications to the original data.', 'Explosion of data analysis techniques facilitate organizations to publish microdata about individuals. While the released data sets provide valuable information to researchers, it is possible to infer sensitive information from the published non-sensitive data using association rule mining. An association rule is characterized as sensitive if its confidence is above disclosure threshold. These sensitive rules should be made uninteresting before releasing the dataset publicly. This is done by modifying the data that support the sensitive rules, so that the confidence of these sensitive rules is reduced below disclosure threshold. The main goal of the proposed system is to hide a set of sensitive association rules by perturbing the quantitative data that contains sensitive knowledge using PSO and hybrid PSO-GA with minimum side effects like lost rules, ghost rules. The performance of PSO and Hybrid PSO-GA approach in …', 'vABSTRACTIn 1990s, the evolution of information technology enabled many enterprises to collect and store huge amounts of data in their databases. Since a lot of business intelligence is hidden in the data, companies developed data mining tools that performed varietyof analysis based on statistics in order to find patterns and regularities in the data. Association rule mining, a data mining technique, is very useful for product promotion and helps online-shops in personalizing their website and cross-sell their products by making recommendations. This task of association rule mining requires the organizations to share their data. In several dealings the need for sharing data occurs while outsourcing data mining to solve a particular business problem. Most of this sharing takes place with little secrecy which often results in the organizations taking unnecessary risks while sharing their …', '', '', '', '', ''], ['Vehicle Identification and Authentication System is developed for traffic monitoring. To prevent unauthorized vehicles from entering the private areas, vehicle based authentication technologies are employed. The captured color image of the vehicle is converted to gray scale image. Gray scale image is converted into binary image using Sliding Concentric Windows (SCW) method. Pixels are labelled into components based on pixel connectivity using Connected Component Analysis (CCA) technique. The labelled components are examined and detected license plate is processed to isolate characters. These characters are sent to Probabilistic Neural Network (PNN). PNN uses a supervised training set to develop distributed functions within a pattern layer. Vehicle entering an area is considered as authenticated if it is registered. Registered vehicles’ number plate indicates the state and district to which particular vehicle belongs to. Vehicles are considered to be authenticated, if it belongs to a particular state and district, after which the vehicles’ type and other details are extracted from the database.', 'The explosive growth of digital information places a high demand for information security. Information security deals with securing the information from unauthorized access or misusing information either intentionally or accidentally. Information may be represented in forms like text, audio, video, and image. The most widely used form of information exchange is text documents. This paper presents a novel symmetric key cryptosystem to protect the text messages communicated over the public network from unauthorized disclosure. To provide increased security with reduced computational complexity, the encryption method uses the bitwise XOR operation with a larger key space derived from the randomly generated additive constants used in Secure Hash Algorithm (SHA-512) and sine constants of Message Digest (MD-5) hash functions. The proposed method is safe against cryptanalysis attack and has good avalanche effect. The method is sensitive with respect to the encryption key and satisfies both confusion and diffusion properties significantly.', 'The amount of digital data created and shared via internet has been increasing every day. The number of security attacks and threats has been increased due to poor selection of secret', 'Evolution of Unique National identity number plays a significant role across nation-wide. It provides the government with accurate data on residents, enable direct benefit programs, and allow government departments to coordinate investments and share information. Unique identification project is as an initiative that would provide identification for each resident across the country and would be used primarily as the basis for efficient delivery of welfare services. It would also act as a tool for effective monitoring of various programs and schemes of the Government. The role is to issue a Unique Identification number (UID) that could be verified and authenticated online, in a cost-effective manner, which is robust enough to eliminate duplicate and fake identities. This requires the individual’s data to be collected, transmitted and stored in a central repository. Thus, the issues involved in this system could be security while …', 'Indian Railways offer instant ticket booking service to the passengers via online reservation portals (ORP). The major constraint to the passenger is to bring an original document as personal identity proof (PIP) at the time of travel to prove their identity. However, many passengers bring copy of the documents in order to avoid loss or theft of their original identity card during travel. But, it is not accepted as per the regulations of railway authority. Also, passengers may forget to bring the original ID card due to last-minute hurry. This leads to an unnecessary dispute between the passenger and the travelling ticket examiner (TTE). To address this issue, a secure online passenger identity protocol (SOPIP) is proposed in this paper. The SOPIP provides secure online identity service to authenticate the passenger to the TTE during travel. The proposed protocol also provides confidentiality, integrity and digital signature …', '', 'Random numbers play an important and primary role in the use of Cryptography techniques in real time applications. The cryptographic techniques can be easily compromised if the key can be easily guessed. Therefore it is important that the keys are in random and unpredictable in nature. The operating system uses the random numbers to mask passwords and to offer salt and session identifiers. This paper introduces a new software based pseudo random number generation method based on the eye brightness response formula. This function provides a significant change in sensation for minimum required change in signal intensity. The randomness tests are performed to confirm the randomness of the generated random numbers.', ''], ['Turbo codes are the channel coding scheme used in wireless cellular networks as they are able to reach close to the Shannon limit. This paper proposes the use of turbo codes and LDPC codes for storage of data. Turbo encoding can be performed by using parallel Recursive Systematic Convolutional (RSC) encoder and an interleaver while turbo decoding is based on Bahl Cocke Jelinek and Raviv (BCJR) algorithm, the Maximum Aposterior Algorithm (MAP). Low Density Parity-Check (LDPC) codes encoding technique are based on the generator matrix value of the original code word to be identified. In LDPC decoding Hard-decision decoding algorithm is followed. Finally, a comparative analysis on turbo and LDPC codes is presented. Theoretical and experimental results show turbo codes perform better than LDPC codes.', '', '', '', '', '', '', '', '', '', '', ''], ['In recent days, the crop yield prediction is a major area of research, where the information about the suitable crop to cultivate will be very much useful for the farmers to cultivate. The crop yield prediction in agricultural helps the farmers to know how much yield they can expect from the cultivation. It also helps in minimizing the loss to the farmers when unfavorable condition occurs. The proposed work is to predict the yield of the crop based on the suitable crop parameters like TemperatureMin, TemperatureMax, Humidity, Windspeed, Pressure using neural network model. In this research paper, crop yields predictions were established using Feed Forward Neural Network and Recurrent Neural Network model which predict the crop yield. The performances of neural network models were evaluated using the metrics like Root Mean Square Error (RMSE) and Loss.', '', 'Mass surveillance is the close supervision of an entire or a large part of an area, which is applicable in various applications like parking lots, garbage door opening, security control of restricted areas, automatic toll collection, traffic law enforcement, etc. Now a day with the increasing population the usage of vehicles has increased, therefore the controlling of vehicles is becoming a big issue to solve as large amount of vehicles are parked in the common places. In such places a mass surveillance is required, so in those cases we can use automatic license plate recognition (ALPR) technique. Which have difficulties like an illumination in the image, uneven illumination, dim light and foggy conditions make the task of image enhancement even more difficult and recognition of ambiguous like (B-8),(O-0),(I-1),(A-4),(CG),(DO),(KX), and broken characters makes the character recognition challenging. An ALPR system is developed that will overcome these issues and provide an effective and efficient mass surveillance system.', 'Optic disc segmentation in fundus image is a significant phase in diagnosis of eye disease like diabetic retinopathy and glaucoma. Segmenting the portion of optic disc which is bright yellowish in color is called as optic disc segmentation. Automated optic disc segmentation is essential to diagnose the eye disease at the earliest stage to prevent the eye sight loss. Segmentation of optic disc can be performed using clustering techniques. In this work, hierarchical and partition-based clustering techniques are used to segment the optic disc. Five datasets namely DIARETDB1, CHASE DB, HRF DB, INSPIRE DB, and DRIONS DB are used to evaluate the clustering techniques. A comparative study was made based on the results using the performance parameters like accuracy, error rate, positive predicted value, precision, recall, false discovery rate, and F1 score. The results show that the hierarchical clustering …', 'With the increase in airline transportation, it is necessary to concentrate on delays by Airline Company to improve their business. Passenger may book a flight ticket in a particular airline agency by its reputation in punctuality. They should improve their punctuality by predicting the delay time. To achieve this error rate of delay prediction should be minimized. This paper focuses on predicting and comparing a delay time of a flight with the minimized error rate ie more improved accuracy. The error rate is minimized by automating the prediction model using Artificial Neural Network and also by using ANN with multi core map reduce framework.', 'Image Captioning is the process of creating a text description of an image. It uses both Natural Language Processing (NLP) and Computer Vision to generate the captions. The image captioning task is done by combining the detection process when the descriptions consist of a single word like cat, skateboard, etc. and Image Captioning when one predicted region covers the full image, for example cat riding a skateboard. To address the localization and description task together, we propose a Fully Convolution Localization Network that processes a picture with a single forward pass which can be consistently trained in a single round of optimization. To process an image, first the input image is processed using CNN. Then Localization Layer proposes regions and includes a region detection network adopted from faster R-CNN and captioning network. The model directly combines the faster R-CNN framework for region detection and long short-term memory (LSTM) for captioning.', 'An isocratic reverse-phase high-performance liquid chromatographic method was developed and validated for the determination of rifaximin. Linearity was observed in the concentration range of 1.0–300 μg mL-1 (R2= 0.9998). The LOQ was found to be 0.891 μg mL-1 and the LOD was found to be 0.289 μg mL-1. Rifaximin was subjected to stress conditions of degradation in aqueous solutions including acidic, alkaline, oxidation and thermal degradation. Rifaximin is more sensitive towards oxidation in comparison to other degradations. The method was validated as per ICH guidelines. The RSD for intra-day (0.24-0.55) and inter-day (0.38-0.78) precision were found to be less than 1%. The percentage recovery was in good agreement with the labeled amount in the pharmaceutical formulations and the method is simple, specific, precise, robust and accurate for the determination of Rifaximin in pharmaceutical formulations.', 'Automated localization of the optic disc is an essential phase in automated retinal imaging system, which are used in determining the effect of diabetic retinopathy and glaucoma at their initial phase. In this chapter an unsupervised learning technique called clustering methods are used in localization of optic disc. The clustering methods like DBSCAN clustering, Hierarchical Clustering, Fuzzy C Mean and K-Mean clustering are used in optic disc localization. The pre-processing techniques like resizing to avoid images high computation requirement, selection of green color band for processing and smoothing using morphological and gaussian blur operator are performed. Then the optic disc is localized by applying clustering methods by filtering the maximum intensity cluster. The performance of clustering methods was evaluated on three publicly available retinal fundus image databases DRIONSDB dataset …', '', '', '', 'This paper deals with the comparison of different surrogate models such as kriging surrogate model, support vector regression, radial basis functions and polynomial response surfaces for locating the damage and estimate its size for delamination detection in composite laminates using frequency shifts derived from experimental modal analysis. The strategy involved a forward problem and inversion using surrogate models. The data for the inversion was generated by Finite element analysis and experimental Modal analysis and was validated using the modal assurance criterion. It was found that the predictions made using kriging surrogate model and Radial basis functions had the lowest errors when compared with the other two models namely the polynomial response surfaces and the support vector regression.', 'Peoples are more concerned towards their health more than anything else in their life. Even the governments highest priority is given to healthcare. With the prevailing and varying pandemic globally since the human era, it is the responsibility of an individual human to be safe and combat them form those pandemics. Corona Virus 2019 is the current prevailing global pandemic which is causing an incredible disaster worldwide by causing thousands of deaths. Around 200 countries are fighting against this pandemic. In this paper the impact of coronavirus all over world based on the continents is explored by considering the information obtained on the corona virus positive, death and recovered case. It also reviews on how the countries are combating the global pandemic.', 'COVID-19 is having a huge impact on the society around the world, causing a huge number of deaths, which is increasing day by day. All the countries are fighting against this global pandemic by working on vaccines, implementing complete and partial lockdowns to avoid the spread of virus. On the basis of the various literature surveys done by the authors, it is found that computational intelligence and data analytics can play a vital role in this pandemic and can be really helpful. This chapter explains how data analytics and computational intelligence can serve the world to combat COVID-19.', 'In various retinal vascular disorders such as Cataract, glaucoma, diabetic macula and diabetic retinopathy, eye fundus images are extensively used for diagnosis. Optic disc in eye fundus image is very bright and clear-cut spherical or vertically marginal elliptical shape. The other structures in an eye fundus image like exudates and lesions may look like optic disc. Therefore, the Localization of optic disc in eye fundus image is viewed as a search problem. This chapter deals with the evolutionary algorithm such as Differential Evolution and Jaya Algorithm to search the optic disc in an eye fundus image. The outcomes are inspected through performance measures and hypothesis test.', 'The impact of COVID-19 is severe worldwide; detecting the Covid severity in a patient is a vital step. The further important actions such as isolating the patient from others and testing the people in frequent contact with the patient can only be done after the Covid-19 test results. Currently, different methods are used for detecting the Corona virus in a patient, they are Reverse Transcriptase Polymerase Chain Reaction (RT-PCR) test, Rapid Diagnostic Test (RDT), and Computed Tomography (CT) scan for lungs. However, a CT scan is the most accurate way to detect covid compared to other tests. The CT scan can produce images of the lungs within 15 to 20 minutes. Whereas traditional methods such as RT-PCR will take at least six to eight hours to deliver results. This paper aims to determine the severity level of Covid from the Computed Tomography (CT) scan image of the lungs', 'BIOINFORMATICS AND MEDICAL APPLICATIONS The main topics addressed in this book are big data analytics problems in bioinformatics research such as microarray data analysis, sequence analysis, genomics-based analytics, disease network analysis, techniques for big data analytics, and health information technology. Bioinformatics and Medical Applications: Big Data Using Deep Learning Algorithms analyses massive biological datasets using computational approaches and the latest cutting-edge technologies to capture and interpret biological data. The book delivers various bioinformatics computational methods used to identify diseases at an early stage by assembling cutting-edge resources into a single collection designed to enlighten the reader on topics focusing on computer science, mathematics, and biology. In modern biology and medicine, bioinformatics is critical for data management. This book explains the bioinformatician’s important tools and examines how they are used to evaluate biological data and advance disease knowledge. The editors have curated a distinguished group of perceptive and concise chapters that presents the current state of medical treatments and systems and offers emerging solutions for a more personalized approach to healthcare. Applying deep learning techniques for data-driven solutions in health information allows automated analysis whose method can be more advantageous in supporting the problems arising from medical and health-related information. Audience The primary audience for the book includes specialists, researchers, postgraduates, designers, experts, and engineers, who …', \"In recent years, heart disease is becoming a major problem in human beings. The diverse of syndromes that will infect the heart is known as the heart disease. Cardiac magnetic resonance images are formed using the radio waves and an influential magnetic field, which will produce pictures with a detailed structure of within and around the heart which can be used to identify the cardiac disease through various learning techniques that are used to evaluate the heart's anatomy and function in patients. In this chapter, ensemble classification model is used to classify the type of heart disease. Automated cardiac diagnosis challenge dataset is taken for prediction of heart disease that consists of 150 subjects which is evenly divided among all five classes. The dataset is initially pre‐processed to eliminate the noise in image followed by the Region of Interest extraction and segmentation …\", '', 'Detection of Optic Disc is an important task in the automatic retinal disease screening system. From the literature, it is identified that diabetic retinopathy is the main reason for blindness among working people especially aged people. Identifying and curing diabetic retinopathy at the earlier stages may prevent the cause of blindness among people. In this paper, a detailed survey involving the various techniques in optic disc detection like Morphological Operation Technique, Hough transform Technique, Evolutionary computing technique, and Machine learning technique are made from various literature works. This paper also discusses the various publicly available dataset that could be useful in assessing the performance of the various techniques. It also discusses the result obtained from the various methods proposed by different scholars in this domain and emphasize the enhancement obtained by them.', '', 'Deep learning methods permit us to tackle signal processing challenges from a dissimilar perspective, which is currently overlooked in the composition of music in cinema industry. Audio is inherently added time-sensitive than movie. Audios are encoded using other past methods, resulting in data loss or temporal anomalies. This problem is alleviated by using an auto correlogram with a 3-dimensional view, including time, power, and frequency, to improve accuracy. First, acoustic data should be competently encoded into a compressed format using RNN autoencoder by interrelating with the information. As a result of the compressed format, audio waves should be accurately represented. After that, audio waves are rebuilt into an audio structure with little data loss. The accuracy is improved by 10% by using the RNN encoder and decoder.', '', ''], [\"Image segmentation is an important step in image processing. Most of the segmentation methods are parametric and the results of segmentation depend on the correctness of the estimated parameters. In case of supervised segmentation, a priori knowledge is needed for successful segmentation. So, nonparametric and unsupervised segmentation method is used when a priori information is not available. Kohonen's Self Organizing Maps (SOM), an unsupervised and nonparametric artificial neural network method is used to identify the main features present in the image. Genetic Algorithm (GA) can be applied to the results of SOM for optimal segmentation results. In this paper, the basic SOM, SOM combined with GA and some of the variants of SOM like the Variable Structure SOM (VSSOM), Parameterless SOM (PLSOM) are compared and their performance is evaluated. A new unsupervised, nonparametric …\", 'Overlapping community detection in complex networks such as social, biological, economic, and other real-world networks has become an important area of research in the past two decades. Community detection problem can be modeled as a multiobjective optimization problem and it has been successfully solved using Evolutionary Algorithms (EA). The representation scheme of a solution in an EA affects the size of search space and thereby its convergence. A clique-based representation scheme is suitable to represent overlapping communities since overlapping cliques represent overlapping communities. The community to which a clique belongs becomes the community of its containing nodes. However, there are two issues viz., (1) cliques may heavily overlap since they might share many nodes with other cliques (2) one-node and two-node cliques increase the length of the representation of the EA. This …'], ['Objectives: As the plenty of Web services on the Internet increases, developing efficient techniques for Web service recommendation has become more significant. The main objective of this paper is to compare and study the drawbacks of the performance of different existing similarity measures against the proposed similarity measure that use the concept of collaborative filtering technique. Methods/Analysis: Collaborative filtering has turned into one of the most used technique to give personalized services for users. The key of this technique is to find alike users or items using user-item rating matrix such that the system can show recommendations for users. Experiments on Web Service (WSDL) data sets are conducted and compared with many traditional similarity measures namely Pearson correlation coefficient, JacUOD, Bhattacharyya coefficient. The result shows the superiority of the proposed similarity model in recommendation performance. Findings: However, existing approaches related to these techniques are derived from similarity algorithms, such as Pearson correlation coefficient, mean squared distance, and cosine. These methods are not much efficient, particularly in the cold user conditions. Applications/Improvement: This paper presents a new user based similarity calculation model to enhance the recommendation performance and to estimate the similarities for each user. The proposed model incorporates two traditional similarity measures namely Pearson Correlation Coefficient and Jaccard Coefficient.', 'Collaborative filtering is one of the most widely used techniques for personalized recommendation services to users, since it can assist users to specify their interest on available items. The key feature of this technique is to find similar users by applying similarity measures on user-item rating matrix. Personalized system can thus provide recommendations for users based on the interest of the active user as well as a likeminded users. The success of the recommendation process depends upon the similarity metric used to find the most similar users. Similarity measures like cosine, Pearson Correlation Coefficient, Jaccard Uniform Operator Distance etc are not much effective when user-item rating matrix is sparse. This paper presents a new similarity model to calculate the similarities between each user, when only few ratings are available in the user profile. The proposed model considers both global preference as well as the local context of the user behavior. Experiments are conducted on two different datasets and compared with many existing similarity measures. The results of the experiments show that the proposed similarity measure improves the performance of the personalized recommendation process.', 'Online news article reading has become very popular as the World Wide Web provides an access to variety of news articles from large volume of sources around the world. A key challenge of news portals is to provide articles to the users based on their interest. Personalized news recommendation systems provide news articles to the readers based on their interest rather than presenting articles in order of their occurrences. The effectiveness of news recommendation systems reduces due to lack of user ratings and automated novelty detection. A progressive summary helps a user to monitor changes in news items over a period of time. The automatic detection of novelty in personalized news recommendation system could improve a reader’s search experience by providing news items that add more information’s to already known information’s to the users. This paper presents a rough set based …', 'Traditional news recommendation systems strive to adapt their services to individual users by virtue of both user and news context information. This paper describes personalized news recommendation approach based on dynamic updating policy and collaborative filtering. Adaptive user profiling is a principled framework for news selection based on the intrinsic property of user interest presented, with a good balance between the novelty and diversity of the recommendation result. Also it considers the exclusive characteristics like news context, access patterns, popularity of the news and recency. Collaborative filtering approach can efficiently capture user’s behavior in case where the overlap in historical assumptions across users in relatively high and the context universe is almost static. The major issue with the personalized news recommendation system is scalability. This paper addresses the above mentioned issue with the help of hadoop framework. Experiments on a collection of sports related news obtained from various news websites demonstrate the efficiency of the proposed approach.', 'Agriculture is the keystone of a developing country such as India. For the revenue, the majority of their population depends on agriculture. Machine Learning is an imminent field of informatics that can be applied quite efficiently to the agricultural sector. Crop yield prediction and forecasting is essential for agricultural stakeholders which can be acquired through machine learning techniques. When the farmers are not aware of the soil nutrition and soil composition that results in minimal crop yield. Thus the proposed system developed, which in turn focuses on the macronutrients (NPK), pH and electrical conductivity in the soil and temperature for providing the most appropriate crop suggestions. The proposed system constructs a collaborative system of crop rotation, crop yield prediction and forecasting and fertilizer recommendation. In this project a system is developed which incorporates the agricultural dataset wherein voting based ensemble classifier algorithm is applied to suggest the appropriate crops. Crop yield prediction and forecasting will increase the agricultural production. Periodical crop rotation will improve the soil fertility. This system supports farmer friendly fertilization decision making. The accuracy of this system was around 92%.', '', 'In this paper a different approach OFSTF (Origin, First, Second, Third, and Fourth quadrants) Method is applied for finding a feasible solution for transportation problems directly by having non linear to linear equation conversion technique. The proposed method is a unique, it gives always feasible (may be optimal for some extant) solution without disturbance of degeneracy condition. This method takes least iterations to reach optimality. A numerical example is solved to check the validity of the proposed method and degeneracy problem is also discussed.', 'Writer identification is the process of identifying the writer of the document based on their handwriting. The growth of computational engineering, artificial intelligence and pattern recognition fields owes greatly to one of the highly challenged problem of handwriting identification. This paper proposes the computational intelligence technique to develop discriminative model for writer identification based on handwritten documents. Scanned images of handwritten documents are segmented into words and these words are further segmented into characters for word level and character level writer identification. A set of features are extracted from the segmented words and characters. Feature vectors are trained using support vector machine and obtained 94.27% accuracy for word level, 90.10% for character level. An interactive tool has been developed based on the word level writer identification model.', 'Wikipedia is a free, web-based encyclopaedia. This paper addresses the knowledge integration issue by computing semantic relatedness over a graph derived from Wikipedia by treating the articles as nodes and the links between the articles as the edges. Sentences with highest occurring keywords are extracted. These complex sentences are split into simple sentences and triplets with synonyms are extracted. A hypergraph structure is formed using hypernyms of the keywords to cluster the articles. Hypernyms extracted from the search query and keyword co-occurrences are used to extract relevant articles. Mapping the articles under the hypernyms category to an in-memory structure improves search efficiency and facilitates personalisation. The proposed work ensures the implied relationships between articles in the graph structure and maintenance of semantic relatedness between articles. Further, clustering …'], ['Data mining is a process of extracting previously unknown, valid and actionable information from large database or data warehouse and then using information so derived to make crucial business and strategic decisions. In data mining, Apriori is a classic algorithm for learning association rules. Agrawal put forth association rules in 1993 and introduced the famous Apriori algorithm. The objective of this research is to improve the efficiency of Apriori Algorithm. The paper discusses and analyzes Apriori algorithm for mining association rules and introduces means to improve the efficiency of algorithm. It also discusses the implementation details of this algorithm and its application in University Library. This paper proposes two algorithms Apriori Algorithm and Improved Apriori Algorithm to significantly reduce the disk I/O operations and hence improve the efficiency of Apriori Algorithm. The aforesaid algorithms will be …', 'Missing data are the absence of data items for a subject; they hide some information that may be important. In practice, missing data have been one major factor affecting data quality. Thus, Missing value imputation is needed. Methods such as hierarchical clustering and K-means clustering are not robust to missing data and may lose effectiveness even with a few missing values. Therefore, to improve the quality of data method for missing value imputation is needed. In this paper KNN and ARL based Imputation are introduced to impute missing values and accuracy of both the algorithms are measured by using normalized root mean sqare error. The result shows that ARL is more accurate and robust method for missing value estimation.', 'This paper proposes the Enhanced Decision Making Model making efficient rational decision. New types of Decision Support System like Real Time Decision Support System (RTDSS) has been introduced.', 'Today most of the data available in the digital form. In the past lots of people using the phrases related to the hypothesis to the document of the information and topic should be performing better result of the terms. In this paper we use the more important point include in the data mining method and this method give the better improve the effectiveness or performance of the patterns also in that we implementing the pattern detection method these are solved the problem of the term based method and give the good result and which is helpful in information retrieval system. This paper present the effective pattern discovery technique which include the process of the pattern deployed and pattern evolving and it will give the better improvement to the effectiveness.', 'The enormous outbreak of biomedical knowledge, the aim of reducing computation and processing costs and the widespread availability of internet connection have created a profuse amount of electronic data. Such data are stored across the globe in various data sources that are semantically, structurally and syntactically different. This decentralized nature of biomedical data has made it difficult to obtain a unified view of the data. Data integration plays a crucial role in enhancing access to heterogeneous data making the retrieval easier and faster. A variety of ontology, machine learning, deep learning and fuzzy logic-based solutions are being developed for heterogeneous data integration. The proposed model concentrates on the automatic ontology-based data integration method that can be effectively deployed and used in the healthcare domain. The proposed model is divided into three phases. The first phase …', 'The number of studies in big data aspects of biomedical domain are tremendously increasing because of the growing technical knowledge, need for reduced computation costs and the availability of internet facilities almost over everywhere. A considerable amount of data in the biomedical domain are stored across platforms that are semantically, structurally and semantically different. With this heterogeneity, it becomes extremely difficult to access and derive meaningful insights from data. Data Integration plays a significant role in merging the data and making access to these data faster and easier. Ontology, a form of knowledge representation, is widely used in data integration to denote the semantic relationship between the data stored in heterogeneous data sources and aid in easier retrieval. This paper surveys the ontology engineering methods used in various biomedical domains like cardiology, nephrology, diabetes, Covid-19, traditional medicine and the recent advancements in ontology development.', '', '', '', '', \"The introduction of self-driving automobiles in today's society necessitates the development of high-quality algorithms to guide them. Convolutional neural networks are extensively utilised because of their ability to classify images based on observed attributes. The proposed solution entails steering a car autonomously using just the windshield view as input. This is accomplished by using Convolutional neural networks in an end-to-end deep learning strategy, as proposed by NVIDIA for self-driving automobiles. To improve the accuracy of existing models, the neural network will be supported with inputs from image processing modules that identify lane markers and cars. Reduced costs, increased safety, and increased mobility are all advantages of providing such an algorithm for retrofitting existing cars.\", '', '', '', ''], ['India is one of the most important democratic and developing countries on earth. A democratic form of government is run by the elected representatives of the common people. Voting is important because the people participate in elections to choose their representatives. Though there are several issues in implementing online voting system, security is one of the most important issues. Our objective is to design and develop a framework for a secure online voting system in a cloud environment by using digital certificate secure hash algorithm (SHA) and ElGamal encryption. The proposed system consists of three managers such as certification authority manager (CAM), Vote manager (VM), and vote tally manager (TM). In registration phase, the elector interacts with CAM to acquire a digital certificate. VM is responsible to authenticate the elector. TM finally tallies the votes. The assessment of the system is verified using …', 'In a cloud based online voting system, the life cycle starts with voter registration, authentication, voting and counting. The election process is a secret process as whole democratic administration is centralised on voting. Authentication, confidentiality, integrity, scalability, speeds and accuracy these are few important criteria to be satisfied by an online voting system. Authentication can be considered as the most critical issue among all the above. So the voters should be kept at the highest priority to make the voting process fair and effective. Through some of the literatures that deal with the issue of authentication mechanisms, the proposed method conceals the original biometric template such that it is impossible to recover the biometric template even when the stored data in the system is open to an attacker. We assess the system with relativity matrix between security requirements, issues, techniques and mechanisms.', 'Online voting guarantees to improve the democratic participation as it allows to cast the votes from remote locations. It is one of the cost effective solution that speeds up the tallying process and helps in increasing voter turnout. The security aspect of online voting is a vital significance. A robust online voting system has to address the requirements namely Authenticity, Confidentiality, Integrity, Anonymity, Accuracy, Availability, Receipt-freeness, Verifiability, Transparency and Eligibility. The main objective of the research is to investigate on the existing mechanisms and design secure online voting framework to achieve Confidentiality, Integrity and Availability. The framework is a collection of classes, objects and their collaborations that enable large scale reuse by capturing an abstract design and the core implementation for a domain from which a range of specific applications can then be derived. Software …', '', '', 'Blockchain technology is the key for decentralized society and gathered a lot of attention in recent times. The technology of Blockchain offers an infrastructure of secure network that allows the users to perform any operation without middleman. It is expected to bring a revolution due to its characteristics of being transparent, secure and scalable. Blockchain technology will bring the considerable efficiency gains, transparency, cost savings and fraud detection while allowing the data to be shared in real-time between multiple parties in a trusted and transparent manner. This chapter elaborately discusses the basic building blocks of Blockchain technology such as public key cryptography, Digital signature, Elements and types of Blockchain and its applications in different sectors.'], ['The rapid expansion of digital data content has led to the need for rich descriptions and efficient Retrieval Tool. To develop this, content based image Retrieval method has played an important role in the field of image retrieval. This paper aims to provide an efficient medical image data Retrieval from a huge content of medical database using one of the images content such as image shape, because, efficient content-based image Retrieval in the medical domain is still a challenging problem. The main objective of this paper is to provide an efficient tool which is used for efficient medical image retrieval from a huge content of medical image database and which is used for further medical diagnosis purposes.', 'A new model based approach for automated generation of test cases in object oriented systems has been presented. The test cases are derived by analyzing the dynamic behavior of the objects due to internal and external stimuli. The scope of the paper has been limited to the object diagrams taken from the Unified Modeling Language model of the system. Genetic Algorithm’s tree crossover has been proposed to bring out all possible test cases of a given object diagram. Illustrative case study has been presented to establish the effectiveness of our methodology coupled with mutation analysis', 'Text classification is enduring to be one of the most researched problems due to continuously-increasing amount of electronic documents and digital data. Naive Bayes is an effective and a simple classifier for data mining tasks, but does not show much satisfactory results in automatic text classification problems. In this paper, the performance of naive Bayes classifier is analyzed by training the classifier with only the positive features selected by CHIR, a statistics based method as input. Feature selection is the most important preprocessing step that improves the efficiency and accuracy of text classification algorithms by removing redundant and irrelevant terms from the training corpus. Experiments were conducted for randomly selected training sets and the performance of the classifier with words as features was analyzed. The proposed method achieves higher classification accuracy compared to other native …', 'The accumulation of large collections of digital images has created the need for efficient and intelligent schemes for classifying and retrieval of images. In this work,“CBMIR: Shape-Based Image Retrieval Using Canny Edge Detection and K-Means Clustering Algorithms for Medical Images”, has been developed to retrieve the medical images from huge volume of medical databases. This requires the preprocessing, feature extraction, classification, retrieval and indexing steps in order to develop an efficient medical image retrieval system. In this work, for preprocessing step, the image segmentation method has been carried out, for feature extraction, basic shape feature has been extracted using canny edge detection algorithm, and for classification, K-means classification algorithm has been used. For retrieval of images, Euclidian distance method values are calculated between query image and database images. The goal of this work is to provide a medical image retrieval system for further use of medical diagnosis purpose in the field of medical domain.', 'Feature selection is an indispensable preprocessing step for effective analysis of high dimensional data. It removes irrelevant features, improves the predictive accuracy and increases the comprehensibility of the model constructed by the classifiers sensitive to features. Finding an optimal feature subset for a problem in an outsized domain becomes intractable and many such feature selection problems have been shown to be NP-hard. Optimization algorithms are frequently designed for NP-hard problems to find nearly optimal solutions with a practical time complexity. This paper formulates the text feature selection problem as a combinatorial problem and proposes an Ant Colony Optimization (ACO) algorithm to find the nearly optimal solution for the same. It differs from the earlier algorithm by Aghdam et al. by including a heuristic function based on statistics and a local search. The algorithm aims at determining a …', 'Problem statement: Recently, there has been a huge progress in collection of varied image databases in the form of digital. Most of the users found it difficult to search and retrieve required images in large collections. In order to provide an effective and efficient search engine tool, the system has been implemented. In image retrieval system, there is no methodologies have been considered directly to retrieve the images from databases. Instead of that, various visual features that have been considered indirect to retrieve the images from databases. In this system, one of the visual features such as texture that has been considered indirectly into images to extract the feature of the image. That featured images only have been considered for the retrieval process in order to retrieve exact desired images from the databases. Approach: The aim of this study is to construct an efficient image retrieval tool namely,“Content Based Medical Image Retrieval with Texture Content using Gray Level Co-occurrence Matrix (GLCM) and k-Means Clustering algorithms”. This image retrieval tool is capable of retrieving images based on the texture feature of the image and it takes into account the Preprocessing, feature extraction, Classification and retrieval steps in order to construct an efficient retrieval tool. The main feature of this tool is used of GLCM of the extracting texture pattern of the image and k-means clustering algorithm for image classification in order to improve retrieval efficiency. The proposed image retrieval system consists of three stages ie, segmentation, texture feature extraction and clustering process. In the segmentation process, preprocessing step to …', 'Image retrieval systems attempt to search through a database to find images that are perceptually similar to a query image. This work aims to develop an efficient visual-Content-based technique to search, browse and retrieve relevant images from large-scale of medical image collections Features play a vital role during the image retrieval. The various features that can be extracted are texture, color, intensity, shape, resolution, global and local features etc. In this work, we concentrate on the specific medical domain. The features such as color may not prove to be a very efficient method because the medical domain largely deals with the gray scale images. The features explored in this work are intensity, texture. The first step is to extract the texture feature and the intensity feature from the given input image. Then the both features are combined to form the single feature vector of the image by using the fusion …', 'Weighted association rule mining reflects semantic significance of item by considering its weight. Classification constructs the classifier and predicts the new data instance. This paper proposes compact weighted class association rule mining method, which applies weighted association rule mining in the classification and constructs an efficient weighted associative classifier. This proposed associative classification algorithm chooses one non class informative attribute from dataset and all the weighted class association rules are generated based on that attribute. The weight of the item is considered as one of the parameter in generating the weighted class association rules. This proposed algorithm calculates the weight using the HITS model. Experimental results show that the proposed system generates less number of high quality rules which improves the classification accuracy.', 'Problem statement: The problem is to classify a given web query to a set of 67 target categories. The target categories are ranked based on the degree of similarity to a given query. Approach: The feature set is the set of intermediate categories retrieved from a directory search engine for a given query. Using direct mapping and Normalized Web Distance (NWD) the intermediate categories are mapped to the required target categories. The categories are then ranked based on three parameters of the intermediate categories namely, position, frequency and a combination of frequency and position. Results: The results proved that the third parameter gave a better result and a maximum of 40 search result pages ensure better results. Conclusion: With NWD as the similarity measure, the precision and recall is found to increase by 10% over the previous methods.', 'A new model-based automatic test case generation for object-oriented systems using UML diagrams has been presented. Real-time application is expressed in the form of Collaboration diagram constructed using Rational Rose software. Collaboration diagram is converted into an intermediate graph form. Prim’s and Dijkstra’s algorithms has been applied to bring all the possible test cases from the graph. Illustrative case study has been presented in order to establish the effectiveness of our approach coupled with mutation analysis.'], ['A novel dynamic spectrum sharing method inspired by natural communities based on social language has been proposed to overcome prevailing spectrum underutilization and scarcity. The Social Cognitive Radio Network (SCRN) combines social data and mobile communication network by providing a range of data delivery services concerning social relationship among mobile users. The research focuses on diverse SCRN applications and its handover issues, a bio-intelligent supervised learning approach called SpecPSO is devised for performing social cognitive handover (SCH) to: a) Evaluate efficient spectrum utilization and b) Increase data rate for applications like Facebook, LinkedIn. Experimental results show that the proposed SCH-SpecPSO outperforms 75% more than state of art mobile social networks by optimizing various handover issues.', 'Cognitive communication model perform the investigation and surveillance of spectrum in cognitive radio networks abetment in advertent primary users (PUs) and in turn help in allocation of transmission space for secondary users (SUs). In effective performance of regulation of wireless channel handover strategy in cognitive computing systems, new computing models are desired in operating set of tasks to process business model, and interact naturally with humans or machine rather being programmed. Cognitive wireless network are trained via artificial intelligence (AI) and machine learning (ML) algorithms for dynamic processing of spectrum handovers. They assist human experts in making enhanced decisions by penetrating into the complexity of the handovers. This paper focuses on learning and reasoning features of cognitive radio (CR) by analyzing primary user (PU) and secondary user (SU) data …', 'Cognitive radio systems necessitate the incorporation of cooperative spectrum sensing among cognitive users to increase the reliability of detection. We have found that cooperative spectrum sensing is not only advantageous, but is also essential to avoid interference with any primary users. Interference by licensed users becomes a chief concern and issue, which affects primary as well as secondary users leading to restrictions in spectrum sensing in cognitive radios. When the number of cognitive users increases, the overheads of the systems, which are meant to report the sensing results to the common receiver, which becomes massive. When the spectrum, which is in use becomes unavailable or when the licensed user takes the allocated band, these networks have the capability of changing their operating frequencies. In addition, cognitive radio networks are seen to have the unique capability of sensing the …', 'Currently, the masses are interested in sharing opinions, feedbacks, suggestions on any discrete topics on websites, e-forums, and blogs. Thus, the consumers tend to rely a lot on product reviews before buying any products or availing their services. However, not all reviews available over internet are authentic. Spammers manipulate the reviews in their favor to either devalue or promote products. Thus, customers are influenced to take wrong decision due to these spurious reviews, i. e., spammy contents. In order to address this problem, a hybrid approach of improved binary particle swarm optimization and shuffled frog leaping algorithm are proposed to decrease high dimensionality of the feature set and to select optimized feature subsets. Our approach helps customers in ignoring fake reviews and enhances the classification performance by providing trustworthy reviews. Naive Bayes (NB), K Nearest Neighbor …', 'Heart disease is one of the major reason for increase in the death rate. Healthcare is one amongst the most important beneficiaries of huge knowledge & analytics. Extracting medical data is progressively becoming more and more necessary for prediction and treatment of high death rate due to heart attack. Terabytes of data are produced every day. Quality services are needed to avoid poor clinical decisions that lead to disastrous consequences. The Hospitals can make use of appropriate decision support systems thus minimizing the cost of clinical tests. Now-a-day hospitals employ hospital information systems to manage the patient data. Enormous amount of data generated by health care industry is not effectively used. Some new approach is necessary to decrease the expense and to predict the heart disease in an easy. The objective of this paper is to analyze various research works done on heart diseases …', 'Cognitive radio networks are an innovative technology that focuses on the radical shift in both radio and networking technologies that ensemble with the potential to provide major performance gains in optimizing the efficiency of any spectrum. As cognitive radio domains have started to progress significantly, new research work is required to address some prevailing technical challenges like Dynamic Spectrum Allocation (DSA) methods, spectrum sensing, cooperative communications, cognitive network architecture protocol design, cognitive network security challenges and dynamic adaptation algorithms for cognitive system and the evolving behavior of systems in general. This chapter highlights the need for an efficient Handover Decision (HD) mechanism to perform switches from one network to another, to provide unified and continuous mobile services that include seamless connectivity and ubiquitous …', 'Mobility is becoming a very significant theme in cognitive radio networks due to unlimited access to the network. As a result of using IPv4 protocol, there is a problem of data loss, if the user moves from one network to another. The 802.16e standard was developed for future supporting mobility and IPv6 protocol is mainly designed to support mobility and end-to-end security. So, we propose a protocol Ipv6 and integrating mobile TCP with 802.16e standard, which allows the users to roam over the network seamlessly and securely.', 'Nowadays the primary factor for a customer for making a decision on purchasing a product is Online Reviews. Its impact is crucial since the manufacturers and retailers are highly concerned with customers feedback and reviews. Reliance on these online reviews gives rise to the potential concern that spammers may create false reviews to artificially promote or devalue products and services. This practice is known as Review Spam. Feature selection is significant aspect for classification. This paper presents an algorithm to extract features using Adaptive Binary Flower Pollination Algorithm (BFPA) a global optimization technique. Naive Bayes classifier (NB) accuracy is used as an objective function. The experimental results from the proposed method selects only the informative features set compared to the other competitive methods and gives higher classification accuracy.', '', 'In the recent years, online reviews are one of most important source of customer opinion. Nowadays consumer can gain knowledge about the products and service from online review resources, using which they can make decisions. This may lead to Opinion Spam, where spammers may manipulate and fake reviews to promote artificially or devalue the products and other services. Opinion spam detection is done by extracting meaningful features from the text, and identifying the spam reviews using machine learning techniques. This representation results in a very high dimensional feature space. These features are irrelevant, redundant, and noisy which may affect the performance of the classifier. Therefore, a good feature selection method is needed in order to speed up the processing rate, predictive accuracy. Evolutionary algorithms for feature selection can be used to handle these high-dimensional feature …'], ['Authentication remains as significant security challenge in hadoop environment. Hadoop does not strongly authenticate the client. As a result, data nodes can be accessed using block locations. This paper suggests the usage of the fundamental properties of a triangle and dual servers to improve the security level of hadoop clusters The password given by the user is interpreted and alienated into more than one unit using the authentication server and stored in multiple Backend Servers along with the corresponding username. The Authentication Server uses the values stored in multiple Backend Servers to authenticate the user. Authentication and Backend servers work together to authenticate the user. The registration process and the authentication process are hosted as a web service to authenticate the users before logging into the hadoop cluster. This paper suggests three approaches for security enhancement …', 'With the tremendous growth of technology, providing data security to critical applications such as smart grid, health care, and military is indispensable. On the other hand, due to the proliferation of external data threats in these applications, the loss incurred is incredibly high. Standard encryption algorithms such as RSA, ElGamal, and ECC facilitate in protecting sensitive data from outside attackers; however, they cannot perform computations on sensitive data while being encrypted. To perform computations and to process encrypted query on encrypted data, various homomorphic encryption (HE) schemes are proposed. Each of the schemes has its own shortcomings either related to performance or with storage that acts as the barrier for applying in real-time applications. With that conception, our objective is to design HE schemes that are simple by design, efficient in performance, and highly unimpeachable against …', 'Background/Objective: In Software Effort Estimation (SEE), predicting the amount of time taken in human hours or months for software development is considered as a cumbersome process. SEE consists of both Software Development Effort Estimation (SDEE) and Software Maintenance Effort Estimation (SMEE). Over estimation or under estimation of software effort results in project cancellation or project failure. The objective of this study is to identify the best performing model for software Effort Estimation through experimental comparison with various Machine learning algorithms. Methods: Software Effort Estimation was addressed by using various machine learning techniques such as Multilinear Regression, Ridge Regression, Lasso Regression, Elastic-Net Regression, Random Forest, Support Vector Machine, Decision Tree and NeuralNet to recognize best performing model. Datasets used are Desharnais, Maxwell, China and Albrecht datasets. Evaluation metrics considered are Mean Absolute Error (MAE), Mean Squared Error (MSE), Root Mean Square Error (RMSE) and R-Squared. Findings: Experiments on various machine learning algorithms for software Effort Estimation determines that Support Vector Machine produced the best performance comparatively with other algorithms.', 'A key initiative taken by Government of India in response to Prime Minister Narendra Modi’s “Digital India” move is the formation of Internet of Things (IoT) ecosystem for smart healthcare. Any security flaw occurring during authentication with a centralized environment affects the connectivity of devices in the network and the transaction of data in IoT. As a solution, Blockchain technology emerges to use in IoT network for the betterment. The Internet of Medical Things (IoMT) is the collection of medical devices and applications that connect to healthcare IT systems. In IoMT environment, a private Blockchain network is created containing all the participants of a hospital including doctors, lab technicians, patients and clinical laboratories etc., There exists no necessity to carry the report by the patients during every visit, as the data is already available in the network. The data is completely decentralized to avoid failure …', 'In large-scale distributed systems, where adversarial attacks have extensive impact, authentication provides fortification against threats involving impersonation of entities and tampering of data. Towards this, we introduce the first tetrahedron (three-dimensional (3D)) based two-server Password Authenticated and Key Exchange (PAKE) protocol to represent text passwords. A 3D PAKE protocol is a hybrid cryptographic algorithm that requires two servers for authentication; one server engages with users and the other is hidden from the clients. A remarkable aspect of the proposed 3D PAKE protocol is that reclaiming password from the stored credentials is not possible when either one/both the servers gets compromised. In this paper, we discuss the properties of tetrahedron that mesh well with Diffie–Hellman key exchange protocol and elliptic curve cryptography encryption scheme and proved that the protocol is …', 'Software Project Estimation is a challenging and important activity in developing software projects. Software Project Estimation includes Software Time Estimation, Software Resource Estimation, Software Cost Estimation, and Software Effort Estimation. Software Effort Estimation focuses on predicting the number of hours of work (effort in terms of person-hours or person-months) required to develop or maintain a software application. It is difficult to forecast effort during the initial stages of software development. Various machine learning and deep learning models have been developed to predict the effort estimation. In this paper, single model approaches and ensemble approaches were considered for estimation. Ensemble techniques are the combination of several single models. Ensemble techniques considered for estimation were averaging, weighted averaging, bagging, boosting, and stacking. Various stacking …', 'Artificial Intelligence is a superset of Machine Learning and Deep learning, used to build intelligent systems that can solve problems. Software Effort Estimation is used to predict the number of hours of work required to complete the task. It is difficult and a challenging task to forecast Software Effort in the project during initial stages, due to several uncertainties. Software Effort Estimation helps in planning, scheduling, budgeting a project. Various experiments were proposed to predict effort alike expert judgment, analogy based estimations, regression estimations, classification approaches, deep learning algorithms. In this paper, comparison of deepnet, neuralnet, support vector machine and random forest algorithms were carried out and the results show that random forest outperforms other algorithms because of its robustness and capacity to handle large datasets. Evaluation metrics deliberated are Mean Absolute …', 'As 5G transitions from an industrial vision to a tangible, next-generation mobile technology, security remains key business driver. Heterogeneous environment, new networking paradigms and novel use cases makes 5G vulnerable to new security threats. This in turn necessitates a flexible and dependable security mechanism. End-to-End (E2E) data protection provides better security, avoids repeated security operations like encryption/decryption and provides differentiated security based on the services. E2E security deals with authentication, integrity, key management and confidentiality. The attack surface of a 5G system is larger as 5G aims for a heterogeneous networked society. Hence attack resistance needs to be a design consideration when defining new 5G protocols. This framework has been designed for accessing the manifold applications with high security and trust by offering E2E security for various …', 'Homomorphic encryption (HE) is an emerging scheme that allows computation over encrypted data. The standard encryption algorithms like RSA, Elgamal, etc. help in protecting confidential data from attackers rather than performing computation over encrypted data. Fully homomorphic encryption (FHE) permits computation to perform upon encrypted data unlimitedly in server side than in computational node. In this paper, the basic DGHV FHE scheme and NTRU FHE scheme are analyzed to preserve the security and privacy of the data. DGHV performs computing over real integers, while NTRU in a truncated polynomial ring. A detailed investigation of both the schemes is based on the storage and noise reduction that best suits for a real-world application.', ''], [\"E-mail is one of the most popular and frequently used ways of communication due to its worldwide accessibility, relatively fast message transfer, and low sending cost. The flaws in the e-mail protocols and the increasing amount of electronic business and financial transactions directly contribute to the increase in e-mail-based threats. Email spam is one of the major problems of the today's Internet, bringing financial damage to companies and annoying individual users. Spam emails are invading users without their consent and filling their mail boxes. They consume more network capacity as well as time in checking and deleting spam mails. The vast majority of Internet users are outspoken in their disdain for spam, although enough of them respond to commercial offers that spam remains a viable source of income to spammers. While most of the users want to do right think to avoid and get rid of spam, they need clear …\", \"Nowadays, digital reviews and ratings of E-commerce platforms provide a better way for consumers to buy the products. E-commerce giants like Amazon, Flipkart, etc provide customers with a forum to share their experience and provide potential consumers with true evidence of the product's outcomes. To obtain useful insights from a broad collection of reviews, it is important to separate reviews into positive and negative feelings. In the proposed work, Sentiment Analysis is to be done on the consumer review data and categorize into positive and negative feelings. Naïve Bayes Classification, LSTM and Support Vector Machine (SVM) were employed for the classification of reviews from the various classification models. Many of the current SA techniques for these customer online product review text data have low accuracy and often takes longer time in the course of training. In this research work, BERT Base …\", '', 'Unsolicited emails, known as spam, are one of the fast growing and costly problems associated with the Internet today. Among the many proposed solutions, a technique using Bayesian filtering is considered as the most effective weapon against spam. Bayesian filtering works by evaluating the probability of different words appearing in legitimate and spam mails and then classifying them based on that probabilities. Most of the current spam email detection systems use keywords to detect spam emails. These', 'In recent days, Electronic mail system is a store and forward mechanism used for the purpose of exchanging documents across computer network through Internet. Spam is an unwanted mail which contains unsolicited and harmful data that are irrelevant to the specified users. In the proposed system, the spam classification is implemented using Naive Bayes classifier, which is a probabilistic classifier based on conditional probability applicable for more complex classification problems. Implementation of feature selection using hybrid Ant Colony Optimization serves to be more efficient which gives good results for the above system that has been proposed in this paper.', 'Internet plays a drastic role in part of communication nowadays but in e-mail, spam is the major problem. Email spam is unwanted, inappropriate or no longer wanted mails also known as junk email. To eliminate these spam mails, spam filtering methods are implemented using classification algorithms. Among various algorithms, Support Vector Machine (SVM) is used as an effective classifier for spam classification by various researchers. But, the accuracy level is not up to notable level so further. To improve the accuracy, Latent Semantic Indexing (LSI) is used as feature extraction method to select the suitable feature space. The hybrid model of spam mail classification can provide the effective results. The Ling spam email corpus is used as datasets for the experimentation. The performance of the system is evaluated using measures such as recall, precision and overall accuracy.', '', '', 'Assistive technology would be an immense benefit for hearing impaired people by using Audio Visual Speech Recognition (AVSR). Around 466 million people worldwide suffer from hearing loss. Hearing impaired student rely on lip reading for understanding the speech. Lack of trained sign language facilitators and high cost of assistive devices are some of the major challenges faced by hearing impaired students. In this work, we have identified a visual speech recognition technique using cutting edge deep learning models. Moreover, the existing VSR techniques are erroneous. Hence to address the gaps identified, we propose a novel technique by fusion the results from audio and visual speech. This study proposes a new deep learning based audio visual speech recognition model for efficient lip reading. In this paper, an effort has been made to improve the performance of the system significantly by achieving a …', ''], ['Quantisation table used in joint photographic experts group (JPEG) standard plays a major role in the trade-off between the compression and quality of the image. Hence, finding a quantisation table is inferred as an optimisation problem. This paper proposes a classical differential evolution (CDE) algorithm for finding the optimal luminance quantisation table for a target bits/pixel (bpp). Also, it aims to carry out an extensive performance comparison of the CDE algorithm with the classical genetic algorithm (CGA). It is observed that the CDE-based quantisation table outperforms the default JPEG and CGA-based quantisation tables in terms of mean squared error (MSE) and peak signal to noise ratio (PSNR). Images with different complexity levels have been experimented with both CDE and CGA algorithms. The validation results show that CDE guarantees a feasible solution in faster convergence rate than CGA. The …', 'JPEG has played an important role in the image compression field for the past two decades. Quantization tables in the JPEG scheme is a key factor that is responsible for compression/quality trade-off. Finding the optimal quantization table is an open research problem. Studies recommend the genetic algorithm to generate the optimal solution. Recent reports revealed optimal quantization table generation based on a classical genetic algorithm (CGA). Although the CGA produces better results, it shows inefficiency in terms of convergence speed and productivity of feasible solutions. This paper proposes a knowledge-based genetic algorithm (KBGA), which combines the image characteristics and knowledge about image compressibility with CGA operators such as initialization, selection, crossover, and mutation for searching for the optimal quantization table. The experimental results show that the optimal quantization table generated using the proposed KBGA outperforms the default JPEG quantization table in terms of mean square error (MSE) and peak signal-to-noise ratio (PSNR) for target bits per pixel. The KBGA was also tested on a variety of images in three different bits values per pixel to show its strength. The proposed KBGA produces an average PSNR gain of 3.3% and average MSE gain of 20.6% over the default JPEG quantization table. The performance measures such as average unfitness value, likelihood of evolution leap, and likelihood of optimality are used to validate the efficacy of the proposed KBGA. The novelty of the KBGA lies in the number of generations used to attain an optimal solution as compared to the CGA. The …', 'Artificial intelligence (AI) allows the systems to observe from environments, perform certain functionalities and aims to maximise the probability of success in solving real world problems. With the technological enhancements and scientific growth, AI turns out to be a field of interest. Thus, it leads to the amplified focus on machine learning (ML) techniques. Machine learning (ML) is the most important data analysis methods which iteratively learn from the available data by using learning algorithms. The present survey provides the theoretical representation and basic methodologies of machine learning techniques like support vector machine (SVM), K-nearest neighbours (KNNs), decision tree, Bayesian networks, clustering, hidden Markov model (HMM) and neural networks. This survey paper provides the influence of machine learning techniques like clustering, SVM and ANN on image compression and attention to …', 'Image block clustering is important in several exploratory applications such as image segmentation, image pattern classification, image compression and the like. Clustering the blocks of an image into meaningful groups to reveal useful information is a challenging problem. This paper uses Partitional algorithm for image block clustering and also clusters are arranged in a hierarchical structure to explore the different aspects of the data. K Means algorithm is a widely used Partitional algorithm. But due to its gradient descent nature, the result of this algorithm is very sensitive to the initial cluster centroids which do not produce unique clustering results every time for the same input. Many initialization methods have been proposed to address this problem, but it produces results at the cost of high computational time. A Deterministic Centroid Initialization Method (DCIM) was proposed in our earlier work for K means Clustering algorithm which was used to cluster the image blocks for content adaptive image compression. In this paper, we extend the performance analysis part of DCIM in conventional K Means and Fuzzy C Means algorithm. The performance analysis has been done with the measures such as Root Mean Square Error (RMSE), Number of iterations and CPU time. The strength of this DCIM method is that the clustering algorithms require less number of iterations to attain convergence and in producing the unique better clustering result in a single run. Clustering algorithms with DCIM was tested on a variety of images to show its strength. The experimental results show that the clustering algorithm with DCIM outperforms the clustering …', 'Digital retinal images are widely used for detection of eye diseases, such as glaucoma and diabetic retinopathy. Early detection and treatment for these diseases can prevent blindness. Computer-aided diagnostic retinal image analysis is needed to facilitate the ophthalmologist for automating the mass screening process to detect these diseases. The optic disc is the brightest part of the retinal image and is a pale, well-defined round or vertically slightly oval disc. Pathologies like exudates and lesions in the eye images may look like as optic disc (OD) shape. Optic disc segmentation is the first step in developing the computer-aided diagnostic system. Localizing the OD in the image is viewed as a search problem. Literature reveals that intensity-based techniques fail to localize the OD at all times and recommends metaheuristics techniques to this application. This chapter proposes the Differential Evolution algorithm …', 'Image quality/compression trade-off mainly depends on quantisation table used in JPEG scheme. Therefore, the generation of quantisation table is an optimisation problem. Even though recent reports reveal that classical differential evolution (CDE) is a promising algorithm to generate the optimal quantisation table, it is slow in convergence rate due to its weak local exploitation ability. This paper proposes knowledge-based differential evolution (KBDE) algorithm to search the optimal quantisation table for the target bits/pixel (bpp). KBDE incorporates the image characteristics and knowledge about image compressibility in CDE operators to accelerate the search. KBDE and CDE algorithms have been experimented on variety of images and an extensive performance analysis has been made between them, which reveal that KBDE accelerates the convergence rate of CDE without compromising on the quality of …', 'The technique of breaking down an image into categorial regions containing each pixel with similar attributes is termed as image segmentation (IS). It is the preliminary step of image processing. This technique can be used for both grey-scale and colour images. This technique is applied everywhere, even in our personal Smartphone’s camera while capturing pictures. And image segmentation is the most innovative problem under the computer vision domain. This paper provides various techniques that are available in the field of image segmentation and their pros and cons. A lot of research is being done by applying artificial intelligence techniques for the image segmentation problems. In this paper, an overview of artificial intelligence algorithm techniques such as machine learning, deep learning, meta-heuristics approaches that was used in the past decade has been discussed, and a comparative study …', '', 'A rapid increase in the development of electric and connected vehicles has led to a complete revolution in the automotive industry; thus new solutions are needed to meet the rapid innovation in the entire industry while reducing the time to market and engineering costs. The main objective of this paper is to provide an open-source solution for Automotive In-Vehicle Infotainment to create a fast-innovating ecosystem and to reduce software time to market. Automotive Grade Linux (AGL) is a shared platform mainly used for In-Vehicle Infotainment systems (IVI), used by the automakers and suppliers to reduce fragmentation and to reuse the same code base, thus leading to rapid innovation and faster time-to-market for new products.', 'Images are increasingly displayed at a range of devices linked by scattered networks, which place bandwidth constraints on image transmission. Since imaging has transitioned to digital formats, most favorable settings are needed for image compression. It is feasible to apply lossy JPEG compression to images without compromise of image quality. Quantization table in JPEG decides a degree of compression that reduces the file size significantly, but produces a scale of image distortion that is not vital. Designing of quantization table in JPEG is an optimization problem. For the past decades, numerous research efforts have been concentrated in this particular area. In mid-2000, a new epoch was started, meta-heuristics for solving this problem. Nature inspired algorithms are meta-heuristics that mimic the nature for solving optimization problems. The real beauty of nature inspired algorithms lie in the fact that it receives its sole inspiration from nature. This paper gives an extensive review of some major nature inspired meta-heuristic algorithms such as Genetic Algorithm, Differential Evolution, Particle Swarm Optimization and Firefly Algorithm for optimizing quantization table in JPEG baseline algorithm. Further, key issues involved in solving this problem for these metaheuristics algorithms are also discussed.'], ['Big data has become Buzzword in recent years. It is due to the fact that voluminous amount of structured, semi structured and unstructured data that is generated in the digital era. But, this huge data can be tracked and used for monetary benefits which thwart individual’s privacy. Hence numerous fruitful researches are made in privacy preservation. This book chapter lays emphases on the state-of-art privacy preserving data mining mechanisms and reviews the application of these mechanisms in big data environment.', 'Data mining aims at extracting hidden information from data. Data mining poses a threat to information privacy. Privacy preserving data mining hides the sensitive rules and prevents the data from being disclosed to the public. Attribute reduction techniques reduce the dimensionality of dataset. Rough sets are used for attribute reduction to yield reduced sets. An attribute reduct is a subset of attributes formed using rough sets. This paper proposes two approaches to hide sensitive fuzzy association rules namely, decreasing support value of item in RHS of association rule and Particle Swarm Optimization (PSO). The proposed approach is implemented using map reduce paradigm. Experimental results demonstrate the performance of the proposed approach.', 'The evolution of technology allowed the collection of a large amount of user data, known as big data. Among all the datasets healthcare data is more sensitive. It is extremely important to protect the individual users in such datasets. Even anonymized data release is vulnerable. Hence, in this paper, we suggest a differential privacy-based model release instead of the data release. A private model release based on six machine learning classifiers namely Support Vector Machine (SVM), Random Forest algorithm, Logistic Regression, K-Nearest Neighbor, Decision Tree, and Naive Bayes are proposed. Experimental evaluation is performed using the benchmark heart disease dataset and the accuracy of the model is analyzed. The published private model can be used for the prediction of possible heart disease in patients.', 'The Recommendation system relies on feedback and personal information collected from users for effective recommendation. The success of a recommendation system is highly dependent on storing and managing sensitive customer information. Users refrain from using the application if there is a threat to user privacy. Several works that were performed to protect user privacy have paid little attention to utility. Hence, there is a need for a robust recommendation system with high accuracy and privacy. Model-based approaches are more prevalent and commonly used in recommendation. The proposed work improvises the existing private model-based collaborative filtering algorithm with high privacy and utility. We identified that data sparsity is the primary reason for most of the threats in a recommender framework through an extensive literature survey. Hence, our approach combines the l injection for imputing the …', 'Recommender Systems depend on massive amount of user data to provide accurate results. Such dependency creates a threat to individual user privacy. In this paper, a differential privacy based method is proposed to prevent the privacy attack. The Recommendation system performs predictions based on the private aggregated data from multiple clients instead of individual data. This ensures a high privacy guarantee for clients and also provides an effective recommendation. The private aggregated data from the client is collected with Local Differential Privacy (LDP). Using LDP, every client perturbs the data in their device and sends noisy data to the server. Then the Recommendation system aggregates perturbed data from all clients and computes the Recommendation. The proposed method is evaluated with a benchmarked dataset, and the results are evaluated using Precision@k, Recall@k, and nDCG@k …', 'Collaborative filtering has been a popular Recommendation algorithm which received significant attention in recent years; however, privacy issues in these systems cannot be ovelooked. Specifically, K Nearest Neighbor (KNN) collaborative filtering algorithm is prone to KNN attack. The aim of this paper is to integrate cryptography and differential privacy by proposing CryptoDP algorithm. The CryptoDP algorithm helps to tackle the privacy issue in KNN based collaborative filtering. The algorithm includes two privacy preserving operations: Encryption and Perturbation. The ratings given by user are protected by encryption in individual user device. The threat on collaborative filtering algorithm is resolved with the Differential Privacy mechanism. Such mechanism perturbs the similarity score with gaussian noise which enhances the performance of recommendation system with privacy. The CryptoDP algorithm …', '', 'Deep learning models are widely being used to provide relevant recommendations in hybrid recommender systems. These hybrid systems combine the advantages of both content based and collaborative filtering approaches. However, these learning systems hamper the user privacy and disclose sensitive information. This paper proposes a privacy preserving deep learning based hybrid recommender system. In hybrid deep neural network, user? s side information such as age, location, occupation, zip code along with user rating is embedded and provided as input. These embedding? s pose a severe threat to individual privacy. In order to eliminate this breach of privacy, we have proposed a private embedding scheme that protects user privacy while ensuring that the nonlinear latent factors are also learnt. In this paper, we address the privacy in hybrid system using differential privacy, a rigorous mathematical privacy mechanism in statistical and machine learning systems. In the reduced feature set, the proposed adaptive perturbation mechanism is used to achieve higher accuracy. The performance is evaluated using three datasets with root mean square error (RMSE), mean absolute error (MAE), mean squared error (MSE), R squared, precision and recall. These evaluation metrics are compared with varying values of privacy parameter?. The experimental results show that the proposed solution provides high user privacy with reasonable accuracy than the existing system. As the engine is generic, it can be used on any recommendation framework.', '', 'Data mining aims at extracting hidden information from data. The process of discovering useful patterns and relationships in a large volume of data is called data mining. The goal of the data mining process is to extract information from a data set and transform it into an understandable structure. It involves data bases, data management aspects, visualization & online updating. Data mining poses a threat to information privacy. Privacy-preserving data mining hides the sensitive rules and prevents the data from being disclosed to the public.The objective is to propose a novel association rule hiding (ARH) algorithm to hide the sensitive attributes. A function is used to obtain a prior weight for each transaction, by which the order of transactions modified can be efficiently decided. Apriori is used to find the frequent item set with minimum support and confidence. Sensitive rules are generated based on frequent item sets and FHSAR algorithm is used for hiding sensitive association rules.', 'Data mining is a technique for summarizing and identifying similar patterns in data. Data mining can take different approaches and build different models depending upon the type of data involved and the objectives. In this Paper we follow the association rules approach for finding the correlation relationships among large set of data items. The rules are generated in order to hide the sensitive rules which are highly confidential by using DSR (Decrease support value of Right Hand Side) approach and PSO (Particle Swarm Optimization) approach. In this paper we propose a new algorithm called HYBRID algorithm. The objective of this paper is to reduce the side effects such as ghost rule and lost rule and number of modification and to increase the hiding ratio by hybrid approach which is achieved by combination of DSR & PSO. Experimental results of the proposed approach demonstrate the efficient information hiding with fewer side effects and modifications.', 'MapReduce paradigm is highly suitable for large scale data intensive applications in the cloud environment. The scale of these applications necessitates minimization of cluster power consumption to reduce operational costs and carbon footprint. Energy consumption can be reduced by selective power down of nodes during periods of low utilization. Hadoop is basically used for batch processing of huge jobs. Before jobs are submitted, the files used them are uploaded into the cluster. A file is split up into a number of chunks and distributed across the Hadoop cluster. This paper addresses the problem of block allocation in distributed file system to improve reliability and energy efficiency. A framework to reduce power requirements of a cluster by identifying the number of replicas and their placement for reliable completion of the job has been designed. This will address the issues like block allocation, reliable job submission and minimization of cluster nodes to reduce power consumption. This framework is integrated with hadoop’s namenode. The scheduler component in Hadoop has also been modified to enable submission of jobs to active data node containing data to be operated on. A greedy approach and an evolutionary approach using Particle Swarm Optimization (PSO) has been designed to identify suitable nodes to be activated in a cluster. Experimental results demonstrate the performance of these approaches.'], ['Recent development in wireless sensor application such as surveillance, traffic monitoring and storage of potential relevant from network cameras are designed to intimate the real world. For these applications strict requirements of fast, reliable protocol to meet the constraints such as End-to-End delay, maximum packet delivery ratio, goodput. These needs accelerated the emerging of new routing protocols for WSN. Routing protocols are responsible for maintain route, route discovery in the network. And also has responsibility of reliable communication between the multi-hop sensor nodes that may have limited transmission range. In this paper we have surveyed the routing protocols of WSN by splitting the criteria as Multi-path routing, multiple disjoint path routing and single path routing compare the strength and limitations.', 'Task Scheduling is a complex combinatorial optimization problem and known to be an NP hard. It is an important challenging issue in multiprocessor computing systems. Discrete Particle Swarm Optimization (DPSO) is a newly developed swarm intelligence technique for solving discrete optimization problems efficiently. In DPSO, each particle should limit its communication with the previous best solution and the best solutions of its neighbors. This learning restriction may reduce the diversity of the algorithm and also the possibility of occurring premature convergence problem. In order to address these issues, the proposed work presents a hybrid version of DPSO which is a combination of DPSO and Cyber Swarm Algorithm (CSA). The efficiency of the proposed algorithm is evaluated based on a set of benchmark instances and the performance criteria such as makespan, mean flow time and reliability cost.', '', '', 'A major challenge in Information and Communication Technology (ICT) is to acquire and transform the obtained data in an efficient way. ICT encompasses most of the day-to-day activities of human life, including environment management, education, health care, water-resource management, electricity resource management, agriculture, traffic management, etc. In the current circumstances, ICT needs to send more and more data efficiently and effectively. Here comes the role of IoT (Internet of Things) and SDN (Software-Defined Networking) in the ICT domain which takes forward the ICT in a better way. SDN is a promising network standard which brings the process of network devices in a programmatic manner. Whereas IoT makes every object in a world to function elegantly by having internet connectivity. Combining these two areas together will lead to more advantages such as efficient network …', 'In this new generation, each and everything is done online and most of the time the payment is performed via the internet using net banking or a credit card. Debit card and credit card plays a major part in day-to- day life. The total amount of money transfers through online has a great amount of growth. Fraudulent transactions have escalated as E-commerce continues to expand at a rapid pace. Therefore banks, financial institutions and many other companies offer credit card fraud detection applications with more demand, and it adds more value to the applications. To reduce the transactions that are fraud, Credit Card Fraud Detection that employ Machine Learning Techniques comes to the rescue, which is a data investigation procedure carried out by a Data Science team, with the model generated providing the greatest outcomes in stopping fraudulent transactions.', 'Structuring an electronic voting system which fulfills the legitimate requirements of representatives has been a challenge for a long time. Conducting the free, systematic and impartial election is the vital goal of every democracy nation. Every country follows a different voting system from old paper ballot system to Electronic voting system. There facing a many problem in these voting systems. The main problem is location and the accessibility, people are suffering to go to their native place polling booth for casting their vote. This needs to be considered as every people`s vote plays significant role in deciding the right leaders. Blockchain technology offers the transparency and security requisites for the impartial election. It is a complete decentralized, immutable ledger system. The online voting system allows the voters to cast their vote from any place at any time which leads to increasing the voter participation count …', \"Most of the metropolitan cities facing the problem of collecting garbage on time. Due to the inadequacy of garbage collection, the trash bin gets overflow and causes various risk such as spreading diseases, unpleasant aroma, ugliness, etc. To evade all these circumstances, this paper addresses the efficient collection of garbage's by implementing IoT based smart trash can system. This system monitor the overall status of all trash cans around the city. Whenever the trash level of bin reaches the threshold level it sends the alert message to the truck driver. It also helps the garbage truck driver by providing him with the shortest path to attend all trash cans in city. IoT based smart trashcan is implemented using Raspberry Pi board with HC SR04 ultrasonic sensor for measuring trash level. Amazon Web Services (AWS) helps in storage of data and sending notifications to the concerned people who are involved in the …\", 'Machine learning algorithms are used in various domains like health care, banking sector, education because of extracting useful information from the database and predict the disease. The prediction is used to increase the diagnosis accuracy and save the patient life in the health care sector. This paper is about a prediction score analysis and results analysis of various research papers and research articles and building best prediction model on machine Learning based Diabetes Prediction. From the studies, popular ML algorithms including Decision Tree, RF Classifier, SVM, K-NN, Naïve Bayes and deep learning algorithm MLP classifier have been analyzed based on the accuracy scores and other evaluation metrics scores obtained based on the prediction.', \"Nowadays, healthcare systems using the IoT are making a huge difference compared with the existing healthcare systems. Healthcare using IoT provides the easiest way of communication between the patient and doctors, where the doctor monitors the patient's health remotely. The patient's health is being monitored through the IoT device, which in turn produces the data pertaining to the human body's health. Based on the data received from the IoT device, the doctors can diagnose patient health in real-time. Diagnosis and prediction of disease can be done through machine learning (ML) algorithms. These ML techniques help to minimize the future recurrence by alerting the doctor and identifying the risk factors for a patient's health. They use classification algorithms, such as the random forest algorithm, K-nearest neighbours (KNN), for diagnosis and prediction. The health data received from the IoT device must …\", 'In general, the Internet of Things (IoT) in healthcare systems has benefits such as: i) the workload of doctors, nurses, or medical practitioners is reduced, ii) it makes healthcare more reasonable, iii) it makes doctors more approachable and accessible for rural patients, and iv) it encourages progress in medical technology. According to the World Health Organization (WHO)[1], out of all diseases, cardiovascular disease (CVD) is the main cause of death among humans globally. The 2019 annual report about heart disease [2] says that CVD is one of the major causes of death in the US. Out of nearly 840,768 deaths in 2016, 635,260 demises were due to CVD. Though the death rate has decreased nowadays, still it requires more attention. Nowadays, patients’ health is being monitored remotely using IoT technologies and devices. This enables the doctors to take care of patients all the time without actually being physically present. The communication between the doctor and patient becomes easier and more efficient than with the traditional system where the patient needs to meet the doctor in person often. This is a time-consuming process. The era of the IoT has made the healthcare system smarter. Figure 8.1 shows the general process involved in the IoT healthcare system.The objectives of this chapter are to analyse how efficiently IoT can play a role in healthcare systems, especially for CVD, to review the machine learning (ML) algorithms used in this field, and to provide the abstraction of edge/fog computing in the IoT healthcare field. Section 8.2 brief discusses CVD and its types. Section 8.3 describes the motivation and classification. Section 8.4 …', 'This chapter presents a dynamic traffic light scheduling system, which schedules the time of the traffic light controller on each side. Each emergency vehicle is assigned with priority and it has a unique identity (ID) by default. The unique ID and the priority are used to process the request from each vehicle. In the case of priority, conflict distance is considered for scheduling. Various technologies like ZigBee, LoRaWAN are used to provide cost-effective solutions. ZigBee is one of the high-level communication protocol in IEEE 802.15.4. It works at low power, and it has low data rate. ZigBee has a range of 10–100 meters with line of sight communication. The rate of data transmission in ZigBee is 250 kb/s.', 'Wireless Sensor Network (WSN) refers to a group of spatially deployed sensors that are used to sense or detect phenomena. In the recent years, there is an increase in the adoption of Wireless Sensor Network. The sensor device which is tiny in size and lower in cost, can deploy thousand to million nodes in a particular area. It plays a major role in various applications such as area monitoring, health care monitoring, forest fire detection, landslide detection, water quality monitoring and natural disaster prevention. The important contribution of the sensor nodes in the above mentioned application is to sense the environmental changes or an unexpected event occurred in the target area and to send the sensed data to the sink node /Base Station (BS). Resource limitations of the sensor node and unreliability of low power wireless links, in combination with various performance …', '', 'Monitoring the target area lively by video sensor node will improve the ability of event description. Since the sensor nodes have limited capacity, single path routing does not suite to transfer video content. Accordingly there is a need for multipath routing for efficient transmission of video content. However not all the path in multipath routing is suited for video transmission because one or few path may not have sufficient energy to transfer the video stream, but it can able to transfer data stream. Based on the application, the type of data either video stream or data stream plays a different role. Significance levels are different for each of its data type. Priority for the data is to be given based on their significance level. In this paper, a novel approach called Efficient Priority Based Multipath Routing (EPBMR) is proposed which optimizes the multiple disjoint path found from Cost Based Multipath Routing (CBMR) by giving priority to the cost of each disjoint path and type of data. The results show that EPBMR can able to choose maximum number of path based on the priority.'], ['With the advent of a range of intrusion detection and prevention systems out in the market and Snort IPS standing out from others, always there have been efforts to improve upon the current scenario. Here, a novel technique that can curb many of the current Denial-of-Service attacks which usually disrupts the network connectivity by consuming a large amount of bandwidth is discussed. The Better Snort Intrusion Detection/Prevention System (BSnort) uses Aho-Corasick automaton for the deep packet inspection and makes use of the modified Snort signatures which utilizes minimum amount of CPU and memory. The BSnort stands out from other Network Intrusion Detection Systems (NIDSs) in its integrated use of anomaly detection approach to find out novel attacks using the packet header along with the use of known attack signatures for the payload to pin-point intrusions.', 'A key initiative taken by Government of India in response to Prime Minister Narendra Modi’s “Digital India” move is the formation of Internet of Things (IoT) ecosystem for smart healthcare. Any security flaw occurring during authentication with a centralized environment affects the connectivity of devices in the network and the transaction of data in IoT. As a solution, Blockchain technology emerges to use in IoT network for the betterment. The Internet of Medical Things (IoMT) is the collection of medical devices and applications that connect to healthcare IT systems. In IoMT environment, a private Blockchain network is created containing all the participants of a hospital including doctors, lab technicians, patients and clinical laboratories etc., There exists no necessity to carry the report by the patients during every visit, as the data is already available in the network. The data is completely decentralized to avoid failure …', 'With a quick increment in the volume of information in everyday life, there is dependably a requirement for an intrusion detection framework which distinguishes and identifies the attacks at a quicker pace. Any action which abuses the approach of the security premises is characterized as an intrusion. Intrusion detection system (IDS) is an hardware that cocurrences with intrusions produced by an alternate host network frameworks and system sources, then looking at the sign of security issues. IDS is also used to recognize unapproved usage of PC, which ought to interface the gaps in against antivirus and firewall. A general issue in the current IDS is the high false-positives and low-detection rate. This chapter talks about the essential intrusion detection procedures by means of live capturing of network packets. The proposed system uses Mahalanobis distance methodology in best attribute selection and exhaustive …', 'The vulnerable coronavirus (COVID-19) changed our lifestyle drastically and is considered as the highest threat to humanity. However, it proves there is an immense possibility for improvement in lifestyle of people. Social control is one of the main aspects to cease the spread of COVID-19. Manifold researches have been published in recent times for effective monitoring and management of social distancing in public/private places. Motivated by this notion, integrating embedded hardware kit like Jetson Nano with deep learning algorithms for automating the entire process is indispensable. Further, to improve the performance of deep learning-based object identifiers, YOLO (You Only Look Once) object detection algorithm utilizes a single-step locator methodology by computing pairwise distance to detect the objects. Using bounding boxes, YOLO algorithm identifies the presence of multiple objects, and thereby …', ''], ['The optimal mapping of tasks to the processors is one of the challenging issues in heterogeneous computing systems. This article presents a task scheduling problem in distributed systems using discrete particle swarm optimization (DPSO) algorithm with various neighborhood topologies. The DPSO is a recent metaheuristic population‐based algorithm. In DPSO, the set of particles in a swarm flies through the N‐dimensional search space by learning from both the personal best position and a neighborhood best position. Each particle inside the swarm belongs to a specific topology for communicating with neighboring particles in the swarm. The neighborhood topology affects the performance of DPSO significantly, because it determines the rate at which information transmits through the swarm. The proposed DPSO algorithm works on dynamic topology that is binary heap tree for communication between the …', 'Python has a rich set of libraries available for extracting the digital contents that are spread across the internet. Among the available libraries, the following three libraries are popularly deployed for the purpose: they are BeautifulSoup, LXml and RegEx. A statistical study carried out over the scattered available data set shows that RegEx is capable of delivering the answer on an average of 153.7 ms. Still, RegEx has the inherent drawback of haiing limited rule extraction when it comes for the web page with more inner tags. Because of this demerit RegEx is termed as capable of performing only moderately complex contexts. Nevertheless the other libraries BeautifulS oup and LXml are capable of extracting web content under critical environment yielding the response rate of 458.68 ms and 202.96 ms respectively. Also, these two libraries are based on the DOM model proving to be the scalable libraries. The modern …', 'Finding an optimal schedule of tasks for an application in distributed environment is critical in general. Task assignment is an extremely NP complete problem. This type of problem can be resolved by heuristic algorithms efficiently because the traditional methods such as dynamic programming and the back tracking need more time for solving this NP complete problem. Particle Swarm Optimization (PSO) is a newly developed meta-heuristic global optimization technique. It was originally designed only for continuous optimization problems. In task scheduling, the particles are represented as discrete values. It is obvious that the classical PSO cannot be used to solve discrete problems directly because its positions are real-valued. Some conversion techniques are needed to operate PSO in discrete domain. This paper presents a modified PSO called Discrete PSO (DPSO). In DPSO, no conversion techniques are needed because the velocity and positions are redefined to operate the PSO in a discrete domain directly. In this paper, the scheduler aims at minimizing make span, flow time and reliability cost simultaneously in distributed systems for scheduling of independent tasks using DPSO. Benchmark instances of Expected Time to Complete (ETC) model are used to test the DPSO. Based on the simulations and comparisons, the DPSO algorithm is viable approach for the task scheduling problem.', 'Task scheduling is one of the core steps to effectively exploit the capabilities of parallel or distributed computing systems. Most existing approaches for scheduling deal with a single objective only. This paper presents an Adaptive Weighted Particle Swarm Optimization (AWPSO) algorithm with Adaptive Weighted Sum (AWS) method for multi-objective optimization problems in heterogeneous environment. AWPSO enhance the global search ability and to overcome the local optimum by introducing an acceleration factor. The goal is to minimize the make span and flow time. The experimental results showed that the performance of the AWPSO with adaptive weighted sum method is effective compared with AWPSO with weighted sum method in finding the optimal solutions.', 'Discrete particle swarm optimization is one of the most recently developed population-based meta-heuristic optimization algorithm in swarm intelligence that can be used in any discrete optimization problems. This article presents a discrete particle swarm optimization algorithm to efficiently schedule the tasks in the heterogeneous multiprocessor systems. All the optimization algorithms share a common algorithmic step, namely population initialization. It plays a significant role because it can affect the convergence speed and also the quality of the final solution. The random initialization is the most commonly used method in majority of the evolutionary algorithms to generate solutions in the initial population. The initial good quality solutions can facilitate the algorithm to locate the optimal solution or else it may prevent the algorithm from finding the optimal solution. Intelligence should be incorporated to generate the …', 'Task scheduling in heterogeneous multiprocessor systems is an extremely hard NP complete problem. Hence, the heuristic approaches must be used to discover good solutions within a reasonable time. Particle Swarm Optimization (PSO) is a population based new heuristic optimization technique developed from swarm intelligence. This paper presents a Modified Discrete PSO (MDPSO). PSO was originally designed for continuous optimization problems. Some conversion techniques are needed to operate PSO in discrete domain. In Discrete PSO, conversion techniques are not required. Here, the particles are directly represented as integer vectors. The MDPSO extends the basic form of DPSO which incorporates mutation, which is an operator of Genetic Algorithm, for the better diversity of the particles. In this paper, the scheduler aims at minimizing make span, reliability cost and flow time in heterogeneous multiprocessor systems for scheduling of independent tasks using four different MDPSO algorithms. The performance of PSO greatly depends on its control parameters such as inertia weight and acceleration coefficients. Slightly different parameter settings may direct to very different performance. This paper compares the formulation and results of four different MDPSO techniques: constant control parameters, random inertia weight with time varying acceleration coefficients, linearly decreasing inertia weight with time varying acceleration coefficients and constant control parameters with dependent random parameters. Benchmark instances of Expected Time to Complete (ETC) model is used to test the MDPSO. Based on this comparative …', 'Task Scheduling is one of the challenging issues in distributed systems due to the allocation of multiple tasks in many processors, in order to achieve many objectives. It is known to be an NP-hard problem. These problems can be efficiently solved by population-based models. Discrete particle swarm optimization (DPSO) has been a recently developed population-based optimization technique which works in the discrete domain efficiently. This paper presents the DPSO variants for task scheduling problems in distributed systems to minimize the makespan, mean flow time and reliability cost. These objectives are optimized by the DPSO algorithm using the two well-known multi-objective optimization (MOO) approaches such as Aggregating and Pareto dominance. Computational simulations are done based on a set of benchmark instances to assess the performance of the MOO approaches.', 'Task Scheduling is a complex combinatorial optimization problem and known to be an NP hard. It is an important challenging issue in multiprocessor computing systems. Discrete Particle Swarm Optimization (DPSO) is a newly developed swarm intelligence technique for solving discrete optimization problems efficiently. In DPSO, each particle should limit its communication with the previous best solution and the best solutions of its neighbors. This learning restriction may reduce the diversity of the algorithm and also the possibility of occurring premature convergence problem. In order to address these issues, the proposed work presents a hybrid version of DPSO which is a combination of DPSO and Cyber Swarm Algorithm (CSA). The efficiency of the proposed algorithm is evaluated based on a set of benchmark instances and the performance criteria such as makespan, mean flow time and reliability cost.', 'Particle swarm optimisation (PSO) and Shuffled frog leaping (SFL) are Swarm Intelligence (SI) based algorithms. SI algorithms are stochastic based optimisation techniques that imitate process inspired from nature. This paper presents a comparative performance of two recent SI based optimisation algorithms such as discrete PSO (DPSO) and SFL in task scheduling problem. Task scheduling (TS) is a complex combinatorial optimisation problem and known to be NP-hard. It is an important challenging issue in distributed systems. Make span, mean flow time and reliability cost are performance criteria used to evaluate the efficiency of the DPSO and SFL algorithms for scheduling independent tasks in distributed systems. Computational simulations are done based on a set of benchmark instances to assess the performance of the algorithms.', 'An efficient allocation of tasks to the processors is a crucial problem in heterogeneous computing systems. Finding an optimal schedule for such an environment is an NP-complete problem. Near optimal solutions are obtained within a finite duration using heuristics/meta-heuristics are used instead of exact optimization methods. Heuristics and meta-heuristics are the efficient technologies for scheduling tasks in distributed environment because of their ability to deliver high quality solutions in a reasonable time. Discrete Particle Swarm Optimization (DPSO) is a newly developed meta-heuristic computation technique. To enhance the final accuracy and improve the convergence speed of DPSO, this paper presents a modified DPSO algorithm by adjusting its inertia weight based on Hamming distance and also makes a dependency between the two random parameters r1 and r2 to control the balance of individual’s and collective information in the velocity updating equation. Three criteria such as make span, mean flow time and reliability cost are used to assess the efficiency of the proposed DPSO algorithm for scheduling independent tasks on heterogeneous computing systems. Computational simulations are performed based on a set of benchmark instances to evaluate the performance of the proposed DPSO algorithm compared to existing methods.', 'Python is an explicate and high level programming language and used for developing desktop (GUI), websites and web applications. Python assist many features to execute dissimilar structure like Numpy, Pandas, Matplotlib, Flask, Web2py, etc.. For web develop. It is used in Games, AI, Media Tools and many more.', 'Task scheduling in a distributed environment is an NP-hard problem. A large amount of time is required for solving this NP-hard problem using traditional techniques. Heuristics/meta-heuristics are applied to obtain a near optimal solution within a finite duration. Discrete Particle Swarm Optimization (DPSO) is a newly developed meta-heuristic population-based algorithm. The performance of DPSO is significantly affected by the control parameter such as inertia weight. The new inertia weight based on hamming distance is presented in this paper in order to improve the searching ability of DPSO. Make span, mean flow time, and reliability cost are performance criteria used to assess the effectiveness of the proposed DPSO algorithm for scheduling independent tasks on heterogeneous computing systems. Simulations are carried out based on benchmark ETC instances to evaluate the performance of the …', '', '', 'Heterogeneous computing system has become necessary in real time for providing a massive amount of computational resources to execute large‐scale complex applications. An efficient scheduling policy is needed to allocate the available resources to the users in the distributed heterogeneous environment. Task scheduling (TS) problem is one of the challenging issues in the distributed environment. Heuristics/metaheuristic methods have been used to solve such problems in order to obtain a near‐optimal solution within a finite duration. Particle swarm optimization (PSO) is a Swarm Intelligence (SI) based metaheuristic algorithm, does not have any evolutionary operators like selection, crossover, and mutation, and so is computationally inexpensive when compared to other evolutionary algorithms. In general, SI‐based algorithms are designed to address the continuous optimization problem. TS is one …'], ['Mass detection is a critical process in the examination of mammograms. The shape and texture of the mass are key parameters used in the diagnosis of breast cancer. To recover the shape of the mass, semantic segmentation is found to be more useful rather than mere object detection (or) localization. The main challenges involved in the mass segmentation include:(a) low signal to noise ratio (b) indiscernible mass boundaries, and (c) more false positives. These problems arise due to the significant overlap in the intensities of both the normal parenchymal region and the mass region. To address these challenges, deeply supervised U-Net model (DS U-Net) coupled with dense conditional random fields (CRFs) is proposed. Here, the input images are preprocessed using CLAHE and a modified encoder-decoder-based deep learning model is used for segmentation. In general, the encoder captures the textual information of various regions in an input image, whereas the decoder recovers the spatial location of the desired region of interest. The encoderdecoder-based models lack the ability to recover the non-conspicuous and spiculated mass boundaries. In the proposed work, deep supervision is integrated with a popular encoder-decoder model (U-Net) to improve the attention of the network toward the boundary of the suspicious regions. The final segmentation map is also created as a linear combination of the intermediate feature maps and the output feature map. The dense CRF is then used to finetune the segmentation map for the recovery of definite edges. The DS U-Net with dense CRF is evaluated on two publicly available benchmark …', \"Increase in the usage of smart phones increases the burden for the users to memorize many passwords. It has also increased the need for stronger or enhanced authentication mechanisms. Littlemore innovation labs are providing paperless solution for conducting examinations using touch pad that is believed to be a promising technology in future. This paper explores the suitability of using touch dynamics as an additional level of security during authentication. Both security and performance concerns are investigated. A security application developed can be used on a touch screen device capable of imitating someone's typing characteristics. When the user starts interacting with the device, the developed application starts capturing the behavioural features given by the user's swipe. Thirty different features are captured, from which, most prominent features are identified by depending on the usefulness of the …\", 'Computer Aided Detection plays a crucial role in the early detection of deadly diseases such as cancer (or) tumor. Pathology and radiology images form the core of tumor diagnosis. Pathology images provide clinical information about the tissues whereas the radiology images can be used for locating the lesions. This work aims at proposing a classification model which categorizes the tumor as oligodendroglioma (benign tumors) (or) astrocytoma (Malignant tumors) using features of both the radiology and pathology images. Dataset from MICCAI Computational Precision Medicine Challenge is used for model building. The proposed model uses dedicated workflows for processing the pathology and radiology images. The feature descriptors of the images are obtained using pre-trained Inception v3 model. The resulting vectors are then used as input to the linear SVM (Support Vector Machine) classification model …', '', '', '', 'Recently computer vision and NLP based techniques have been employed for document layout analysis where different types of elements in the document and their relative position are identified. This process is trickier as there are blocks which are structurally similar but semantically different such as title, text etc. This works attempts to use region-based CNN architecture (F-RCNN) for determining five different sections in the scientific articles. To improve the performance of detection algorithm, reading order is used as an additional feature and this model is known as MF-RCNN. First, an algorithm is formulated to find the reading order in documents which adopts Manhattan-layout using a color-coding scheme. Secondly, this information is fused with the input image without changing its shape. Experimental results show that MF-RCNN which uses the reading order performs better when compared with F-RCNN when …'], ['Getting higher occurrence of cybercrimes by means of hacking, identity theft, and network security violations necessitates a robust system for resolving these issues. For the new era of IT, using conventional user authentication methods like providing login IDs, passwords /PIN and other two-factor authentication methods are fading to offer the required level of security required. Since biometrics come forward as an efficient alternative technique to provide security. Keystroke and typing dynamics uses behavioral characteristics like typing rhythms of a person for authentication. This protection method effortlessly integrates with the existing environment and it could be scaled across the web also. This technology is will be getting promoted in the upcoming years because of its non-invasiveness, unobtrusiveness and low deployment cost. Thereby security of the physical and logical access can be improved. This proposed technique acts as a supplementary security layer besides the traditional user IDs & passwords/PIN, most organizations are making supplementary investments in keystroke and typing dynamics to ensure a more robust user authentication system.', \"Increase in the usage of smart phones increases the burden for the users to memorize many passwords. It has also increased the need for stronger or enhanced authentication mechanisms. Littlemore innovation labs are providing paperless solution for conducting examinations using touch pad that is believed to be a promising technology in future. This paper explores the suitability of using touch dynamics as an additional level of security during authentication. Both security and performance concerns are investigated. A security application developed can be used on a touch screen device capable of imitating someone's typing characteristics. When the user starts interacting with the device, the developed application starts capturing the behavioural features given by the user's swipe. Thirty different features are captured, from which, most prominent features are identified by depending on the usefulness of the …\", '', '', 'The Researchers focused on SCADA intrusion detection since many organizations demand public network connectivity. By their very nature, SCADA systems necessitate special considerations and detection processes. Several of these research concentrate on intrusion detection in general, as well as SCADA-specific solutions. In contemporary network-and host-based intrusion detection systems, physical measurements are used. There is no universal classification for detecting hyperphysical incursions (IDSs). The combination of physical and network measures outperforms each one alone.', '', 'Grid Computing refers to the combination of computer resources from multiple administrative domains to reach a common goal. Grids which are a form of distributed computing contains collection of resources that are available for an application to perform tasks. The resources in the grid are generally heterogeneous, geometrically dispersed and belong to different administrative domains. The important criterion in the grid computing is that resource sharing should be transparent, secure and better coordinated. In a typical heterogeneous user system such as in online trading, security is a major concern in terms of authentication, integrity of message and confidentiality. In the present work, secure group communication is ensured to the authenticated users by effective key distributions that are serviced by the resource. Trigon based algorithm has been used for multiple key distributions and has been demonstrated for …'], ['', 'In this paper, we have used ECG signal for secure key exchange between two nodes of the same Body Sensor Network (BSN). InterPulsed Interval (IPI) of the ECG signal is considered as a biometric characteristic for key generation because of its high randomness, time variance properties and also to avoid interference between the other BSNs. The body sensor node to base station (PDA or Laptop) communication has been secured using the symmetric cryptographic algorithm AES and integrity is checked by using the Message Authentication Code (MAC). Steganography is used for securing the data transfer between base station and medical server. In this work, we have embedded the medical data (Blood Pressure) within the patients’ facial image. The face image is selected as a cover image in order to provide authentication. The pixel positions for embedding the medical data are determined by fixing a threshold level (120-126). This threshold value is chosen so as to have high random distribution throughout the image. The results have been shown using MATLAB 7.8. 0.', 'Solid waste management is an essential task to be carried out in day-to-day life. So an automated recognition system using deep learning algorithm has been implemented to classify wastes as biodegradable and non-biodegradable. Efficient segregation of solid wastes helps to reduce the amount of waste buried in the ground, thereby improving the recycling rate, and safeguards the soil from pollution.', 'Background. Automation in cardiac arrhythmia classification helps medical professionals make accurate decisions about the patient’s health.Objectives. The aim of this work was to design a hybrid classification model to classify cardiac arrhythmias.Material and methods. The design phase of the classification model comprises the following stages: preprocessing of the cardiac signal by eliminating detail coefficients that contain noise, feature extraction through Daubechies wavelet transform, and arrhythmia classification using a collaborative decision from the K nearest neighbor classifier (KNN) and a support vector machine (SVM). The proposed model is able to classify 5 arrhythmia classes as per the ANSI/AAMI EC57: 1998 classification standard. Level 1 of the proposed model involves classification using the KNN and the classifier is trained with examples from all classes. Level 2 involves classification using an SVM and is trained specifically to classify overlapped classes. The final classification of a test heartbeat pertaining to a particular class is done using the proposed KNN/SVM hybrid model.Results. The experimental results demonstrated that the average sensitivity of the proposed model was 92.56%, the average specificity 99.35%, the average positive predictive value 98.13%, the average F-score 94.5%, and the average accuracy 99.78%.Conclusions. The results obtained using the proposed model were compared with the results of discriminant, tree, and KNN classifiers. The proposed model is able to achieve a high classification accuracy.', 'Embedding the original high dimensional data in a low dimensional space helps to overcome the curse of dimensionality and removes noise. The aim of this work is to evaluate the performance of three different linear dimensionality reduction techniques (DR) techniques namely principal component analysis (PCA), multi dimensional scaling (MDS) and linear discriminant analysis (LDA) on classification of cardiac arrhythmias using probabilistic neural network classifier (PNN). The design phase of classification model comprises of the following stages: preprocessing of the cardiac signal by eliminating detail coefficients that contain noise, feature extraction through daubechies wavelet transform, dimensionality reduction through linear DR techniques specified, and arrhythmia classification using PNN. Linear dimensionality reduction techniques have simple geometric representations and simple computational properties. Entire MIT-BIH arrhythmia database is used for experimentation. The experimental results demonstrates that combination of PNN classifier (spread parameter, σ = 0.08) and PCA DR technique exhibits highest sensitivity and F score of 78.84% and 78.82% respectively with a minimum of 8 dimensions.', 'Heart disease increases the mortality rate in the recent years across the world. So it is necessary to develop a model to predict the heart disease occurrence as early as possible with higher rate of accuracy. In this study, the cardiovascular disease is predicted by non-invasive method with the retinal image data. In this system, the retinal fundus image data are used to predict the heart disease occurrence. Cardiovascular disease can be detected from the changes in microvasculature, which is imaged from retina. The prediction of a disease is by considering features like age, gender, smoking status, systolic blood pressure, diastolic blood pressure, and HbA1c. Risk factors for heart disease occurrence are detected from the microvasculature of segmented retinal fundus image using MATLAB. The main objective of the proposed system is to predict the occurrence of heart disease from retinal fundus image with higher …', 'People with chronic illnesses, such as cardiovascular disease, stroke, and diabetes, can be continuously monitored with the help of remote patient monitoring (RPM) systems. The major concern in RPM systems, which were developed to monitor cardiac patients, is identification of the correct arrhythmia class from the electrocardiogram signal. Existing arrhythmia classification techniques report low accuracy for a few arrhythmia classes due to class overlap and class imbalance problems. Arrhythmias are classified into five classes: nonectopic beat (N), supraventricular ectopic beat (S), ventricular ectopic beat (V), fusion beat (F), and unknown beat (Q) by ANSI/AAMI EC57: 2012 standard. The algorithms used for arrhythmia classification incorporate preprocessing, feature extraction, and classification. Classification becomes complicated when class overlap and class imbalance problems occur together. The …', \"Automation in arrhythmia classification helps medical professionals to make accurate decisions upon the patient's health. Classification becomes complicated when class overlapping and class imbalance problem occurs together. The aim of this work is to improve the arrhythmia classification accuracy. Proposed methodology consists of fisher discriminant ratio based feature ranking stage and anomaly detection based training sample selection stage followed by classification using probabilistic neural network classifier. As per the recommendations of the Association for the Advancement of Medical Instrumentation, five arrhythmia classes were classified. The proposed method resulted in average sensitivity, positive predictive value and F Score of 95.37%, 98.35% and 96.72%, respectively. The experimental results revealed that: (1) Selected non-overlapping features were able to better discriminate arrhythmia …\", 'The electricity load required for the forthcoming years are predetermined by means of power system planning. Accuracy is the crucial factor that must be taken care of in the power system planning. Electricity is generally volatile, that is it changes and hence appropriate estimation must be done without leading to overestimation or underestimation. The aim of the project is to do appropriate power estimation with the help of the economic factors. The 9 input factors used are GDP, industry, imports, CO2 emission, exports, services, manufacturing, population, per capita consumption. The proposed methodology is done by means of Neural Network concept and Wavelet Analysis. Regression Analysis is also performed and the comparisons are done using Fuzzy Logic. The nonlinear model, Artificial Neural Network and the Wavelet Analysis are found to be more accurate and effective.', 'People with chronic illnesses such as cardiovascular disease, stroke, and diabetes can be continuously monitored with the help of Remote Patient Monitoring (RPM) systems. RPM is a form of telehealth that uses small sensor nodes to collect medical data from remote patients and telecommunications to deliver the collected data to healthcare systems. The sensor nodes that are wearable or implanted in a patient’s body constitute the medical Body Area Sensor Network (BASN). These sensors transmit the collected data wirelessly to the master node located on the patient’s body. The master node forward the data to a centralized repository, where the diagnosis of arrhythmia class is performed and alerts are sent to healthcare providers. This chapter focuses on securing the inter-sensor communication in Wireless BASN (WBASN) by agreeing upon a symmetric cryptographic key using electrocardiogram signals. An …'], ['The Internet, web consumers and computing systems have become more vulnerable to cyber-attacks. Malicious uniform resource locator (URL) is a prominent cyber-attack broadly used with the intention of data, money or personal information stealing. Malicious URLs comprise phishing URLs, spamming URLs, and malware URLs. Detection of malicious URL and identification of their attack type are important to thwart such attacks and to adopt required countermeasures. The proposed methodology for detection and categorization of malicious URLs uses stacked restricted Boltzmann machine for feature selection with deep neural network for binary classification. For multiple classes, IBK-kNN, Binary Relevance, and Label Powerset with SVM are used for classification. The approach is tested with 27700 URL samples and the results demonstrate that the deep learning-based feature selection and classification …', 'Smartphones usage have become ubiquitous in modern life serving as a double-edged sword with opportunities and challenges in it. Along with the benefits, smartphones also have high exposure to malware. Malware has progressively penetrated thereby causing more turbulence. Malware authors have become increasingly sophisticated and are able to evade detection by anti-malware engines. This has led to a constant arms race between malware authors and malware defenders. This survey converges on Android malware and covers a walkthrough of the various obfuscation attacks deployed during malware analysis phase along with the myriad of adversarial attacks operated at malware detection phase. The review also unscrambles the difficulties currently faced in deploying an on-device, lightweight malware detector. It sheds spotlight for researchers to perceive the current state of the art techniques available to fend off malware along with suggestions on possible future directions', 'As 5G transitions from an industrial vision to a tangible, next-generation mobile technology, security remains key business driver. Heterogeneous environment, new networking paradigms and novel use cases makes 5G vulnerable to new security threats. This in turn necessitates a flexible and dependable security mechanism. End-to-End (E2E) data protection provides better security, avoids repeated security operations like encryption/decryption and provides differentiated security based on the services. E2E security deals with authentication, integrity, key management and confidentiality. The attack surface of a 5G system is larger as 5G aims for a heterogeneous networked society. Hence attack resistance needs to be a design consideration when defining new 5G protocols. This framework has been designed for accessing the manifold applications with high security and trust by offering E2E security for various …', 'Recent security attack reports show that the number of malware attacks is gradually growing over the years due to the rapid adoption of smart healthcare systems. The development of a safe and secure smart healthcare system is considered to be important from a security point of view. Malware detection is an essential subsystem in healthcare ecosystems to secure the system from malware attacks. The literature survey shows that malware detection is done using deep learning with either portable executable (PE)-Header or PE-Imports or PE-Image or application programming interface (API) calls. However, each of these feature sets is important in PE files to boost the malware detection rate. This work proposes a Multi-View attention-based deep learning framework for malware detection by considering features of PE-Header, PE-Imports, PE-Image, and API calls. Detailed evaluation and experimental analysis of …', \"Mobile phones have crawled into our lives with such rapidity and have reformed our lives in a short span. Malware is entangled with all forms of mobile applications causing havoc and distress. State of the art malware detection systems have exercised learning-based techniques successfully to discriminate benign contents from malware. But, Machine Learning (ML) models are vulnerable to adversarial samples and are not intrinsically robust against adversarial attacks. The adversarial samples generated against ML models degrade the model's performance. Adversarial attacks are utilized by malware authors to hinder the working of ML-based malware detection approaches. This article coheres into the effects of evasion attacks on an anti-malware engine utilizing a feed forward deep neural network model. Experiments on Android malware apps is explored by structuring a comprehensive feature engineering …\", 'Explainable Artificial Intelligence (XAI) techniques serve to bridge the gap between Learning based technique’s predictive performance and the model interpretability. In clinical domain, XAI is crucial for healthcare services deploying learning based techniques to retain patient’s trust and being accountable. Learning based techniques are susceptible to adversarial attacks which causes the model to misclassify. The article attempts to exercise XAI techniques as a measure to detect the effectiveness of the perturbations crafted by adversarial attacks on the trained model during run time. Frontline XAI techniques are explored to observe the possible perturbations crafted by Carlini and Wagner (CW) adversarial attack on a Recurrent Neural Network (RNN) trained using clinical informatics retrieved from Electronic Medical Records (EMR) for the binary classification task of Lung Cancer detection. The results manifest the …', 'Selvaganapathy, ShymalaGowriSadasivam, SudhaTechnological advancements along with the surge of high-speed Internet has enabled healthcare organizations (HCO) to provide enhanced medical treatment and better patient support. Equivalently, cybercriminals are lured by the sensitive patient data available which urges them to launch attacks to their benefits. Artificial intelligence systems involving machine learning and deep learning techniques are progressively utilized for medical diagnosis and predictions. Attackers try to disrupt the working of the learning techniques to cause misclassification or launch privacy attacks. Attackers daunt the health sector to seek personally identifiable information (PII) causing Health Insurance Portability and Accountability Act (HIPAA) violation. These attacks can have severe effects in a critical clinical environment. This article tries to detail on the possibility of adversarial …', 'Analytical models are automated with the method of machine learning, a predominant evolution of artificial intelligence. In health care, the availability of data is high, so is the need to extract the knowledge from it, for effective diagnosis, treatment, etc. This chapter deals with heart disease, which is considered to be an obvious reason for the increase in mortality rate. A method to detect the presence of heart disease in a cost-effective way becomes essential. The algorithms considered are K-nearest neighbors, decision tree, support vector machine, random forest, and multilayer perceptron. The performances of these algorithms are analyzed and the best algorithm for heart disease prediction is identified. The results show that the machine learning algorithms work well for heart disease prediction and the model is trained by applying different algorithms. Each algorithm works on the model to fit and trains the model …', 'Malware authors focus on deceiving and evading Anti Malware Engines (AME). Evasion attacks take in malware samples and modify those samples to by-pass ml based AME. Existing learning based anti-malware solutions are either too limited or insufficient to neutralize the threats arising from evasion attacks. This has necessitated a more comprehensive and robust solution. This research attempts to develop a secure learning framework entitled, damroc. The objective is to shield anti-malware entities against evasion attacks by making use of an adaptive adversarial training framework with novel retraining sample selector, (DAM-ROC OR) for dnn based learners. Usage of bnn along with possible quantification of predictive uncertainties is adapted. This generic framework, DAM-ROC is evaluated on benchmarked Android and Windows datasets to explore necessary trade-off between performance and robustness …', \"Data leakage is the intentional or unintended transmission of stable or personal data to outside recipient. Such leakage in mobile community increases the chance of compilation. Hence encryption and storage of the secure data must be accomplished by usage of a few techniques. Federated learning (FL), which falls under distributed machine learning, helps preserve clients’ private data on various device as the centralized model receives only weight updates. Sensitive private data is open for access by analyzing submitted attributes from clients using techniques like weights developed in deep neural networks. To effectively preserve statistics from leakage, this study analyzes a novel framework using differential privacy (DP), in which synthetic noises are provided to parameters on the customers' side prior to aggregation, FLAG noise (FL with noise aggregated).The system analyses the dataset consisting of …\"], ['Heart disease is one of the major reason for increase in the death rate. Healthcare is one amongst the most important beneficiaries of huge knowledge & analytics. Extracting medical data is progressively becoming more and more necessary for prediction and treatment of high death rate due to heart attack. Terabytes of data are produced every day. Quality services are needed to avoid poor clinical decisions that lead to disastrous consequences. The Hospitals can make use of appropriate decision support systems thus minimizing the cost of clinical tests. Now-a-day hospitals employ hospital information systems to manage the patient data. Enormous amount of data generated by health care industry is not effectively used. Some new approach is necessary to decrease the expense and to predict the heart disease in an easy. The objective of this paper is to analyze various research works done on heart diseases …', 'An Emotion can be identified by various activities of a person. A human can express their feelings or Emotions in different ways. Emotions are classified into different types like happy, disgust, anger and so on. Emotions can be detected or identified in variety of ways. Emotion can be recognized by body gestures, EEG signals, face images, text and so on. A survey or review is made on identifying the human emotions using EEG signals with help of Machine Learning and Deep Learning Techniques. In this paper, a review is done to find the best algorithms for finding an Emotion of a person by analyzing various Machine Learning and Deep Learning algorithms with the help of previous papers.', '', 'Emotions are complex phenomena that play significant roles in the quality of human life. Emotion plays a major role in motivation, perception, cognition, creativity, attention, learning and decision-making. A major problem in understanding emotion is the assessment of the definition of emotions. According to the WHO, every year, almost one million people die from suicide. Suicide is a leading cause of death among teenagers and adults. Existing techniques uses simple', \"Research on consumer behavior has become essential in recent years as it plays an important role in business marketing and growth. Consumers are the king of the market. For-profit organizations cannot function without customers. All the activities of the company end with the consumer and their satisfaction. Consumer behavior is the study of consumers and how they choose or eliminate products. This theory extends not only to products but also to services consumed. To develop a framework for studying consumer behavior, first look at the factors that influence consumer buying behavior, as well as the various thinking paradigms that have influenced the progress and discipline of consumer research. Modeling customer behavior is nothing more than creating a mathematical structure to map the general behavior of a particular customer group. This is done to predict how consumers will react in a particular situation. The purpose of the survey is to better understand consumer behavior by examining the factors that influence the consumer's purchasing process. The main purpose of studying consumer behavior is to understand how consumers feel and think. Building a recommendation engine is another application for studying consumer behavior. The recommendation engine basically recommends several products based on a variety of factors, including previous purchases by consumers, age, etc. It's a kind of data filtering tool that uses machine learning algorithms to recommend the most relevant items to a particular customer. The purpose of this paper is to analyze consumer segmentation and sentiment regarding product reviews and build a …\", \"Chronic Kidney Disease (CKD) or Chronic Kidney Failure is the increasing impairment of the kidney's ability to function normally. Chronic Kidney Disease is induced primarily due to high blood pressure, diabetes, hypertension, and several other factors in particular smoking, obesity, heart disease, heredity, consumption of alcohol, usage of drugs, age, race, ethnicity, etc. In India and other developing nations, chronic diseases remain a leading cause of mortality. The number of casualties in India owing to chronic disease was anticipated to be 5.21 million in 2008 and is likely to increase from over 7.63 million by 2020. There are five distinct stages of disease development in which each stage increases in severity while as it advances between stage 1 and stage 5. Stage 1 is when a person's kidney function falls below normal. As the affected individuals it goes ahead into step 2, they may experience a mild to moderate loss of renal functions. The worsening condition escalates in level 3, where there is a moderate to average deterioration in the nephrological operation followed by acute damage in the functioning of the excretory system in stage 4. Stage 5 is the absolute collapsing of the urinary organs.(Almustafa, 2021).The massive increase in the amount of medical data available to predict the disease has raised the question of being effectively classified, managed, and transferred. To extract useful insight and knowledge from this raw data, effective ways are required. Data mining techniques are a dependable and pragmatic way of accomplishing this. Data mining is the process for processing massive amounts of data and extracting\", \"Human beings express emotions in multiple ways. Some common ways that emotions are expressed are through writing, speech, facial expression, body language or gesture. In general, it is believed that emotions are, first and foremost, internal feelings and experience. Speech is a powerful form of communication that is accompanied by the speaker's emotions. Specific prosodic signs, such as pitch variation, frequency, speech speed, rhythm, and voice quality, are accessible to speakers to express and listeners to interpret and decode the full spoken message. This paper aims to establish an affective model based speech emotion recognition system using deep learning techniques such as RNNwith LSTMon German and English Language datasets.\", 'Recognizing speech emotions is a formidable challenge due to the complexity of emotions. The function of Speech Emotion Recognition (SER) is significantly impacted by the effects of emotional signals retrieved from speech. The majority of emotional traits, on the other hand, are sensitive to emotionally neutral elements like the speaker, speaking manner, and gender. In this work, we postulate that computing deltas for individual features maintain useful information which is mainly relevant to emotional traits while it minimizes the loss of emotionally irrelevant components, thus leading to fewer misclassifications. Additionally, Speech Emotion Recognition (SER) commonly experiences silent and emotionally unrelated frames. The proposed technique is quite good at picking up important feature representations for emotion relevant features. So here is a two dimensional convolutional recurrent neural network that is attention-based to learn distinguishing characteristics and predict the emotions. The Mel-spectrogram is used for feature extraction. The suggested technique is conducted on IEMOCAP dataset and it has better performance, with 68% accuracy value.', '', '', '', '', '', '', '', 'Software fault prediction is the process of identifying the faulty modules in software, which plays a major role in the quality of the software. In this paper a hybrid classifier is proposed for software fault prediction. This proposed hybrid classifier is a combination of Linear Discriminant Analysis (LDA) and Neural Network (NN). NASA’s public datasets KC1 and PC1 available at promise software engineering repository are used to test the proposed model. Here apart from the existing features of the dataset, LDA score is introduced as an additional feature for the neural network classifier. The proposed hybrid classifier LDA-NN shows improvement in accuracy of prediction, which plays a vital role to improve the quality of soft wares in future.'], ['In recent years, cloud computing has evolved as an effective, proactive and widely accepted technology. Scalability is an important characteristic to the success of enterprises involved in doing business with cloud. Auto scaling has the ability to scale up or down the cloud resources based on demand. As Auto-scaling provides better fault tolerance, better availability and cost management, it improves an organization’s service level agreements. Most of the cloud service providers implement simplistic reactive autoscaling where resource availability is modified as a reaction to predefined threshold value set. However calculating the exact number of resources to scale up is a challenging task and hence to be addressed efficiently. The other issues arising with respect to auto scaling in cloud is handling dynamic number of requests from time to time with efficient usage of existing resources, adapting a combination of …', \"In today’s world driver drowsiness is a major reason for fatal accidents of on road vehicles. Developing an automated, real-time drowsiness detection system is essential to provide accurate and timely alerts to the driver. In the proposed system, hybrid approach of CNN (Convolutional Neural Network) and BiLSTM (Bidirectional Long Term Dependencies) is used to detect the driver’s drowsiness. Video camera is used to track the facial image and eye blinks of the driver. The proposed system works in three main phases: In the First phase, driver's face image is Identified and observed using a web camera. In the Second phase, the eye image features are extracted using the Euclidean algorithm. During the third phase, the eye blinks are continually monitored. The final stage decides whether the measure in eye square is closed state or open state. When a driver falls asleep, there will be a warning message to alert the …\", 'Cloud computing refers to the delivery of computing resources over the network based on user demand. Some web applications may experience different workload at different times, automatic provisioning needs to work efficiently and viably at any point of time. Autoscaling is a feature of cloud computing that has the capability to scale the resources according to demand. Autoscaling provides better fault tolerance, availability and cost management. Although Autoscaling is beneficial, it is not easy to implement. Effective Autoscaling requires techniques to foresee future workload as well as the resources needed to handle the workload. Reactive Autoscaling strategy adds or reduces resources based on threshold set. The predictive strategy is used to address the issues like rapid spike in demand, outages and variable traffic patterns from web applications by providing necessary scaling actions beforehand. In the …', 'Among various deployment models, Hybrid cloud is the preferred model allowing customers to maximize cost savings and performance by leveraging advantage of quick provisioning capabilities of public cloud. However, due to vast diversity of cloud services, today’s struggle for the customers is to evaluate and discover the best fit Cloud Service Provider (CSP) for an efficient Virtual Machine (VM) provisioning in various hybrid cloud contracts of multi cloud environment. Currently there is no framework that allows customers to evaluate CSPs based on application workload, application environment and employ an budget optimized VM provisioning with dynamically varying factors while adhering to Service Level Agreement (SLA). Hence, the proposed VM Provisioning framework is a Multi Criteria Decision-Making (MCDM) model with an objective to provision the VMs from the well suited CSP in hybrid cloud. The …', 'As 5G transitions from an industrial vision to a tangible, next-generation mobile technology, security remains key business driver. Heterogeneous environment, new networking paradigms and novel use cases makes 5G vulnerable to new security threats. This in turn necessitates a flexible and dependable security mechanism. End-to-End (E2E) data protection provides better security, avoids repeated security operations like encryption/decryption and provides differentiated security based on the services. E2E security deals with authentication, integrity, key management and confidentiality. The attack surface of a 5G system is larger as 5G aims for a heterogeneous networked society. Hence attack resistance needs to be a design consideration when defining new 5G protocols. This framework has been designed for accessing the manifold applications with high security and trust by offering E2E security for various …', \"One of the key problem in hybrid cloud is to discover well matched cloud provider to scale up applications irrespective of their non-standardized naming technologies. No framework has been developed to monitor and recommend VM flavor for the period of autoscale in hybrid cloud based on utilization history. In the existing scenario, administrators manually consider heterogeneous sets of criteria and resource relationships to map cloud service providers for user's preferences in hybrid environment. Flavor selection remains constant irrespective of application's resource usage in hybrid cloud which results in under utilization. The proposed framework will fill the gap by monitoring applications and recommending flavor to adjust capacity of resources at low possible cost while maintaining stability and predictable performance. The framework a) Predicts future workload using deep learning technique Recurrent Neural …\", '', 'In this paper, we present a sensor-based wearable assistive gadget to help visually impaired individuals stroll without anyone’s help through the roads. The principle segments of the framework are microcontroller board, ultrasonic sensors, flame sensor, and GSM and GPS modules. The proposed framework utilizes a lot of sensors to follow the way and alert the user of impediments before them. The user is alerted by vibrations on different fingers based on the direction of the obstacle, which is useful when the user is in the noisy environment and has hearing misfortune. In addition, the flame sensor is utilized to distinguish the fire in the environment and caution the visually impaired individual through vibration. When the emergency button is pressed, the system alerts the blind individual’s concerned persons with the system location that is sent as a message. The prototype model developed for the proposed …', 'Web applications are the most prevalent applications of today‟ s technology. They are typically characterized by IT resource requisites that fluctuate with usage, predictably or unpredictably. Failure to respond will impact customer satisfaction. Autoscaling is a feature of cloud computing that has the ability to scale up the cloud resources according to demand. It provides better availability, cost and fault tolerance. In the existing scenario, reactive autoscaling is used where the system reacts to changes and scale up the resources when there is a demand. The proposed system uses predictive autoscaling approach to predict future resource requisites in order to ascertain adequate resource are available ahead of time. The system uses a deep learning technique termed Recurrent Neural Network with Long Short Term Memory (RNN-LSTM) to predict the future demand based on the historical data. The predicted result is integrated with an OpenStack open source cloud platform to perform predictive autoscaling.'], ['Brain tumor and brain stroke are two important causes of death in and around the world. The abnormalities in brain cell leads to brain stroke and obstruction in blood flow to brain cells leads to brain stroke. In this article, a computer aided automatic methodology is proposed to detect and segment ischemic stroke in brain MRI images using Adaptive Neuro Fuzzy Inference (ANFIS) classifier. The proposed method consists of preprocessing, feature extraction and classification. The brain image is enhanced using Heuristic histogram equalization technique. Then, texture and morphological features are extracted from the preprocessed image. These features are optimized using Genetic Algorithm and trained and classified using ANFIS classifier. The performance of the proposed ischemic stroke detection system is analyzed in terms of sensitivity, specificity, accuracy, positive predictive value, negative predictive value …', '', 'In this paper, a fuzzy logic–based jamming detection algorithm (FLJDA) is proposed to detect the presence of jamming in downstream data communication for cluster‐based wireless sensor networks. The proposed FLJDA keeps an eye on the existing nodes and new node to determine their behavior by applying fuzzy logic on measured jamming detection metrics. To monitor the behavior of the nodes, the FLJDA computes the jamming detection metrics, namely, packet delivery ratio and received signal strength indicator. The major features of this paper are the following: (1) The jamming detection algorithm is specifically implemented for downstream data communication, (2) cluster head estimates jamming detection metrics for detecting the jamming unlike the existing algorithms where individual nodes explicitly collect the jamming detection metrics, and (3) the proposed algorithm optimizes the jamming detection …', 'Brain tumor classification and retrieval system plays an important role in medical field. In this paper, an efficient Glioma Brain Tumor detection and its retrieval system is proposed. The proposed methodology consists of two modules as classification and retrieval. The classification modules are designed using preprocessing, feature extraction and tumor detection techniques using Co‐Active Adaptive Neuro Fuzzy Inference System (CANFIS) classifier. The image enhancement can be achieved using Heuristic histogram equalization technique as preprocessing and further texture features as Local Ternary Pattern (LTP) features and Grey Level Co‐occurrence Matrix (GLCM) features are extracted from the enhanced image. These features are used to classify the brain image into normal and abnormal using CANFIS classifier. The tumor region in abnormal brain image is segmented using normalized graph cut …', 'Many cloud service providers offer access to versatile, dependable processing assets following a compensation as-you-go display. Investigation into the security of the cloud focusses basically on shielding genuine clients of cloud administrations from assaults by outer, vindictive clients. Little consideration is given to restrict malicious clients from utilizing the cloud to dispatch assaults, for example, those as of now done by botnets. These assaults incorporate propelling a DDoS attack, sending spam and executing click extortion. Bots’ detection in the cloud environment is a complex process. The purpose of this study was to create a multi-layered architecture that could detect a variety of existing and emerging botnets. The goal is to be able to detect a larger range of bots and botnets by relying on several techniques called trust model. On this work, the port access verification in trust model is achieved by a Heuristic factorizing algorithm which verifies the port accessibility between client-end-user and client server. Further, back-off features are extracted from the particular node and all these structures are trained and categorized with a Co-Active Neuro Fuzzy Expert System (CANFES) classifier. The performance of the proposed bot detection system in the internet environment is analyzed latency, detection rate, packet delivery ration, energy availability and precision.', 'This paper develops a lung nodule detection mechanism using the proposed sine cosine Sail Fish (SCSF) based generative adversarial network (GAN). However, the proposed SCSF-based GAN is designed by integrating the sine cosine algorithm with the SailFish optimizer, respectively. By using pre-processing, lung nodule segmentation, feature extraction, lung cancer detection, and severity level classification methods detection and classification are performed. The pre-processed computed tomography (CT) image is fed to the lung nodule segmentation phase, where the CT image is segmented into different sub-images to exactly detect the abnormal region. The segmented result after segmentation is fed to the feature extraction phase, where the features like mean, variance, entropy and hole entropy, are extracted from the nodule region. The affected regions are accurately detected using the loss function …', 'This paper introduces an approach for the VM migration based on optimization algorithm, named CS in cloud. The provider to be selected is carried out with the usage of multiple constraints, like delay, bandwidth, cost, and load. Subsequently, the effective searching criteria are computed for finding the optimal service on the basis of fitness constraints. The searching criteria are formulated as optimization problems, which are tackled using CS. The proposed CS is designed by integrating CSO with the SSA such that the fitness function is evaluated for the optimal VM migration by considering several parameters, such as delay, cost, bandwidth, and load. Thus, the cloud manager will perform the migration of VM in cloud based on proposed CS-based VM migration approach. The performance of the CS-based VM migration is evaluated in terms of delay, cost, and load. The proposed CS-based VM migration method …', 'This article detects the brain tumour automatically by computer assisted method. This proposed module consists of four divisions namely image registration, Shift-Invariant Shearlet Transform (SIST), feature extraction and classification of tumor. The features from transformed MR brain image is trained first and then it is classified using CANFIS algorithm to distinguish the abnormal tumor affected MR brain images and the normal MR brain images. The tumor affected abnormal portion in the brain MR images is segmented by using morphological operations. The efficiency of the proposed method is evaluated and compared both qualitatively and quantitatively and the values attained for sensitivity is 94.8%, specificity is 98.9% and accuracy is 98.1%.', 'Diabetic Retinopathy (DR) stays a main source of vision deterioration around world and it is getting exacerbated day by day. Almost no warning signs for detecting DR which will be greater challenge with us today. So, it is extremely preferred that DR has to be discovered on time. Adversely, the existing result involves an ophthalmologist to manually check and identify DR by positioning the exudates related with vascular irregularity due to diabetes from fundus image. In this work, we are able to classify images based on different severity levels through an automatic DR classification system. To extract specific features of image without any loss in spatial information, a Convolutional Neural Network (CNN) models which possesses an image with a distinct weight matrix is used. In the beginning, we estimate various CNN models to conclude the best performing CNN for DR classification with an objective to obtain much …', 'Brain tumor and stroke are two important causes of death in and around the world. Tumor classification and retrieval system plays a vital role in medical field. Tumor detection, segmentation and MR imaging seizures are a major concern, although it can be a daunting and tedious task for clinical specialists, the accuracy of which depends solely on their experience. In this article, the neuro fuzzy with binary cuckoo search optimization method is proposed for detecting tumors on MR images. The method has four stages. In the first step, raw MR images are pre‐processed by the anisotropic filter, and in the second phase, the removal of the skull is classified by type. The third phase involves the functioning of singular value decomposition and principle component analysis. Finally, the NFBCS method is used to detect and classify tumors and the BCS algorithm optimizes the study model for better classification accuracy.', 'Wireless Sensor Networks (WSNs) consist of a set of small devices, called the sensor nodes, with sensing and wireless communication capabilities. They are used in many applications such as military, ecological, and health-related areas. WSNs may include certain constraints like low computation capability, limited energy resources, small memory and poor resilience to physical capture. Also, sensor nodes are mostly deployed in potentially adverse or even in hostile environment. These constraints and issues make security in WSNs a challenge. So, efficient key distribution and management schemes are must. To address the trade-off between above listed constraints and security, many key establishment techniques have been established. In this paper, the need for cryptographic schemes in key management and a comparison study between symmetric key and public key cryptographic schemes has been presented. Also, a survey on various key management schemes and a brief comparison among them is depicted. It is noticed that no key distribution technique is ideal to all scenarios where WSNs are used and the techniques employed should depend upon the requirements of the target applications and resources of each individual sensor network.', 'The Kidney stones (KDS) are the most normal issues in the universe that humans are affected with a high pain and also need an emergency diagnosis. To detect the KDS in an early stage for diagnosis, there are several imaging techniques are provided. For a perfect imaging, the Computer-aided diagnosis (CAD) methods are performed as auxiliary tools to for the support during KDS diagnosis. The computed tomography (CT) images are recently used for an exact diagnosis of KDS. But in the CT images, the prediction accuracy is less with the usage of traditional techniques. Therefore, the deep learning (DL) methods are well versed on handling such images with a greater accuracy. In this paper, the combination of DL methods to perform a both feature extraction and the classification for KDS detection is presented. The feature is extracted with the DL method of Visual Geometry Group network 19 (VGN-19) which is based on convolutional neural network (CNN). Then the classification is done by the Binary Support Vector Machine classifier (SVM) to build a binary model. Thus the proposed model is named as a Hybrid Deep VGN-19 and Binary SVM (HDVS) which is an efficient in the disease prediction with a performance metric of of Recall, precision, accuracy, specificity and F1 score respectively. These performances of proposed HDVS method are compared with the prior advance methods in DL approaches such as Alexnet, GoogleNet, ResNet and SqueezeNet.', 'Machine learning is one of the technologies coming to help the deployment of smart cities in all phases. The diagnosis is a crucial phase that comes to ensure the implementation of a project adapted to the reality of the city diagnosed; this step requires a significant financial commitment. This paper comes to deploy a frugal diagnostic approach of the smart environment component while using self-learning techniques. In addition, assessments are reported and regulatory maturity with respect to this new concept is explored through machine learning. In the near future machine, learning will play a crucial role in the implementation of this kind of concept.', '', '', 'The organization offensives are extending day by day and hence securing of organization resources from assorted sorts of ambushes to be particular DDoS, Botnet, spam attack, Root attacks, etc., is imperative. So guaranteeing the organization resources from these ambushes is uncommonly basic. Association guidelines are a set of procedures, as the title prescribes, that point to discover association affiliations interior the information. Affiliation run the show up calculations can be characterized to search for consecutive plans. The techniques of information securing and integration, and cleverness checks are the preeminent basic to organization together rules. In orchestrate to find curiously rules from a large database, the highlights interior the record is lessened by selecting the specified highlights which recognize the ordinary and particular assaults. The organize impedances dataset is collected of both …', 'Today, the majority of Internet applications rely on point-to-point transmission. The utilization of point-to-multipoint transmission has traditionally been limited to local area network applications. Over the past few years the internet has seen a rise in the number of new applications that rely on multicast transmission. Multicast IP conservers bandwidth by forcing the network to do packet replication only when necessary, and offers an attractive to unicast transmission for the delivery of network ticker tapes, live stock quotes, multiparty video conferencing and shared whiteboard applications (among others). It is important to note that the application for IP multicast are not only solely limited to the Internet. Multicast IP can also pay an important role in large distributed commercial networks. Recently, network coding has been applied to the reliable multicast in networks and also in content distribution network, where intermediate nodes between the source and the receivers of an end-to-end communication session are not only capable of relaying and replicating data messages, but also of coding incoming messages to produce coded outgoing ones. The basic idea behind network coding is the summation of incoming information traffic through simple XOR. It can be used to improve throughput, reduce the number of transmission, better network management, less BER, minimum delay, less resource consumption. Recent studies have shown that network coding is beneficial for peer to peer content distribution, since it eliminates the need for content reconciliation, and is highly resilient to peer failures. This paper aims to explore the basics of network coding and …', 'The efficiency by which a node of a vehicular ad hoc network (VANET) can route messages to destinations heavily depends on the VANET’s ability to keep track of the locations of its nodes (vehicles). Current location management schemes lack scalability and, hence, are proven unable to work in large scale networks. Therefore, location management in VANETs remains a major challenge. In this project a new concept of region-based location-service-management protocol (RLSMP) that uses mobility patterns as means to synthesize node movement is deployed in large VANET applications. The protocol attempts to relax the scalability issue suffered by other protocols (SLURP, XYLS, HLS) by employing message aggregation in location updating and in querying. Furthermore, due to the protocol’s intrinsic locality awareness, it achieves minimum control overhead. The process is implemented by using hexagonal shape topology and increasing the mobility of the network, the mobility of the nodes are noted. The performance of the protocol is compared with that of other prominent location management protocols through graphs.'], ['', 'Ontologies formal specifications of domain knowledge play an imperative role in the semantic web and are developed by several domain experts in the biomedical field. Ontology alignment or mapping is the process of identifying correspondences among the concepts in the ontology to facilitate data integration between heterogeneous data sources. In particular, the proposed ontology mapping system addresses two pivotal issues: 1) to facilitate the automated alignment process by incorporating random forests (RF), an ensemble learning system that is stable for outliers; 2) to improve the execution time by partitioning the ontologies using cluster-walktrap methodology and identify the correspondence between the concepts in parallel. The performance of the system is pragmatically evaluated on benchmark datasets in the anatomy and large biomedical ontology tracks of the OAEI 2013 and 2014. With the aid of the …', \"Lung cancer is a serious type of cancer, leading to increased mortality to death in both men and women as the symptoms are noticed only at later stages. Life span of individuals' may be extended if lung cancer is detected in its early stages. One of the imaging modalities used to diagnose lung cancer is computed tomography (CT). A nodule or mass is a small abnormal growth observed in a lung CT scan that, in most cases, may turn out to be benign. A computer‐aided system is essential to help physicians in precisely diagnosing the disease. The main objective of this work is to detect and classify the nodules in the lung CT scan images as benign or malignant. A context‐aware attention UNET architecture is proposed to segment the nodule from the lung CT scan image. Further, the segmented nodule is classified as benign or malignant using a Convolutional Neural Network architecture. The experiments are …\", 'The COVID-19 pandemic has caused unprecedented upshot reporting around 234 million people affected worldwide. This alarming effect has led to the shortage of testing kits in many countries consequently having an impact on mortality. To combat this issue, other means for detecting the infected patients have to be put in place rather than relying on polymerase chain reaction (PCR). Radiographs are the easiest way to diagnose a patient with COVID-19 or not. This research work aims in developing a Computer-aided diagnostic system to assist radiologists in the detection of the COVID-19 virus. The proposed work builds a deep learning model with Convolutional Neural Network as its baseline architecture. Due to limitations in the number of the dataset, this work uses transfer learning techniques to exploit the benefit of pre-trained models and generalize it for COVID-19 detection. Experimentation is done using 4 different models like VGG 19, MobileNet, DenseNet and InceptionResNetV2. The performance of these pre-trained models is evaluated by changing the optimizers and initializers. The covid19-radiography-database dataset used for experimentation consists of 3568, 1345 and 1164 COVID-19, pneumonia and standard chest X-ray images respectively. It is observed from the experiments that the MobileNet architecture reports the highest accuracy of 99.67% using RandomUniform initializer and Adam optimizer.', '', 'Abstract Computer Aided Detection plays a crucial role in the early detection of deadly diseases such as cancer (or) tumor. Pathology and radiology images form the core of tumor diagnosis. Pathology images provide clinical information about the tissues whereas the radiology images can be used for locating the lesions. This work aims at proposing a classification model which categorizes the tumor as oligodendroglioma (benign tumors)(or) astrocytoma (Malignant tumors) using features of both the radiology and pathology images. Dataset from MICCAI Computational Precision Medicine Challenge is used for model building. The proposed model uses dedicated workflows for processing the pathology and radiology images. The feature descriptors of the images are obtained using pre-trained Inception v3 model. The resulting vectors are then used as input to the linear SVM (Support Vector Machine) classification model. The SVM model provided an accuracy of 75% on the blind folded test dataset provided in the competition.', 'The Web is proliferated with huge amount of data through newlinevarious data sources. To retrieve useful information from the Web, data has newlineto be collected from different data sources. The current search engines, newlineretrieve data from multiple data sources and provide users with mere newlinedocuments. The semantic web, an extension of the current web, facilitates the newlinemachines to process and interpret the data intelligently, rather than providing newlinemere documents. The advent of XML paved a way for the standardization of newlinedata representation in the web. Semantic data integration is the process of newlineinterrelating data from diverse data sources that enable effective integration newlineand reuse of information.Ontology, which is developed by several domain experts is a newlineformal specification of domain knowledge and it plays an imperative role in newlinethe semantic …', '', '', '', '', '', ''], ['Publishing History: Print issues of Reflections magazine were published from 1975 to 1999 and its successor, Reflections on Nursing Leadership (RNL) began publication in 2000. RNL migrated to an online format, http://www.reflectionsonnursingleadership.org, in 2006 and continues today. RNL is a member benefit of the Honor Society of Nursing, Sigma Theta Tau International (STTI). The historical print issues have been made openly available. Publishing Frequency: Quarterly until its transition to online. It’s now updated virtually every day. Format: Print, 1975 - 2005; Online, 2006 - present Feature Articles in this Issue: The Politics of Health Policy Formulation Virginia Henderson Audrey Hepburn This issue of Reflections is twenty-three pages in length and contains information of interest to STTI members.']]\n"
          ]
        }
      ],
      "source": [
        "print(description)"
      ]
    },
    {
      "cell_type": "code",
      "execution_count": null,
      "metadata": {
        "id": "RpZz0Sio0Vr7"
      },
      "outputs": [],
      "source": [
        "# key_words = []\n",
        "# for i in link:\n",
        "#   k =[]\n",
        "#   for j in i:\n",
        "#     ke = []\n",
        "#     if 'springer' in j:\n",
        "#       response = requests.get(j)\n",
        "#       soup = BeautifulSoup(response.text, \"html.parser\")\n",
        "#       p = soup.find_all(class_ = 'c-article-subject-list')\n",
        "#       key = p[0].find_all('li')\n",
        "#       for m in key:\n",
        "#         ke.append(m.text)\n",
        "#     elif 'ir.psgtech.ac.in' in j:\n",
        "#       response = requests.get(j)\n",
        "#       soup = BeautifulSoup(response.text, \"html.parser\")\n",
        "#       p = soup.find_all(class_ = 'metadataFieldValue dc_subject')\n",
        "#       key = p[0].text\n",
        "#       ke = [s for s in re.split(\"([A-Z][^A-Z]*)\", key) if s]\n",
        "#     elif 'worldscientific.com' in j:\n",
        "#       response = requests.get(j)\n",
        "#       soup = BeautifulSoup(response.text, \"html.parser\")\n",
        "#       p = soup.find_all(class_ = 'hlFld-keywords')\n",
        "#       key = p[0].find_all('li')\n",
        "#       ke = []\n",
        "#       for m in key:\n",
        "#         ke.append(m.text)\n",
        "#     else:\n",
        "#       ke = []\n",
        "#     k.append(ke)\n",
        "#   key_words.append(k)"
      ]
    },
    {
      "cell_type": "code",
      "execution_count": null,
      "metadata": {
        "id": "uBhTBY4m4GcY"
      },
      "outputs": [],
      "source": [
        "def key_words(i):\n",
        "  key = []\n",
        "  for j in i:\n",
        "    ke = []\n",
        "    if j != []:\n",
        "      text = j\n",
        "      # load a spaCy model, depending on language, scale, etc.\n",
        "      nlp = spacy.load(\"en_core_web_sm\")\n",
        "      # add PyTextRank to the spaCy pipeline\n",
        "      nlp.add_pipe(\"textrank\")\n",
        "      doc = nlp(text)\n",
        "      # examine the top-ranked phrases in the document\n",
        "      for phrase in doc._.phrases[:10]:\n",
        "          ke.append(phrase.text)\n",
        "      key.append(ke)\n",
        "    else:\n",
        "      continue\n",
        "  return key"
      ]
    },
    {
      "cell_type": "code",
      "execution_count": null,
      "metadata": {
        "id": "sBJNKjyL5BEh",
        "colab": {
          "base_uri": "https://localhost:8080/",
          "height": 502
        },
        "outputId": "9ade5107-4bad-457c-afd6-3534cd33bd4d"
      },
      "outputs": [
        {
          "output_type": "error",
          "ename": "KeyError",
          "evalue": "ignored",
          "traceback": [
            "\u001b[0;31m---------------------------------------------------------------------------\u001b[0m",
            "\u001b[0;31mKeyError\u001b[0m                                  Traceback (most recent call last)",
            "\u001b[0;32m/usr/local/lib/python3.8/dist-packages/pandas/core/indexes/base.py\u001b[0m in \u001b[0;36mget_loc\u001b[0;34m(self, key, method, tolerance)\u001b[0m\n\u001b[1;32m   3360\u001b[0m             \u001b[0;32mtry\u001b[0m\u001b[0;34m:\u001b[0m\u001b[0;34m\u001b[0m\u001b[0;34m\u001b[0m\u001b[0m\n\u001b[0;32m-> 3361\u001b[0;31m                 \u001b[0;32mreturn\u001b[0m \u001b[0mself\u001b[0m\u001b[0;34m.\u001b[0m\u001b[0m_engine\u001b[0m\u001b[0;34m.\u001b[0m\u001b[0mget_loc\u001b[0m\u001b[0;34m(\u001b[0m\u001b[0mcasted_key\u001b[0m\u001b[0;34m)\u001b[0m\u001b[0;34m\u001b[0m\u001b[0;34m\u001b[0m\u001b[0m\n\u001b[0m\u001b[1;32m   3362\u001b[0m             \u001b[0;32mexcept\u001b[0m \u001b[0mKeyError\u001b[0m \u001b[0;32mas\u001b[0m \u001b[0merr\u001b[0m\u001b[0;34m:\u001b[0m\u001b[0;34m\u001b[0m\u001b[0;34m\u001b[0m\u001b[0m\n",
            "\u001b[0;32m/usr/local/lib/python3.8/dist-packages/pandas/_libs/index.pyx\u001b[0m in \u001b[0;36mpandas._libs.index.IndexEngine.get_loc\u001b[0;34m()\u001b[0m\n",
            "\u001b[0;32m/usr/local/lib/python3.8/dist-packages/pandas/_libs/index.pyx\u001b[0m in \u001b[0;36mpandas._libs.index.IndexEngine.get_loc\u001b[0;34m()\u001b[0m\n",
            "\u001b[0;32mpandas/_libs/hashtable_class_helper.pxi\u001b[0m in \u001b[0;36mpandas._libs.hashtable.PyObjectHashTable.get_item\u001b[0;34m()\u001b[0m\n",
            "\u001b[0;32mpandas/_libs/hashtable_class_helper.pxi\u001b[0m in \u001b[0;36mpandas._libs.hashtable.PyObjectHashTable.get_item\u001b[0;34m()\u001b[0m\n",
            "\u001b[0;31mKeyError\u001b[0m: 'description'",
            "\nThe above exception was the direct cause of the following exception:\n",
            "\u001b[0;31mKeyError\u001b[0m                                  Traceback (most recent call last)",
            "\u001b[0;32m<ipython-input-21-c0800af0278e>\u001b[0m in \u001b[0;36m<module>\u001b[0;34m\u001b[0m\n\u001b[0;32m----> 1\u001b[0;31m \u001b[0mdf\u001b[0m\u001b[0;34m[\u001b[0m\u001b[0;34m'key_words'\u001b[0m\u001b[0;34m]\u001b[0m \u001b[0;34m=\u001b[0m \u001b[0mdf\u001b[0m\u001b[0;34m[\u001b[0m\u001b[0;34m'description'\u001b[0m\u001b[0;34m]\u001b[0m\u001b[0;34m.\u001b[0m\u001b[0mapply\u001b[0m\u001b[0;34m(\u001b[0m\u001b[0;32mlambda\u001b[0m \u001b[0mx\u001b[0m\u001b[0;34m:\u001b[0m \u001b[0mkey_words\u001b[0m\u001b[0;34m(\u001b[0m\u001b[0mx\u001b[0m\u001b[0;34m)\u001b[0m\u001b[0;34m)\u001b[0m\u001b[0;34m\u001b[0m\u001b[0;34m\u001b[0m\u001b[0m\n\u001b[0m",
            "\u001b[0;32m/usr/local/lib/python3.8/dist-packages/pandas/core/frame.py\u001b[0m in \u001b[0;36m__getitem__\u001b[0;34m(self, key)\u001b[0m\n\u001b[1;32m   3456\u001b[0m             \u001b[0;32mif\u001b[0m \u001b[0mself\u001b[0m\u001b[0;34m.\u001b[0m\u001b[0mcolumns\u001b[0m\u001b[0;34m.\u001b[0m\u001b[0mnlevels\u001b[0m \u001b[0;34m>\u001b[0m \u001b[0;36m1\u001b[0m\u001b[0;34m:\u001b[0m\u001b[0;34m\u001b[0m\u001b[0;34m\u001b[0m\u001b[0m\n\u001b[1;32m   3457\u001b[0m                 \u001b[0;32mreturn\u001b[0m \u001b[0mself\u001b[0m\u001b[0;34m.\u001b[0m\u001b[0m_getitem_multilevel\u001b[0m\u001b[0;34m(\u001b[0m\u001b[0mkey\u001b[0m\u001b[0;34m)\u001b[0m\u001b[0;34m\u001b[0m\u001b[0;34m\u001b[0m\u001b[0m\n\u001b[0;32m-> 3458\u001b[0;31m             \u001b[0mindexer\u001b[0m \u001b[0;34m=\u001b[0m \u001b[0mself\u001b[0m\u001b[0;34m.\u001b[0m\u001b[0mcolumns\u001b[0m\u001b[0;34m.\u001b[0m\u001b[0mget_loc\u001b[0m\u001b[0;34m(\u001b[0m\u001b[0mkey\u001b[0m\u001b[0;34m)\u001b[0m\u001b[0;34m\u001b[0m\u001b[0;34m\u001b[0m\u001b[0m\n\u001b[0m\u001b[1;32m   3459\u001b[0m             \u001b[0;32mif\u001b[0m \u001b[0mis_integer\u001b[0m\u001b[0;34m(\u001b[0m\u001b[0mindexer\u001b[0m\u001b[0;34m)\u001b[0m\u001b[0;34m:\u001b[0m\u001b[0;34m\u001b[0m\u001b[0;34m\u001b[0m\u001b[0m\n\u001b[1;32m   3460\u001b[0m                 \u001b[0mindexer\u001b[0m \u001b[0;34m=\u001b[0m \u001b[0;34m[\u001b[0m\u001b[0mindexer\u001b[0m\u001b[0;34m]\u001b[0m\u001b[0;34m\u001b[0m\u001b[0;34m\u001b[0m\u001b[0m\n",
            "\u001b[0;32m/usr/local/lib/python3.8/dist-packages/pandas/core/indexes/base.py\u001b[0m in \u001b[0;36mget_loc\u001b[0;34m(self, key, method, tolerance)\u001b[0m\n\u001b[1;32m   3361\u001b[0m                 \u001b[0;32mreturn\u001b[0m \u001b[0mself\u001b[0m\u001b[0;34m.\u001b[0m\u001b[0m_engine\u001b[0m\u001b[0;34m.\u001b[0m\u001b[0mget_loc\u001b[0m\u001b[0;34m(\u001b[0m\u001b[0mcasted_key\u001b[0m\u001b[0;34m)\u001b[0m\u001b[0;34m\u001b[0m\u001b[0;34m\u001b[0m\u001b[0m\n\u001b[1;32m   3362\u001b[0m             \u001b[0;32mexcept\u001b[0m \u001b[0mKeyError\u001b[0m \u001b[0;32mas\u001b[0m \u001b[0merr\u001b[0m\u001b[0;34m:\u001b[0m\u001b[0;34m\u001b[0m\u001b[0;34m\u001b[0m\u001b[0m\n\u001b[0;32m-> 3363\u001b[0;31m                 \u001b[0;32mraise\u001b[0m \u001b[0mKeyError\u001b[0m\u001b[0;34m(\u001b[0m\u001b[0mkey\u001b[0m\u001b[0;34m)\u001b[0m \u001b[0;32mfrom\u001b[0m \u001b[0merr\u001b[0m\u001b[0;34m\u001b[0m\u001b[0;34m\u001b[0m\u001b[0m\n\u001b[0m\u001b[1;32m   3364\u001b[0m \u001b[0;34m\u001b[0m\u001b[0m\n\u001b[1;32m   3365\u001b[0m         \u001b[0;32mif\u001b[0m \u001b[0mis_scalar\u001b[0m\u001b[0;34m(\u001b[0m\u001b[0mkey\u001b[0m\u001b[0;34m)\u001b[0m \u001b[0;32mand\u001b[0m \u001b[0misna\u001b[0m\u001b[0;34m(\u001b[0m\u001b[0mkey\u001b[0m\u001b[0;34m)\u001b[0m \u001b[0;32mand\u001b[0m \u001b[0;32mnot\u001b[0m \u001b[0mself\u001b[0m\u001b[0;34m.\u001b[0m\u001b[0mhasnans\u001b[0m\u001b[0;34m:\u001b[0m\u001b[0;34m\u001b[0m\u001b[0;34m\u001b[0m\u001b[0m\n",
            "\u001b[0;31mKeyError\u001b[0m: 'description'"
          ]
        }
      ],
      "source": [
        "df['key_words'] = df['description'].apply(lambda x: key_words(x))"
      ]
    },
    {
      "cell_type": "code",
      "execution_count": null,
      "metadata": {
        "id": "vAtGM8nt4kDd"
      },
      "outputs": [],
      "source": [
        "df['publication_date'] = publication_date\n",
        "df['conference'] = conference\n",
        "df['publisher'] = publisher\n",
        "df['description'] = description\n",
        "df['link'] = link\n",
        "# df['key_words'] = key_words"
      ]
    },
    {
      "cell_type": "code",
      "execution_count": null,
      "metadata": {
        "colab": {
          "base_uri": "https://localhost:8080/",
          "height": 547
        },
        "id": "G0PbOCrh5GCd",
        "outputId": "01c5268c-a28c-4de0-9b7a-de09e93579f3"
      },
      "outputs": [
        {
          "output_type": "execute_result",
          "data": {
            "text/plain": [
              "                           name  \\\n",
              "0              Geetha Ganapathi   \n",
              "1          sai sundara Krishnan   \n",
              "2  Muthukrishnan, Senthil Kumar   \n",
              "3            MOHANRAJ NATARAJAN   \n",
              "4                   Shina Sheen   \n",
              "\n",
              "                                           interests  \\\n",
              "0        ['Pattern Recognition', 'Machine Learning']   \n",
              "1  ['OpeartionTopology', 'Digital Topology and So...   \n",
              "2  ['Retrial Queue', 'Queueing Theory', 'Communic...   \n",
              "3  ['Software Engineering', 'OOAD', 'Agile Softwa...   \n",
              "4  ['Malware detection', 'Network security', 'Dat...   \n",
              "\n",
              "                                        affiliations  \\\n",
              "0             Professor, P S G College of Technology   \n",
              "1  Professor,Department of Applied Mathematics an...   \n",
              "2  Professor of Applied Mathematics and Computati...   \n",
              "3                                Associate Professor   \n",
              "4  Associate Professor, PSG College of Technology...   \n",
              "\n",
              "                                      cited_by_graph  \\\n",
              "0  [{'year': 2014, 'citations': 2}, {'year': 2015...   \n",
              "1  [{'year': 2004, 'citations': 12}, {'year': 200...   \n",
              "2  [{'year': 2009, 'citations': 1}, {'year': 2010...   \n",
              "3                                                NaN   \n",
              "4  [{'year': 2009, 'citations': 1}, {'year': 2010...   \n",
              "\n",
              "                                       article_title  \\\n",
              "0  ['A fuzzy hybrid framework for offline signatu...   \n",
              "1  ['A similarity measure of intuitionistic fuzzy...   \n",
              "2  ['On the single server Batch Arrival Retrial Q...   \n",
              "3  ['Distributed Pair Programming: A Survey', 'In...   \n",
              "4  ['Android based malware detection using a mult...   \n",
              "\n",
              "                              article_published_year  \\\n",
              "0  ['QbdPMtIAAAAJ:u5HHmVD_uO8C', 'QbdPMtIAAAAJ:u-...   \n",
              "1  ['j5RFpaQAAAAJ:hC7cP41nSMkC', 'j5RFpaQAAAAJ:u5...   \n",
              "2  ['sh3pjU8AAAAJ:d1gkVwhDpl0C', 'sh3pjU8AAAAJ:9y...   \n",
              "3  ['Ln8nvagAAAAJ:u-x6o8ySG0sC', 'Ln8nvagAAAAJ:d1...   \n",
              "4  ['d0ptyhgAAAAJ:qjMakFHDy7sC', 'd0ptyhgAAAAJ:u5...   \n",
              "\n",
              "                                             authors  \\\n",
              "0  {'G Ganapathi, NV Kumar', 'G Ganapathi, N Reth...   \n",
              "1  {'R Parimelazhagan, N Nagaveni, S sundara Kris...   \n",
              "2  {'K Myilsamy, A Satheesh Kumar, SK Muthukrishn...   \n",
              "3  {'N Mohanraj, A Sankar, VS Kumaran', 'N Mohanr...   \n",
              "4  {'S Sheen, A Ramalingam', 'S Sheen, R Anitha, ...   \n",
              "\n",
              "                                            journals  \\\n",
              "0  ['Pattern Recognition and Machine Intelligence...   \n",
              "1  ['Applied Soft Computing 41 (41(2016)), 148–15...   \n",
              "2  ['Quality Technology and Quantitative Manageme...   \n",
              "3  ['International Journal of Engineering Researc...   \n",
              "4  ['Neurocomputing 151, 905-912, 2015', 'TENCON ...   \n",
              "\n",
              "                         citations                       h_index  \\\n",
              "0    {'all': 18, 'since_2018': 10}   {'all': 2, 'since_2018': 1}   \n",
              "1  {'all': 475, 'since_2018': 288}  {'all': 12, 'since_2018': 9}   \n",
              "2  {'all': 344, 'since_2018': 200}  {'all': 12, 'since_2018': 8}   \n",
              "3      {'all': 1, 'since_2018': 0}   {'all': 1, 'since_2018': 0}   \n",
              "4  {'all': 299, 'since_2018': 187}   {'all': 8, 'since_2018': 7}   \n",
              "\n",
              "                      i10_index  \\\n",
              "0   {'all': 1, 'since_2018': 1}   \n",
              "1  {'all': 13, 'since_2018': 8}   \n",
              "2  {'all': 14, 'since_2018': 7}   \n",
              "3   {'all': 0, 'since_2018': 0}   \n",
              "4   {'all': 6, 'since_2018': 6}   \n",
              "\n",
              "                                 Descrption_citation Unnamed: 12  \\\n",
              "0  [{'title': 'A fuzzy hybrid framework for offli...        [{}]   \n",
              "1                                               [{}]        [{}]   \n",
              "2                                               [{}]        [{}]   \n",
              "3  [{'title': 'Distributed Pair Programming: A Su...        [{}]   \n",
              "4  [{'title': 'Android based malware detection us...        [{}]   \n",
              "\n",
              "  publication_date conference publisher description link  \n",
              "0               []         []        []          []   []  \n",
              "1               []         []        []          []   []  \n",
              "2               []         []        []          []   []  \n",
              "3               []         []        []          []   []  \n",
              "4               []         []        []          []   []  "
            ],
            "text/html": [
              "\n",
              "  <div id=\"df-ab920d90-dae8-4a4b-a199-f9e93c3ed874\">\n",
              "    <div class=\"colab-df-container\">\n",
              "      <div>\n",
              "<style scoped>\n",
              "    .dataframe tbody tr th:only-of-type {\n",
              "        vertical-align: middle;\n",
              "    }\n",
              "\n",
              "    .dataframe tbody tr th {\n",
              "        vertical-align: top;\n",
              "    }\n",
              "\n",
              "    .dataframe thead th {\n",
              "        text-align: right;\n",
              "    }\n",
              "</style>\n",
              "<table border=\"1\" class=\"dataframe\">\n",
              "  <thead>\n",
              "    <tr style=\"text-align: right;\">\n",
              "      <th></th>\n",
              "      <th>name</th>\n",
              "      <th>interests</th>\n",
              "      <th>affiliations</th>\n",
              "      <th>cited_by_graph</th>\n",
              "      <th>article_title</th>\n",
              "      <th>article_published_year</th>\n",
              "      <th>authors</th>\n",
              "      <th>journals</th>\n",
              "      <th>citations</th>\n",
              "      <th>h_index</th>\n",
              "      <th>i10_index</th>\n",
              "      <th>Descrption_citation</th>\n",
              "      <th>Unnamed: 12</th>\n",
              "      <th>publication_date</th>\n",
              "      <th>conference</th>\n",
              "      <th>publisher</th>\n",
              "      <th>description</th>\n",
              "      <th>link</th>\n",
              "    </tr>\n",
              "  </thead>\n",
              "  <tbody>\n",
              "    <tr>\n",
              "      <th>0</th>\n",
              "      <td>Geetha Ganapathi</td>\n",
              "      <td>['Pattern Recognition', 'Machine Learning']</td>\n",
              "      <td>Professor, P S G College of Technology</td>\n",
              "      <td>[{'year': 2014, 'citations': 2}, {'year': 2015...</td>\n",
              "      <td>['A fuzzy hybrid framework for offline signatu...</td>\n",
              "      <td>['QbdPMtIAAAAJ:u5HHmVD_uO8C', 'QbdPMtIAAAAJ:u-...</td>\n",
              "      <td>{'G Ganapathi, NV Kumar', 'G Ganapathi, N Reth...</td>\n",
              "      <td>['Pattern Recognition and Machine Intelligence...</td>\n",
              "      <td>{'all': 18, 'since_2018': 10}</td>\n",
              "      <td>{'all': 2, 'since_2018': 1}</td>\n",
              "      <td>{'all': 1, 'since_2018': 1}</td>\n",
              "      <td>[{'title': 'A fuzzy hybrid framework for offli...</td>\n",
              "      <td>[{}]</td>\n",
              "      <td>[]</td>\n",
              "      <td>[]</td>\n",
              "      <td>[]</td>\n",
              "      <td>[]</td>\n",
              "      <td>[]</td>\n",
              "    </tr>\n",
              "    <tr>\n",
              "      <th>1</th>\n",
              "      <td>sai sundara Krishnan</td>\n",
              "      <td>['OpeartionTopology', 'Digital Topology and So...</td>\n",
              "      <td>Professor,Department of Applied Mathematics an...</td>\n",
              "      <td>[{'year': 2004, 'citations': 12}, {'year': 200...</td>\n",
              "      <td>['A similarity measure of intuitionistic fuzzy...</td>\n",
              "      <td>['j5RFpaQAAAAJ:hC7cP41nSMkC', 'j5RFpaQAAAAJ:u5...</td>\n",
              "      <td>{'R Parimelazhagan, N Nagaveni, S sundara Kris...</td>\n",
              "      <td>['Applied Soft Computing 41 (41(2016)), 148–15...</td>\n",
              "      <td>{'all': 475, 'since_2018': 288}</td>\n",
              "      <td>{'all': 12, 'since_2018': 9}</td>\n",
              "      <td>{'all': 13, 'since_2018': 8}</td>\n",
              "      <td>[{}]</td>\n",
              "      <td>[{}]</td>\n",
              "      <td>[]</td>\n",
              "      <td>[]</td>\n",
              "      <td>[]</td>\n",
              "      <td>[]</td>\n",
              "      <td>[]</td>\n",
              "    </tr>\n",
              "    <tr>\n",
              "      <th>2</th>\n",
              "      <td>Muthukrishnan, Senthil Kumar</td>\n",
              "      <td>['Retrial Queue', 'Queueing Theory', 'Communic...</td>\n",
              "      <td>Professor of Applied Mathematics and Computati...</td>\n",
              "      <td>[{'year': 2009, 'citations': 1}, {'year': 2010...</td>\n",
              "      <td>['On the single server Batch Arrival Retrial Q...</td>\n",
              "      <td>['sh3pjU8AAAAJ:d1gkVwhDpl0C', 'sh3pjU8AAAAJ:9y...</td>\n",
              "      <td>{'K Myilsamy, A Satheesh Kumar, SK Muthukrishn...</td>\n",
              "      <td>['Quality Technology and Quantitative Manageme...</td>\n",
              "      <td>{'all': 344, 'since_2018': 200}</td>\n",
              "      <td>{'all': 12, 'since_2018': 8}</td>\n",
              "      <td>{'all': 14, 'since_2018': 7}</td>\n",
              "      <td>[{}]</td>\n",
              "      <td>[{}]</td>\n",
              "      <td>[]</td>\n",
              "      <td>[]</td>\n",
              "      <td>[]</td>\n",
              "      <td>[]</td>\n",
              "      <td>[]</td>\n",
              "    </tr>\n",
              "    <tr>\n",
              "      <th>3</th>\n",
              "      <td>MOHANRAJ NATARAJAN</td>\n",
              "      <td>['Software Engineering', 'OOAD', 'Agile Softwa...</td>\n",
              "      <td>Associate Professor</td>\n",
              "      <td>NaN</td>\n",
              "      <td>['Distributed Pair Programming: A Survey', 'In...</td>\n",
              "      <td>['Ln8nvagAAAAJ:u-x6o8ySG0sC', 'Ln8nvagAAAAJ:d1...</td>\n",
              "      <td>{'N Mohanraj, A Sankar, VS Kumaran', 'N Mohanr...</td>\n",
              "      <td>['International Journal of Engineering Researc...</td>\n",
              "      <td>{'all': 1, 'since_2018': 0}</td>\n",
              "      <td>{'all': 1, 'since_2018': 0}</td>\n",
              "      <td>{'all': 0, 'since_2018': 0}</td>\n",
              "      <td>[{'title': 'Distributed Pair Programming: A Su...</td>\n",
              "      <td>[{}]</td>\n",
              "      <td>[]</td>\n",
              "      <td>[]</td>\n",
              "      <td>[]</td>\n",
              "      <td>[]</td>\n",
              "      <td>[]</td>\n",
              "    </tr>\n",
              "    <tr>\n",
              "      <th>4</th>\n",
              "      <td>Shina Sheen</td>\n",
              "      <td>['Malware detection', 'Network security', 'Dat...</td>\n",
              "      <td>Associate Professor, PSG College of Technology...</td>\n",
              "      <td>[{'year': 2009, 'citations': 1}, {'year': 2010...</td>\n",
              "      <td>['Android based malware detection using a mult...</td>\n",
              "      <td>['d0ptyhgAAAAJ:qjMakFHDy7sC', 'd0ptyhgAAAAJ:u5...</td>\n",
              "      <td>{'S Sheen, A Ramalingam', 'S Sheen, R Anitha, ...</td>\n",
              "      <td>['Neurocomputing 151, 905-912, 2015', 'TENCON ...</td>\n",
              "      <td>{'all': 299, 'since_2018': 187}</td>\n",
              "      <td>{'all': 8, 'since_2018': 7}</td>\n",
              "      <td>{'all': 6, 'since_2018': 6}</td>\n",
              "      <td>[{'title': 'Android based malware detection us...</td>\n",
              "      <td>[{}]</td>\n",
              "      <td>[]</td>\n",
              "      <td>[]</td>\n",
              "      <td>[]</td>\n",
              "      <td>[]</td>\n",
              "      <td>[]</td>\n",
              "    </tr>\n",
              "  </tbody>\n",
              "</table>\n",
              "</div>\n",
              "      <button class=\"colab-df-convert\" onclick=\"convertToInteractive('df-ab920d90-dae8-4a4b-a199-f9e93c3ed874')\"\n",
              "              title=\"Convert this dataframe to an interactive table.\"\n",
              "              style=\"display:none;\">\n",
              "        \n",
              "  <svg xmlns=\"http://www.w3.org/2000/svg\" height=\"24px\"viewBox=\"0 0 24 24\"\n",
              "       width=\"24px\">\n",
              "    <path d=\"M0 0h24v24H0V0z\" fill=\"none\"/>\n",
              "    <path d=\"M18.56 5.44l.94 2.06.94-2.06 2.06-.94-2.06-.94-.94-2.06-.94 2.06-2.06.94zm-11 1L8.5 8.5l.94-2.06 2.06-.94-2.06-.94L8.5 2.5l-.94 2.06-2.06.94zm10 10l.94 2.06.94-2.06 2.06-.94-2.06-.94-.94-2.06-.94 2.06-2.06.94z\"/><path d=\"M17.41 7.96l-1.37-1.37c-.4-.4-.92-.59-1.43-.59-.52 0-1.04.2-1.43.59L10.3 9.45l-7.72 7.72c-.78.78-.78 2.05 0 2.83L4 21.41c.39.39.9.59 1.41.59.51 0 1.02-.2 1.41-.59l7.78-7.78 2.81-2.81c.8-.78.8-2.07 0-2.86zM5.41 20L4 18.59l7.72-7.72 1.47 1.35L5.41 20z\"/>\n",
              "  </svg>\n",
              "      </button>\n",
              "      \n",
              "  <style>\n",
              "    .colab-df-container {\n",
              "      display:flex;\n",
              "      flex-wrap:wrap;\n",
              "      gap: 12px;\n",
              "    }\n",
              "\n",
              "    .colab-df-convert {\n",
              "      background-color: #E8F0FE;\n",
              "      border: none;\n",
              "      border-radius: 50%;\n",
              "      cursor: pointer;\n",
              "      display: none;\n",
              "      fill: #1967D2;\n",
              "      height: 32px;\n",
              "      padding: 0 0 0 0;\n",
              "      width: 32px;\n",
              "    }\n",
              "\n",
              "    .colab-df-convert:hover {\n",
              "      background-color: #E2EBFA;\n",
              "      box-shadow: 0px 1px 2px rgba(60, 64, 67, 0.3), 0px 1px 3px 1px rgba(60, 64, 67, 0.15);\n",
              "      fill: #174EA6;\n",
              "    }\n",
              "\n",
              "    [theme=dark] .colab-df-convert {\n",
              "      background-color: #3B4455;\n",
              "      fill: #D2E3FC;\n",
              "    }\n",
              "\n",
              "    [theme=dark] .colab-df-convert:hover {\n",
              "      background-color: #434B5C;\n",
              "      box-shadow: 0px 1px 3px 1px rgba(0, 0, 0, 0.15);\n",
              "      filter: drop-shadow(0px 1px 2px rgba(0, 0, 0, 0.3));\n",
              "      fill: #FFFFFF;\n",
              "    }\n",
              "  </style>\n",
              "\n",
              "      <script>\n",
              "        const buttonEl =\n",
              "          document.querySelector('#df-ab920d90-dae8-4a4b-a199-f9e93c3ed874 button.colab-df-convert');\n",
              "        buttonEl.style.display =\n",
              "          google.colab.kernel.accessAllowed ? 'block' : 'none';\n",
              "\n",
              "        async function convertToInteractive(key) {\n",
              "          const element = document.querySelector('#df-ab920d90-dae8-4a4b-a199-f9e93c3ed874');\n",
              "          const dataTable =\n",
              "            await google.colab.kernel.invokeFunction('convertToInteractive',\n",
              "                                                     [key], {});\n",
              "          if (!dataTable) return;\n",
              "\n",
              "          const docLinkHtml = 'Like what you see? Visit the ' +\n",
              "            '<a target=\"_blank\" href=https://colab.research.google.com/notebooks/data_table.ipynb>data table notebook</a>'\n",
              "            + ' to learn more about interactive tables.';\n",
              "          element.innerHTML = '';\n",
              "          dataTable['output_type'] = 'display_data';\n",
              "          await google.colab.output.renderOutput(dataTable, element);\n",
              "          const docLink = document.createElement('div');\n",
              "          docLink.innerHTML = docLinkHtml;\n",
              "          element.appendChild(docLink);\n",
              "        }\n",
              "      </script>\n",
              "    </div>\n",
              "  </div>\n",
              "  "
            ]
          },
          "metadata": {},
          "execution_count": 23
        }
      ],
      "source": [
        "df.head()"
      ]
    },
    {
      "cell_type": "code",
      "execution_count": null,
      "metadata": {
        "id": "Ken-RUMy6UUS"
      },
      "outputs": [],
      "source": [
        "df.to_csv('/content/drive/MyDrive/Sem 8/NLP/Hackathon_1/pre.csv')"
      ]
    },
    {
      "cell_type": "code",
      "execution_count": null,
      "metadata": {
        "id": "QywUy_-y5HVO",
        "colab": {
          "base_uri": "https://localhost:8080/"
        },
        "outputId": "2e607e69-3ac5-4864-ceda-a34e42ed833a"
      },
      "outputs": [
        {
          "output_type": "execute_result",
          "data": {
            "text/plain": [
              "['']"
            ]
          },
          "metadata": {},
          "execution_count": 25
        }
      ],
      "source": [
        "df['link'][4]"
      ]
    },
    {
      "cell_type": "markdown",
      "metadata": {
        "id": "KtwgLAEqzT6W"
      },
      "source": [
        "# Extract Key words"
      ]
    },
    {
      "cell_type": "code",
      "execution_count": null,
      "metadata": {
        "colab": {
          "base_uri": "https://localhost:8080/",
          "height": 547
        },
        "id": "CNpnX4gFzwUv",
        "outputId": "4aadf673-89c4-42dd-d8b3-3e7f6999fa0c"
      },
      "outputs": [
        {
          "output_type": "execute_result",
          "data": {
            "text/plain": [
              "                           name  \\\n",
              "0              Geetha Ganapathi   \n",
              "1          sai sundara Krishnan   \n",
              "2  Muthukrishnan, Senthil Kumar   \n",
              "3            MOHANRAJ NATARAJAN   \n",
              "4                   Shina Sheen   \n",
              "\n",
              "                                           interests  \\\n",
              "0        ['Pattern Recognition', 'Machine Learning']   \n",
              "1  ['OpeartionTopology', 'Digital Topology and So...   \n",
              "2  ['Retrial Queue', 'Queueing Theory', 'Communic...   \n",
              "3  ['Software Engineering', 'OOAD', 'Agile Softwa...   \n",
              "4  ['Malware detection', 'Network security', 'Dat...   \n",
              "\n",
              "                                        affiliations  \\\n",
              "0             Professor, P S G College of Technology   \n",
              "1  Professor,Department of Applied Mathematics an...   \n",
              "2  Professor of Applied Mathematics and Computati...   \n",
              "3                                Associate Professor   \n",
              "4  Associate Professor, PSG College of Technology...   \n",
              "\n",
              "                                      cited_by_graph  \\\n",
              "0  [{'year': 2014, 'citations': 2}, {'year': 2015...   \n",
              "1  [{'year': 2004, 'citations': 12}, {'year': 200...   \n",
              "2  [{'year': 2009, 'citations': 1}, {'year': 2010...   \n",
              "3                                                NaN   \n",
              "4  [{'year': 2009, 'citations': 1}, {'year': 2010...   \n",
              "\n",
              "                                       article_title  \\\n",
              "0  ['A fuzzy hybrid framework for offline signatu...   \n",
              "1  ['A similarity measure of intuitionistic fuzzy...   \n",
              "2  ['On the single server Batch Arrival Retrial Q...   \n",
              "3  ['Distributed Pair Programming: A Survey', 'In...   \n",
              "4  ['Android based malware detection using a mult...   \n",
              "\n",
              "                              article_published_year  \\\n",
              "0  ['QbdPMtIAAAAJ:u5HHmVD_uO8C', 'QbdPMtIAAAAJ:u-...   \n",
              "1  ['j5RFpaQAAAAJ:hC7cP41nSMkC', 'j5RFpaQAAAAJ:u5...   \n",
              "2  ['sh3pjU8AAAAJ:d1gkVwhDpl0C', 'sh3pjU8AAAAJ:9y...   \n",
              "3  ['Ln8nvagAAAAJ:u-x6o8ySG0sC', 'Ln8nvagAAAAJ:d1...   \n",
              "4  ['d0ptyhgAAAAJ:qjMakFHDy7sC', 'd0ptyhgAAAAJ:u5...   \n",
              "\n",
              "                                             authors  \\\n",
              "0  {'G Ganapathi, NV Kumar', 'G Ganapathi, N Reth...   \n",
              "1  {'R Parimelazhagan, N Nagaveni, S sundara Kris...   \n",
              "2  {'K Myilsamy, A Satheesh Kumar, SK Muthukrishn...   \n",
              "3  {'N Mohanraj, A Sankar, VS Kumaran', 'N Mohanr...   \n",
              "4  {'S Sheen, A Ramalingam', 'S Sheen, R Anitha, ...   \n",
              "\n",
              "                                            journals  \\\n",
              "0  ['Pattern Recognition and Machine Intelligence...   \n",
              "1  ['Applied Soft Computing 41 (41(2016)), 148–15...   \n",
              "2  ['Quality Technology and Quantitative Manageme...   \n",
              "3  ['International Journal of Engineering Researc...   \n",
              "4  ['Neurocomputing 151, 905-912, 2015', 'TENCON ...   \n",
              "\n",
              "                         citations                       h_index  \\\n",
              "0    {'all': 18, 'since_2018': 10}   {'all': 2, 'since_2018': 1}   \n",
              "1  {'all': 475, 'since_2018': 288}  {'all': 12, 'since_2018': 9}   \n",
              "2  {'all': 344, 'since_2018': 200}  {'all': 12, 'since_2018': 8}   \n",
              "3      {'all': 1, 'since_2018': 0}   {'all': 1, 'since_2018': 0}   \n",
              "4  {'all': 299, 'since_2018': 187}   {'all': 8, 'since_2018': 7}   \n",
              "\n",
              "                      i10_index  \\\n",
              "0   {'all': 1, 'since_2018': 1}   \n",
              "1  {'all': 13, 'since_2018': 8}   \n",
              "2  {'all': 14, 'since_2018': 7}   \n",
              "3   {'all': 0, 'since_2018': 0}   \n",
              "4   {'all': 6, 'since_2018': 6}   \n",
              "\n",
              "                                 Descrption_citation Unnamed: 12  \\\n",
              "0  [{'title': 'A fuzzy hybrid framework for offli...        [{}]   \n",
              "1                                               [{}]        [{}]   \n",
              "2                                               [{}]        [{}]   \n",
              "3  [{'title': 'Distributed Pair Programming: A Su...        [{}]   \n",
              "4  [{'title': 'Android based malware detection us...        [{}]   \n",
              "\n",
              "  publication_date conference publisher description link  \n",
              "0               []         []        []          []   []  \n",
              "1               []         []        []          []   []  \n",
              "2               []         []        []          []   []  \n",
              "3               []         []        []          []   []  \n",
              "4               []         []        []          []   []  "
            ],
            "text/html": [
              "\n",
              "  <div id=\"df-63bae686-d213-4f48-acc2-846e58a7d3c5\">\n",
              "    <div class=\"colab-df-container\">\n",
              "      <div>\n",
              "<style scoped>\n",
              "    .dataframe tbody tr th:only-of-type {\n",
              "        vertical-align: middle;\n",
              "    }\n",
              "\n",
              "    .dataframe tbody tr th {\n",
              "        vertical-align: top;\n",
              "    }\n",
              "\n",
              "    .dataframe thead th {\n",
              "        text-align: right;\n",
              "    }\n",
              "</style>\n",
              "<table border=\"1\" class=\"dataframe\">\n",
              "  <thead>\n",
              "    <tr style=\"text-align: right;\">\n",
              "      <th></th>\n",
              "      <th>name</th>\n",
              "      <th>interests</th>\n",
              "      <th>affiliations</th>\n",
              "      <th>cited_by_graph</th>\n",
              "      <th>article_title</th>\n",
              "      <th>article_published_year</th>\n",
              "      <th>authors</th>\n",
              "      <th>journals</th>\n",
              "      <th>citations</th>\n",
              "      <th>h_index</th>\n",
              "      <th>i10_index</th>\n",
              "      <th>Descrption_citation</th>\n",
              "      <th>Unnamed: 12</th>\n",
              "      <th>publication_date</th>\n",
              "      <th>conference</th>\n",
              "      <th>publisher</th>\n",
              "      <th>description</th>\n",
              "      <th>link</th>\n",
              "    </tr>\n",
              "  </thead>\n",
              "  <tbody>\n",
              "    <tr>\n",
              "      <th>0</th>\n",
              "      <td>Geetha Ganapathi</td>\n",
              "      <td>['Pattern Recognition', 'Machine Learning']</td>\n",
              "      <td>Professor, P S G College of Technology</td>\n",
              "      <td>[{'year': 2014, 'citations': 2}, {'year': 2015...</td>\n",
              "      <td>['A fuzzy hybrid framework for offline signatu...</td>\n",
              "      <td>['QbdPMtIAAAAJ:u5HHmVD_uO8C', 'QbdPMtIAAAAJ:u-...</td>\n",
              "      <td>{'G Ganapathi, NV Kumar', 'G Ganapathi, N Reth...</td>\n",
              "      <td>['Pattern Recognition and Machine Intelligence...</td>\n",
              "      <td>{'all': 18, 'since_2018': 10}</td>\n",
              "      <td>{'all': 2, 'since_2018': 1}</td>\n",
              "      <td>{'all': 1, 'since_2018': 1}</td>\n",
              "      <td>[{'title': 'A fuzzy hybrid framework for offli...</td>\n",
              "      <td>[{}]</td>\n",
              "      <td>[]</td>\n",
              "      <td>[]</td>\n",
              "      <td>[]</td>\n",
              "      <td>[]</td>\n",
              "      <td>[]</td>\n",
              "    </tr>\n",
              "    <tr>\n",
              "      <th>1</th>\n",
              "      <td>sai sundara Krishnan</td>\n",
              "      <td>['OpeartionTopology', 'Digital Topology and So...</td>\n",
              "      <td>Professor,Department of Applied Mathematics an...</td>\n",
              "      <td>[{'year': 2004, 'citations': 12}, {'year': 200...</td>\n",
              "      <td>['A similarity measure of intuitionistic fuzzy...</td>\n",
              "      <td>['j5RFpaQAAAAJ:hC7cP41nSMkC', 'j5RFpaQAAAAJ:u5...</td>\n",
              "      <td>{'R Parimelazhagan, N Nagaveni, S sundara Kris...</td>\n",
              "      <td>['Applied Soft Computing 41 (41(2016)), 148–15...</td>\n",
              "      <td>{'all': 475, 'since_2018': 288}</td>\n",
              "      <td>{'all': 12, 'since_2018': 9}</td>\n",
              "      <td>{'all': 13, 'since_2018': 8}</td>\n",
              "      <td>[{}]</td>\n",
              "      <td>[{}]</td>\n",
              "      <td>[]</td>\n",
              "      <td>[]</td>\n",
              "      <td>[]</td>\n",
              "      <td>[]</td>\n",
              "      <td>[]</td>\n",
              "    </tr>\n",
              "    <tr>\n",
              "      <th>2</th>\n",
              "      <td>Muthukrishnan, Senthil Kumar</td>\n",
              "      <td>['Retrial Queue', 'Queueing Theory', 'Communic...</td>\n",
              "      <td>Professor of Applied Mathematics and Computati...</td>\n",
              "      <td>[{'year': 2009, 'citations': 1}, {'year': 2010...</td>\n",
              "      <td>['On the single server Batch Arrival Retrial Q...</td>\n",
              "      <td>['sh3pjU8AAAAJ:d1gkVwhDpl0C', 'sh3pjU8AAAAJ:9y...</td>\n",
              "      <td>{'K Myilsamy, A Satheesh Kumar, SK Muthukrishn...</td>\n",
              "      <td>['Quality Technology and Quantitative Manageme...</td>\n",
              "      <td>{'all': 344, 'since_2018': 200}</td>\n",
              "      <td>{'all': 12, 'since_2018': 8}</td>\n",
              "      <td>{'all': 14, 'since_2018': 7}</td>\n",
              "      <td>[{}]</td>\n",
              "      <td>[{}]</td>\n",
              "      <td>[]</td>\n",
              "      <td>[]</td>\n",
              "      <td>[]</td>\n",
              "      <td>[]</td>\n",
              "      <td>[]</td>\n",
              "    </tr>\n",
              "    <tr>\n",
              "      <th>3</th>\n",
              "      <td>MOHANRAJ NATARAJAN</td>\n",
              "      <td>['Software Engineering', 'OOAD', 'Agile Softwa...</td>\n",
              "      <td>Associate Professor</td>\n",
              "      <td>NaN</td>\n",
              "      <td>['Distributed Pair Programming: A Survey', 'In...</td>\n",
              "      <td>['Ln8nvagAAAAJ:u-x6o8ySG0sC', 'Ln8nvagAAAAJ:d1...</td>\n",
              "      <td>{'N Mohanraj, A Sankar, VS Kumaran', 'N Mohanr...</td>\n",
              "      <td>['International Journal of Engineering Researc...</td>\n",
              "      <td>{'all': 1, 'since_2018': 0}</td>\n",
              "      <td>{'all': 1, 'since_2018': 0}</td>\n",
              "      <td>{'all': 0, 'since_2018': 0}</td>\n",
              "      <td>[{'title': 'Distributed Pair Programming: A Su...</td>\n",
              "      <td>[{}]</td>\n",
              "      <td>[]</td>\n",
              "      <td>[]</td>\n",
              "      <td>[]</td>\n",
              "      <td>[]</td>\n",
              "      <td>[]</td>\n",
              "    </tr>\n",
              "    <tr>\n",
              "      <th>4</th>\n",
              "      <td>Shina Sheen</td>\n",
              "      <td>['Malware detection', 'Network security', 'Dat...</td>\n",
              "      <td>Associate Professor, PSG College of Technology...</td>\n",
              "      <td>[{'year': 2009, 'citations': 1}, {'year': 2010...</td>\n",
              "      <td>['Android based malware detection using a mult...</td>\n",
              "      <td>['d0ptyhgAAAAJ:qjMakFHDy7sC', 'd0ptyhgAAAAJ:u5...</td>\n",
              "      <td>{'S Sheen, A Ramalingam', 'S Sheen, R Anitha, ...</td>\n",
              "      <td>['Neurocomputing 151, 905-912, 2015', 'TENCON ...</td>\n",
              "      <td>{'all': 299, 'since_2018': 187}</td>\n",
              "      <td>{'all': 8, 'since_2018': 7}</td>\n",
              "      <td>{'all': 6, 'since_2018': 6}</td>\n",
              "      <td>[{'title': 'Android based malware detection us...</td>\n",
              "      <td>[{}]</td>\n",
              "      <td>[]</td>\n",
              "      <td>[]</td>\n",
              "      <td>[]</td>\n",
              "      <td>[]</td>\n",
              "      <td>[]</td>\n",
              "    </tr>\n",
              "  </tbody>\n",
              "</table>\n",
              "</div>\n",
              "      <button class=\"colab-df-convert\" onclick=\"convertToInteractive('df-63bae686-d213-4f48-acc2-846e58a7d3c5')\"\n",
              "              title=\"Convert this dataframe to an interactive table.\"\n",
              "              style=\"display:none;\">\n",
              "        \n",
              "  <svg xmlns=\"http://www.w3.org/2000/svg\" height=\"24px\"viewBox=\"0 0 24 24\"\n",
              "       width=\"24px\">\n",
              "    <path d=\"M0 0h24v24H0V0z\" fill=\"none\"/>\n",
              "    <path d=\"M18.56 5.44l.94 2.06.94-2.06 2.06-.94-2.06-.94-.94-2.06-.94 2.06-2.06.94zm-11 1L8.5 8.5l.94-2.06 2.06-.94-2.06-.94L8.5 2.5l-.94 2.06-2.06.94zm10 10l.94 2.06.94-2.06 2.06-.94-2.06-.94-.94-2.06-.94 2.06-2.06.94z\"/><path d=\"M17.41 7.96l-1.37-1.37c-.4-.4-.92-.59-1.43-.59-.52 0-1.04.2-1.43.59L10.3 9.45l-7.72 7.72c-.78.78-.78 2.05 0 2.83L4 21.41c.39.39.9.59 1.41.59.51 0 1.02-.2 1.41-.59l7.78-7.78 2.81-2.81c.8-.78.8-2.07 0-2.86zM5.41 20L4 18.59l7.72-7.72 1.47 1.35L5.41 20z\"/>\n",
              "  </svg>\n",
              "      </button>\n",
              "      \n",
              "  <style>\n",
              "    .colab-df-container {\n",
              "      display:flex;\n",
              "      flex-wrap:wrap;\n",
              "      gap: 12px;\n",
              "    }\n",
              "\n",
              "    .colab-df-convert {\n",
              "      background-color: #E8F0FE;\n",
              "      border: none;\n",
              "      border-radius: 50%;\n",
              "      cursor: pointer;\n",
              "      display: none;\n",
              "      fill: #1967D2;\n",
              "      height: 32px;\n",
              "      padding: 0 0 0 0;\n",
              "      width: 32px;\n",
              "    }\n",
              "\n",
              "    .colab-df-convert:hover {\n",
              "      background-color: #E2EBFA;\n",
              "      box-shadow: 0px 1px 2px rgba(60, 64, 67, 0.3), 0px 1px 3px 1px rgba(60, 64, 67, 0.15);\n",
              "      fill: #174EA6;\n",
              "    }\n",
              "\n",
              "    [theme=dark] .colab-df-convert {\n",
              "      background-color: #3B4455;\n",
              "      fill: #D2E3FC;\n",
              "    }\n",
              "\n",
              "    [theme=dark] .colab-df-convert:hover {\n",
              "      background-color: #434B5C;\n",
              "      box-shadow: 0px 1px 3px 1px rgba(0, 0, 0, 0.15);\n",
              "      filter: drop-shadow(0px 1px 2px rgba(0, 0, 0, 0.3));\n",
              "      fill: #FFFFFF;\n",
              "    }\n",
              "  </style>\n",
              "\n",
              "      <script>\n",
              "        const buttonEl =\n",
              "          document.querySelector('#df-63bae686-d213-4f48-acc2-846e58a7d3c5 button.colab-df-convert');\n",
              "        buttonEl.style.display =\n",
              "          google.colab.kernel.accessAllowed ? 'block' : 'none';\n",
              "\n",
              "        async function convertToInteractive(key) {\n",
              "          const element = document.querySelector('#df-63bae686-d213-4f48-acc2-846e58a7d3c5');\n",
              "          const dataTable =\n",
              "            await google.colab.kernel.invokeFunction('convertToInteractive',\n",
              "                                                     [key], {});\n",
              "          if (!dataTable) return;\n",
              "\n",
              "          const docLinkHtml = 'Like what you see? Visit the ' +\n",
              "            '<a target=\"_blank\" href=https://colab.research.google.com/notebooks/data_table.ipynb>data table notebook</a>'\n",
              "            + ' to learn more about interactive tables.';\n",
              "          element.innerHTML = '';\n",
              "          dataTable['output_type'] = 'display_data';\n",
              "          await google.colab.output.renderOutput(dataTable, element);\n",
              "          const docLink = document.createElement('div');\n",
              "          docLink.innerHTML = docLinkHtml;\n",
              "          element.appendChild(docLink);\n",
              "        }\n",
              "      </script>\n",
              "    </div>\n",
              "  </div>\n",
              "  "
            ]
          },
          "metadata": {},
          "execution_count": 26
        }
      ],
      "source": [
        "df.head()"
      ]
    },
    {
      "cell_type": "code",
      "execution_count": null,
      "metadata": {
        "id": "uK0gEkXJuCHs"
      },
      "outputs": [],
      "source": [
        "response = requests.get('https://www.inderscienceonline.com/doi/abs/10.1504/IJBET.2012.052395')\n",
        "soup = BeautifulSoup(response.text, \"html.parser\")\n"
      ]
    },
    {
      "cell_type": "code",
      "execution_count": null,
      "metadata": {
        "id": "bti0KHy4ud3N",
        "colab": {
          "base_uri": "https://localhost:8080/"
        },
        "outputId": "66fba687-81d3-48b7-a620-bd103a62f590"
      },
      "outputs": [
        {
          "output_type": "execute_result",
          "data": {
            "text/plain": [
              "<!DOCTYPE html>\n",
              "\n",
              "<html lang=\"en-US\">\n",
              "<head>\n",
              "<title>Just a moment...</title>\n",
              "<meta content=\"text/html; charset=utf-8\" http-equiv=\"Content-Type\"/>\n",
              "<meta content=\"IE=Edge\" http-equiv=\"X-UA-Compatible\"/>\n",
              "<meta content=\"noindex,nofollow\" name=\"robots\"/>\n",
              "<meta content=\"width=device-width,initial-scale=1\" name=\"viewport\"/>\n",
              "<link href=\"/cdn-cgi/styles/challenges.css\" rel=\"stylesheet\"/>\n",
              "</head>\n",
              "<body class=\"no-js\">\n",
              "<div class=\"main-wrapper\" role=\"main\">\n",
              "<div class=\"main-content\">\n",
              "<h1 class=\"zone-name-title h1\">\n",
              "<img alt=\"Icon for www.inderscienceonline.com\" class=\"heading-favicon\" onerror=\"this.onerror=null;this.parentNode.removeChild(this)\" src=\"/favicon.ico\"/>\n",
              "            www.inderscienceonline.com\n",
              "        </h1>\n",
              "<h2 class=\"h2\" id=\"challenge-running\">\n",
              "            Checking if the site connection is secure\n",
              "        </h2>\n",
              "<noscript>\n",
              "<div id=\"challenge-error-title\">\n",
              "<div class=\"h2\">\n",
              "<span class=\"icon-wrapper\">\n",
              "<div class=\"heading-icon warning-icon\"></div>\n",
              "</span>\n",
              "<span id=\"challenge-error-text\">\n",
              "                        Enable JavaScript and cookies to continue\n",
              "                    </span>\n",
              "</div>\n",
              "</div>\n",
              "</noscript>\n",
              "<div id=\"trk_jschal_js\" style=\"display:none;background-image:url('/cdn-cgi/images/trace/managed/nojs/transparent.gif?ray=79831cad9cb0b93f')\"></div>\n",
              "<div class=\"core-msg spacer\" id=\"challenge-body-text\">\n",
              "            www.inderscienceonline.com needs to review the security of your connection before proceeding.\n",
              "        </div>\n",
              "<form action=\"/doi/abs/10.1504/IJBET.2012.052395?__cf_chl_f_tk=7nOC29RPQXCY4Jq.7oDfpqxZThu8vxV2ES4qXZvzER0-1676181710-0-gaNycGzNCRA\" enctype=\"application/x-www-form-urlencoded\" id=\"challenge-form\" method=\"POST\">\n",
              "<input name=\"md\" type=\"hidden\" value=\"50ttUFCNympeKl3VB6FnqlqDeLErRvpvzL7wwZKjLsc-1676181710-0-ASwrc3JSrnhqUwHZVZBnTZPskk2b0vd9JWbhQG4QflY2XJgWX6nTAlOC8En22HgHf4UXNOCZfnLm4MfIu_2x3JX11x84IeDDYoExhI9itPeW7OElonT3ZArdE2Liro5vEoT6m2rjEK3Mc1WQLBbUSBh6bLb4lKnL92pyh4WSe2o3YZ61eFiqiE1zavGBLaWUSHrLM4WCYyc7j0l7cG4gfn34aoBgQsN2-mj_jR5jiGGqTzb_daHO6tNuENmXhsZ8OaBMCmImQO6OKst6smI1XruS032zgf7lN3d4ZIKyd-5vWo47FYSLrmuTCYPoBs39Wof0iVAlQH35BPGCdBFlAN2Qf6w45ntu3MXPKE4McmYZccDEpLitmp6aEgvcaAJTIhh-j6k-fUYn0n_LY4O4D_7t33Iun4gWOqpxtMD-CJukh1jMW9ZNWtMcuAd_90PIFUkTK5hAqgJoHVkvEU5v2JsYMaWq9x4tx6XOEGds2-aAYlaab7mAUhenwtnSinEPFWtQeimUHxFpo8sthPpaMh2uK5zIiUy5W_UmqkQRbcFLJFg99nMK06iZvGt63rB9qYavdHEupXRLQMETdbqFt_AzSlNQJOp8untBq7YDrM28F8Wwu6ssIJtOjyZ2kQfkk5nQLlrUjKa10CvZ-IF4N7aIbgNb0VWuOQMzdaiscpbX5LBt45GN_iZddIe_eD7wqnjkuBAiSpSUkmOPZrwxny99qtOLpet89K90oYP_I_WEKbWvcTmbtfjR5xXZt9fTlEhq_UErzKlhjAT7NAV0lmN16PfKifYgUqLpjtR6hjyFUGeN4CkMFC5Pezz8u6T8Tlj6Pck2VdEcWgoQNzyHsqDtHKmTEbv5t0q2q0-s-JvDZHkug1-TJ8dMHGCxgTUFYFUdI3pEdhc9vsWpixKZ-qDA16VSgdS7deTqNAEQyj8j6KoXIiII4AHrE5wchMUgw0LzmNwvGoByn8BOfYyjrmmI1Dny0sFpgS7kLdXwgVkZgkvlE4dAWebDaS5NgQb3D1nH_ovGFMgcwmHVwvlDfmK34rIkSYbo618FcDbMVtbKSyqkcaXYWbH_676JSlxr9MqQq-H5zjP4uex8fzBu3fcf9ektcNV9K8sjTTV9IuGAFq1p2mh31A5Alqfsz4frryxl3xzhMoFxIu9XftAbWzgvT_8nwCxifR5Xoubdvx7gcVy2TcGVzFaShZsHf3CpywmniGl1ghjK8qv6aye8802f-fmwJUagnjvIAS995Cl3z3pr5RKwLkhLMyb7erIYYpHQIRUApUw2Z2E-8b8PivdvSMWdVYKDE2G2tcvunUauarflnDVm7xuCsTP3pco3dcVgb8-0mOVYISD0FspvQxl04-Ihh5UdyC8wJigM9ND5YgnOMtMq2NJeVhws-yH-JqeVxM9ltJUYOI7rwG_nhoWHxh9XEj3EHv6hgDyYi9Qw9KhCSjucfhy7Gsb51sOUV8yfs8NOWU7aNGW6aVfc5xovXfZSNcTmYvquLOcQO1QxGSD4TUZaYRkRoUMijrc9Q0gOcUj5xO8R0AVaysrKaOvhX17sgpuueyJAWZ1CdBJhSIbLm3GMkVYNcpI3lWpgMGyJ-SiVJV9uo-zGD3JZjvhV9nY-3RXOjzYnx7k-_s7I1tGFxV0Wu7R54jdr4Cws8u9WW0CHEXF7q1Moe5ELvOgrWr2Kv7z2bwzHgHJ11dkRcpvv1qus2v5TCiUiLpZoeUSmbLbXMuJtnhpI_eYXmnVmO04onr744BLyls7UBQPDlRPjzflWvlsSVLAbbJjolgZaRITTXMFpnbG-eOnNu1OCtEiDN9wvoFU5stUj0OM3A-onp29NwUrmMpEYbpZ8nu2VSDp7iBYYBgwiCzCIkhDQUw49PCf0Y1mfONyzc1V313GA7Wfxmtf73gJ3Mh5flp8CkwGYa43y1NdbL_bADphc_IZY5qtf7vNadgEAf7kcX7ptwHP467ydJ8PQRmTaD2h2E9sRHLZrJBUTF-qB2Nt7I81DWyab9z4dvbb4h2owYkBZFKJIZ9KMZVCtnWFGEGrpN_jG--RHcMQSN3QUeJAjsHToAA5Hpw2-hkAryq9nPZHym9fabz2TJmat3G7owbn78q17tVNPO3na---F5XMNCejowHO2D-PiKgthDv8qZkhMrgDoHxH6hMJx1D2GgVxl5g78QQMbNpeVfmETgQ8_mJFAPnp3f6s77rHaPvJS-Ty89VUYwpy-qVROF5Cz_KSnJH3_H6MLJxSJcz1EB1U\"/>\n",
              "</form>\n",
              "</div>\n",
              "</div>\n",
              "<script>\n",
              "    (function(){\n",
              "        window._cf_chl_opt={\n",
              "            cvId: '2',\n",
              "            cZone: 'www.inderscienceonline.com',\n",
              "            cType: 'managed',\n",
              "            cNounce: '58167',\n",
              "            cRay: '79831cad9cb0b93f',\n",
              "            cHash: 'b497f99b0b3b434',\n",
              "            cUPMDTk: \"\\/doi\\/abs\\/10.1504\\/IJBET.2012.052395?__cf_chl_tk=7nOC29RPQXCY4Jq.7oDfpqxZThu8vxV2ES4qXZvzER0-1676181710-0-gaNycGzNCRA\",\n",
              "            cFPWv: 'b',\n",
              "            cTTimeMs: '1000',\n",
              "            cMTimeMs: '0',\n",
              "            cTplV: 4,\n",
              "            cTplB: 'cf',\n",
              "            cRq: {\n",
              "                ru: 'aHR0cHM6Ly93d3cuaW5kZXJzY2llbmNlb25saW5lLmNvbS9kb2kvYWJzLzEwLjE1MDQvSUpCRVQuMjAxMi4wNTIzOTU=',\n",
              "                ra: 'cHl0aG9uLXJlcXVlc3RzLzIuMjUuMQ==',\n",
              "                rm: 'R0VU',\n",
              "                d: 'WA8m59tYH9N72ZfrRKvDDm3eedPQKVVxHg4aqDMBdWAI6gPPI95XW2H44mY3GjxJNbpX2eZ4T0t/tUx3ln2nehlZ/E1CmuxAZu+/rOw4srWju5x/Tazm4fRLWWmPGGiskVcm6tGF4niEc/UVdkinzOu9PCmGP6hZaVBcwvRcFabD7e5PbJfa+YJipvof5pGNV4+cjJYxn8DDbEivjKcBB9z6U8sRS7G2yG5IoXxFCRBuNrzP1RlHRDhqM4bk0jL+3jq2F08TCXozc65THuQMhTCmUFBGZMHPG2GNqMYsZniHWaF0u04pP7O6ARCl2IT1fhMd6cLB8pMxEuXB3AqqSllJQIsH16V3P/H0OfNCl2QBmoPW93OlAsqfqo8C0vvBDmLI2vbuIbwkrL+0BHyWNxNqEuJwwCSgILvofRsYstxe2r0Xpars0Xk7Gu0yuUMEfzq7eycra2Cni+cxzsgGaSZ4MDblqPu8MW9vTvnJPHgx3HLXPgWseA0Nej8Vp1etjcrGhrUeXV7qqfWrw8lcbbypUhSlTyQC4/lyUd0iV2vVg2nVMEzkfk0qU+EMfnKPpdJVkIWUkzcZeKGvDbErUh55dlMJxWTk772L99LCyBZVhT39YKrw6gj++HyNTdn7vFUmznZUlafGU9GSxlsx2MoL0PT6lmztZTmzVxctEIY=',\n",
              "                t: 'MTY3NjE4MTcxMC45ODEwMDA=',\n",
              "                m: 'ciFxH1aXmnABQC7ZvMr9OAzuX9SkqtVZ4sgrSQOMrUo=',\n",
              "                i1: '5s78jt24iOhgPsBNk3xGDA==',\n",
              "                i2: 'RcyjDTtgh/auzrtAjfUsLw==',\n",
              "                zh: 'iopeLD8enmw6Qm8N7JoxVj6g+8J688s6rlKHxKUdxAw=',\n",
              "                uh: '5GU+jYv2xJ+bCaE/ARmi/DORbiS/v56CW7E0TH4XWQk=',\n",
              "                hh: 'S1e2o2JtADXcWHci23amdeN4PvTRDZhANqTq4mY/74U=',\n",
              "            }\n",
              "        };\n",
              "        var trkjs = document.createElement('img');\n",
              "        trkjs.setAttribute('src', '/cdn-cgi/images/trace/managed/js/transparent.gif?ray=79831cad9cb0b93f');\n",
              "        trkjs.setAttribute('alt', '');\n",
              "        trkjs.setAttribute('style', 'display: none');\n",
              "        document.body.appendChild(trkjs);\n",
              "        var cpo = document.createElement('script');\n",
              "        cpo.src = '/cdn-cgi/challenge-platform/h/b/orchestrate/managed/v1?ray=79831cad9cb0b93f';\n",
              "        window._cf_chl_opt.cOgUHash = location.hash === '' && location.href.indexOf('#') !== -1 ? '#' : location.hash;\n",
              "        window._cf_chl_opt.cOgUQuery = location.search === '' && location.href.slice(0, location.href.length - window._cf_chl_opt.cOgUHash.length).indexOf('?') !== -1 ? '?' : location.search;\n",
              "        if (window.history && window.history.replaceState) {\n",
              "            var ogU = location.pathname + window._cf_chl_opt.cOgUQuery + window._cf_chl_opt.cOgUHash;\n",
              "            history.replaceState(null, null, \"\\/doi\\/abs\\/10.1504\\/IJBET.2012.052395?__cf_chl_rt_tk=7nOC29RPQXCY4Jq.7oDfpqxZThu8vxV2ES4qXZvzER0-1676181710-0-gaNycGzNCRA\" + window._cf_chl_opt.cOgUHash);\n",
              "            cpo.onload = function() {\n",
              "                history.replaceState(null, null, ogU);\n",
              "            };\n",
              "        }\n",
              "        document.getElementsByTagName('head')[0].appendChild(cpo);\n",
              "    }());\n",
              "</script>\n",
              "<div class=\"footer\" role=\"contentinfo\">\n",
              "<div class=\"footer-inner\">\n",
              "<div class=\"clearfix diagnostic-wrapper\">\n",
              "<div class=\"ray-id\">Ray ID: <code>79831cad9cb0b93f</code></div>\n",
              "</div>\n",
              "<div class=\"text-center\" id=\"footer-text\">Performance &amp; security by <a href=\"https://www.cloudflare.com?utm_source=challenge&amp;utm_campaign=m\" rel=\"noopener noreferrer\" target=\"_blank\">Cloudflare</a></div>\n",
              "</div>\n",
              "</div>\n",
              "</body>\n",
              "</html>"
            ]
          },
          "metadata": {},
          "execution_count": 28
        }
      ],
      "source": [
        "soup"
      ]
    },
    {
      "cell_type": "code",
      "execution_count": null,
      "metadata": {
        "colab": {
          "base_uri": "https://localhost:8080/"
        },
        "id": "mrriVMW0udMB",
        "outputId": "32ff282c-1f39-4c5c-ee74-41d8e67a6270"
      },
      "outputs": [
        {
          "output_type": "stream",
          "name": "stdout",
          "text": [
            "[]\n"
          ]
        }
      ],
      "source": [
        "p = soup.find_all(class_ = 'hlFld-Abstract')\n",
        "print(p)\n",
        "# key = p[0].find_all('kwd-group')\n",
        "# ke = []\n",
        "# for m in key:\n",
        "#   ke.append(m.text)"
      ]
    },
    {
      "cell_type": "markdown",
      "metadata": {
        "id": "rUAATUpY18ot"
      },
      "source": [
        "## Yake"
      ]
    },
    {
      "cell_type": "code",
      "source": [
        "!pip install yake"
      ],
      "metadata": {
        "colab": {
          "base_uri": "https://localhost:8080/",
          "height": 311
        },
        "id": "lLCSYy8DN7De",
        "outputId": "de643baa-3486-4d93-a3bf-c7e91a77096f"
      },
      "execution_count": null,
      "outputs": [
        {
          "output_type": "error",
          "ename": "NotImplementedError",
          "evalue": "ignored",
          "traceback": [
            "\u001b[0;31m---------------------------------------------------------------------------\u001b[0m",
            "\u001b[0;31mNotImplementedError\u001b[0m                       Traceback (most recent call last)",
            "\u001b[0;32m<ipython-input-33-6a23c4485519>\u001b[0m in \u001b[0;36m<module>\u001b[0;34m\u001b[0m\n\u001b[0;32m----> 1\u001b[0;31m \u001b[0mget_ipython\u001b[0m\u001b[0;34m(\u001b[0m\u001b[0;34m)\u001b[0m\u001b[0;34m.\u001b[0m\u001b[0msystem\u001b[0m\u001b[0;34m(\u001b[0m\u001b[0;34m'pip install yake'\u001b[0m\u001b[0;34m)\u001b[0m\u001b[0;34m\u001b[0m\u001b[0;34m\u001b[0m\u001b[0m\n\u001b[0m",
            "\u001b[0;32m/usr/local/lib/python3.8/dist-packages/google/colab/_shell.py\u001b[0m in \u001b[0;36msystem\u001b[0;34m(self, *args, **kwargs)\u001b[0m\n\u001b[1;32m     93\u001b[0m       \u001b[0mkwargs\u001b[0m\u001b[0;34m.\u001b[0m\u001b[0mupdate\u001b[0m\u001b[0;34m(\u001b[0m\u001b[0;34m{\u001b[0m\u001b[0;34m'also_return_output'\u001b[0m\u001b[0;34m:\u001b[0m \u001b[0;32mTrue\u001b[0m\u001b[0;34m}\u001b[0m\u001b[0;34m)\u001b[0m\u001b[0;34m\u001b[0m\u001b[0;34m\u001b[0m\u001b[0m\n\u001b[1;32m     94\u001b[0m \u001b[0;34m\u001b[0m\u001b[0m\n\u001b[0;32m---> 95\u001b[0;31m     \u001b[0moutput\u001b[0m \u001b[0;34m=\u001b[0m \u001b[0m_system_commands\u001b[0m\u001b[0;34m.\u001b[0m\u001b[0m_system_compat\u001b[0m\u001b[0;34m(\u001b[0m\u001b[0mself\u001b[0m\u001b[0;34m,\u001b[0m \u001b[0;34m*\u001b[0m\u001b[0margs\u001b[0m\u001b[0;34m,\u001b[0m \u001b[0;34m**\u001b[0m\u001b[0mkwargs\u001b[0m\u001b[0;34m)\u001b[0m  \u001b[0;31m# pylint:disable=protected-access\u001b[0m\u001b[0;34m\u001b[0m\u001b[0;34m\u001b[0m\u001b[0m\n\u001b[0m\u001b[1;32m     96\u001b[0m \u001b[0;34m\u001b[0m\u001b[0m\n\u001b[1;32m     97\u001b[0m     \u001b[0;32mif\u001b[0m \u001b[0mpip_warn\u001b[0m\u001b[0;34m:\u001b[0m\u001b[0;34m\u001b[0m\u001b[0;34m\u001b[0m\u001b[0m\n",
            "\u001b[0;32m/usr/local/lib/python3.8/dist-packages/google/colab/_system_commands.py\u001b[0m in \u001b[0;36m_system_compat\u001b[0;34m(shell, cmd, also_return_output)\u001b[0m\n\u001b[1;32m    434\u001b[0m   \u001b[0;31m# is expected to call this function, thus adding one level of nesting to the\u001b[0m\u001b[0;34m\u001b[0m\u001b[0;34m\u001b[0m\u001b[0;34m\u001b[0m\u001b[0m\n\u001b[1;32m    435\u001b[0m   \u001b[0;31m# stack.\u001b[0m\u001b[0;34m\u001b[0m\u001b[0;34m\u001b[0m\u001b[0;34m\u001b[0m\u001b[0m\n\u001b[0;32m--> 436\u001b[0;31m   result = _run_command(\n\u001b[0m\u001b[1;32m    437\u001b[0m       shell.var_expand(cmd, depth=2), clear_streamed_output=False)\n\u001b[1;32m    438\u001b[0m   \u001b[0mshell\u001b[0m\u001b[0;34m.\u001b[0m\u001b[0muser_ns\u001b[0m\u001b[0;34m[\u001b[0m\u001b[0;34m'_exit_code'\u001b[0m\u001b[0;34m]\u001b[0m \u001b[0;34m=\u001b[0m \u001b[0mresult\u001b[0m\u001b[0;34m.\u001b[0m\u001b[0mreturncode\u001b[0m\u001b[0;34m\u001b[0m\u001b[0;34m\u001b[0m\u001b[0m\n",
            "\u001b[0;32m/usr/local/lib/python3.8/dist-packages/google/colab/_system_commands.py\u001b[0m in \u001b[0;36m_run_command\u001b[0;34m(cmd, clear_streamed_output)\u001b[0m\n\u001b[1;32m    161\u001b[0m   \u001b[0mlocale_encoding\u001b[0m \u001b[0;34m=\u001b[0m \u001b[0mlocale\u001b[0m\u001b[0;34m.\u001b[0m\u001b[0mgetpreferredencoding\u001b[0m\u001b[0;34m(\u001b[0m\u001b[0;34m)\u001b[0m\u001b[0;34m\u001b[0m\u001b[0;34m\u001b[0m\u001b[0m\n\u001b[1;32m    162\u001b[0m   \u001b[0;32mif\u001b[0m \u001b[0mlocale_encoding\u001b[0m \u001b[0;34m!=\u001b[0m \u001b[0m_ENCODING\u001b[0m\u001b[0;34m:\u001b[0m\u001b[0;34m\u001b[0m\u001b[0;34m\u001b[0m\u001b[0m\n\u001b[0;32m--> 163\u001b[0;31m     raise NotImplementedError(\n\u001b[0m\u001b[1;32m    164\u001b[0m         'A UTF-8 locale is required. Got {}'.format(locale_encoding))\n\u001b[1;32m    165\u001b[0m \u001b[0;34m\u001b[0m\u001b[0m\n",
            "\u001b[0;31mNotImplementedError\u001b[0m: A UTF-8 locale is required. Got ANSI_X3.4-1968"
          ]
        }
      ]
    },
    {
      "cell_type": "code",
      "execution_count": null,
      "metadata": {
        "id": "-16VAuKMvk0_",
        "colab": {
          "base_uri": "https://localhost:8080/",
          "height": 305
        },
        "outputId": "eac6fd56-2e73-4685-c705-657b72e9425d"
      },
      "outputs": [
        {
          "output_type": "error",
          "ename": "ModuleNotFoundError",
          "evalue": "ignored",
          "traceback": [
            "\u001b[0;31m---------------------------------------------------------------------------\u001b[0m",
            "\u001b[0;31mModuleNotFoundError\u001b[0m                       Traceback (most recent call last)",
            "\u001b[0;32m<ipython-input-31-7cd11dc808be>\u001b[0m in \u001b[0;36m<module>\u001b[0;34m\u001b[0m\n\u001b[0;32m----> 1\u001b[0;31m \u001b[0;32mimport\u001b[0m \u001b[0myake\u001b[0m\u001b[0;34m\u001b[0m\u001b[0;34m\u001b[0m\u001b[0m\n\u001b[0m",
            "\u001b[0;31mModuleNotFoundError\u001b[0m: No module named 'yake'",
            "",
            "\u001b[0;31m---------------------------------------------------------------------------\u001b[0;32m\nNOTE: If your import is failing due to a missing package, you can\nmanually install dependencies using either !pip or !apt.\n\nTo view examples of installing some common dependencies, click the\n\"Open Examples\" button below.\n\u001b[0;31m---------------------------------------------------------------------------\u001b[0m\n"
          ],
          "errorDetails": {
            "actions": [
              {
                "action": "open_url",
                "actionText": "Open Examples",
                "url": "/notebooks/snippets/importing_libraries.ipynb"
              }
            ]
          }
        }
      ],
      "source": [
        "import yake\n"
      ]
    },
    {
      "cell_type": "code",
      "source": [
        "df['Descrption_citation'][0][0]['description']"
      ],
      "metadata": {
        "colab": {
          "base_uri": "https://localhost:8080/",
          "height": 88
        },
        "id": "BtPrjinOO-ZH",
        "outputId": "1bc88089-653f-4db5-8ac7-8c33143fe26d"
      },
      "execution_count": null,
      "outputs": [
        {
          "output_type": "execute_result",
          "data": {
            "text/plain": [
              "'Signatures are widely used means of personal verification. This paper presents a fuzzy hybrid framework based person-dependent off-line signature verification using fuzzy inference rules in image contrast enhancement, fuzzy rough reduction for feature selection and Simplified fuzzy ARTMAP for verification. Three sets of experimental studies are conducted on CEDAR benchmark dataset and the results reported are comparable to other techniques in terms of classification accuracy and time.'"
            ],
            "application/vnd.google.colaboratory.intrinsic+json": {
              "type": "string"
            }
          },
          "metadata": {},
          "execution_count": 37
        }
      ]
    },
    {
      "cell_type": "code",
      "execution_count": null,
      "metadata": {
        "colab": {
          "base_uri": "https://localhost:8080/",
          "height": 166
        },
        "id": "q31kfSqFz2AP",
        "outputId": "f1f97bf5-0a44-4d76-e3fc-4087b0834143"
      },
      "outputs": [
        {
          "output_type": "error",
          "ename": "IndexError",
          "evalue": "ignored",
          "traceback": [
            "\u001b[0;31m---------------------------------------------------------------------------\u001b[0m",
            "\u001b[0;31mIndexError\u001b[0m                                Traceback (most recent call last)",
            "\u001b[0;32m<ipython-input-38-3b22ffb6645a>\u001b[0m in \u001b[0;36m<module>\u001b[0;34m\u001b[0m\n\u001b[0;32m----> 1\u001b[0;31m \u001b[0mdf\u001b[0m\u001b[0;34m[\u001b[0m\u001b[0;34m'description'\u001b[0m\u001b[0;34m]\u001b[0m\u001b[0;34m[\u001b[0m\u001b[0;36m0\u001b[0m\u001b[0;34m]\u001b[0m\u001b[0;34m[\u001b[0m\u001b[0;36m1\u001b[0m\u001b[0;34m]\u001b[0m\u001b[0;34m\u001b[0m\u001b[0;34m\u001b[0m\u001b[0m\n\u001b[0m",
            "\u001b[0;31mIndexError\u001b[0m: list index out of range"
          ]
        }
      ],
      "source": [
        "df['description'][0][1]"
      ]
    },
    {
      "cell_type": "code",
      "execution_count": null,
      "metadata": {
        "id": "DFCyivozzr8n",
        "colab": {
          "base_uri": "https://localhost:8080/",
          "height": 166
        },
        "outputId": "d0b678c0-fbbf-4307-87a0-d09fe73d4c2d"
      },
      "outputs": [
        {
          "output_type": "error",
          "ename": "IndexError",
          "evalue": "ignored",
          "traceback": [
            "\u001b[0;31m---------------------------------------------------------------------------\u001b[0m",
            "\u001b[0;31mIndexError\u001b[0m                                Traceback (most recent call last)",
            "\u001b[0;32m<ipython-input-32-25b5f4e324e8>\u001b[0m in \u001b[0;36m<module>\u001b[0;34m\u001b[0m\n\u001b[0;32m----> 1\u001b[0;31m \u001b[0mdoc\u001b[0m \u001b[0;34m=\u001b[0m \u001b[0mdf\u001b[0m\u001b[0;34m[\u001b[0m\u001b[0;34m'description'\u001b[0m\u001b[0;34m]\u001b[0m\u001b[0;34m[\u001b[0m\u001b[0;36m2\u001b[0m\u001b[0;34m]\u001b[0m\u001b[0;34m[\u001b[0m\u001b[0;36m1\u001b[0m\u001b[0;34m]\u001b[0m\u001b[0;34m\u001b[0m\u001b[0;34m\u001b[0m\u001b[0m\n\u001b[0m",
            "\u001b[0;31mIndexError\u001b[0m: list index out of range"
          ]
        }
      ],
      "source": [
        "doc = df['description'][2][1]"
      ]
    },
    {
      "cell_type": "code",
      "execution_count": null,
      "metadata": {
        "id": "XhleTqMyzpDf"
      },
      "outputs": [],
      "source": [
        "kw_extractor = yake.KeywordExtractor()\n",
        "keywords = kw_extractor.extract_keywords(doc)\n",
        "for kw in keywords:\n",
        "  print(kw)"
      ]
    },
    {
      "cell_type": "markdown",
      "metadata": {
        "id": "sAnqxoLZ1-Qz"
      },
      "source": [
        "## tetRake"
      ]
    },
    {
      "cell_type": "code",
      "execution_count": null,
      "metadata": {
        "colab": {
          "base_uri": "https://localhost:8080/",
          "height": 178
        },
        "id": "pl2u5Te62Ya2",
        "outputId": "b8575d26-6922-427d-efdc-0270e348caef"
      },
      "outputs": [
        {
          "data": {
            "application/vnd.google.colaboratory.intrinsic+json": {
              "type": "string"
            },
            "text/plain": [
              "'Security of computers and the networks that connect them is increasingly becoming of great significance. Machine learning techniques such as Decision trees have been applied to the field of intrusion detection. Machine learning techniques can learn normal and anomalous patterns from training data and generate classifiers that are used to detect attacks on computer system. In general the input to classifiers is in a high dimension feature space, but not all features are relevant to the classes to be classified. Feature selection is a very important step in classification since the inclusion of irrelevant and redundant features often degrade the performance of classification algorithms both in speed and accuracy. In this paper, we have considered three different approaches for feature selection, Chi square, Information Gain and ReliefF which is based on filter approach. A comparative study of the three approaches is done …'"
            ]
          },
          "execution_count": 69,
          "metadata": {},
          "output_type": "execute_result"
        }
      ],
      "source": [
        "df['description'][2][1]"
      ]
    },
    {
      "cell_type": "code",
      "execution_count": null,
      "metadata": {
        "colab": {
          "base_uri": "https://localhost:8080/"
        },
        "id": "nbYwz4IX4vRC",
        "outputId": "98695a84-6650-4bfd-8166-8dc48a17ecd1"
      },
      "outputs": [
        {
          "data": {
            "text/plain": [
              "['Off-line signature verification',\n",
              " 'Simplified fuzzy ARTMAP',\n",
              " 'fuzzy inference rules',\n",
              " 'contrast intensification',\n",
              " 'fuzzy rough sets',\n",
              " 'feature selection']"
            ]
          },
          "execution_count": 78,
          "metadata": {},
          "output_type": "execute_result"
        }
      ],
      "source": [
        "df['key_words'][0][0]"
      ]
    },
    {
      "cell_type": "code",
      "execution_count": null,
      "metadata": {
        "colab": {
          "base_uri": "https://localhost:8080/"
        },
        "id": "8bYtj72Vz9bf",
        "outputId": "ce188048-cc66-4b94-d35c-5d038637baee"
      },
      "outputs": [
        {
          "name": "stdout",
          "output_type": "stream",
          "text": [
            "fuzzy inference rules\n",
            "fuzzy rough reduction\n",
            "fuzzy ARTMAP\n",
            "personal verification\n",
            "verification\n",
            "image contrast enhancement\n",
            "feature selection\n",
            "classification accuracy\n",
            "time\n",
            "other techniques\n"
          ]
        }
      ],
      "source": [
        "\n",
        "# example text\n",
        "text = df['description'][0][0]\n",
        "# load a spaCy model, depending on language, scale, etc.\n",
        "nlp = spacy.load(\"en_core_web_sm\")\n",
        "# add PyTextRank to the spaCy pipeline\n",
        "nlp.add_pipe(\"textrank\")\n",
        "doc = nlp(text)\n",
        "# examine the top-ranked phrases in the document\n",
        "for phrase in doc._.phrases[:10]:\n",
        "    print(phrase.text)"
      ]
    },
    {
      "cell_type": "code",
      "execution_count": null,
      "metadata": {
        "id": "WzIGk0NS3QtH"
      },
      "outputs": [],
      "source": []
    },
    {
      "cell_type": "markdown",
      "metadata": {
        "id": "MpB5GFAzCjbk"
      },
      "source": [
        "# Sp case"
      ]
    },
    {
      "cell_type": "code",
      "execution_count": null,
      "metadata": {
        "id": "bJHV_jqsCn92"
      },
      "outputs": [],
      "source": [
        "l1 = [{'title': 'A similarity measure of intuitionistic fuzzy soft sets and itsapplication in medical diagnosis', 'link': 'https://www.sciencedirect.com/science/article/pii/S1568494615007796', 'resources': [{'title': 'from researchgate.net', 'file_format': 'PDF', 'link': 'https://www.researchgate.net/profile/Sai-Krishnan-8/publication/294787467_A_Similarity_Measure_of_Intuitionistic_Fuzzy_Soft_Sets_and_its_Application_in_Medical_Diagnosis/links/56b0620b08ae8e37214da7a4/A-Similarity-Measure-of-Intuitionistic-Fuzzy-Soft-Sets-and-its-Application-in-Medical-Diagnosis.pdf'}], 'authors': 'Sai Sundara krishnan G Muthukumar P', 'publication_date': '2016/1', 'journal': 'Applied Soft Computing', 'publisher': 'Elsevier', 'description': 'In this paper, a new similarity measure and a weighted similarity measure on intuitionistic fuzzy soft sets (IFSSs) are proposed and some of their basic properties are discussed. Using the proposed similarity measure, a relation (≈ α) between two IFSSs are defined and it is found that the defined relation is not an equivalence relation. Further, the effectiveness of the proposed similarity measure is demonstrated in a numerical example with the help of measure of performance and measure of error. Moreover, medical diagnosis problems have been exhibited through a hypothetical case study by using this proposed similarity measure. Finally, the proposed method is applied to 10 different medical data sets from UCI Machine Learning Repository datasets and its similarity measures are calculated. The corresponding performance measures, like, accuracy, sensitivity, specificity, ROC curves, AUC values, and F …', 'total_citations': {'cited_by': {'total': 112, 'link': 'https://scholar.google.com/scholar?oi=bibs&hl=en&cites=3760135120179632904&as_sdt=5', 'serpapi_link': 'https://serpapi.com/search.json?cites=3760135120179632904&engine=google_scholar&hl=en', 'cites_id': '3760135120179632904'}, 'table': [{'year': 2015, 'citations': 1}, {'year': 2016, 'citations': 1}, {'year': 2017, 'citations': 20}, {'year': 2018, 'citations': 22}, {'year': 2019, 'citations': 13}, {'year': 2020, 'citations': 14}, {'year': 2021, 'citations': 18}, {'year': 2022, 'citations': 22}, {'year': 2023, 'citations': 1}]}}, {'title': 'On γ-semi-open sets in topological spaces', 'link': 'https://cir.nii.ac.jp/crid/1570291226318352640', 'authors': 'G Sai Sundara Krishnan', 'publication_date': '2006', 'journal': 'Bull. Calcutta Math. Soc.', 'total_citations': {'cited_by': {'total': 35, 'link': 'https://scholar.google.com/scholar?oi=bibs&hl=en&cites=9228486016283952706&as_sdt=5', 'serpapi_link': 'https://serpapi.com/search.json?cites=9228486016283952706&engine=google_scholar&hl=en', 'cites_id': '9228486016283952706'}, 'table': [{'year': 2008, 'citations': 1}, {'year': 2009, 'citations': 1}, {'year': 2010, 'citations': 1}, {'year': 2011, 'citations': 4}, {'year': 2012, 'citations': 3}, {'year': 2013, 'citations': 6}, {'year': 2014, 'citations': 2}, {'year': 2015, 'citations': 3}, {'year': 2016, 'citations': 2}, {'year': 2017, 'citations': 2}, {'year': 2018, 'citations': 3}, {'year': 2019, 'citations': 1}, {'year': 2020, 'citations': 3}, {'year': 2021, 'citations': 1}, {'year': 2022, 'citations': 1}]}}, {'title': 'Operation approaches on semi-open sets and applications', 'link': 'https://graz.pure.elsevier.com/en/publications/operation-approaches-on-semi-open-sets-and-applications', 'authors': 'G Sai Sundara Krishnan, Maximilian Ganster, Krishnan Balachandran', 'publication_date': '2007', 'journal': 'Kochi Journal of Mathematics', 'description': 'Operation approaches on semi-open sets and applications — Graz University of Technology Skip to main navigation Skip to search Skip to main content Graz University of Technology Home Graz University of Technology Logo English Deutsch Home Persons Research Outputs Research Units Projects Activities Prizes Press / Media Search by expertise, name or affiliation Operation approaches on semi-open sets and applications G. Sai Sundara Krishnan, Maximilian Ganster, K. Balachandran Institute of Analysis and Number Theory (5010) Research output: Contribution to journal › Article Overview Original language English Pages (from-to) 21-33 Journal Kochi journal of mathematics Volume 2 Publication status Published - 2007 Cite this APA Standard Harvard Vancouver Author BIBTEX RIS Powered by Pure, Scopus & Elsevier Fingerprint Engine™ © 2022 Elsevier BV We use cookies to help provide and enhance …', 'total_citations': {'cited_by': {'total': 30, 'link': 'https://scholar.google.com/scholar?oi=bibs&hl=en&cites=8020792297889806044&as_sdt=5', 'serpapi_link': 'https://serpapi.com/search.json?cites=8020792297889806044&engine=google_scholar&hl=en', 'cites_id': '8020792297889806044'}, 'table': [{'year': 2008, 'citations': 3}, {'year': 2009, 'citations': 2}, {'year': 2010, 'citations': 2}, {'year': 2011, 'citations': 3}, {'year': 2012, 'citations': 1}, {'year': 2013, 'citations': 1}, {'year': 2014, 'citations': 3}, {'year': 2015, 'citations': 3}, {'year': 2016, 'citations': 2}, {'year': 2017, 'citations': 4}, {'year': 2018, 'citations': 3}, {'year': 2019, 'citations': 2}]}}, {'title': 'ON A CLASS OF -PREOPEN SETS IN A TOPOLOGICAL SPACE', 'link': 'https://www.koreascience.or.kr/article/JAKO200617317986656.pdf', 'resources': [{'title': 'from koreascience.or.kr', 'file_format': 'PDF', 'link': 'https://www.koreascience.or.kr/article/JAKO200617317986656.pdf'}], 'authors': 'G Krishnan, K Balachandran', 'publication_date': '2006', 'journal': 'East Asian mathematical journal', 'publisher': 'The Youngnam Mathematical Society', 'description': 'In this paper we introduce the concept of -preopen sets in a topological space together with its corresponding -preclosure and -preinterior operators and a new class of topology which is generated by the class of -preopen sets. Also we introduce -pre spaces (i= 0, , 1, 2) and study some of its properties and we proved that if is a regular operation, then is a -pre space. Finally we introduce -precontinuous mappings and study some of its properties.', 'total_citations': {'cited_by': {'total': 29, 'link': 'https://scholar.google.com/scholar?oi=bibs&hl=en&cites=236254371861634414,90201814009067127&as_sdt=5', 'serpapi_link': 'https://serpapi.com/search.json?cites=236254371861634414%2C90201814009067127&engine=google_scholar&hl=en', 'cites_id': '236254371861634414,90201814009067127'}, 'table': [{'year': 2012, 'citations': 3}, {'year': 2013, 'citations': 6}, {'year': 2014, 'citations': 6}, {'year': 2015, 'citations': 3}, {'year': 2016, 'citations': 1}, {'year': 2017, 'citations': 2}, {'year': 2018, 'citations': 1}, {'year': 2019, 'citations': 1}, {'year': 2020, 'citations': 1}, {'year': 2021, 'citations': 3}, {'year': 2022, 'citations': 1}, {'year': 2023, 'citations': 1}]}}, {'title': 'ON A CLASS OF -PREOPEN SETS IN A TOPOLOGICAL SPACE', 'link': 'https://www.koreascience.or.kr/article/JAKO200617317986656.pdf', 'resources': [{'title': 'from koreascience.or.kr', 'file_format': 'PDF', 'link': 'https://www.koreascience.or.kr/article/JAKO200617317986656.pdf'}], 'authors': 'G Krishnan, K Balachandran', 'publication_date': '2006', 'journal': 'East Asian mathematical journal', 'publisher': 'The Youngnam Mathematical Society', 'description': 'In this paper we introduce the concept of -preopen sets in a topological space together with its corresponding -preclosure and -preinterior operators and a new class of topology which is generated by the class of -preopen sets. Also we introduce -pre spaces (i= 0, , 1, 2) and study some of its properties and we proved that if is a regular operation, then is a -pre space. Finally we introduce -precontinuous mappings and study some of its properties.', 'total_citations': {'cited_by': {'total': 27, 'link': 'https://scholar.google.com/scholar?oi=bibs&hl=en&cites=236254371861634414&as_sdt=5', 'serpapi_link': 'https://serpapi.com/search.json?cites=236254371861634414&engine=google_scholar&hl=en', 'cites_id': '236254371861634414'}, 'table': [{'year': 2012, 'citations': 3}, {'year': 2013, 'citations': 6}, {'year': 2014, 'citations': 6}, {'year': 2015, 'citations': 2}, {'year': 2016, 'citations': 1}, {'year': 2017, 'citations': 2}, {'year': 2018, 'citations': 1}, {'year': 2019, 'citations': 1}, {'year': 2020, 'citations': 1}, {'year': 2021, 'citations': 3}, {'year': 2022, 'citations': 1}]}}, {'title': 'A new class of semi open sets in a topological space', 'link': 'https://scholar.google.com/scholar?cluster=2444003189937788458&hl=en&oi=scholarr', 'authors': 'G Sai Sundara Krishnan', 'publication_date': '2003', 'journal': 'Proc. NCMCM, Allied Publishers, New Delhi', 'total_citations': {'cited_by': {'total': 26, 'link': 'https://scholar.google.com/scholar?oi=bibs&hl=en&cites=2444003189937788458&as_sdt=5', 'serpapi_link': 'https://serpapi.com/search.json?cites=2444003189937788458&engine=google_scholar&hl=en', 'cites_id': '2444003189937788458'}, 'table': [{'year': 2006, 'citations': 1}, {'year': 2007, 'citations': 1}, {'year': 2008, 'citations': 3}, {'year': 2009, 'citations': 10}, {'year': 2010, 'citations': 2}, {'year': 2011, 'citations': 5}, {'year': 2012, 'citations': 3}, {'year': 2013, 'citations': 1}]}}, {'title': 'Frontoethmoid mucocele: one-year follow-up after endoscopic frontoethmoidectomy.', 'link': 'https://europepmc.org/article/med/8816108', 'authors': 'Gopala Krishnan, Gnana Kumar', 'publication_date': '1996/2/1', 'journal': 'The Journal of otolaryngology', 'description': 'Endoscopic sinus surgery for frontal sinus mucocele is gaining popularity. A case study, and the CT scan of a large frontal mucocele with 1-year follow up is presented showing the lining of the sinus cavity well healed and the frontal sinus ostium as patent. Endoscopic sinus surgery, therefore, is a potentially useful method for treating large frontal mucoceles.', 'total_citations': {'cited_by': {'total': 26, 'link': 'https://scholar.google.com/scholar?oi=bibs&hl=en&cites=4904380579409629345&as_sdt=5', 'serpapi_link': 'https://serpapi.com/search.json?cites=4904380579409629345&engine=google_scholar&hl=en', 'cites_id': '4904380579409629345'}, 'table': [{'year': 1998, 'citations': 1}, {'year': 1999, 'citations': 2}, {'year': 2000, 'citations': 12}, {'year': 2001, 'citations': 2}, {'year': 2002, 'citations': 1}, {'year': 2003, 'citations': 1}, {'year': 2004, 'citations': 1}, {'year': 2005, 'citations': 1}, {'year': 2006, 'citations': 1}]}}, {'title': 'Operation approaches on α-γ-open sets in topological spaces', 'link': 'http://www.m-hikari.com/ijma/ijma-2013/ijma-9-12-2013/kalaivaniIJMA9-12-2013.pdf', 'resources': [{'title': 'from m-hikari.com', 'file_format': 'PDF', 'link': 'http://www.m-hikari.com/ijma/ijma-2013/ijma-9-12-2013/kalaivaniIJMA9-12-2013.pdf'}], 'authors': 'N Kalaivani, G Sai Sundara Krishnan', 'publication_date': '2013', 'journal': 'International Journal of Mathematical Analysis', 'description': 'In this paper the notion of α-γ-open sets in a topological space together with its corresponding interior and closure operators are introduced. Further some of their basic properties are studied.', 'total_citations': {'cited_by': {'total': 20, 'link': 'https://scholar.google.com/scholar?oi=bibs&hl=en&cites=9983573999606745518&as_sdt=5', 'serpapi_link': 'https://serpapi.com/search.json?cites=9983573999606745518&engine=google_scholar&hl=en', 'cites_id': '9983573999606745518'}, 'table': [{'year': 2014, 'citations': 2}, {'year': 2015, 'citations': 1}, {'year': 2016, 'citations': 2}, {'year': 2017, 'citations': 2}, {'year': 2018, 'citations': 3}, {'year': 2019, 'citations': 4}, {'year': 2020, 'citations': 3}, {'year': 2021, 'citations': 3}]}}, {'title': 'Fractional generalised homotopy analysis method for solving nonlinear fractional differential equations', 'link': 'https://link.springer.com/article/10.1007/s40314-020-1133-9', 'authors': 'SR Saratha, Morachan Bagyalakshmi, G Sai Sundara Krishnan', 'publication_date': '2020/5', 'journal': 'Computational and Applied Mathematics', 'publisher': 'Springer International Publishing', 'description': 'This paper presents a novel hybrid technique which is developed by incorporating the fractional derivatives in the generalised integral transform method. Homotopy analysis method is combined with fractional generalised integral transform method to solve the fractional order nonlinear differential equations. The performance of the proposed method is analysed by solving various categories of nonlinear fractional differential equations like Navier Stokes’s model and Riccatti equations, etc. Unlike the other analytical methods, the hybrid method provides a better way to control the convergence region of the obtained series solution through an auxiliary parameter h. Furthermore, as proposed in this paper, the ‘Fractional Generalised Homotopy Analysis Method’ along with the several examples reveal that this method can be effectively used as a tool for solving various kinds of nonlinear fractional differential equations.', 'total_citations': {'cited_by': {'total': 19, 'link': 'https://scholar.google.com/scholar?oi=bibs&hl=en&cites=11205381517576755687&as_sdt=5', 'serpapi_link': 'https://serpapi.com/search.json?cites=11205381517576755687&engine=google_scholar&hl=en', 'cites_id': '11205381517576755687'}, 'table': [{'year': 2020, 'citations': 2}, {'year': 2021, 'citations': 5}, {'year': 2022, 'citations': 12}]}}, {'title': 'Soft g* closed and soft g*open sets in soft topological spaces', 'link': 'https://www.tandfonline.com/doi/abs/10.1080/09720502.2015.1103110', 'authors': 'A Kalavathi, G Sai Sundara Krishnan', 'publication_date': '2016/1/2', 'journal': 'Journal of interdisciplinary mathematics', 'publisher': 'Taylor & Francis', 'description': 'In this paper, we introduce the concept of soft g* closed sets and soft g* open sets in soft topological space which are defined over an initial universe set with a fixed set of parameters together with its corresponding soft g* closure and soft g* interior operators. Also, we introduce the concept of soft and regular spaces and investigate the relationship between them.', 'total_citations': {'cited_by': {'total': 18, 'link': 'https://scholar.google.com/scholar?oi=bibs&hl=en&cites=5879056040867317436&as_sdt=5', 'serpapi_link': 'https://serpapi.com/search.json?cites=5879056040867317436&engine=google_scholar&hl=en', 'cites_id': '5879056040867317436'}, 'table': [{'year': 2018, 'citations': 2}, {'year': 2019, 'citations': 3}, {'year': 2020, 'citations': 3}, {'year': 2021, 'citations': 9}, {'year': 2022, 'citations': 1}]}}, {'title': 'A self-similar fractal Cantor antenna for MICS band wireless applications', 'link': 'http://repository.embuni.ac.ke/handle/123456789/1080', 'resources': [{'title': 'from embuni.ac.ke', 'file_format': 'PDF', 'link': 'http://repository.embuni.ac.ke/bitstream/handle/123456789/1080/A%20Self-Similar%20Fractal%20Cantor%20Antenna%20for%20MICS.pdf?sequence=1&isAllowed=y'}], 'authors': 'Gopalakrishnan Srivatsun, Sundaresan S Rani, Gangadaran S Krishnan', 'publication_date': '2011', 'publisher': 'Scientific Research Publishing', 'description': 'Low profile antenna in communication is a new methodology. Fractal geometry is a methodology through which size reduction is achieved. A Self-similar fractal antenna using multicantor technique is proposed and experimentally studied. Space-filling cantors and self-similarity properties of fractal geometry have been adopted in the proposed antenna to miniaturize the size of antenna. The antenna is designed in such a way to operate at MICS band (Medical Implant communication Service) for wireless telemedicine application. The prototype antenna exhibits wideband characteristics and provides a good agreement of return loss (S11). Experimental return loss has been compared with that which is obtained using method of moments. The objective of using self-similar concept in antenna makes it flexible in terms of controlling the resonance and bandwidth. In this paper, the Self-similar property of fractal geometry is examined by maintaining return loss (S11) more than –30 dB approximately in all the iterations (n) and the prototype antenna has return loss greater than –10 dB and exhibits wideband characteristics.', 'total_citations': {'cited_by': {'total': 18, 'link': 'https://scholar.google.com/scholar?oi=bibs&hl=en&cites=9706470637595061129&as_sdt=5', 'serpapi_link': 'https://serpapi.com/search.json?cites=9706470637595061129&engine=google_scholar&hl=en', 'cites_id': '9706470637595061129'}, 'table': [{'year': 2012, 'citations': 1}, {'year': 2013, 'citations': 1}, {'year': 2014, 'citations': 3}, {'year': 2015, 'citations': 1}, {'year': 2016, 'citations': 1}, {'year': 2017, 'citations': 2}, {'year': 2018, 'citations': 3}, {'year': 2019, 'citations': 2}, {'year': 2020, 'citations': 2}, {'year': 2021, 'citations': 2}]}}, {'title': 'Analysis of a fractional epidemic model by fractional generalised homotopy analysis method using modified Riemann-Liouville derivative', 'link': 'https://www.sciencedirect.com/science/article/pii/S0307904X20306715', 'authors': 'SR Saratha, G Sai Sundara Krishnan, M Bagyalakshmi', 'publication_date': '2021/4/1', 'journal': 'Applied Mathematical Modelling', 'publisher': 'Elsevier', 'description': 'This paper proposes the notion of a fractional generalised integral transform (Fractional G-transform) using modified Riemann-Liouville derivative with the Mittag-Leffler function as a kernel. We investigate the basic properties of the Fractional G-transform. In addition, the homotopy analysis is incorporated to introduce a hybrid Fractional Generalised Homotopy Analysis Method using Modified Riemann-Liouville Derivative, which is denoted as MRFGHAM. We highlight the merits of MRFGHAM and apply it to solve fractional nonlinear differential equations. The proposed method is implemented to formulate a fractional non-fatal disease epidemic model and to obtain the results of a spreading process subject to various settings of the fractional parameters. We also statistically validate the variations in the spread of the non-fatal disease obtained at different stages. Furthermore, the fractional power epidemic model is …', 'total_citations': {'cited_by': {'total': 17, 'link': 'https://scholar.google.com/scholar?oi=bibs&hl=en&cites=10456287065818103289&as_sdt=5', 'serpapi_link': 'https://serpapi.com/search.json?cites=10456287065818103289&engine=google_scholar&hl=en', 'cites_id': '10456287065818103289'}, 'table': [{'year': 2021, 'citations': 4}, {'year': 2022, 'citations': 10}, {'year': 2023, 'citations': 3}]}}, {'title': 'Operation-compact spaces, regular spaces and normal spaces with α-γ-open sets in topological spaces', 'link': 'https://www.tandfonline.com/doi/abs/10.1080/09720502.2015.1104945', 'authors': 'N Kalaivani, AI El-Maghrabi, D Saravanakumar, G Sai Sundara Krishnan', 'publication_date': '2017/2/17', 'journal': 'Journal of interdisciplinary mathematics', 'publisher': 'Taylor & Francis', 'description': 'In this paper the concept of α-γ-compact spaces and α-γ0-compact spaces are introduced. Some of their properties are also studied. Further the concept of α-γ-Locally compact Spaces, α-γ-regular spaces α-γ and α-γ normal spaces are introduced. some of their properties are studied.', 'total_citations': {'cited_by': {'total': 16, 'link': 'https://scholar.google.com/scholar?oi=bibs&hl=en&cites=16313015751698131195&as_sdt=5', 'serpapi_link': 'https://serpapi.com/search.json?cites=16313015751698131195&engine=google_scholar&hl=en', 'cites_id': '16313015751698131195'}, 'table': [{'year': 2017, 'citations': 1}, {'year': 2018, 'citations': 3}, {'year': 2019, 'citations': 2}, {'year': 2020, 'citations': 3}, {'year': 2021, 'citations': 6}, {'year': 2022, 'citations': 1}]}}, {'title': 'Molecular markers for harnessing heterosis', 'link': 'https://onlinelibrary.wiley.com/doi/pdf/10.1002/9781118473023#page=133', 'authors': 'Gopala S Krishnan, AK Singh, Daniel LE Waters, Robert J Henry', 'publication_date': '2012/12/3', 'journal': 'Molecular markers in plants', 'publisher': 'Blackwell Publishing Ltd.', 'description': 'Much energy has been expended on using molecular tools in an attempt to understand the molecular basis of heterosis and predict heterotic response in plants. These attempts have met with mixed success. The focus of this review is the use of molecular markers as predictive tools in the context of practical hybrid plant breeding, not the use of molecular markers to understand the basis of heterosis.The term “heterosis” was coined by Shull in 1914, and refers to the manifestation of superiority of F1 performance relative to parental performance. The increase in vigor due to crossing,“heterosis,” and the decrease in vigor due to inbreeding,“inbreeding depression,” are linked in that each phenomenon defines the other. Heterosis has been utilized on a large scale for the production of crops such as maize, sorghum, pearl millet, rice, oilseeds, cotton, vegetables, and fruits, significantly boosting the production of these …', 'total_citations': {'cited_by': {'total': 12, 'link': 'https://scholar.google.com/scholar?oi=bibs&hl=en&cites=14030509595035992994&as_sdt=5', 'serpapi_link': 'https://serpapi.com/search.json?cites=14030509595035992994&engine=google_scholar&hl=en', 'cites_id': '14030509595035992994'}, 'table': [{'year': 2013, 'citations': 2}, {'year': 2014, 'citations': 2}, {'year': 2015, 'citations': 1}, {'year': 2016, 'citations': 1}, {'year': 2017, 'citations': 2}, {'year': 2018, 'citations': 1}, {'year': 2019, 'citations': 3}]}}, {'title': 'On α-γ-open sets in topological spaces', 'link': 'https://scholar.google.com/scholar?cluster=12823318446874899603&hl=en&oi=scholarr', 'authors': 'N Kalaivani, G Sai Sundara Krishnan', 'publication_date': '2009', 'journal': 'Proceedings of ICMCM', 'total_citations': {'cited_by': {'total': 8, 'link': 'https://scholar.google.com/scholar?oi=bibs&hl=en&cites=12823318446874899603&as_sdt=5', 'serpapi_link': 'https://serpapi.com/search.json?cites=12823318446874899603&engine=google_scholar&hl=en', 'cites_id': '12823318446874899603'}, 'table': [{'year': 2012, 'citations': 1}, {'year': 2013, 'citations': 1}, {'year': 2014, 'citations': 1}, {'year': 2015, 'citations': 1}, {'year': 2016, 'citations': 2}, {'year': 2017, 'citations': 2}]}}, {'title': 'Development and evaluation of iso-cytoplasmic rice restorer lines for different agro-morphological traits', 'link': 'https://www.isgpb.org/journal/index.php/IJGPB/article/view/21', 'resources': [{'title': 'from isgpb.org', 'file_format': 'PDF', 'link': 'https://www.isgpb.org/journal/index.php/IJGPB/article/download/21/417'}], 'authors': 'Amit Kumar, Prolay Kumar Bhowmick, S Gopala Krishnan, Ashok Kumar Singh', 'publication_date': '2017/11/25', 'journal': 'Indian Journal of Genetics and Plant Breeding', 'description': 'A set of 390 iso-cytoplasmic restorer lines were developed from 25 popular rice hybrids grown in India through pedigree breeding exercising selection for spikelet fertility, yield and extent of panicle exsertion were evaluated for various agromorphological traits. Correlation analysis showed that yield per plant was significantly correlated with number of tillers (0.208), panicle length (0.127) and spikelet fertility (0.134). Principal component analysis indicated that the first four principal components had eigenvalue of> 1.0 and cumulatively explained 74.3% of total variance. Grain characters namely, test weight (0.451), kernel length before cooking (0.418), kernel breadth before cooking (0.136) and spikelet fertility (0.402) contributed positively towards principal component I. Yield per plant showed a positively skewed distribution with panicle length and a nearly linear relationship with spikelet fertility. A core set of 21 genotypes capturing the entire range of phenotype for different traits, was identified from 390 genotypes using advanced M (maximization) strategy and statistically validated. Besides this, promising iso-cytoplasmic restorer lines originating from different hybrids were identified for various agromorphological traits. This is the first report on developing iso-cytoplasmic restorers from popular rice hybrids, which can be used in developing heterotic hybrids when crossed with diverse non-parental CMS lines.', 'total_citations': {'cited_by': {'total': 7, 'link': 'https://scholar.google.com/scholar?oi=bibs&hl=en&cites=15485837041001247485&as_sdt=5', 'serpapi_link': 'https://serpapi.com/search.json?cites=15485837041001247485&engine=google_scholar&hl=en', 'cites_id': '15485837041001247485'}, 'table': [{'year': 2019, 'citations': 3}, {'year': 2020, 'citations': 4}]}}, {'title': 'On Chaotic Behavior of Temperature Distribution in a Heat Exchanger', 'link': 'https://scholar.google.com/scholar?cluster=7615622427429113781&hl=en&oi=scholarr', 'authors': 'Bagyalakshmi Morachan, Sai Sundarakrishnan, MadhuGanesh', 'publication_date': '2017', 'journal': 'International Journal of Bifurcation and Choas', 'publisher': 'World Scientific Publishing Company', 'description': 'The objective of this paper is to introduce the notion of fractional derivatives in the energy equations and to study the chaotic nature of the temperature distribution in a heat exchanger with variation of temperature dependent transport properties. The governing fractional partial differential equations are transformed to a set of recurrence relations using fractional differential transform method and solved using inverse transform. The approximate analytical solution obtained by the proposed method has good agreement with the existing results.', 'total_citations': {'cited_by': {'total': 6, 'link': 'https://scholar.google.com/scholar?oi=bibs&hl=en&cites=17816417196063228924,7615622427429113781&as_sdt=5', 'serpapi_link': 'https://serpapi.com/search.json?cites=17816417196063228924%2C7615622427429113781&engine=google_scholar&hl=en', 'cites_id': '17816417196063228924,7615622427429113781'}, 'table': [{'year': 2018, 'citations': 2}, {'year': 2019, 'citations': 1}, {'year': 2020, 'citations': 1}, {'year': 2021, 'citations': 1}, {'year': 2022, 'citations': 1}]}}, {'title': 'Isotonic separation with an instance selection algorithm using softset: Theory and experiments', 'link': 'http://www.wseas.us/journal/pdf/information/2012/56-374.pdf', 'resources': [{'title': 'from wseas.us', 'file_format': 'PDF', 'link': 'http://www.wseas.us/journal/pdf/information/2012/56-374.pdf'}], 'authors': 'B Malar, R Nadarajan, G Saisundarakrishnan', 'publication_date': '2012', 'journal': 'WSEAS Transactions On Information Science And Applications', 'description': 'In supervised machine learning, a training set containing labeled instances is taken by a learning algorithm to construct a model that is subsequently used for determining the class label of new instances. Isotonic separation is a supervised machine learning technique in which classification is represented as a Linear Programming Problem (LPP) with an objective of minimizing the number of misclassifications. It is computationally expensive to solve the LPP using traditional methods for a large dataset. Characteristics of the training set such as size, presence of noisy data, influence the learning algorithm and classification performance. To resolve this issue, this paper introduces a new linearithmic time algorithm called Soft set based instance selection algorithm (SOFIA) which provides a condensed dataset for a learning algorithm. And, a hybrid classification algorithm, SOFIAIS which utilizes SOFIA for instance selection and isotonic separation (IS) for classification is introduced. Two sets of experimental studies are conducted on Wisconsin Breast Cancer dataset and the results are reported. First, experiments are performed on SOFIA-IS and the results are compared with isotonic separation and its variants. Then experiments are done on state of the art machine learning techniques by including SOFIA for instance selection and the results are compared with same techniques without SOFIA. Experimental and statistical results show that the condensed sets obtained by SOFIA are optimum, and SOFIA-IS and SOFIA based machine learning techniques are better in terms of classification accuracy, time and space complexity.', 'total_citations': {'cited_by': {'total': 6, 'link': 'https://scholar.google.com/scholar?oi=bibs&hl=en&cites=9748258338063292705&as_sdt=5', 'serpapi_link': 'https://serpapi.com/search.json?cites=9748258338063292705&engine=google_scholar&hl=en', 'cites_id': '9748258338063292705'}, 'table': [{'year': 2015, 'citations': 2}, {'year': 2016, 'citations': 1}, {'year': 2017, 'citations': 1}, {'year': 2018, 'citations': 1}, {'year': 2019, 'citations': 1}]}}, {'title': 'Morphological markers for identification of hybrids and their parental lines in tomato (Solanum lycopersicum).', 'link': 'https://www.cabdirect.org/cabdirect/abstract/20183015765', 'authors': 'CKK Reddy, SK Jain, KMB Arun, SG Krishnan, Awani Kumar Singh, Hussain Zakir', 'publication_date': '2017', 'journal': 'Indian Journal of Agricultural Sciences', 'publisher': 'Indian Council of Agricultural Research', 'description': 'Four hybrids, viz, PH-1, 2, 4 and 8 and their parental lines were studied for developing identification keys using morphological characters. Out of 39 characters studied, fourteen qualitative and six quantitative characters were polymorphic for identifying the parents from the hybrids and also among themselves. Characters like stem anthocyanin pigmentation on upper one-third portion, fruit green shoulder, leaflet petiole attitude with respect to main axis, leaf serration, stem pubescence, fruit shape at blossom end, fruit shape in longitudinal section and stigma lobes were important for development of identification keys. These characters were stable during two growing seasons (rabi 2014-15 and rabi 2015-16) and no variation was observed for any character in any genotype. A combination of these morphological markers could effectively utilized for distinguishing all the hybrids and their parental lines under study.', 'total_citations': {'cited_by': {'total': 5, 'link': 'https://scholar.google.com/scholar?oi=bibs&hl=en&cites=923048018180101185&as_sdt=5', 'serpapi_link': 'https://serpapi.com/search.json?cites=923048018180101185&engine=google_scholar&hl=en', 'cites_id': '923048018180101185'}, 'table': [{'year': 2020, 'citations': 1}, {'year': 2021, 'citations': 1}, {'year': 2022, 'citations': 3}]}}, {'title': 'Algorithm on tracing the boundary of medical images using abstract cellular complex', 'link': 'https://ieeexplore.ieee.org/abstract/document/6428780/', 'authors': 'G Sai Sundara Krishnan, N Vijaya', 'publication_date': '2012/12/14', 'conference': '2012 International Conference on Machine Vision and Image Processing (MVIP)', 'publisher': 'IEEE', 'description': \"Kovalevsky [8] introduced the tracing algorithm in abstract cellular complexes. In this paper we compared the algorithm with Moore's algorithm and implemented the algorithm with MATLAB. Finally we applied the algorithm to trace the boundaries of medical images.\", 'total_citations': {'cited_by': {'total': 5, 'link': 'https://scholar.google.com/scholar?oi=bibs&hl=en&cites=12888250001805265157&as_sdt=5', 'serpapi_link': 'https://serpapi.com/search.json?cites=12888250001805265157&engine=google_scholar&hl=en', 'cites_id': '12888250001805265157'}, 'table': [{'year': 2017, 'citations': 2}, {'year': 2018, 'citations': 1}, {'year': 2019, 'citations': 2}]}}, {'title': 'Generalized mappings via new closed sets', 'link': 'https://scholar.google.com/scholar?cluster=9214182057354145007&hl=en&oi=scholarr', 'authors': 'D Saravanakumar, G Sai Sundara Krishnan', 'publication_date': '2012', 'journal': 'Int. J. Math. Sci. Appl', 'total_citations': {'cited_by': {'total': 5, 'link': 'https://scholar.google.com/scholar?oi=bibs&hl=en&cites=9214182057354145007&as_sdt=5', 'serpapi_link': 'https://serpapi.com/search.json?cites=9214182057354145007&engine=google_scholar&hl=en', 'cites_id': '9214182057354145007'}, 'table': [{'year': 2012, 'citations': 1}, {'year': 2013, 'citations': 2}, {'year': 2014, 'citations': 1}, {'year': 2015, 'citations': 1}]}}, {'title': 'On a class of cpreopen sets in a topological space, East Asian Math', 'link': 'https://scholar.google.com/scholar?cluster=1168650398142181918&hl=en&oi=scholarr', 'authors': 'G Sai Sundara Krishnan, K Balachandran', 'publication_date': '2006', 'journal': 'J', 'total_citations': {'cited_by': {'total': 5, 'link': 'https://scholar.google.com/scholar?oi=bibs&hl=en&cites=1168650398142181918&as_sdt=5', 'serpapi_link': 'https://serpapi.com/search.json?cites=1168650398142181918&engine=google_scholar&hl=en', 'cites_id': '1168650398142181918'}, 'table': [{'year': 2014, 'citations': 2}, {'year': 2015, 'citations': 3}]}}, {'title': 'Solving Black–Scholes equations using fractional generalized homotopy analysis method', 'link': 'https://link.springer.com/article/10.1007/s40314-020-01306-4', 'resources': [{'title': 'from springer.com', 'file_format': 'HTML', 'link': 'https://link.springer.com/article/10.1007/s40314-020-01306-4'}], 'authors': 'SR Saratha, G Sai Sundara Krishnan, Morachan Bagyalakshmi, Chee Peng Lim', 'publication_date': '2020/12', 'journal': 'Computational and Applied Mathematics', 'publisher': 'Springer International Publishing', 'description': 'This paper aims to solve the Black–Scholes (B–S) model for the European options pricing problem using a hybrid method called fractional generalized homotopy analysis method (FGHAM). The convergence region of the B–S model solutions are clearly identified using h-curve and the closed form series solutions are produced using FGHAM. To verify the convergence of the proposed series solutions, sequence of errors are obtained by estimating the deviation between the exact solution and the series solution, which is increased in number of terms in the series. The convergence of sequence of errors is verified using the convergence criteria and the results are graphically illustrated. Moreover, the FGHAM approach has overcome the difficulties of applying multiple integration and differentiation procedures while obtaining the solution using well-established methods such as homotopy analysis method and …', 'total_citations': {'cited_by': {'total': 4, 'link': 'https://scholar.google.com/scholar?oi=bibs&hl=en&cites=8532059180915441875&as_sdt=5', 'serpapi_link': 'https://serpapi.com/search.json?cites=8532059180915441875&engine=google_scholar&hl=en', 'cites_id': '8532059180915441875'}, 'table': [{'year': 2021, 'citations': 1}, {'year': 2022, 'citations': 3}]}}, {'title': 'A mean potentiality approach of an intuitionistic fuzzy soft set based decision making problem in medical science', 'link': 'https://www.researchgate.net/profile/Muthu-Raaj-2/publication/277917955_A_Mean_Potentiality_approach_of_an_Intuitionistic_Fuzzy_Soft_Set_Based_Decision_Making_Problem_in_Medical_Science/links/5576a3ae08ae75363751b282/A-Mean-Potentiality-approach-of-an-Intuitionistic-Fuzzy-Soft-Set-Based-Decision-Making-Problem-in-Medical-Science.pdf', 'resources': [{'title': 'from researchgate.net', 'file_format': 'PDF', 'link': 'https://www.researchgate.net/profile/Muthu-Raaj-2/publication/277917955_A_Mean_Potentiality_approach_of_an_Intuitionistic_Fuzzy_Soft_Set_Based_Decision_Making_Problem_in_Medical_Science/links/5576a3ae08ae75363751b282/A-Mean-Potentiality-approach-of-an-Intuitionistic-Fuzzy-Soft-Set-Based-Decision-Making-Problem-in-Medical-Science.pdf'}], 'authors': 'P Muthukumar, G Sai Sundara Krishnan', 'publication_date': '2014/11/1', 'journal': 'Int. J. Advance. Soft Comput. Appl', 'description': 'In this paper, a Mean Potentiality Approach for a balanced solution of an Intuitionistic Fuzzy Soft Set (IFSS) based decision making problem is proposed using level soft sets. Further, a parameter reduction procedure has been used to reduce the choice parameter set with the help of the balanced algorithm of mean potentiality approach. Moreover, we implement this mean potentiality approach of a balanced solution of an IFSSs in medical diagnosis has been exhibiting with a hypothetical case study.', 'total_citations': {'cited_by': {'total': 4, 'link': 'https://scholar.google.com/scholar?oi=bibs&hl=en&cites=12419438285883360813&as_sdt=5', 'serpapi_link': 'https://serpapi.com/search.json?cites=12419438285883360813&engine=google_scholar&hl=en', 'cites_id': '12419438285883360813'}, 'table': [{'year': 2018, 'citations': 2}, {'year': 2019, 'citations': 1}, {'year': 2020, 'citations': 1}]}}, {'title': 'On--irresolute functions and--continuous functions in Topological spaces', 'link': 'https://www.dbpia.co.kr/Journal/articleDetail?nodeId=NODE10832624', 'authors': 'N Kalaivani, D Saravanakumar, G Sai Sundara Krishnan', 'publication_date': '2012', 'journal': 'Proceedings of the Jangjeon Mathematical Society', 'description': 'In this paper the notion of --irresolute functions in a topological space has been introduced and some of their properties are studied. Further the concept of -- continuous functions, --open functions and --closed functions have been introduced and the relationship among them are studied.', 'total_citations': {'cited_by': {'total': 4, 'link': 'https://scholar.google.com/scholar?oi=bibs&hl=en&cites=720870341938428779&as_sdt=5', 'serpapi_link': 'https://serpapi.com/search.json?cites=720870341938428779&engine=google_scholar&hl=en', 'cites_id': '720870341938428779'}, 'table': [{'year': 2015, 'citations': 1}, {'year': 2016, 'citations': 2}, {'year': 2017, 'citations': 1}]}}, {'title': 'Solving Non Linear Differential Equations By Using AG-Homotopy Analysis Method', 'link': 'https://iopscience.iop.org/article/10.1088/1742-6596/1850/1/012065/meta', 'resources': [{'title': 'from iop.org', 'file_format': 'PDF', 'link': 'https://iopscience.iop.org/article/10.1088/1742-6596/1850/1/012065/pdf'}], 'authors': 'SR Saratha, M Bagyalakshmi, G Sai Sundara Krishnan', 'publication_date': '2021/5/1', 'journal': 'Journal of Physics: Conference Series', 'publisher': 'IOP Publishing', 'description': 'This paper proposes an efficient hybrid analytical method named the Generalized Homotopy Analysis Method (GHAM) for solving nonlinear differential equations. The proposed hybrid method consists of topology based Homotopy Analysis Method (HAM) and Laplace typed integral transform (G-transform). Compared with HAM, GHAM does not require the effort to perform repeated integration and differentiation, when it is applied to solve higher order differential equations. Compared with G-transform, GHAM serves as an effective approach to tackle higher-order nonlinear differential equations. The effectiveness of GHAM is illustrated through the analysis of numerical examples, and the obtained results are graphically depicted. Also, GHAM is effectively utilized to analyze the density of the forest cover incorporating various parameters, which include the seed reproduction, seed deposition, seed establishment rates …', 'total_citations': {'cited_by': {'total': 3, 'link': 'https://scholar.google.com/scholar?oi=bibs&hl=en&cites=3149628543838101490&as_sdt=5', 'serpapi_link': 'https://serpapi.com/search.json?cites=3149628543838101490&engine=google_scholar&hl=en', 'cites_id': '3149628543838101490'}, 'table': [{'year': 2022, 'citations': 3}]}}, {'title': 'On γ*-Pre-regular- Spaces Associated with Operations Separation Axioms', 'link': 'https://www.tandfonline.com/doi/abs/10.1080/09720502.2014.914278', 'resources': [{'title': 'from tandfonline.com', 'file_format': 'PDF', 'link': 'https://www.tandfonline.com/doi/pdf/10.1080/09720502.2014.914278'}], 'authors': 'D Saravanakumar, N Kalaivani, G Sai Sundara Krishnan', 'publication_date': '2014/11/2', 'journal': 'Journal of interdisciplinary mathematics', 'publisher': 'Taylor & Francis', 'description': 'In this paper, we introduced a new class of sets called γ*-generalized-pre-regular-closed (open) sets and its properties are studied. Also we obtained the notions of γ*-pre-regular- spaces and investigated some of its basic properties. In addition we defined γ*-pre-D sets and γ*-pre-Di spaces (i = 0, 1, 2) using γ*-pre-open sets and discussed their properties comprehensively analyzed their relationship.', 'total_citations': {'cited_by': {'total': 3, 'link': 'https://scholar.google.com/scholar?oi=bibs&hl=en&cites=6016473185535813777&as_sdt=5', 'serpapi_link': 'https://serpapi.com/search.json?cites=6016473185535813777&engine=google_scholar&hl=en', 'cites_id': '6016473185535813777'}, 'table': [{'year': 2021, 'citations': 2}, {'year': 2022, 'citations': 1}]}}, {'title': 'Characterization of semi-open subcomplexes in abstract cellular complex', 'link': 'https://link.springer.com/chapter/10.1007/978-81-322-1680-3_30', 'authors': 'N Vijaya, G Sai Sundara Krishnan', 'publication_date': '2014', 'conference': 'Computational Intelligence, Cyber Security and Computational Models: Proceedings of ICC3, 2013', 'publisher': 'Springer India', 'description': 'The concept of abstract cellular complexes was introduced by Kovalevsky (Computer Vision, Graphics and Image Processing, 46:141–161, 1989) and established that the topology of cellular complex is the only possible topology of finite sets to describe the structure of images. Further, the topological notions of connectedness and continuity in abstract cellular complexes were introduced while using the notions of an open subcomplex, closed subcomplex, and boundary of a subcomplex, etc. In this paper, the notion of semi-open subcomplex in abstract cellular complex is introduced and some of its basic properties are studied by defining the notions of semi-closure, semi-frontier, and semi-interior. Further, a homogeneously n-dimensional complex is characterized while using the notion of semi-open subcomplexes. Introduced is also the concept of a quasi-solid in subcomplex. Finally, a new algorithm for …', 'total_citations': {'cited_by': {'total': 3, 'link': 'https://scholar.google.com/scholar?oi=bibs&hl=en&cites=7682313436798215144&as_sdt=5', 'serpapi_link': 'https://serpapi.com/search.json?cites=7682313436798215144&engine=google_scholar&hl=en', 'cites_id': '7682313436798215144'}, 'table': [{'year': 2016, 'citations': 1}, {'year': 2017, 'citations': 1}, {'year': 2018, 'citations': 1}]}}, {'title': 'Computational Intelligence, Cyber Security and Computational Models: Proceedings of ICC3, 2013', 'link': 'https://books.google.com/books?hl=en&lr=&id=PTbABAAAQBAJ&oi=fnd&pg=PR7&dq=info:Q81zadImOmsJ:scholar.google.com&ots=pmU5ij342M&sig=-kyid2-C8FfubSWxs-BL56Yps6E', 'authors': 'G Sai Sundara Krishnan, R Anitha, RS Lekshmi, M Senthil Kumar, Anthony Bonato, Manuel Graña', 'publication_date': '2013/11/26', 'publisher': 'Springer Science & Business Media', 'description': 'This book contains cutting-edge research material presented by researchers, engineers, developers, and practitioners from academia and industry at the International Conference on Computational Intelligence, Cyber Security and Computational Models (ICC3) organized by PSG College of Technology, Coimbatore, India during December 19–21, 2013. The materials in the book include theory and applications to provide design, analysis, and modeling of the key areas. The book will be useful material for students, researchers, professionals, as well academicians in understanding current research trends and findings and future scope of research in computational intelligence, cyber security, and computational models.', 'total_citations': {'cited_by': {'total': 3, 'link': 'https://scholar.google.com/scholar?oi=bibs&hl=en&cites=7726530795861691715&as_sdt=5', 'serpapi_link': 'https://serpapi.com/search.json?cites=7726530795861691715&engine=google_scholar&hl=en', 'cites_id': '7726530795861691715'}, 'table': [{'year': 2017, 'citations': 2}, {'year': 2018, 'citations': 1}]}}, {'title': 'OPERATIONS GENERALIZED MAPPINGS ASSOCIATED WITH°¤ p-NORMAL AND°¤ p-REGULAR SPACES', 'link': 'https://www.dbpia.co.kr/Journal/articleDetail?nodeId=NODE10832620', 'authors': 'D Saravanakumar, G Sai Sundara Krishnan', 'publication_date': '2012', 'journal': 'Proceedings of the Jangjeon Mathematical Society', 'description': 'In this paper, we introduced the concepts of (°, ¯¤)-generalized-pre-open (closed) mapping and (°¤, ¯)-generalized-pre-homeomorphism and studied some of their properties. Further we de¯ned (°¤, ¯¤)-generalized-pre-open (closed) mappings and (°¤, ¯¤)-generalized-pre-homeomorphism and character-ized them using °¤-gp.open (closed) sets and ¯¤-gp.open (closed) sets. Finally we characterized of °¤p-normal spaces and °¤p -regular spaces.', 'total_citations': {'cited_by': {'total': 3, 'link': 'https://scholar.google.com/scholar?oi=bibs&hl=en&cites=9021366747143951566&as_sdt=5', 'serpapi_link': 'https://serpapi.com/search.json?cites=9021366747143951566&engine=google_scholar&hl=en', 'cites_id': '9021366747143951566'}, 'table': [{'year': 2014, 'citations': 2}, {'year': 2015, 'citations': 1}]}}]\n"
      ]
    },
    {
      "cell_type": "code",
      "execution_count": null,
      "metadata": {
        "colab": {
          "base_uri": "https://localhost:8080/"
        },
        "id": "IgfzUHv7DcZe",
        "outputId": "689ec17b-085e-4e81-fe4f-8407623ece37"
      },
      "outputs": [
        {
          "data": {
            "text/plain": [
              "{'title': 'A similarity measure of intuitionistic fuzzy soft sets and itsapplication in medical diagnosis',\n",
              " 'link': 'https://www.sciencedirect.com/science/article/pii/S1568494615007796',\n",
              " 'resources': [{'title': 'from researchgate.net',\n",
              "   'file_format': 'PDF',\n",
              "   'link': 'https://www.researchgate.net/profile/Sai-Krishnan-8/publication/294787467_A_Similarity_Measure_of_Intuitionistic_Fuzzy_Soft_Sets_and_its_Application_in_Medical_Diagnosis/links/56b0620b08ae8e37214da7a4/A-Similarity-Measure-of-Intuitionistic-Fuzzy-Soft-Sets-and-its-Application-in-Medical-Diagnosis.pdf'}],\n",
              " 'authors': 'Sai Sundara krishnan G Muthukumar P',\n",
              " 'publication_date': '2016/1',\n",
              " 'journal': 'Applied Soft Computing',\n",
              " 'publisher': 'Elsevier',\n",
              " 'description': 'In this paper, a new similarity measure and a weighted similarity measure on intuitionistic fuzzy soft sets (IFSSs) are proposed and some of their basic properties are discussed. Using the proposed similarity measure, a relation (≈ α) between two IFSSs are defined and it is found that the defined relation is not an equivalence relation. Further, the effectiveness of the proposed similarity measure is demonstrated in a numerical example with the help of measure of performance and measure of error. Moreover, medical diagnosis problems have been exhibited through a hypothetical case study by using this proposed similarity measure. Finally, the proposed method is applied to 10 different medical data sets from UCI Machine Learning Repository datasets and its similarity measures are calculated. The corresponding performance measures, like, accuracy, sensitivity, specificity, ROC curves, AUC values, and F …',\n",
              " 'total_citations': {'cited_by': {'total': 112,\n",
              "   'link': 'https://scholar.google.com/scholar?oi=bibs&hl=en&cites=3760135120179632904&as_sdt=5',\n",
              "   'serpapi_link': 'https://serpapi.com/search.json?cites=3760135120179632904&engine=google_scholar&hl=en',\n",
              "   'cites_id': '3760135120179632904'},\n",
              "  'table': [{'year': 2015, 'citations': 1},\n",
              "   {'year': 2016, 'citations': 1},\n",
              "   {'year': 2017, 'citations': 20},\n",
              "   {'year': 2018, 'citations': 22},\n",
              "   {'year': 2019, 'citations': 13},\n",
              "   {'year': 2020, 'citations': 14},\n",
              "   {'year': 2021, 'citations': 18},\n",
              "   {'year': 2022, 'citations': 22},\n",
              "   {'year': 2023, 'citations': 1}]}}"
            ]
          },
          "execution_count": 46,
          "metadata": {},
          "output_type": "execute_result"
        }
      ],
      "source": [
        "l1[0]"
      ]
    },
    {
      "cell_type": "code",
      "execution_count": null,
      "metadata": {
        "id": "7E4wXSHaCt9E"
      },
      "outputs": [],
      "source": [
        "pd, c, pb, des, l = [],[],[],[], []\n",
        "for j in l1:\n",
        "  try:\n",
        "    pd.append(j['publication_date'])\n",
        "  except:\n",
        "    pd.append('')\n",
        "  try:\n",
        "    c.append(j['conference'])\n",
        "  except:\n",
        "    c.append('')\n",
        "  try:\n",
        "    pb.append(j['publisher'])\n",
        "  except:\n",
        "    pb.append('')\n",
        "  try:\n",
        "    des.append(j['description'])\n",
        "  except:\n",
        "    des.append('')\n",
        "  try:\n",
        "    l.append(j['link'])\n",
        "  except:\n",
        "    l.append('')\n"
      ]
    },
    {
      "cell_type": "code",
      "execution_count": null,
      "metadata": {
        "colab": {
          "base_uri": "https://localhost:8080/"
        },
        "id": "BYQyZgU8DP9I",
        "outputId": "1e7f1763-75a7-415d-da99-e60cacc7bb9e"
      },
      "outputs": [
        {
          "name": "stdout",
          "output_type": "stream",
          "text": [
            "['2016/1', '2006', '2007', '2006', '2006', '2003', '1996/2/1', '2013', '2020/5', '2016/1/2', '2011', '2021/4/1', '2017/2/17', '2012/12/3', '2009', '2017/11/25', '2017', '2012', '2017', '2012/12/14', '2012', '2006', '2020/12', '2014/11/1', '2012', '2021/5/1', '2014/11/2', '2014', '2013/11/26', '2012'] ['', '', '', '', '', '', '', '', '', '', '', '', '', '', '', '', '', '', '', '2012 International Conference on Machine Vision and Image Processing (MVIP)', '', '', '', '', '', '', '', 'Computational Intelligence, Cyber Security and Computational Models: Proceedings of ICC3, 2013', '', ''] ['Elsevier', '', '', 'The Youngnam Mathematical Society', 'The Youngnam Mathematical Society', '', '', '', 'Springer International Publishing', 'Taylor & Francis', 'Scientific Research Publishing', 'Elsevier', 'Taylor & Francis', 'Blackwell Publishing Ltd.', '', '', 'World Scientific Publishing Company', '', 'Indian Council of Agricultural Research', 'IEEE', '', '', 'Springer International Publishing', '', '', 'IOP Publishing', 'Taylor & Francis', 'Springer India', 'Springer Science & Business Media', ''] ['In this paper, a new similarity measure and a weighted similarity measure on intuitionistic fuzzy soft sets (IFSSs) are proposed and some of their basic properties are discussed. Using the proposed similarity measure, a relation (≈ α) between two IFSSs are defined and it is found that the defined relation is not an equivalence relation. Further, the effectiveness of the proposed similarity measure is demonstrated in a numerical example with the help of measure of performance and measure of error. Moreover, medical diagnosis problems have been exhibited through a hypothetical case study by using this proposed similarity measure. Finally, the proposed method is applied to 10 different medical data sets from UCI Machine Learning Repository datasets and its similarity measures are calculated. The corresponding performance measures, like, accuracy, sensitivity, specificity, ROC curves, AUC values, and F …', '', 'Operation approaches on semi-open sets and applications — Graz University of Technology Skip to main navigation Skip to search Skip to main content Graz University of Technology Home Graz University of Technology Logo English Deutsch Home Persons Research Outputs Research Units Projects Activities Prizes Press / Media Search by expertise, name or affiliation Operation approaches on semi-open sets and applications G. Sai Sundara Krishnan, Maximilian Ganster, K. Balachandran Institute of Analysis and Number Theory (5010) Research output: Contribution to journal › Article Overview Original language English Pages (from-to) 21-33 Journal Kochi journal of mathematics Volume 2 Publication status Published - 2007 Cite this APA Standard Harvard Vancouver Author BIBTEX RIS Powered by Pure, Scopus & Elsevier Fingerprint Engine™ © 2022 Elsevier BV We use cookies to help provide and enhance …', 'In this paper we introduce the concept of -preopen sets in a topological space together with its corresponding -preclosure and -preinterior operators and a new class of topology which is generated by the class of -preopen sets. Also we introduce -pre spaces (i= 0, , 1, 2) and study some of its properties and we proved that if is a regular operation, then is a -pre space. Finally we introduce -precontinuous mappings and study some of its properties.', 'In this paper we introduce the concept of -preopen sets in a topological space together with its corresponding -preclosure and -preinterior operators and a new class of topology which is generated by the class of -preopen sets. Also we introduce -pre spaces (i= 0, , 1, 2) and study some of its properties and we proved that if is a regular operation, then is a -pre space. Finally we introduce -precontinuous mappings and study some of its properties.', '', 'Endoscopic sinus surgery for frontal sinus mucocele is gaining popularity. A case study, and the CT scan of a large frontal mucocele with 1-year follow up is presented showing the lining of the sinus cavity well healed and the frontal sinus ostium as patent. Endoscopic sinus surgery, therefore, is a potentially useful method for treating large frontal mucoceles.', 'In this paper the notion of α-γ-open sets in a topological space together with its corresponding interior and closure operators are introduced. Further some of their basic properties are studied.', 'This paper presents a novel hybrid technique which is developed by incorporating the fractional derivatives in the generalised integral transform method. Homotopy analysis method is combined with fractional generalised integral transform method to solve the fractional order nonlinear differential equations. The performance of the proposed method is analysed by solving various categories of nonlinear fractional differential equations like Navier Stokes’s model and Riccatti equations, etc. Unlike the other analytical methods, the hybrid method provides a better way to control the convergence region of the obtained series solution through an auxiliary parameter h. Furthermore, as proposed in this paper, the ‘Fractional Generalised Homotopy Analysis Method’ along with the several examples reveal that this method can be effectively used as a tool for solving various kinds of nonlinear fractional differential equations.', 'In this paper, we introduce the concept of soft g* closed sets and soft g* open sets in soft topological space which are defined over an initial universe set with a fixed set of parameters together with its corresponding soft g* closure and soft g* interior operators. Also, we introduce the concept of soft and regular spaces and investigate the relationship between them.', 'Low profile antenna in communication is a new methodology. Fractal geometry is a methodology through which size reduction is achieved. A Self-similar fractal antenna using multicantor technique is proposed and experimentally studied. Space-filling cantors and self-similarity properties of fractal geometry have been adopted in the proposed antenna to miniaturize the size of antenna. The antenna is designed in such a way to operate at MICS band (Medical Implant communication Service) for wireless telemedicine application. The prototype antenna exhibits wideband characteristics and provides a good agreement of return loss (S11). Experimental return loss has been compared with that which is obtained using method of moments. The objective of using self-similar concept in antenna makes it flexible in terms of controlling the resonance and bandwidth. In this paper, the Self-similar property of fractal geometry is examined by maintaining return loss (S11) more than –30 dB approximately in all the iterations (n) and the prototype antenna has return loss greater than –10 dB and exhibits wideband characteristics.', 'This paper proposes the notion of a fractional generalised integral transform (Fractional G-transform) using modified Riemann-Liouville derivative with the Mittag-Leffler function as a kernel. We investigate the basic properties of the Fractional G-transform. In addition, the homotopy analysis is incorporated to introduce a hybrid Fractional Generalised Homotopy Analysis Method using Modified Riemann-Liouville Derivative, which is denoted as MRFGHAM. We highlight the merits of MRFGHAM and apply it to solve fractional nonlinear differential equations. The proposed method is implemented to formulate a fractional non-fatal disease epidemic model and to obtain the results of a spreading process subject to various settings of the fractional parameters. We also statistically validate the variations in the spread of the non-fatal disease obtained at different stages. Furthermore, the fractional power epidemic model is …', 'In this paper the concept of α-γ-compact spaces and α-γ0-compact spaces are introduced. Some of their properties are also studied. Further the concept of α-γ-Locally compact Spaces, α-γ-regular spaces α-γ and α-γ normal spaces are introduced. some of their properties are studied.', 'Much energy has been expended on using molecular tools in an attempt to understand the molecular basis of heterosis and predict heterotic response in plants. These attempts have met with mixed success. The focus of this review is the use of molecular markers as predictive tools in the context of practical hybrid plant breeding, not the use of molecular markers to understand the basis of heterosis.The term “heterosis” was coined by Shull in 1914, and refers to the manifestation of superiority of F1 performance relative to parental performance. The increase in vigor due to crossing,“heterosis,” and the decrease in vigor due to inbreeding,“inbreeding depression,” are linked in that each phenomenon defines the other. Heterosis has been utilized on a large scale for the production of crops such as maize, sorghum, pearl millet, rice, oilseeds, cotton, vegetables, and fruits, significantly boosting the production of these …', '', 'A set of 390 iso-cytoplasmic restorer lines were developed from 25 popular rice hybrids grown in India through pedigree breeding exercising selection for spikelet fertility, yield and extent of panicle exsertion were evaluated for various agromorphological traits. Correlation analysis showed that yield per plant was significantly correlated with number of tillers (0.208), panicle length (0.127) and spikelet fertility (0.134). Principal component analysis indicated that the first four principal components had eigenvalue of> 1.0 and cumulatively explained 74.3% of total variance. Grain characters namely, test weight (0.451), kernel length before cooking (0.418), kernel breadth before cooking (0.136) and spikelet fertility (0.402) contributed positively towards principal component I. Yield per plant showed a positively skewed distribution with panicle length and a nearly linear relationship with spikelet fertility. A core set of 21 genotypes capturing the entire range of phenotype for different traits, was identified from 390 genotypes using advanced M (maximization) strategy and statistically validated. Besides this, promising iso-cytoplasmic restorer lines originating from different hybrids were identified for various agromorphological traits. This is the first report on developing iso-cytoplasmic restorers from popular rice hybrids, which can be used in developing heterotic hybrids when crossed with diverse non-parental CMS lines.', 'The objective of this paper is to introduce the notion of fractional derivatives in the energy equations and to study the chaotic nature of the temperature distribution in a heat exchanger with variation of temperature dependent transport properties. The governing fractional partial differential equations are transformed to a set of recurrence relations using fractional differential transform method and solved using inverse transform. The approximate analytical solution obtained by the proposed method has good agreement with the existing results.', 'In supervised machine learning, a training set containing labeled instances is taken by a learning algorithm to construct a model that is subsequently used for determining the class label of new instances. Isotonic separation is a supervised machine learning technique in which classification is represented as a Linear Programming Problem (LPP) with an objective of minimizing the number of misclassifications. It is computationally expensive to solve the LPP using traditional methods for a large dataset. Characteristics of the training set such as size, presence of noisy data, influence the learning algorithm and classification performance. To resolve this issue, this paper introduces a new linearithmic time algorithm called Soft set based instance selection algorithm (SOFIA) which provides a condensed dataset for a learning algorithm. And, a hybrid classification algorithm, SOFIAIS which utilizes SOFIA for instance selection and isotonic separation (IS) for classification is introduced. Two sets of experimental studies are conducted on Wisconsin Breast Cancer dataset and the results are reported. First, experiments are performed on SOFIA-IS and the results are compared with isotonic separation and its variants. Then experiments are done on state of the art machine learning techniques by including SOFIA for instance selection and the results are compared with same techniques without SOFIA. Experimental and statistical results show that the condensed sets obtained by SOFIA are optimum, and SOFIA-IS and SOFIA based machine learning techniques are better in terms of classification accuracy, time and space complexity.', 'Four hybrids, viz, PH-1, 2, 4 and 8 and their parental lines were studied for developing identification keys using morphological characters. Out of 39 characters studied, fourteen qualitative and six quantitative characters were polymorphic for identifying the parents from the hybrids and also among themselves. Characters like stem anthocyanin pigmentation on upper one-third portion, fruit green shoulder, leaflet petiole attitude with respect to main axis, leaf serration, stem pubescence, fruit shape at blossom end, fruit shape in longitudinal section and stigma lobes were important for development of identification keys. These characters were stable during two growing seasons (rabi 2014-15 and rabi 2015-16) and no variation was observed for any character in any genotype. A combination of these morphological markers could effectively utilized for distinguishing all the hybrids and their parental lines under study.', \"Kovalevsky [8] introduced the tracing algorithm in abstract cellular complexes. In this paper we compared the algorithm with Moore's algorithm and implemented the algorithm with MATLAB. Finally we applied the algorithm to trace the boundaries of medical images.\", '', '', 'This paper aims to solve the Black–Scholes (B–S) model for the European options pricing problem using a hybrid method called fractional generalized homotopy analysis method (FGHAM). The convergence region of the B–S model solutions are clearly identified using h-curve and the closed form series solutions are produced using FGHAM. To verify the convergence of the proposed series solutions, sequence of errors are obtained by estimating the deviation between the exact solution and the series solution, which is increased in number of terms in the series. The convergence of sequence of errors is verified using the convergence criteria and the results are graphically illustrated. Moreover, the FGHAM approach has overcome the difficulties of applying multiple integration and differentiation procedures while obtaining the solution using well-established methods such as homotopy analysis method and …', 'In this paper, a Mean Potentiality Approach for a balanced solution of an Intuitionistic Fuzzy Soft Set (IFSS) based decision making problem is proposed using level soft sets. Further, a parameter reduction procedure has been used to reduce the choice parameter set with the help of the balanced algorithm of mean potentiality approach. Moreover, we implement this mean potentiality approach of a balanced solution of an IFSSs in medical diagnosis has been exhibiting with a hypothetical case study.', 'In this paper the notion of --irresolute functions in a topological space has been introduced and some of their properties are studied. Further the concept of -- continuous functions, --open functions and --closed functions have been introduced and the relationship among them are studied.', 'This paper proposes an efficient hybrid analytical method named the Generalized Homotopy Analysis Method (GHAM) for solving nonlinear differential equations. The proposed hybrid method consists of topology based Homotopy Analysis Method (HAM) and Laplace typed integral transform (G-transform). Compared with HAM, GHAM does not require the effort to perform repeated integration and differentiation, when it is applied to solve higher order differential equations. Compared with G-transform, GHAM serves as an effective approach to tackle higher-order nonlinear differential equations. The effectiveness of GHAM is illustrated through the analysis of numerical examples, and the obtained results are graphically depicted. Also, GHAM is effectively utilized to analyze the density of the forest cover incorporating various parameters, which include the seed reproduction, seed deposition, seed establishment rates …', 'In this paper, we introduced a new class of sets called γ*-generalized-pre-regular-closed (open) sets and its properties are studied. Also we obtained the notions of γ*-pre-regular- spaces and investigated some of its basic properties. In addition we defined γ*-pre-D sets and γ*-pre-Di spaces (i = 0, 1, 2) using γ*-pre-open sets and discussed their properties comprehensively analyzed their relationship.', 'The concept of abstract cellular complexes was introduced by Kovalevsky (Computer Vision, Graphics and Image Processing, 46:141–161, 1989) and established that the topology of cellular complex is the only possible topology of finite sets to describe the structure of images. Further, the topological notions of connectedness and continuity in abstract cellular complexes were introduced while using the notions of an open subcomplex, closed subcomplex, and boundary of a subcomplex, etc. In this paper, the notion of semi-open subcomplex in abstract cellular complex is introduced and some of its basic properties are studied by defining the notions of semi-closure, semi-frontier, and semi-interior. Further, a homogeneously n-dimensional complex is characterized while using the notion of semi-open subcomplexes. Introduced is also the concept of a quasi-solid in subcomplex. Finally, a new algorithm for …', 'This book contains cutting-edge research material presented by researchers, engineers, developers, and practitioners from academia and industry at the International Conference on Computational Intelligence, Cyber Security and Computational Models (ICC3) organized by PSG College of Technology, Coimbatore, India during December 19–21, 2013. The materials in the book include theory and applications to provide design, analysis, and modeling of the key areas. The book will be useful material for students, researchers, professionals, as well academicians in understanding current research trends and findings and future scope of research in computational intelligence, cyber security, and computational models.', 'In this paper, we introduced the concepts of (°, ¯¤)-generalized-pre-open (closed) mapping and (°¤, ¯)-generalized-pre-homeomorphism and studied some of their properties. Further we de¯ned (°¤, ¯¤)-generalized-pre-open (closed) mappings and (°¤, ¯¤)-generalized-pre-homeomorphism and character-ized them using °¤-gp.open (closed) sets and ¯¤-gp.open (closed) sets. Finally we characterized of °¤p-normal spaces and °¤p -regular spaces.'] ['https://www.sciencedirect.com/science/article/pii/S1568494615007796', 'https://cir.nii.ac.jp/crid/1570291226318352640', 'https://graz.pure.elsevier.com/en/publications/operation-approaches-on-semi-open-sets-and-applications', 'https://www.koreascience.or.kr/article/JAKO200617317986656.pdf', 'https://www.koreascience.or.kr/article/JAKO200617317986656.pdf', 'https://scholar.google.com/scholar?cluster=2444003189937788458&hl=en&oi=scholarr', 'https://europepmc.org/article/med/8816108', 'http://www.m-hikari.com/ijma/ijma-2013/ijma-9-12-2013/kalaivaniIJMA9-12-2013.pdf', 'https://link.springer.com/article/10.1007/s40314-020-1133-9', 'https://www.tandfonline.com/doi/abs/10.1080/09720502.2015.1103110', 'http://repository.embuni.ac.ke/handle/123456789/1080', 'https://www.sciencedirect.com/science/article/pii/S0307904X20306715', 'https://www.tandfonline.com/doi/abs/10.1080/09720502.2015.1104945', 'https://onlinelibrary.wiley.com/doi/pdf/10.1002/9781118473023#page=133', 'https://scholar.google.com/scholar?cluster=12823318446874899603&hl=en&oi=scholarr', 'https://www.isgpb.org/journal/index.php/IJGPB/article/view/21', 'https://scholar.google.com/scholar?cluster=7615622427429113781&hl=en&oi=scholarr', 'http://www.wseas.us/journal/pdf/information/2012/56-374.pdf', 'https://www.cabdirect.org/cabdirect/abstract/20183015765', 'https://ieeexplore.ieee.org/abstract/document/6428780/', 'https://scholar.google.com/scholar?cluster=9214182057354145007&hl=en&oi=scholarr', 'https://scholar.google.com/scholar?cluster=1168650398142181918&hl=en&oi=scholarr', 'https://link.springer.com/article/10.1007/s40314-020-01306-4', 'https://www.researchgate.net/profile/Muthu-Raaj-2/publication/277917955_A_Mean_Potentiality_approach_of_an_Intuitionistic_Fuzzy_Soft_Set_Based_Decision_Making_Problem_in_Medical_Science/links/5576a3ae08ae75363751b282/A-Mean-Potentiality-approach-of-an-Intuitionistic-Fuzzy-Soft-Set-Based-Decision-Making-Problem-in-Medical-Science.pdf', 'https://www.dbpia.co.kr/Journal/articleDetail?nodeId=NODE10832624', 'https://iopscience.iop.org/article/10.1088/1742-6596/1850/1/012065/meta', 'https://www.tandfonline.com/doi/abs/10.1080/09720502.2014.914278', 'https://link.springer.com/chapter/10.1007/978-81-322-1680-3_30', 'https://books.google.com/books?hl=en&lr=&id=PTbABAAAQBAJ&oi=fnd&pg=PR7&dq=info:Q81zadImOmsJ:scholar.google.com&ots=pmU5ij342M&sig=-kyid2-C8FfubSWxs-BL56Yps6E', 'https://www.dbpia.co.kr/Journal/articleDetail?nodeId=NODE10832620']\n"
          ]
        }
      ],
      "source": [
        "print(pd, c, pb, des, l)"
      ]
    },
    {
      "cell_type": "code",
      "execution_count": null,
      "metadata": {
        "colab": {
          "base_uri": "https://localhost:8080/"
        },
        "id": "1HQjxafTDX_G",
        "outputId": "8a7997ff-cb8a-4d71-8eb1-7166844f9e41"
      },
      "outputs": [
        {
          "data": {
            "text/plain": [
              "30"
            ]
          },
          "execution_count": 49,
          "metadata": {},
          "output_type": "execute_result"
        }
      ],
      "source": [
        "len(l1)"
      ]
    },
    {
      "cell_type": "code",
      "execution_count": null,
      "metadata": {
        "colab": {
          "base_uri": "https://localhost:8080/"
        },
        "id": "SgwCJjkGD1L2",
        "outputId": "bbdc93d5-f572-4374-9401-71f2e5138b4e"
      },
      "outputs": [
        {
          "data": {
            "text/plain": [
              "30"
            ]
          },
          "execution_count": 50,
          "metadata": {},
          "output_type": "execute_result"
        }
      ],
      "source": [
        "len(pd)"
      ]
    },
    {
      "cell_type": "code",
      "execution_count": null,
      "metadata": {
        "id": "v4GI6LM9D2nm"
      },
      "outputs": [],
      "source": [
        "key = []\n",
        "for i in des:\n",
        "  ke = []\n",
        "  if i != '':\n",
        "    text = i\n",
        "    nlp = spacy.load(\"en_core_web_sm\")\n",
        "    # add PyTextRank to the spaCy pipeline\n",
        "    nlp.add_pipe(\"textrank\")\n",
        "    doc = nlp(text)\n",
        "    # examine the top-ranked phrases in the document\n",
        "    for phrase in doc._.phrases[:10]:\n",
        "        ke.append(phrase.text)\n",
        "  key.append(ke)"
      ]
    },
    {
      "cell_type": "code",
      "execution_count": null,
      "metadata": {
        "colab": {
          "base_uri": "https://localhost:8080/"
        },
        "id": "GrAaDie9EP1H",
        "outputId": "35bfd41f-0791-4b22-e3d2-87cdbf6486c5"
      },
      "outputs": [
        {
          "data": {
            "text/plain": [
              "30"
            ]
          },
          "execution_count": 52,
          "metadata": {},
          "output_type": "execute_result"
        }
      ],
      "source": [
        "len(key)"
      ]
    },
    {
      "cell_type": "code",
      "execution_count": null,
      "metadata": {
        "colab": {
          "base_uri": "https://localhost:8080/"
        },
        "id": "I9a9CD5OEaXH",
        "outputId": "f2ed0a8e-1c69-4402-bd33-92143dde4253"
      },
      "outputs": [
        {
          "name": "stdout",
          "output_type": "stream",
          "text": [
            "['2016/1', '2006', '2007', '2006', '2006', '2003', '1996/2/1', '2013', '2020/5', '2016/1/2', '2011', '2021/4/1', '2017/2/17', '2012/12/3', '2009', '2017/11/25', '2017', '2012', '2017', '2012/12/14', '2012', '2006', '2020/12', '2014/11/1', '2012', '2021/5/1', '2014/11/2', '2014', '2013/11/26', '2012']\n"
          ]
        }
      ],
      "source": [
        "print(pd)"
      ]
    },
    {
      "cell_type": "code",
      "execution_count": null,
      "metadata": {
        "id": "FhMTGTkftrxR"
      },
      "outputs": [],
      "source": []
    },
    {
      "cell_type": "markdown",
      "metadata": {
        "id": "tZZbwM4rcxW7"
      },
      "source": [
        "# Topic Generation from the key_word"
      ]
    },
    {
      "cell_type": "code",
      "execution_count": null,
      "metadata": {
        "colab": {
          "base_uri": "https://localhost:8080/"
        },
        "id": "ATeCho8Cc0ZC",
        "outputId": "fe65aec6-c650-459c-a0fc-e6276154d3a0"
      },
      "outputs": [
        {
          "data": {
            "text/html": [
              "\n",
              "  <div id=\"df-e750434c-fa06-4d15-85db-0e60a7ff2589\">\n",
              "    <div class=\"colab-df-container\">\n",
              "      <div>\n",
              "<style scoped>\n",
              "    .dataframe tbody tr th:only-of-type {\n",
              "        vertical-align: middle;\n",
              "    }\n",
              "\n",
              "    .dataframe tbody tr th {\n",
              "        vertical-align: top;\n",
              "    }\n",
              "\n",
              "    .dataframe thead th {\n",
              "        text-align: right;\n",
              "    }\n",
              "</style>\n",
              "<table border=\"1\" class=\"dataframe\">\n",
              "  <thead>\n",
              "    <tr style=\"text-align: right;\">\n",
              "      <th></th>\n",
              "      <th>Unnamed: 0</th>\n",
              "      <th>name</th>\n",
              "      <th>interests</th>\n",
              "      <th>affiliations</th>\n",
              "      <th>cited_by_graph</th>\n",
              "      <th>article_title</th>\n",
              "      <th>article_published_year</th>\n",
              "      <th>authors</th>\n",
              "      <th>journals</th>\n",
              "      <th>citations</th>\n",
              "      <th>h_index</th>\n",
              "      <th>i10_index</th>\n",
              "      <th>Descrption_citation</th>\n",
              "      <th>Unnamed: 12</th>\n",
              "      <th>publication_date</th>\n",
              "      <th>conference</th>\n",
              "      <th>publisher</th>\n",
              "      <th>description</th>\n",
              "      <th>link</th>\n",
              "      <th>key_words</th>\n",
              "    </tr>\n",
              "  </thead>\n",
              "  <tbody>\n",
              "    <tr>\n",
              "      <th>0</th>\n",
              "      <td>0</td>\n",
              "      <td>Geetha Ganapathi</td>\n",
              "      <td>['Pattern Recognition', 'Machine Learning']</td>\n",
              "      <td>Professor, P S G College of Technology</td>\n",
              "      <td>[{'year': 2014, 'citations': 2}, {'year': 2015...</td>\n",
              "      <td>['A fuzzy hybrid framework for offline signatu...</td>\n",
              "      <td>['QbdPMtIAAAAJ:u5HHmVD_uO8C', 'QbdPMtIAAAAJ:u-...</td>\n",
              "      <td>{'G Ganapathi, NV Kumar', 'G Ganapathi, N Reth...</td>\n",
              "      <td>['Pattern Recognition and Machine Intelligence...</td>\n",
              "      <td>{'all': 18, 'since_2018': 10}</td>\n",
              "      <td>{'all': 2, 'since_2018': 1}</td>\n",
              "      <td>{'all': 1, 'since_2018': 1}</td>\n",
              "      <td>[{'title': 'A fuzzy hybrid framework for offli...</td>\n",
              "      <td>NaN</td>\n",
              "      <td>['2013', '2014/1/6', '2016', '2011']</td>\n",
              "      <td>['Pattern Recognition and Machine Intelligence...</td>\n",
              "      <td>['Springer Berlin Heidelberg', 'IEEE', 'Spring...</td>\n",
              "      <td>['Signatures are widely used means of personal...</td>\n",
              "      <td>['https://link.springer.com/chapter/10.1007/97...</td>\n",
              "      <td>[['fuzzy inference rules', 'fuzzy rough reduct...</td>\n",
              "    </tr>\n",
              "    <tr>\n",
              "      <th>1</th>\n",
              "      <td>1</td>\n",
              "      <td>sai sundara Krishnan</td>\n",
              "      <td>['OpeartionTopology', 'Digital Topology and So...</td>\n",
              "      <td>Professor,Department of Applied Mathematics an...</td>\n",
              "      <td>[{'year': 2004, 'citations': 12}, {'year': 200...</td>\n",
              "      <td>['A similarity measure of intuitionistic fuzzy...</td>\n",
              "      <td>['j5RFpaQAAAAJ:hC7cP41nSMkC', 'j5RFpaQAAAAJ:u5...</td>\n",
              "      <td>{'R Parimelazhagan, N Nagaveni, S sundara Kris...</td>\n",
              "      <td>['Applied Soft Computing 41 (41(2016)), 148–15...</td>\n",
              "      <td>{'all': 475, 'since_2018': 288}</td>\n",
              "      <td>{'all': 12, 'since_2018': 9}</td>\n",
              "      <td>{'all': 13, 'since_2018': 8}</td>\n",
              "      <td>[{}]</td>\n",
              "      <td>NaN</td>\n",
              "      <td>['2016/1', '2006', '2007', '2006', '2006', '20...</td>\n",
              "      <td>['', '', '', '', '', '', '', '', '', '', '', '...</td>\n",
              "      <td>['Elsevier', '', '', 'The Youngnam Mathematica...</td>\n",
              "      <td>['In this paper, a new similarity measure and ...</td>\n",
              "      <td>['https://www.sciencedirect.com/science/articl...</td>\n",
              "      <td>[['measure', 'IFSSs', 'intuitionistic fuzzy so...</td>\n",
              "    </tr>\n",
              "    <tr>\n",
              "      <th>2</th>\n",
              "      <td>2</td>\n",
              "      <td>Muthukrishnan, Senthil Kumar</td>\n",
              "      <td>['Retrial Queue', 'Queueing Theory', 'Communic...</td>\n",
              "      <td>Professor of Applied Mathematics and Computati...</td>\n",
              "      <td>[{'year': 2009, 'citations': 1}, {'year': 2010...</td>\n",
              "      <td>['On the single server Batch Arrival Retrial Q...</td>\n",
              "      <td>['sh3pjU8AAAAJ:d1gkVwhDpl0C', 'sh3pjU8AAAAJ:9y...</td>\n",
              "      <td>{'K Myilsamy, A Satheesh Kumar, SK Muthukrishn...</td>\n",
              "      <td>['Quality Technology and Quantitative Manageme...</td>\n",
              "      <td>{'all': 344, 'since_2018': 200}</td>\n",
              "      <td>{'all': 12, 'since_2018': 8}</td>\n",
              "      <td>{'all': 14, 'since_2018': 7}</td>\n",
              "      <td>[{}]</td>\n",
              "      <td>NaN</td>\n",
              "      <td>['2008', '2010/1/1', '2014/7', '2020/12', '201...</td>\n",
              "      <td>['', '', '', '', '', '', '', '', '', '', '', '...</td>\n",
              "      <td>['', 'Inderscience Enterprises Ltd', 'IEEE', '...</td>\n",
              "      <td>['We consider a single server retrial queue wi...</td>\n",
              "      <td>['https://www.tandfonline.com/doi/abs/10.1080/...</td>\n",
              "      <td>[['retrial group', 'Bernoulli schedule', 'expe...</td>\n",
              "    </tr>\n",
              "    <tr>\n",
              "      <th>3</th>\n",
              "      <td>3</td>\n",
              "      <td>MOHANRAJ NATARAJAN</td>\n",
              "      <td>['Software Engineering', 'OOAD', 'Agile Softwa...</td>\n",
              "      <td>Associate Professor</td>\n",
              "      <td>NaN</td>\n",
              "      <td>['Distributed Pair Programming: A Survey', 'In...</td>\n",
              "      <td>['Ln8nvagAAAAJ:u-x6o8ySG0sC', 'Ln8nvagAAAAJ:d1...</td>\n",
              "      <td>{'N Mohanraj, A Sankar, VS Kumaran', 'N Mohanr...</td>\n",
              "      <td>['International Journal of Engineering Researc...</td>\n",
              "      <td>{'all': 1, 'since_2018': 0}</td>\n",
              "      <td>{'all': 1, 'since_2018': 0}</td>\n",
              "      <td>{'all': 0, 'since_2018': 0}</td>\n",
              "      <td>[{'title': 'Distributed Pair Programming: A Su...</td>\n",
              "      <td>NaN</td>\n",
              "      <td>NaN</td>\n",
              "      <td>NaN</td>\n",
              "      <td>NaN</td>\n",
              "      <td>NaN</td>\n",
              "      <td>['https://citeseerx.ist.psu.edu/document?repid...</td>\n",
              "      <td>[['distributed pair programming', 'pair progra...</td>\n",
              "    </tr>\n",
              "    <tr>\n",
              "      <th>4</th>\n",
              "      <td>4</td>\n",
              "      <td>Shina Sheen</td>\n",
              "      <td>['Malware detection', 'Network security', 'Dat...</td>\n",
              "      <td>Associate Professor, PSG College of Technology...</td>\n",
              "      <td>[{'year': 2009, 'citations': 1}, {'year': 2010...</td>\n",
              "      <td>['Android based malware detection using a mult...</td>\n",
              "      <td>['d0ptyhgAAAAJ:qjMakFHDy7sC', 'd0ptyhgAAAAJ:u5...</td>\n",
              "      <td>{'S Sheen, A Ramalingam', 'S Sheen, R Anitha, ...</td>\n",
              "      <td>['Neurocomputing 151, 905-912, 2015', 'TENCON ...</td>\n",
              "      <td>{'all': 299, 'since_2018': 187}</td>\n",
              "      <td>{'all': 8, 'since_2018': 7}</td>\n",
              "      <td>{'all': 6, 'since_2018': 6}</td>\n",
              "      <td>[{'title': 'Android based malware detection us...</td>\n",
              "      <td>NaN</td>\n",
              "      <td>['2015/3/5', '2008/11/19', '2013/10/15', '2018...</td>\n",
              "      <td>['', 'TENCON 2008-2008 IEEE Region 10 Conferen...</td>\n",
              "      <td>['Elsevier', 'IEEE', 'North-Holland', 'IEEE', ...</td>\n",
              "      <td>['Smart mobile device usage has expanded at a ...</td>\n",
              "      <td>['https://www.sciencedirect.com/science/articl...</td>\n",
              "      <td>[['Android based malware', 'multifeature colla...</td>\n",
              "    </tr>\n",
              "  </tbody>\n",
              "</table>\n",
              "</div>\n",
              "      <button class=\"colab-df-convert\" onclick=\"convertToInteractive('df-e750434c-fa06-4d15-85db-0e60a7ff2589')\"\n",
              "              title=\"Convert this dataframe to an interactive table.\"\n",
              "              style=\"display:none;\">\n",
              "        \n",
              "  <svg xmlns=\"http://www.w3.org/2000/svg\" height=\"24px\"viewBox=\"0 0 24 24\"\n",
              "       width=\"24px\">\n",
              "    <path d=\"M0 0h24v24H0V0z\" fill=\"none\"/>\n",
              "    <path d=\"M18.56 5.44l.94 2.06.94-2.06 2.06-.94-2.06-.94-.94-2.06-.94 2.06-2.06.94zm-11 1L8.5 8.5l.94-2.06 2.06-.94-2.06-.94L8.5 2.5l-.94 2.06-2.06.94zm10 10l.94 2.06.94-2.06 2.06-.94-2.06-.94-.94-2.06-.94 2.06-2.06.94z\"/><path d=\"M17.41 7.96l-1.37-1.37c-.4-.4-.92-.59-1.43-.59-.52 0-1.04.2-1.43.59L10.3 9.45l-7.72 7.72c-.78.78-.78 2.05 0 2.83L4 21.41c.39.39.9.59 1.41.59.51 0 1.02-.2 1.41-.59l7.78-7.78 2.81-2.81c.8-.78.8-2.07 0-2.86zM5.41 20L4 18.59l7.72-7.72 1.47 1.35L5.41 20z\"/>\n",
              "  </svg>\n",
              "      </button>\n",
              "      \n",
              "  <style>\n",
              "    .colab-df-container {\n",
              "      display:flex;\n",
              "      flex-wrap:wrap;\n",
              "      gap: 12px;\n",
              "    }\n",
              "\n",
              "    .colab-df-convert {\n",
              "      background-color: #E8F0FE;\n",
              "      border: none;\n",
              "      border-radius: 50%;\n",
              "      cursor: pointer;\n",
              "      display: none;\n",
              "      fill: #1967D2;\n",
              "      height: 32px;\n",
              "      padding: 0 0 0 0;\n",
              "      width: 32px;\n",
              "    }\n",
              "\n",
              "    .colab-df-convert:hover {\n",
              "      background-color: #E2EBFA;\n",
              "      box-shadow: 0px 1px 2px rgba(60, 64, 67, 0.3), 0px 1px 3px 1px rgba(60, 64, 67, 0.15);\n",
              "      fill: #174EA6;\n",
              "    }\n",
              "\n",
              "    [theme=dark] .colab-df-convert {\n",
              "      background-color: #3B4455;\n",
              "      fill: #D2E3FC;\n",
              "    }\n",
              "\n",
              "    [theme=dark] .colab-df-convert:hover {\n",
              "      background-color: #434B5C;\n",
              "      box-shadow: 0px 1px 3px 1px rgba(0, 0, 0, 0.15);\n",
              "      filter: drop-shadow(0px 1px 2px rgba(0, 0, 0, 0.3));\n",
              "      fill: #FFFFFF;\n",
              "    }\n",
              "  </style>\n",
              "\n",
              "      <script>\n",
              "        const buttonEl =\n",
              "          document.querySelector('#df-e750434c-fa06-4d15-85db-0e60a7ff2589 button.colab-df-convert');\n",
              "        buttonEl.style.display =\n",
              "          google.colab.kernel.accessAllowed ? 'block' : 'none';\n",
              "\n",
              "        async function convertToInteractive(key) {\n",
              "          const element = document.querySelector('#df-e750434c-fa06-4d15-85db-0e60a7ff2589');\n",
              "          const dataTable =\n",
              "            await google.colab.kernel.invokeFunction('convertToInteractive',\n",
              "                                                     [key], {});\n",
              "          if (!dataTable) return;\n",
              "\n",
              "          const docLinkHtml = 'Like what you see? Visit the ' +\n",
              "            '<a target=\"_blank\" href=https://colab.research.google.com/notebooks/data_table.ipynb>data table notebook</a>'\n",
              "            + ' to learn more about interactive tables.';\n",
              "          element.innerHTML = '';\n",
              "          dataTable['output_type'] = 'display_data';\n",
              "          await google.colab.output.renderOutput(dataTable, element);\n",
              "          const docLink = document.createElement('div');\n",
              "          docLink.innerHTML = docLinkHtml;\n",
              "          element.appendChild(docLink);\n",
              "        }\n",
              "      </script>\n",
              "    </div>\n",
              "  </div>\n",
              "  "
            ],
            "text/plain": [
              "   Unnamed: 0                          name  \\\n",
              "0           0              Geetha Ganapathi   \n",
              "1           1          sai sundara Krishnan   \n",
              "2           2  Muthukrishnan, Senthil Kumar   \n",
              "3           3            MOHANRAJ NATARAJAN   \n",
              "4           4                   Shina Sheen   \n",
              "\n",
              "                                           interests  \\\n",
              "0        ['Pattern Recognition', 'Machine Learning']   \n",
              "1  ['OpeartionTopology', 'Digital Topology and So...   \n",
              "2  ['Retrial Queue', 'Queueing Theory', 'Communic...   \n",
              "3  ['Software Engineering', 'OOAD', 'Agile Softwa...   \n",
              "4  ['Malware detection', 'Network security', 'Dat...   \n",
              "\n",
              "                                        affiliations  \\\n",
              "0             Professor, P S G College of Technology   \n",
              "1  Professor,Department of Applied Mathematics an...   \n",
              "2  Professor of Applied Mathematics and Computati...   \n",
              "3                                Associate Professor   \n",
              "4  Associate Professor, PSG College of Technology...   \n",
              "\n",
              "                                      cited_by_graph  \\\n",
              "0  [{'year': 2014, 'citations': 2}, {'year': 2015...   \n",
              "1  [{'year': 2004, 'citations': 12}, {'year': 200...   \n",
              "2  [{'year': 2009, 'citations': 1}, {'year': 2010...   \n",
              "3                                                NaN   \n",
              "4  [{'year': 2009, 'citations': 1}, {'year': 2010...   \n",
              "\n",
              "                                       article_title  \\\n",
              "0  ['A fuzzy hybrid framework for offline signatu...   \n",
              "1  ['A similarity measure of intuitionistic fuzzy...   \n",
              "2  ['On the single server Batch Arrival Retrial Q...   \n",
              "3  ['Distributed Pair Programming: A Survey', 'In...   \n",
              "4  ['Android based malware detection using a mult...   \n",
              "\n",
              "                              article_published_year  \\\n",
              "0  ['QbdPMtIAAAAJ:u5HHmVD_uO8C', 'QbdPMtIAAAAJ:u-...   \n",
              "1  ['j5RFpaQAAAAJ:hC7cP41nSMkC', 'j5RFpaQAAAAJ:u5...   \n",
              "2  ['sh3pjU8AAAAJ:d1gkVwhDpl0C', 'sh3pjU8AAAAJ:9y...   \n",
              "3  ['Ln8nvagAAAAJ:u-x6o8ySG0sC', 'Ln8nvagAAAAJ:d1...   \n",
              "4  ['d0ptyhgAAAAJ:qjMakFHDy7sC', 'd0ptyhgAAAAJ:u5...   \n",
              "\n",
              "                                             authors  \\\n",
              "0  {'G Ganapathi, NV Kumar', 'G Ganapathi, N Reth...   \n",
              "1  {'R Parimelazhagan, N Nagaveni, S sundara Kris...   \n",
              "2  {'K Myilsamy, A Satheesh Kumar, SK Muthukrishn...   \n",
              "3  {'N Mohanraj, A Sankar, VS Kumaran', 'N Mohanr...   \n",
              "4  {'S Sheen, A Ramalingam', 'S Sheen, R Anitha, ...   \n",
              "\n",
              "                                            journals  \\\n",
              "0  ['Pattern Recognition and Machine Intelligence...   \n",
              "1  ['Applied Soft Computing 41 (41(2016)), 148–15...   \n",
              "2  ['Quality Technology and Quantitative Manageme...   \n",
              "3  ['International Journal of Engineering Researc...   \n",
              "4  ['Neurocomputing 151, 905-912, 2015', 'TENCON ...   \n",
              "\n",
              "                         citations                       h_index  \\\n",
              "0    {'all': 18, 'since_2018': 10}   {'all': 2, 'since_2018': 1}   \n",
              "1  {'all': 475, 'since_2018': 288}  {'all': 12, 'since_2018': 9}   \n",
              "2  {'all': 344, 'since_2018': 200}  {'all': 12, 'since_2018': 8}   \n",
              "3      {'all': 1, 'since_2018': 0}   {'all': 1, 'since_2018': 0}   \n",
              "4  {'all': 299, 'since_2018': 187}   {'all': 8, 'since_2018': 7}   \n",
              "\n",
              "                      i10_index  \\\n",
              "0   {'all': 1, 'since_2018': 1}   \n",
              "1  {'all': 13, 'since_2018': 8}   \n",
              "2  {'all': 14, 'since_2018': 7}   \n",
              "3   {'all': 0, 'since_2018': 0}   \n",
              "4   {'all': 6, 'since_2018': 6}   \n",
              "\n",
              "                                 Descrption_citation Unnamed: 12  \\\n",
              "0  [{'title': 'A fuzzy hybrid framework for offli...         NaN   \n",
              "1                                               [{}]         NaN   \n",
              "2                                               [{}]         NaN   \n",
              "3  [{'title': 'Distributed Pair Programming: A Su...         NaN   \n",
              "4  [{'title': 'Android based malware detection us...         NaN   \n",
              "\n",
              "                                    publication_date  \\\n",
              "0               ['2013', '2014/1/6', '2016', '2011']   \n",
              "1  ['2016/1', '2006', '2007', '2006', '2006', '20...   \n",
              "2  ['2008', '2010/1/1', '2014/7', '2020/12', '201...   \n",
              "3                                                NaN   \n",
              "4  ['2015/3/5', '2008/11/19', '2013/10/15', '2018...   \n",
              "\n",
              "                                          conference  \\\n",
              "0  ['Pattern Recognition and Machine Intelligence...   \n",
              "1  ['', '', '', '', '', '', '', '', '', '', '', '...   \n",
              "2  ['', '', '', '', '', '', '', '', '', '', '', '...   \n",
              "3                                                NaN   \n",
              "4  ['', 'TENCON 2008-2008 IEEE Region 10 Conferen...   \n",
              "\n",
              "                                           publisher  \\\n",
              "0  ['Springer Berlin Heidelberg', 'IEEE', 'Spring...   \n",
              "1  ['Elsevier', '', '', 'The Youngnam Mathematica...   \n",
              "2  ['', 'Inderscience Enterprises Ltd', 'IEEE', '...   \n",
              "3                                                NaN   \n",
              "4  ['Elsevier', 'IEEE', 'North-Holland', 'IEEE', ...   \n",
              "\n",
              "                                         description  \\\n",
              "0  ['Signatures are widely used means of personal...   \n",
              "1  ['In this paper, a new similarity measure and ...   \n",
              "2  ['We consider a single server retrial queue wi...   \n",
              "3                                                NaN   \n",
              "4  ['Smart mobile device usage has expanded at a ...   \n",
              "\n",
              "                                                link  \\\n",
              "0  ['https://link.springer.com/chapter/10.1007/97...   \n",
              "1  ['https://www.sciencedirect.com/science/articl...   \n",
              "2  ['https://www.tandfonline.com/doi/abs/10.1080/...   \n",
              "3  ['https://citeseerx.ist.psu.edu/document?repid...   \n",
              "4  ['https://www.sciencedirect.com/science/articl...   \n",
              "\n",
              "                                           key_words  \n",
              "0  [['fuzzy inference rules', 'fuzzy rough reduct...  \n",
              "1  [['measure', 'IFSSs', 'intuitionistic fuzzy so...  \n",
              "2  [['retrial group', 'Bernoulli schedule', 'expe...  \n",
              "3  [['distributed pair programming', 'pair progra...  \n",
              "4  [['Android based malware', 'multifeature colla...  "
            ]
          },
          "execution_count": 6,
          "metadata": {},
          "output_type": "execute_result"
        }
      ],
      "source": [
        "data = pd.read_csv(\"/content/drive/MyDrive/Sem8/NLP/final_data_set - final_data_set.csv\")\n",
        "data.head()"
      ]
    },
    {
      "cell_type": "code",
      "execution_count": null,
      "metadata": {
        "id": "ByBzbfI3fhn8"
      },
      "outputs": [],
      "source": [
        "data['key_words'] = data['key_words'].apply(lambda x: ast.literal_eval(x))"
      ]
    },
    {
      "cell_type": "code",
      "execution_count": null,
      "metadata": {
        "colab": {
          "base_uri": "https://localhost:8080/"
        },
        "id": "P_2vori4f28L",
        "outputId": "ebf1f760-f128-4ff9-e422-69279d6fcc16"
      },
      "outputs": [
        {
          "data": {
            "text/plain": [
              "['fuzzy techniques',\n",
              " 'fuzzy sets / intuitionistic fuzzy sets',\n",
              " 'image contrast enhancement',\n",
              " 'Signature verification',\n",
              " 'image enhancement',\n",
              " 'signature images',\n",
              " 'feature extraction',\n",
              " 'verification',\n",
              " 'techniques',\n",
              " 'classification accuracy']"
            ]
          },
          "execution_count": 8,
          "metadata": {},
          "output_type": "execute_result"
        }
      ],
      "source": [
        "data['key_words'][0][1]"
      ]
    },
    {
      "cell_type": "markdown",
      "metadata": {
        "id": "Qy5BkQvMgwpf"
      },
      "source": [
        "## Generating topics from key_words"
      ]
    },
    {
      "cell_type": "code",
      "execution_count": null,
      "metadata": {
        "id": "VcF7GAS3gC6d"
      },
      "outputs": [],
      "source": [
        "def combine_key(x):\n",
        "  t = []\n",
        "  for i in x:\n",
        "    if i != []:\n",
        "      i = list(set(i))\n",
        "      s = \" \".join(i)\n",
        "      t.append(s)\n",
        "    else:\n",
        "      continue\n",
        "  return t"
      ]
    },
    {
      "cell_type": "code",
      "execution_count": null,
      "metadata": {
        "colab": {
          "base_uri": "https://localhost:8080/"
        },
        "id": "jSAYapUZhS5G",
        "outputId": "977174c3-0996-485f-faca-103fcce2a2eb"
      },
      "outputs": [
        {
          "data": {
            "text/html": [
              "\n",
              "  <div id=\"df-e8859740-1193-49b0-ac71-78bdaab96aef\">\n",
              "    <div class=\"colab-df-container\">\n",
              "      <div>\n",
              "<style scoped>\n",
              "    .dataframe tbody tr th:only-of-type {\n",
              "        vertical-align: middle;\n",
              "    }\n",
              "\n",
              "    .dataframe tbody tr th {\n",
              "        vertical-align: top;\n",
              "    }\n",
              "\n",
              "    .dataframe thead th {\n",
              "        text-align: right;\n",
              "    }\n",
              "</style>\n",
              "<table border=\"1\" class=\"dataframe\">\n",
              "  <thead>\n",
              "    <tr style=\"text-align: right;\">\n",
              "      <th></th>\n",
              "      <th>name</th>\n",
              "      <th>key_words</th>\n",
              "      <th>authors</th>\n",
              "      <th>article_title</th>\n",
              "    </tr>\n",
              "  </thead>\n",
              "  <tbody>\n",
              "    <tr>\n",
              "      <th>0</th>\n",
              "      <td>Geetha Ganapathi</td>\n",
              "      <td>[[fuzzy inference rules, fuzzy rough reduction...</td>\n",
              "      <td>{'G Ganapathi, NV Kumar', 'G Ganapathi, N Reth...</td>\n",
              "      <td>['A fuzzy hybrid framework for offline signatu...</td>\n",
              "    </tr>\n",
              "    <tr>\n",
              "      <th>1</th>\n",
              "      <td>sai sundara Krishnan</td>\n",
              "      <td>[[measure, IFSSs, intuitionistic fuzzy soft se...</td>\n",
              "      <td>{'R Parimelazhagan, N Nagaveni, S sundara Kris...</td>\n",
              "      <td>['A similarity measure of intuitionistic fuzzy...</td>\n",
              "    </tr>\n",
              "    <tr>\n",
              "      <th>2</th>\n",
              "      <td>Muthukrishnan, Senthil Kumar</td>\n",
              "      <td>[[retrial group, Bernoulli schedule, expected ...</td>\n",
              "      <td>{'K Myilsamy, A Satheesh Kumar, SK Muthukrishn...</td>\n",
              "      <td>['On the single server Batch Arrival Retrial Q...</td>\n",
              "    </tr>\n",
              "    <tr>\n",
              "      <th>3</th>\n",
              "      <td>MOHANRAJ NATARAJAN</td>\n",
              "      <td>[[distributed pair programming, pair programmi...</td>\n",
              "      <td>{'N Mohanraj, A Sankar, VS Kumaran', 'N Mohanr...</td>\n",
              "      <td>['Distributed Pair Programming: A Survey', 'In...</td>\n",
              "    </tr>\n",
              "    <tr>\n",
              "      <th>4</th>\n",
              "      <td>Shina Sheen</td>\n",
              "      <td>[[Android based malware, multifeature collabor...</td>\n",
              "      <td>{'S Sheen, A Ramalingam', 'S Sheen, R Anitha, ...</td>\n",
              "      <td>['Android based malware detection using a mult...</td>\n",
              "    </tr>\n",
              "  </tbody>\n",
              "</table>\n",
              "</div>\n",
              "      <button class=\"colab-df-convert\" onclick=\"convertToInteractive('df-e8859740-1193-49b0-ac71-78bdaab96aef')\"\n",
              "              title=\"Convert this dataframe to an interactive table.\"\n",
              "              style=\"display:none;\">\n",
              "        \n",
              "  <svg xmlns=\"http://www.w3.org/2000/svg\" height=\"24px\"viewBox=\"0 0 24 24\"\n",
              "       width=\"24px\">\n",
              "    <path d=\"M0 0h24v24H0V0z\" fill=\"none\"/>\n",
              "    <path d=\"M18.56 5.44l.94 2.06.94-2.06 2.06-.94-2.06-.94-.94-2.06-.94 2.06-2.06.94zm-11 1L8.5 8.5l.94-2.06 2.06-.94-2.06-.94L8.5 2.5l-.94 2.06-2.06.94zm10 10l.94 2.06.94-2.06 2.06-.94-2.06-.94-.94-2.06-.94 2.06-2.06.94z\"/><path d=\"M17.41 7.96l-1.37-1.37c-.4-.4-.92-.59-1.43-.59-.52 0-1.04.2-1.43.59L10.3 9.45l-7.72 7.72c-.78.78-.78 2.05 0 2.83L4 21.41c.39.39.9.59 1.41.59.51 0 1.02-.2 1.41-.59l7.78-7.78 2.81-2.81c.8-.78.8-2.07 0-2.86zM5.41 20L4 18.59l7.72-7.72 1.47 1.35L5.41 20z\"/>\n",
              "  </svg>\n",
              "      </button>\n",
              "      \n",
              "  <style>\n",
              "    .colab-df-container {\n",
              "      display:flex;\n",
              "      flex-wrap:wrap;\n",
              "      gap: 12px;\n",
              "    }\n",
              "\n",
              "    .colab-df-convert {\n",
              "      background-color: #E8F0FE;\n",
              "      border: none;\n",
              "      border-radius: 50%;\n",
              "      cursor: pointer;\n",
              "      display: none;\n",
              "      fill: #1967D2;\n",
              "      height: 32px;\n",
              "      padding: 0 0 0 0;\n",
              "      width: 32px;\n",
              "    }\n",
              "\n",
              "    .colab-df-convert:hover {\n",
              "      background-color: #E2EBFA;\n",
              "      box-shadow: 0px 1px 2px rgba(60, 64, 67, 0.3), 0px 1px 3px 1px rgba(60, 64, 67, 0.15);\n",
              "      fill: #174EA6;\n",
              "    }\n",
              "\n",
              "    [theme=dark] .colab-df-convert {\n",
              "      background-color: #3B4455;\n",
              "      fill: #D2E3FC;\n",
              "    }\n",
              "\n",
              "    [theme=dark] .colab-df-convert:hover {\n",
              "      background-color: #434B5C;\n",
              "      box-shadow: 0px 1px 3px 1px rgba(0, 0, 0, 0.15);\n",
              "      filter: drop-shadow(0px 1px 2px rgba(0, 0, 0, 0.3));\n",
              "      fill: #FFFFFF;\n",
              "    }\n",
              "  </style>\n",
              "\n",
              "      <script>\n",
              "        const buttonEl =\n",
              "          document.querySelector('#df-e8859740-1193-49b0-ac71-78bdaab96aef button.colab-df-convert');\n",
              "        buttonEl.style.display =\n",
              "          google.colab.kernel.accessAllowed ? 'block' : 'none';\n",
              "\n",
              "        async function convertToInteractive(key) {\n",
              "          const element = document.querySelector('#df-e8859740-1193-49b0-ac71-78bdaab96aef');\n",
              "          const dataTable =\n",
              "            await google.colab.kernel.invokeFunction('convertToInteractive',\n",
              "                                                     [key], {});\n",
              "          if (!dataTable) return;\n",
              "\n",
              "          const docLinkHtml = 'Like what you see? Visit the ' +\n",
              "            '<a target=\"_blank\" href=https://colab.research.google.com/notebooks/data_table.ipynb>data table notebook</a>'\n",
              "            + ' to learn more about interactive tables.';\n",
              "          element.innerHTML = '';\n",
              "          dataTable['output_type'] = 'display_data';\n",
              "          await google.colab.output.renderOutput(dataTable, element);\n",
              "          const docLink = document.createElement('div');\n",
              "          docLink.innerHTML = docLinkHtml;\n",
              "          element.appendChild(docLink);\n",
              "        }\n",
              "      </script>\n",
              "    </div>\n",
              "  </div>\n",
              "  "
            ],
            "text/plain": [
              "                           name  \\\n",
              "0              Geetha Ganapathi   \n",
              "1          sai sundara Krishnan   \n",
              "2  Muthukrishnan, Senthil Kumar   \n",
              "3            MOHANRAJ NATARAJAN   \n",
              "4                   Shina Sheen   \n",
              "\n",
              "                                           key_words  \\\n",
              "0  [[fuzzy inference rules, fuzzy rough reduction...   \n",
              "1  [[measure, IFSSs, intuitionistic fuzzy soft se...   \n",
              "2  [[retrial group, Bernoulli schedule, expected ...   \n",
              "3  [[distributed pair programming, pair programmi...   \n",
              "4  [[Android based malware, multifeature collabor...   \n",
              "\n",
              "                                             authors  \\\n",
              "0  {'G Ganapathi, NV Kumar', 'G Ganapathi, N Reth...   \n",
              "1  {'R Parimelazhagan, N Nagaveni, S sundara Kris...   \n",
              "2  {'K Myilsamy, A Satheesh Kumar, SK Muthukrishn...   \n",
              "3  {'N Mohanraj, A Sankar, VS Kumaran', 'N Mohanr...   \n",
              "4  {'S Sheen, A Ramalingam', 'S Sheen, R Anitha, ...   \n",
              "\n",
              "                                       article_title  \n",
              "0  ['A fuzzy hybrid framework for offline signatu...  \n",
              "1  ['A similarity measure of intuitionistic fuzzy...  \n",
              "2  ['On the single server Batch Arrival Retrial Q...  \n",
              "3  ['Distributed Pair Programming: A Survey', 'In...  \n",
              "4  ['Android based malware detection using a mult...  "
            ]
          },
          "execution_count": 10,
          "metadata": {},
          "output_type": "execute_result"
        }
      ],
      "source": [
        "df1 = data[['name', 'key_words', 'authors', 'article_title']]\n",
        "df1.head()"
      ]
    },
    {
      "cell_type": "code",
      "execution_count": null,
      "metadata": {
        "colab": {
          "base_uri": "https://localhost:8080/"
        },
        "id": "IDfLN7k2nr1N",
        "outputId": "17c7272c-bfe7-4a66-dc5e-33a07aaef958"
      },
      "outputs": [
        {
          "name": "stderr",
          "output_type": "stream",
          "text": [
            "<ipython-input-11-cd8166a17bda>:1: SettingWithCopyWarning: \n",
            "A value is trying to be set on a copy of a slice from a DataFrame.\n",
            "Try using .loc[row_indexer,col_indexer] = value instead\n",
            "\n",
            "See the caveats in the documentation: https://pandas.pydata.org/pandas-docs/stable/user_guide/indexing.html#returning-a-view-versus-a-copy\n",
            "  df1['authors'] = df1['authors'].apply(lambda x: ast.literal_eval(x))\n"
          ]
        }
      ],
      "source": [
        "df1['authors'] = df1['authors'].apply(lambda x: ast.literal_eval(x))"
      ]
    },
    {
      "cell_type": "code",
      "execution_count": null,
      "metadata": {
        "id": "3zp42aHqoiAU"
      },
      "outputs": [],
      "source": [
        "def combine(x):\n",
        "  l = []\n",
        "  for i in x:\n",
        "    j = i.split(',')\n",
        "    k = [w.strip() for w in j]\n",
        "    for w in k:\n",
        "      if w not in l:\n",
        "          l.append(w)\n",
        "  return l"
      ]
    },
    {
      "cell_type": "code",
      "execution_count": null,
      "metadata": {
        "colab": {
          "base_uri": "https://localhost:8080/"
        },
        "id": "8r3BiCVFnlOd",
        "outputId": "4a025a24-1944-440a-ce64-8f30ec60f54c"
      },
      "outputs": [
        {
          "name": "stderr",
          "output_type": "stream",
          "text": [
            "<ipython-input-13-bacde1077d2f>:1: SettingWithCopyWarning: \n",
            "A value is trying to be set on a copy of a slice from a DataFrame.\n",
            "Try using .loc[row_indexer,col_indexer] = value instead\n",
            "\n",
            "See the caveats in the documentation: https://pandas.pydata.org/pandas-docs/stable/user_guide/indexing.html#returning-a-view-versus-a-copy\n",
            "  df1['authors'] = df1['authors'].apply(lambda x: combine(x))\n"
          ]
        }
      ],
      "source": [
        "df1['authors'] = df1['authors'].apply(lambda x: combine(x))"
      ]
    },
    {
      "cell_type": "code",
      "execution_count": null,
      "metadata": {
        "colab": {
          "base_uri": "https://localhost:8080/"
        },
        "id": "usVG8IbdhaBI",
        "outputId": "1ef26fb0-5119-4da8-bb84-cd838c7b97dc"
      },
      "outputs": [
        {
          "name": "stderr",
          "output_type": "stream",
          "text": [
            "<ipython-input-14-aadf14337052>:1: SettingWithCopyWarning: \n",
            "A value is trying to be set on a copy of a slice from a DataFrame.\n",
            "Try using .loc[row_indexer,col_indexer] = value instead\n",
            "\n",
            "See the caveats in the documentation: https://pandas.pydata.org/pandas-docs/stable/user_guide/indexing.html#returning-a-view-versus-a-copy\n",
            "  df1['topics'] = df1['key_words'].apply(lambda X: combine_key(X))\n"
          ]
        }
      ],
      "source": [
        "df1['topics'] = df1['key_words'].apply(lambda X: combine_key(X))"
      ]
    },
    {
      "cell_type": "code",
      "execution_count": null,
      "metadata": {
        "colab": {
          "base_uri": "https://localhost:8080/"
        },
        "id": "bnVljMraihhA",
        "outputId": "1c66796b-906c-41db-f5d3-93fd3b8e7a5d"
      },
      "outputs": [
        {
          "data": {
            "text/html": [
              "\n",
              "  <div id=\"df-e246570b-c871-41f8-98a3-50086c0e231a\">\n",
              "    <div class=\"colab-df-container\">\n",
              "      <div>\n",
              "<style scoped>\n",
              "    .dataframe tbody tr th:only-of-type {\n",
              "        vertical-align: middle;\n",
              "    }\n",
              "\n",
              "    .dataframe tbody tr th {\n",
              "        vertical-align: top;\n",
              "    }\n",
              "\n",
              "    .dataframe thead th {\n",
              "        text-align: right;\n",
              "    }\n",
              "</style>\n",
              "<table border=\"1\" class=\"dataframe\">\n",
              "  <thead>\n",
              "    <tr style=\"text-align: right;\">\n",
              "      <th></th>\n",
              "      <th>name</th>\n",
              "      <th>key_words</th>\n",
              "      <th>authors</th>\n",
              "      <th>article_title</th>\n",
              "      <th>topics</th>\n",
              "    </tr>\n",
              "  </thead>\n",
              "  <tbody>\n",
              "    <tr>\n",
              "      <th>0</th>\n",
              "      <td>Geetha Ganapathi</td>\n",
              "      <td>[[fuzzy inference rules, fuzzy rough reduction...</td>\n",
              "      <td>[G Ganapathi, NV Kumar, R Nadarajan, Geetha Ga...</td>\n",
              "      <td>['A fuzzy hybrid framework for offline signatu...</td>\n",
              "      <td>[feature selection classification accuracy tim...</td>\n",
              "    </tr>\n",
              "    <tr>\n",
              "      <th>1</th>\n",
              "      <td>sai sundara Krishnan</td>\n",
              "      <td>[[measure, IFSSs, intuitionistic fuzzy soft se...</td>\n",
              "      <td>[1. Saravanakumar, D, Ganster, M, Kalaivani, N...</td>\n",
              "      <td>['A similarity measure of intuitionistic fuzzy...</td>\n",
              "      <td>[F AUC values this proposed similarity measure...</td>\n",
              "    </tr>\n",
              "    <tr>\n",
              "      <th>2</th>\n",
              "      <td>Muthukrishnan, Senthil Kumar</td>\n",
              "      <td>[[retrial group, Bernoulli schedule, expected ...</td>\n",
              "      <td>[A Dadlani, MS Kumar, K Sohraby, K Kim, K Deva...</td>\n",
              "      <td>['On the single server Batch Arrival Retrial Q...</td>\n",
              "      <td>[steady state system size distribution time Be...</td>\n",
              "    </tr>\n",
              "    <tr>\n",
              "      <th>3</th>\n",
              "      <td>MOHANRAJ NATARAJAN</td>\n",
              "      <td>[[distributed pair programming, pair programmi...</td>\n",
              "      <td>[N Mohanraj, A Sankar, VS Kumaran]</td>\n",
              "      <td>['Distributed Pair Programming: A Survey', 'In...</td>\n",
              "      <td>[low user satisfaction Agile Dispersed Develop...</td>\n",
              "    </tr>\n",
              "    <tr>\n",
              "      <th>4</th>\n",
              "      <td>Shina Sheen</td>\n",
              "      <td>[[Android based malware, multifeature collabor...</td>\n",
              "      <td>[S Sheen, R Rajesh, LBM SenthilKumar, V Ramasa...</td>\n",
              "      <td>['Android based malware detection using a mult...</td>\n",
              "      <td>[smartphone usage Android based malware malwar...</td>\n",
              "    </tr>\n",
              "  </tbody>\n",
              "</table>\n",
              "</div>\n",
              "      <button class=\"colab-df-convert\" onclick=\"convertToInteractive('df-e246570b-c871-41f8-98a3-50086c0e231a')\"\n",
              "              title=\"Convert this dataframe to an interactive table.\"\n",
              "              style=\"display:none;\">\n",
              "        \n",
              "  <svg xmlns=\"http://www.w3.org/2000/svg\" height=\"24px\"viewBox=\"0 0 24 24\"\n",
              "       width=\"24px\">\n",
              "    <path d=\"M0 0h24v24H0V0z\" fill=\"none\"/>\n",
              "    <path d=\"M18.56 5.44l.94 2.06.94-2.06 2.06-.94-2.06-.94-.94-2.06-.94 2.06-2.06.94zm-11 1L8.5 8.5l.94-2.06 2.06-.94-2.06-.94L8.5 2.5l-.94 2.06-2.06.94zm10 10l.94 2.06.94-2.06 2.06-.94-2.06-.94-.94-2.06-.94 2.06-2.06.94z\"/><path d=\"M17.41 7.96l-1.37-1.37c-.4-.4-.92-.59-1.43-.59-.52 0-1.04.2-1.43.59L10.3 9.45l-7.72 7.72c-.78.78-.78 2.05 0 2.83L4 21.41c.39.39.9.59 1.41.59.51 0 1.02-.2 1.41-.59l7.78-7.78 2.81-2.81c.8-.78.8-2.07 0-2.86zM5.41 20L4 18.59l7.72-7.72 1.47 1.35L5.41 20z\"/>\n",
              "  </svg>\n",
              "      </button>\n",
              "      \n",
              "  <style>\n",
              "    .colab-df-container {\n",
              "      display:flex;\n",
              "      flex-wrap:wrap;\n",
              "      gap: 12px;\n",
              "    }\n",
              "\n",
              "    .colab-df-convert {\n",
              "      background-color: #E8F0FE;\n",
              "      border: none;\n",
              "      border-radius: 50%;\n",
              "      cursor: pointer;\n",
              "      display: none;\n",
              "      fill: #1967D2;\n",
              "      height: 32px;\n",
              "      padding: 0 0 0 0;\n",
              "      width: 32px;\n",
              "    }\n",
              "\n",
              "    .colab-df-convert:hover {\n",
              "      background-color: #E2EBFA;\n",
              "      box-shadow: 0px 1px 2px rgba(60, 64, 67, 0.3), 0px 1px 3px 1px rgba(60, 64, 67, 0.15);\n",
              "      fill: #174EA6;\n",
              "    }\n",
              "\n",
              "    [theme=dark] .colab-df-convert {\n",
              "      background-color: #3B4455;\n",
              "      fill: #D2E3FC;\n",
              "    }\n",
              "\n",
              "    [theme=dark] .colab-df-convert:hover {\n",
              "      background-color: #434B5C;\n",
              "      box-shadow: 0px 1px 3px 1px rgba(0, 0, 0, 0.15);\n",
              "      filter: drop-shadow(0px 1px 2px rgba(0, 0, 0, 0.3));\n",
              "      fill: #FFFFFF;\n",
              "    }\n",
              "  </style>\n",
              "\n",
              "      <script>\n",
              "        const buttonEl =\n",
              "          document.querySelector('#df-e246570b-c871-41f8-98a3-50086c0e231a button.colab-df-convert');\n",
              "        buttonEl.style.display =\n",
              "          google.colab.kernel.accessAllowed ? 'block' : 'none';\n",
              "\n",
              "        async function convertToInteractive(key) {\n",
              "          const element = document.querySelector('#df-e246570b-c871-41f8-98a3-50086c0e231a');\n",
              "          const dataTable =\n",
              "            await google.colab.kernel.invokeFunction('convertToInteractive',\n",
              "                                                     [key], {});\n",
              "          if (!dataTable) return;\n",
              "\n",
              "          const docLinkHtml = 'Like what you see? Visit the ' +\n",
              "            '<a target=\"_blank\" href=https://colab.research.google.com/notebooks/data_table.ipynb>data table notebook</a>'\n",
              "            + ' to learn more about interactive tables.';\n",
              "          element.innerHTML = '';\n",
              "          dataTable['output_type'] = 'display_data';\n",
              "          await google.colab.output.renderOutput(dataTable, element);\n",
              "          const docLink = document.createElement('div');\n",
              "          docLink.innerHTML = docLinkHtml;\n",
              "          element.appendChild(docLink);\n",
              "        }\n",
              "      </script>\n",
              "    </div>\n",
              "  </div>\n",
              "  "
            ],
            "text/plain": [
              "                           name  \\\n",
              "0              Geetha Ganapathi   \n",
              "1          sai sundara Krishnan   \n",
              "2  Muthukrishnan, Senthil Kumar   \n",
              "3            MOHANRAJ NATARAJAN   \n",
              "4                   Shina Sheen   \n",
              "\n",
              "                                           key_words  \\\n",
              "0  [[fuzzy inference rules, fuzzy rough reduction...   \n",
              "1  [[measure, IFSSs, intuitionistic fuzzy soft se...   \n",
              "2  [[retrial group, Bernoulli schedule, expected ...   \n",
              "3  [[distributed pair programming, pair programmi...   \n",
              "4  [[Android based malware, multifeature collabor...   \n",
              "\n",
              "                                             authors  \\\n",
              "0  [G Ganapathi, NV Kumar, R Nadarajan, Geetha Ga...   \n",
              "1  [1. Saravanakumar, D, Ganster, M, Kalaivani, N...   \n",
              "2  [A Dadlani, MS Kumar, K Sohraby, K Kim, K Deva...   \n",
              "3                 [N Mohanraj, A Sankar, VS Kumaran]   \n",
              "4  [S Sheen, R Rajesh, LBM SenthilKumar, V Ramasa...   \n",
              "\n",
              "                                       article_title  \\\n",
              "0  ['A fuzzy hybrid framework for offline signatu...   \n",
              "1  ['A similarity measure of intuitionistic fuzzy...   \n",
              "2  ['On the single server Batch Arrival Retrial Q...   \n",
              "3  ['Distributed Pair Programming: A Survey', 'In...   \n",
              "4  ['Android based malware detection using a mult...   \n",
              "\n",
              "                                              topics  \n",
              "0  [feature selection classification accuracy tim...  \n",
              "1  [F AUC values this proposed similarity measure...  \n",
              "2  [steady state system size distribution time Be...  \n",
              "3  [low user satisfaction Agile Dispersed Develop...  \n",
              "4  [smartphone usage Android based malware malwar...  "
            ]
          },
          "execution_count": 15,
          "metadata": {},
          "output_type": "execute_result"
        }
      ],
      "source": [
        "df1.head()"
      ]
    },
    {
      "cell_type": "markdown",
      "metadata": {
        "id": "_YSAeFJDFoiJ"
      },
      "source": [
        "# Model_Building"
      ]
    },
    {
      "cell_type": "markdown",
      "metadata": {
        "id": "yoC1wx9bjzEC"
      },
      "source": [
        "## Finding similarities betweeen authors using topics generated"
      ]
    },
    {
      "cell_type": "code",
      "execution_count": null,
      "metadata": {
        "id": "8jkjNIdLil1z"
      },
      "outputs": [],
      "source": [
        "unique_topics = list(set([topic for topics in df1['topics'] for topic in topics]))"
      ]
    },
    {
      "cell_type": "code",
      "execution_count": null,
      "metadata": {
        "id": "VuD7hwGDjnPJ"
      },
      "outputs": [],
      "source": [
        "# Create a document-term matrix, where each row represents an author and each column represents a topic\n",
        "dtm = np.zeros((len(df1), len(unique_topics)))\n",
        "for i, topics in enumerate(df1['topics']):\n",
        "    for topic in topics:\n",
        "        j = unique_topics.index(topic)\n",
        "        dtm[i, j] = 1"
      ]
    },
    {
      "cell_type": "code",
      "execution_count": null,
      "metadata": {
        "id": "WTvPVToJkeS8"
      },
      "outputs": [],
      "source": [
        "similarity = cosine_similarity(dtm)"
      ]
    },
    {
      "cell_type": "markdown",
      "metadata": {
        "id": "r9Oi-4lz9iwX"
      },
      "source": [
        "## Cosine similarity"
      ]
    },
    {
      "cell_type": "code",
      "execution_count": null,
      "metadata": {
        "id": "_Zair9D8k5eY"
      },
      "outputs": [],
      "source": [
        "similarity_df1 = pd.DataFrame(similarity, index=df1['name'], columns=df1['name'])"
      ]
    },
    {
      "cell_type": "code",
      "execution_count": null,
      "metadata": {
        "colab": {
          "base_uri": "https://localhost:8080/"
        },
        "id": "7fgzb9O8lA9d",
        "outputId": "f8c8ca33-fbc0-497a-ad5a-3700c13a6471"
      },
      "outputs": [
        {
          "data": {
            "text/html": [
              "\n",
              "  <div id=\"df-26bdc304-d169-45ac-9a63-2c8294ad1b24\">\n",
              "    <div class=\"colab-df-container\">\n",
              "      <div>\n",
              "<style scoped>\n",
              "    .dataframe tbody tr th:only-of-type {\n",
              "        vertical-align: middle;\n",
              "    }\n",
              "\n",
              "    .dataframe tbody tr th {\n",
              "        vertical-align: top;\n",
              "    }\n",
              "\n",
              "    .dataframe thead th {\n",
              "        text-align: right;\n",
              "    }\n",
              "</style>\n",
              "<table border=\"1\" class=\"dataframe\">\n",
              "  <thead>\n",
              "    <tr style=\"text-align: right;\">\n",
              "      <th>name</th>\n",
              "      <th>Geetha Ganapathi</th>\n",
              "      <th>sai sundara Krishnan</th>\n",
              "      <th>Muthukrishnan, Senthil Kumar</th>\n",
              "      <th>MOHANRAJ NATARAJAN</th>\n",
              "      <th>Shina Sheen</th>\n",
              "      <th>Indhumathi Raman</th>\n",
              "      <th>Sreelaja N.K</th>\n",
              "      <th>kaja mohideen</th>\n",
              "      <th>Dr. Poonthalir Ganesan</th>\n",
              "      <th>Dr.V Senthil Kumaran</th>\n",
              "      <th>...</th>\n",
              "      <th>S.Sarathambekai</th>\n",
              "      <th>Ravitha Rajalakshmi N</th>\n",
              "      <th>SenthilPrabha R</th>\n",
              "      <th>rekha r</th>\n",
              "      <th>Shymala Gowri Selvaganapathy</th>\n",
              "      <th>Akalya Devi</th>\n",
              "      <th>radhika E G</th>\n",
              "      <th>Dr. P. Sivakumar</th>\n",
              "      <th>Sangeetha B</th>\n",
              "      <th>Jeneessha .P</th>\n",
              "    </tr>\n",
              "    <tr>\n",
              "      <th>name</th>\n",
              "      <th></th>\n",
              "      <th></th>\n",
              "      <th></th>\n",
              "      <th></th>\n",
              "      <th></th>\n",
              "      <th></th>\n",
              "      <th></th>\n",
              "      <th></th>\n",
              "      <th></th>\n",
              "      <th></th>\n",
              "      <th></th>\n",
              "      <th></th>\n",
              "      <th></th>\n",
              "      <th></th>\n",
              "      <th></th>\n",
              "      <th></th>\n",
              "      <th></th>\n",
              "      <th></th>\n",
              "      <th></th>\n",
              "      <th></th>\n",
              "      <th></th>\n",
              "    </tr>\n",
              "  </thead>\n",
              "  <tbody>\n",
              "    <tr>\n",
              "      <th>Geetha Ganapathi</th>\n",
              "      <td>1.0</td>\n",
              "      <td>0.000000</td>\n",
              "      <td>0.000000</td>\n",
              "      <td>0.0</td>\n",
              "      <td>0.0</td>\n",
              "      <td>0.0</td>\n",
              "      <td>0.0</td>\n",
              "      <td>0.0</td>\n",
              "      <td>0.000000</td>\n",
              "      <td>0.0</td>\n",
              "      <td>...</td>\n",
              "      <td>0.0</td>\n",
              "      <td>0.0</td>\n",
              "      <td>0.0</td>\n",
              "      <td>0.0</td>\n",
              "      <td>0.0</td>\n",
              "      <td>0.0</td>\n",
              "      <td>0.0</td>\n",
              "      <td>0.0</td>\n",
              "      <td>0.0</td>\n",
              "      <td>0.0</td>\n",
              "    </tr>\n",
              "    <tr>\n",
              "      <th>sai sundara Krishnan</th>\n",
              "      <td>0.0</td>\n",
              "      <td>1.000000</td>\n",
              "      <td>0.037268</td>\n",
              "      <td>0.0</td>\n",
              "      <td>0.0</td>\n",
              "      <td>0.0</td>\n",
              "      <td>0.0</td>\n",
              "      <td>0.0</td>\n",
              "      <td>0.000000</td>\n",
              "      <td>0.0</td>\n",
              "      <td>...</td>\n",
              "      <td>0.0</td>\n",
              "      <td>0.0</td>\n",
              "      <td>0.0</td>\n",
              "      <td>0.0</td>\n",
              "      <td>0.0</td>\n",
              "      <td>0.0</td>\n",
              "      <td>0.0</td>\n",
              "      <td>0.0</td>\n",
              "      <td>0.0</td>\n",
              "      <td>0.0</td>\n",
              "    </tr>\n",
              "    <tr>\n",
              "      <th>Muthukrishnan, Senthil Kumar</th>\n",
              "      <td>0.0</td>\n",
              "      <td>0.037268</td>\n",
              "      <td>1.000000</td>\n",
              "      <td>0.0</td>\n",
              "      <td>0.0</td>\n",
              "      <td>0.0</td>\n",
              "      <td>0.0</td>\n",
              "      <td>0.0</td>\n",
              "      <td>0.055048</td>\n",
              "      <td>0.0</td>\n",
              "      <td>...</td>\n",
              "      <td>0.0</td>\n",
              "      <td>0.0</td>\n",
              "      <td>0.0</td>\n",
              "      <td>0.0</td>\n",
              "      <td>0.0</td>\n",
              "      <td>0.0</td>\n",
              "      <td>0.0</td>\n",
              "      <td>0.0</td>\n",
              "      <td>0.0</td>\n",
              "      <td>0.0</td>\n",
              "    </tr>\n",
              "    <tr>\n",
              "      <th>MOHANRAJ NATARAJAN</th>\n",
              "      <td>0.0</td>\n",
              "      <td>0.000000</td>\n",
              "      <td>0.000000</td>\n",
              "      <td>1.0</td>\n",
              "      <td>0.0</td>\n",
              "      <td>0.0</td>\n",
              "      <td>0.0</td>\n",
              "      <td>0.0</td>\n",
              "      <td>0.000000</td>\n",
              "      <td>0.0</td>\n",
              "      <td>...</td>\n",
              "      <td>0.0</td>\n",
              "      <td>0.0</td>\n",
              "      <td>0.0</td>\n",
              "      <td>0.0</td>\n",
              "      <td>0.0</td>\n",
              "      <td>0.0</td>\n",
              "      <td>0.0</td>\n",
              "      <td>0.0</td>\n",
              "      <td>0.0</td>\n",
              "      <td>0.0</td>\n",
              "    </tr>\n",
              "    <tr>\n",
              "      <th>Shina Sheen</th>\n",
              "      <td>0.0</td>\n",
              "      <td>0.000000</td>\n",
              "      <td>0.000000</td>\n",
              "      <td>0.0</td>\n",
              "      <td>1.0</td>\n",
              "      <td>0.0</td>\n",
              "      <td>0.0</td>\n",
              "      <td>0.0</td>\n",
              "      <td>0.000000</td>\n",
              "      <td>0.0</td>\n",
              "      <td>...</td>\n",
              "      <td>0.0</td>\n",
              "      <td>0.0</td>\n",
              "      <td>0.0</td>\n",
              "      <td>0.0</td>\n",
              "      <td>0.0</td>\n",
              "      <td>0.0</td>\n",
              "      <td>0.0</td>\n",
              "      <td>0.0</td>\n",
              "      <td>0.0</td>\n",
              "      <td>0.0</td>\n",
              "    </tr>\n",
              "  </tbody>\n",
              "</table>\n",
              "<p>5 rows × 59 columns</p>\n",
              "</div>\n",
              "      <button class=\"colab-df-convert\" onclick=\"convertToInteractive('df-26bdc304-d169-45ac-9a63-2c8294ad1b24')\"\n",
              "              title=\"Convert this dataframe to an interactive table.\"\n",
              "              style=\"display:none;\">\n",
              "        \n",
              "  <svg xmlns=\"http://www.w3.org/2000/svg\" height=\"24px\"viewBox=\"0 0 24 24\"\n",
              "       width=\"24px\">\n",
              "    <path d=\"M0 0h24v24H0V0z\" fill=\"none\"/>\n",
              "    <path d=\"M18.56 5.44l.94 2.06.94-2.06 2.06-.94-2.06-.94-.94-2.06-.94 2.06-2.06.94zm-11 1L8.5 8.5l.94-2.06 2.06-.94-2.06-.94L8.5 2.5l-.94 2.06-2.06.94zm10 10l.94 2.06.94-2.06 2.06-.94-2.06-.94-.94-2.06-.94 2.06-2.06.94z\"/><path d=\"M17.41 7.96l-1.37-1.37c-.4-.4-.92-.59-1.43-.59-.52 0-1.04.2-1.43.59L10.3 9.45l-7.72 7.72c-.78.78-.78 2.05 0 2.83L4 21.41c.39.39.9.59 1.41.59.51 0 1.02-.2 1.41-.59l7.78-7.78 2.81-2.81c.8-.78.8-2.07 0-2.86zM5.41 20L4 18.59l7.72-7.72 1.47 1.35L5.41 20z\"/>\n",
              "  </svg>\n",
              "      </button>\n",
              "      \n",
              "  <style>\n",
              "    .colab-df-container {\n",
              "      display:flex;\n",
              "      flex-wrap:wrap;\n",
              "      gap: 12px;\n",
              "    }\n",
              "\n",
              "    .colab-df-convert {\n",
              "      background-color: #E8F0FE;\n",
              "      border: none;\n",
              "      border-radius: 50%;\n",
              "      cursor: pointer;\n",
              "      display: none;\n",
              "      fill: #1967D2;\n",
              "      height: 32px;\n",
              "      padding: 0 0 0 0;\n",
              "      width: 32px;\n",
              "    }\n",
              "\n",
              "    .colab-df-convert:hover {\n",
              "      background-color: #E2EBFA;\n",
              "      box-shadow: 0px 1px 2px rgba(60, 64, 67, 0.3), 0px 1px 3px 1px rgba(60, 64, 67, 0.15);\n",
              "      fill: #174EA6;\n",
              "    }\n",
              "\n",
              "    [theme=dark] .colab-df-convert {\n",
              "      background-color: #3B4455;\n",
              "      fill: #D2E3FC;\n",
              "    }\n",
              "\n",
              "    [theme=dark] .colab-df-convert:hover {\n",
              "      background-color: #434B5C;\n",
              "      box-shadow: 0px 1px 3px 1px rgba(0, 0, 0, 0.15);\n",
              "      filter: drop-shadow(0px 1px 2px rgba(0, 0, 0, 0.3));\n",
              "      fill: #FFFFFF;\n",
              "    }\n",
              "  </style>\n",
              "\n",
              "      <script>\n",
              "        const buttonEl =\n",
              "          document.querySelector('#df-26bdc304-d169-45ac-9a63-2c8294ad1b24 button.colab-df-convert');\n",
              "        buttonEl.style.display =\n",
              "          google.colab.kernel.accessAllowed ? 'block' : 'none';\n",
              "\n",
              "        async function convertToInteractive(key) {\n",
              "          const element = document.querySelector('#df-26bdc304-d169-45ac-9a63-2c8294ad1b24');\n",
              "          const dataTable =\n",
              "            await google.colab.kernel.invokeFunction('convertToInteractive',\n",
              "                                                     [key], {});\n",
              "          if (!dataTable) return;\n",
              "\n",
              "          const docLinkHtml = 'Like what you see? Visit the ' +\n",
              "            '<a target=\"_blank\" href=https://colab.research.google.com/notebooks/data_table.ipynb>data table notebook</a>'\n",
              "            + ' to learn more about interactive tables.';\n",
              "          element.innerHTML = '';\n",
              "          dataTable['output_type'] = 'display_data';\n",
              "          await google.colab.output.renderOutput(dataTable, element);\n",
              "          const docLink = document.createElement('div');\n",
              "          docLink.innerHTML = docLinkHtml;\n",
              "          element.appendChild(docLink);\n",
              "        }\n",
              "      </script>\n",
              "    </div>\n",
              "  </div>\n",
              "  "
            ],
            "text/plain": [
              "name                          Geetha Ganapathi  sai sundara Krishnan  \\\n",
              "name                                                                   \n",
              "Geetha Ganapathi                           1.0              0.000000   \n",
              "sai sundara Krishnan                       0.0              1.000000   \n",
              "Muthukrishnan, Senthil Kumar               0.0              0.037268   \n",
              "MOHANRAJ NATARAJAN                         0.0              0.000000   \n",
              "Shina Sheen                                0.0              0.000000   \n",
              "\n",
              "name                          Muthukrishnan, Senthil Kumar  \\\n",
              "name                                                         \n",
              "Geetha Ganapathi                                  0.000000   \n",
              "sai sundara Krishnan                              0.037268   \n",
              "Muthukrishnan, Senthil Kumar                      1.000000   \n",
              "MOHANRAJ NATARAJAN                                0.000000   \n",
              "Shina Sheen                                       0.000000   \n",
              "\n",
              "name                          MOHANRAJ NATARAJAN  Shina Sheen  \\\n",
              "name                                                            \n",
              "Geetha Ganapathi                             0.0          0.0   \n",
              "sai sundara Krishnan                         0.0          0.0   \n",
              "Muthukrishnan, Senthil Kumar                 0.0          0.0   \n",
              "MOHANRAJ NATARAJAN                           1.0          0.0   \n",
              "Shina Sheen                                  0.0          1.0   \n",
              "\n",
              "name                          Indhumathi Raman  Sreelaja N.K  kaja mohideen  \\\n",
              "name                                                                          \n",
              "Geetha Ganapathi                           0.0           0.0            0.0   \n",
              "sai sundara Krishnan                       0.0           0.0            0.0   \n",
              "Muthukrishnan, Senthil Kumar               0.0           0.0            0.0   \n",
              "MOHANRAJ NATARAJAN                         0.0           0.0            0.0   \n",
              "Shina Sheen                                0.0           0.0            0.0   \n",
              "\n",
              "name                          Dr. Poonthalir Ganesan  Dr.V Senthil Kumaran  \\\n",
              "name                                                                         \n",
              "Geetha Ganapathi                            0.000000                   0.0   \n",
              "sai sundara Krishnan                        0.000000                   0.0   \n",
              "Muthukrishnan, Senthil Kumar                0.055048                   0.0   \n",
              "MOHANRAJ NATARAJAN                          0.000000                   0.0   \n",
              "Shina Sheen                                 0.000000                   0.0   \n",
              "\n",
              "name                          ...  S.Sarathambekai  Ravitha Rajalakshmi N  \\\n",
              "name                          ...                                           \n",
              "Geetha Ganapathi              ...              0.0                    0.0   \n",
              "sai sundara Krishnan          ...              0.0                    0.0   \n",
              "Muthukrishnan, Senthil Kumar  ...              0.0                    0.0   \n",
              "MOHANRAJ NATARAJAN            ...              0.0                    0.0   \n",
              "Shina Sheen                   ...              0.0                    0.0   \n",
              "\n",
              "name                          SenthilPrabha R  rekha r  \\\n",
              "name                                                     \n",
              "Geetha Ganapathi                          0.0      0.0   \n",
              "sai sundara Krishnan                      0.0      0.0   \n",
              "Muthukrishnan, Senthil Kumar              0.0      0.0   \n",
              "MOHANRAJ NATARAJAN                        0.0      0.0   \n",
              "Shina Sheen                               0.0      0.0   \n",
              "\n",
              "name                          Shymala Gowri Selvaganapathy  Akalya Devi  \\\n",
              "name                                                                      \n",
              "Geetha Ganapathi                                       0.0          0.0   \n",
              "sai sundara Krishnan                                   0.0          0.0   \n",
              "Muthukrishnan, Senthil Kumar                           0.0          0.0   \n",
              "MOHANRAJ NATARAJAN                                     0.0          0.0   \n",
              "Shina Sheen                                            0.0          0.0   \n",
              "\n",
              "name                          radhika E G  Dr. P. Sivakumar  Sangeetha B  \\\n",
              "name                                                                       \n",
              "Geetha Ganapathi                      0.0               0.0          0.0   \n",
              "sai sundara Krishnan                  0.0               0.0          0.0   \n",
              "Muthukrishnan, Senthil Kumar          0.0               0.0          0.0   \n",
              "MOHANRAJ NATARAJAN                    0.0               0.0          0.0   \n",
              "Shina Sheen                           0.0               0.0          0.0   \n",
              "\n",
              "name                          Jeneessha .P  \n",
              "name                                        \n",
              "Geetha Ganapathi                       0.0  \n",
              "sai sundara Krishnan                   0.0  \n",
              "Muthukrishnan, Senthil Kumar           0.0  \n",
              "MOHANRAJ NATARAJAN                     0.0  \n",
              "Shina Sheen                            0.0  \n",
              "\n",
              "[5 rows x 59 columns]"
            ]
          },
          "execution_count": 98,
          "metadata": {},
          "output_type": "execute_result"
        }
      ],
      "source": [
        "similarity_df1.head()"
      ]
    },
    {
      "cell_type": "code",
      "execution_count": null,
      "metadata": {
        "id": "7L3Z97ZzlGKn"
      },
      "outputs": [],
      "source": [
        "k = similarity_df1[similarity_df1['Muthukrishnan, Senthil Kumar']>0]"
      ]
    },
    {
      "cell_type": "code",
      "execution_count": null,
      "metadata": {
        "colab": {
          "base_uri": "https://localhost:8080/"
        },
        "id": "7tBlbaedmH8g",
        "outputId": "cb917029-d2ef-4db2-e591-acab8812185a"
      },
      "outputs": [
        {
          "data": {
            "text/html": [
              "\n",
              "  <div id=\"df-024d6a2c-7210-4942-bd2b-620d6039ba2e\">\n",
              "    <div class=\"colab-df-container\">\n",
              "      <div>\n",
              "<style scoped>\n",
              "    .dataframe tbody tr th:only-of-type {\n",
              "        vertical-align: middle;\n",
              "    }\n",
              "\n",
              "    .dataframe tbody tr th {\n",
              "        vertical-align: top;\n",
              "    }\n",
              "\n",
              "    .dataframe thead th {\n",
              "        text-align: right;\n",
              "    }\n",
              "</style>\n",
              "<table border=\"1\" class=\"dataframe\">\n",
              "  <thead>\n",
              "    <tr style=\"text-align: right;\">\n",
              "      <th>name</th>\n",
              "      <th>Geetha Ganapathi</th>\n",
              "      <th>sai sundara Krishnan</th>\n",
              "      <th>Muthukrishnan, Senthil Kumar</th>\n",
              "      <th>MOHANRAJ NATARAJAN</th>\n",
              "      <th>Shina Sheen</th>\n",
              "      <th>Indhumathi Raman</th>\n",
              "      <th>Sreelaja N.K</th>\n",
              "      <th>kaja mohideen</th>\n",
              "      <th>Dr. Poonthalir Ganesan</th>\n",
              "      <th>Dr.V Senthil Kumaran</th>\n",
              "      <th>...</th>\n",
              "      <th>S.Sarathambekai</th>\n",
              "      <th>Ravitha Rajalakshmi N</th>\n",
              "      <th>SenthilPrabha R</th>\n",
              "      <th>rekha r</th>\n",
              "      <th>Shymala Gowri Selvaganapathy</th>\n",
              "      <th>Akalya Devi</th>\n",
              "      <th>radhika E G</th>\n",
              "      <th>Dr. P. Sivakumar</th>\n",
              "      <th>Sangeetha B</th>\n",
              "      <th>Jeneessha .P</th>\n",
              "    </tr>\n",
              "    <tr>\n",
              "      <th>name</th>\n",
              "      <th></th>\n",
              "      <th></th>\n",
              "      <th></th>\n",
              "      <th></th>\n",
              "      <th></th>\n",
              "      <th></th>\n",
              "      <th></th>\n",
              "      <th></th>\n",
              "      <th></th>\n",
              "      <th></th>\n",
              "      <th></th>\n",
              "      <th></th>\n",
              "      <th></th>\n",
              "      <th></th>\n",
              "      <th></th>\n",
              "      <th></th>\n",
              "      <th></th>\n",
              "      <th></th>\n",
              "      <th></th>\n",
              "      <th></th>\n",
              "      <th></th>\n",
              "    </tr>\n",
              "  </thead>\n",
              "  <tbody>\n",
              "    <tr>\n",
              "      <th>sai sundara Krishnan</th>\n",
              "      <td>0.0</td>\n",
              "      <td>1.000000</td>\n",
              "      <td>0.037268</td>\n",
              "      <td>0.0</td>\n",
              "      <td>0.0</td>\n",
              "      <td>0.0</td>\n",
              "      <td>0.0</td>\n",
              "      <td>0.0</td>\n",
              "      <td>0.000000</td>\n",
              "      <td>0.0</td>\n",
              "      <td>...</td>\n",
              "      <td>0.0</td>\n",
              "      <td>0.0</td>\n",
              "      <td>0.0</td>\n",
              "      <td>0.0</td>\n",
              "      <td>0.0</td>\n",
              "      <td>0.0</td>\n",
              "      <td>0.0</td>\n",
              "      <td>0.0</td>\n",
              "      <td>0.0</td>\n",
              "      <td>0.0</td>\n",
              "    </tr>\n",
              "    <tr>\n",
              "      <th>Muthukrishnan, Senthil Kumar</th>\n",
              "      <td>0.0</td>\n",
              "      <td>0.037268</td>\n",
              "      <td>1.000000</td>\n",
              "      <td>0.0</td>\n",
              "      <td>0.0</td>\n",
              "      <td>0.0</td>\n",
              "      <td>0.0</td>\n",
              "      <td>0.0</td>\n",
              "      <td>0.055048</td>\n",
              "      <td>0.0</td>\n",
              "      <td>...</td>\n",
              "      <td>0.0</td>\n",
              "      <td>0.0</td>\n",
              "      <td>0.0</td>\n",
              "      <td>0.0</td>\n",
              "      <td>0.0</td>\n",
              "      <td>0.0</td>\n",
              "      <td>0.0</td>\n",
              "      <td>0.0</td>\n",
              "      <td>0.0</td>\n",
              "      <td>0.0</td>\n",
              "    </tr>\n",
              "    <tr>\n",
              "      <th>Dr. Poonthalir Ganesan</th>\n",
              "      <td>0.0</td>\n",
              "      <td>0.000000</td>\n",
              "      <td>0.055048</td>\n",
              "      <td>0.0</td>\n",
              "      <td>0.0</td>\n",
              "      <td>0.0</td>\n",
              "      <td>0.0</td>\n",
              "      <td>0.0</td>\n",
              "      <td>1.000000</td>\n",
              "      <td>0.0</td>\n",
              "      <td>...</td>\n",
              "      <td>0.0</td>\n",
              "      <td>0.0</td>\n",
              "      <td>0.0</td>\n",
              "      <td>0.0</td>\n",
              "      <td>0.0</td>\n",
              "      <td>0.0</td>\n",
              "      <td>0.0</td>\n",
              "      <td>0.0</td>\n",
              "      <td>0.0</td>\n",
              "      <td>0.0</td>\n",
              "    </tr>\n",
              "    <tr>\n",
              "      <th>Kumaresan M</th>\n",
              "      <td>0.0</td>\n",
              "      <td>0.000000</td>\n",
              "      <td>0.182574</td>\n",
              "      <td>0.0</td>\n",
              "      <td>0.0</td>\n",
              "      <td>0.0</td>\n",
              "      <td>0.0</td>\n",
              "      <td>0.0</td>\n",
              "      <td>0.000000</td>\n",
              "      <td>0.0</td>\n",
              "      <td>...</td>\n",
              "      <td>0.0</td>\n",
              "      <td>0.0</td>\n",
              "      <td>0.0</td>\n",
              "      <td>0.0</td>\n",
              "      <td>0.0</td>\n",
              "      <td>0.0</td>\n",
              "      <td>0.0</td>\n",
              "      <td>0.0</td>\n",
              "      <td>0.0</td>\n",
              "      <td>0.0</td>\n",
              "    </tr>\n",
              "  </tbody>\n",
              "</table>\n",
              "<p>4 rows × 59 columns</p>\n",
              "</div>\n",
              "      <button class=\"colab-df-convert\" onclick=\"convertToInteractive('df-024d6a2c-7210-4942-bd2b-620d6039ba2e')\"\n",
              "              title=\"Convert this dataframe to an interactive table.\"\n",
              "              style=\"display:none;\">\n",
              "        \n",
              "  <svg xmlns=\"http://www.w3.org/2000/svg\" height=\"24px\"viewBox=\"0 0 24 24\"\n",
              "       width=\"24px\">\n",
              "    <path d=\"M0 0h24v24H0V0z\" fill=\"none\"/>\n",
              "    <path d=\"M18.56 5.44l.94 2.06.94-2.06 2.06-.94-2.06-.94-.94-2.06-.94 2.06-2.06.94zm-11 1L8.5 8.5l.94-2.06 2.06-.94-2.06-.94L8.5 2.5l-.94 2.06-2.06.94zm10 10l.94 2.06.94-2.06 2.06-.94-2.06-.94-.94-2.06-.94 2.06-2.06.94z\"/><path d=\"M17.41 7.96l-1.37-1.37c-.4-.4-.92-.59-1.43-.59-.52 0-1.04.2-1.43.59L10.3 9.45l-7.72 7.72c-.78.78-.78 2.05 0 2.83L4 21.41c.39.39.9.59 1.41.59.51 0 1.02-.2 1.41-.59l7.78-7.78 2.81-2.81c.8-.78.8-2.07 0-2.86zM5.41 20L4 18.59l7.72-7.72 1.47 1.35L5.41 20z\"/>\n",
              "  </svg>\n",
              "      </button>\n",
              "      \n",
              "  <style>\n",
              "    .colab-df-container {\n",
              "      display:flex;\n",
              "      flex-wrap:wrap;\n",
              "      gap: 12px;\n",
              "    }\n",
              "\n",
              "    .colab-df-convert {\n",
              "      background-color: #E8F0FE;\n",
              "      border: none;\n",
              "      border-radius: 50%;\n",
              "      cursor: pointer;\n",
              "      display: none;\n",
              "      fill: #1967D2;\n",
              "      height: 32px;\n",
              "      padding: 0 0 0 0;\n",
              "      width: 32px;\n",
              "    }\n",
              "\n",
              "    .colab-df-convert:hover {\n",
              "      background-color: #E2EBFA;\n",
              "      box-shadow: 0px 1px 2px rgba(60, 64, 67, 0.3), 0px 1px 3px 1px rgba(60, 64, 67, 0.15);\n",
              "      fill: #174EA6;\n",
              "    }\n",
              "\n",
              "    [theme=dark] .colab-df-convert {\n",
              "      background-color: #3B4455;\n",
              "      fill: #D2E3FC;\n",
              "    }\n",
              "\n",
              "    [theme=dark] .colab-df-convert:hover {\n",
              "      background-color: #434B5C;\n",
              "      box-shadow: 0px 1px 3px 1px rgba(0, 0, 0, 0.15);\n",
              "      filter: drop-shadow(0px 1px 2px rgba(0, 0, 0, 0.3));\n",
              "      fill: #FFFFFF;\n",
              "    }\n",
              "  </style>\n",
              "\n",
              "      <script>\n",
              "        const buttonEl =\n",
              "          document.querySelector('#df-024d6a2c-7210-4942-bd2b-620d6039ba2e button.colab-df-convert');\n",
              "        buttonEl.style.display =\n",
              "          google.colab.kernel.accessAllowed ? 'block' : 'none';\n",
              "\n",
              "        async function convertToInteractive(key) {\n",
              "          const element = document.querySelector('#df-024d6a2c-7210-4942-bd2b-620d6039ba2e');\n",
              "          const dataTable =\n",
              "            await google.colab.kernel.invokeFunction('convertToInteractive',\n",
              "                                                     [key], {});\n",
              "          if (!dataTable) return;\n",
              "\n",
              "          const docLinkHtml = 'Like what you see? Visit the ' +\n",
              "            '<a target=\"_blank\" href=https://colab.research.google.com/notebooks/data_table.ipynb>data table notebook</a>'\n",
              "            + ' to learn more about interactive tables.';\n",
              "          element.innerHTML = '';\n",
              "          dataTable['output_type'] = 'display_data';\n",
              "          await google.colab.output.renderOutput(dataTable, element);\n",
              "          const docLink = document.createElement('div');\n",
              "          docLink.innerHTML = docLinkHtml;\n",
              "          element.appendChild(docLink);\n",
              "        }\n",
              "      </script>\n",
              "    </div>\n",
              "  </div>\n",
              "  "
            ],
            "text/plain": [
              "name                          Geetha Ganapathi  sai sundara Krishnan  \\\n",
              "name                                                                   \n",
              "sai sundara Krishnan                       0.0              1.000000   \n",
              "Muthukrishnan, Senthil Kumar               0.0              0.037268   \n",
              "Dr. Poonthalir Ganesan                     0.0              0.000000   \n",
              "Kumaresan M                                0.0              0.000000   \n",
              "\n",
              "name                          Muthukrishnan, Senthil Kumar  \\\n",
              "name                                                         \n",
              "sai sundara Krishnan                              0.037268   \n",
              "Muthukrishnan, Senthil Kumar                      1.000000   \n",
              "Dr. Poonthalir Ganesan                            0.055048   \n",
              "Kumaresan M                                       0.182574   \n",
              "\n",
              "name                          MOHANRAJ NATARAJAN  Shina Sheen  \\\n",
              "name                                                            \n",
              "sai sundara Krishnan                         0.0          0.0   \n",
              "Muthukrishnan, Senthil Kumar                 0.0          0.0   \n",
              "Dr. Poonthalir Ganesan                       0.0          0.0   \n",
              "Kumaresan M                                  0.0          0.0   \n",
              "\n",
              "name                          Indhumathi Raman  Sreelaja N.K  kaja mohideen  \\\n",
              "name                                                                          \n",
              "sai sundara Krishnan                       0.0           0.0            0.0   \n",
              "Muthukrishnan, Senthil Kumar               0.0           0.0            0.0   \n",
              "Dr. Poonthalir Ganesan                     0.0           0.0            0.0   \n",
              "Kumaresan M                                0.0           0.0            0.0   \n",
              "\n",
              "name                          Dr. Poonthalir Ganesan  Dr.V Senthil Kumaran  \\\n",
              "name                                                                         \n",
              "sai sundara Krishnan                        0.000000                   0.0   \n",
              "Muthukrishnan, Senthil Kumar                0.055048                   0.0   \n",
              "Dr. Poonthalir Ganesan                      1.000000                   0.0   \n",
              "Kumaresan M                                 0.000000                   0.0   \n",
              "\n",
              "name                          ...  S.Sarathambekai  Ravitha Rajalakshmi N  \\\n",
              "name                          ...                                           \n",
              "sai sundara Krishnan          ...              0.0                    0.0   \n",
              "Muthukrishnan, Senthil Kumar  ...              0.0                    0.0   \n",
              "Dr. Poonthalir Ganesan        ...              0.0                    0.0   \n",
              "Kumaresan M                   ...              0.0                    0.0   \n",
              "\n",
              "name                          SenthilPrabha R  rekha r  \\\n",
              "name                                                     \n",
              "sai sundara Krishnan                      0.0      0.0   \n",
              "Muthukrishnan, Senthil Kumar              0.0      0.0   \n",
              "Dr. Poonthalir Ganesan                    0.0      0.0   \n",
              "Kumaresan M                               0.0      0.0   \n",
              "\n",
              "name                          Shymala Gowri Selvaganapathy  Akalya Devi  \\\n",
              "name                                                                      \n",
              "sai sundara Krishnan                                   0.0          0.0   \n",
              "Muthukrishnan, Senthil Kumar                           0.0          0.0   \n",
              "Dr. Poonthalir Ganesan                                 0.0          0.0   \n",
              "Kumaresan M                                            0.0          0.0   \n",
              "\n",
              "name                          radhika E G  Dr. P. Sivakumar  Sangeetha B  \\\n",
              "name                                                                       \n",
              "sai sundara Krishnan                  0.0               0.0          0.0   \n",
              "Muthukrishnan, Senthil Kumar          0.0               0.0          0.0   \n",
              "Dr. Poonthalir Ganesan                0.0               0.0          0.0   \n",
              "Kumaresan M                           0.0               0.0          0.0   \n",
              "\n",
              "name                          Jeneessha .P  \n",
              "name                                        \n",
              "sai sundara Krishnan                   0.0  \n",
              "Muthukrishnan, Senthil Kumar           0.0  \n",
              "Dr. Poonthalir Ganesan                 0.0  \n",
              "Kumaresan M                            0.0  \n",
              "\n",
              "[4 rows x 59 columns]"
            ]
          },
          "execution_count": 100,
          "metadata": {},
          "output_type": "execute_result"
        }
      ],
      "source": [
        "k"
      ]
    },
    {
      "cell_type": "code",
      "execution_count": null,
      "metadata": {
        "colab": {
          "base_uri": "https://localhost:8080/"
        },
        "id": "bj0oP9PZm97Y",
        "outputId": "f10aa154-143f-4a54-8b32-9f833f77fafc"
      },
      "outputs": [
        {
          "data": {
            "text/plain": [
              "['sai sundara Krishnan',\n",
              " 'Muthukrishnan, Senthil Kumar',\n",
              " 'Dr. Poonthalir Ganesan',\n",
              " 'Kumaresan M']"
            ]
          },
          "execution_count": 101,
          "metadata": {},
          "output_type": "execute_result"
        }
      ],
      "source": [
        "k.index.to_list()"
      ]
    },
    {
      "cell_type": "code",
      "execution_count": null,
      "metadata": {
        "id": "_cN0UPBnsV6d"
      },
      "outputs": [],
      "source": [
        "# Apply K-means clustering on similarity matrix\n",
        "kmeans = KMeans(n_clusters=10, random_state=0).fit(similarity)"
      ]
    },
    {
      "cell_type": "code",
      "execution_count": null,
      "metadata": {
        "id": "cgu5KkFs86iS"
      },
      "outputs": [],
      "source": [
        "# Find the cluster that the author belongs to\n",
        "author_index = df1[df1['name'] == 'Geetha Ganapathi'].index[0]\n",
        "cluster = kmeans.labels_[author_index]\n",
        "\n"
      ]
    },
    {
      "cell_type": "code",
      "execution_count": null,
      "metadata": {
        "id": "FYGyB4GU9Fve"
      },
      "outputs": [],
      "source": [
        "# Recommend other authors who belong to the same cluster\n",
        "recommended_authors = df1[kmeans.labels_ == cluster]['name'].values"
      ]
    },
    {
      "cell_type": "code",
      "execution_count": null,
      "metadata": {
        "colab": {
          "base_uri": "https://localhost:8080/"
        },
        "id": "CLOSlKqH95q4",
        "outputId": "5ed8649e-1796-4fb0-a2de-a734aa1be973"
      },
      "outputs": [
        {
          "data": {
            "text/plain": [
              "15"
            ]
          },
          "execution_count": 40,
          "metadata": {},
          "output_type": "execute_result"
        }
      ],
      "source": [
        "len(recommended_authors)"
      ]
    },
    {
      "cell_type": "code",
      "execution_count": null,
      "metadata": {
        "colab": {
          "base_uri": "https://localhost:8080/"
        },
        "id": "Qeph9OXt9Htr",
        "outputId": "1c28aa12-3b39-4a7b-8b09-13a83eedc5e9"
      },
      "outputs": [
        {
          "name": "stdout",
          "output_type": "stream",
          "text": [
            "Recommended authors: ['Geetha Ganapathi' 'MOHANRAJ NATARAJAN' 'Shina Sheen' 'Dr.G.Kirubavathi'\n",
            " 'Latha R' 'Nishanthi Dhanasekaran' 'Jeevadoss .S' 'poomagal shanmugam'\n",
            " 'R Venkatesan' 'Dr. N Arulanand' 'Indumathi D' 'T Anusha'\n",
            " 'Dr.Vinoth Kumar Balasubramanian' 'rekha r' 'Akalya Devi']\n"
          ]
        }
      ],
      "source": [
        "print('Recommended authors:', recommended_authors)"
      ]
    },
    {
      "cell_type": "markdown",
      "metadata": {
        "id": "XthD2inbAM1y"
      },
      "source": [
        "## Word2Vec"
      ]
    },
    {
      "cell_type": "code",
      "execution_count": null,
      "metadata": {
        "id": "aB11jlInBKy7"
      },
      "outputs": [],
      "source": [
        "df1['topics'][1]"
      ]
    },
    {
      "cell_type": "code",
      "execution_count": null,
      "metadata": {
        "id": "aMdFcuuYBUkW"
      },
      "outputs": [],
      "source": [
        "topic_list = []\n",
        "for i in df1['topics']:\n",
        "  t = ''\n",
        "  for j in i:\n",
        "    t+=j+'\\n'\n",
        "  topic_list.append(t)"
      ]
    },
    {
      "cell_type": "code",
      "execution_count": null,
      "metadata": {
        "id": "bRb3wqpcAYPr"
      },
      "outputs": [],
      "source": [
        "topics = [topic.split() for topic in topic_list]"
      ]
    },
    {
      "cell_type": "code",
      "execution_count": null,
      "metadata": {
        "colab": {
          "base_uri": "https://localhost:8080/"
        },
        "id": "1iuNuSxB95LQ",
        "outputId": "ad9686cb-fa6f-4c85-e3b8-8f313732ffa7"
      },
      "outputs": [
        {
          "name": "stderr",
          "output_type": "stream",
          "text": [
            "WARNING:gensim.models.base_any2vec:consider setting layer size to a multiple of 4 for greater performance\n",
            "WARNING:gensim.models.base_any2vec:under 10 jobs per worker: consider setting a smaller `batch_words' for smoother alpha decay\n"
          ]
        }
      ],
      "source": [
        "# Train Word2Vec model\n",
        "model = Word2Vec(topics, size=50, window=5, min_count=1, workers=4)"
      ]
    },
    {
      "cell_type": "code",
      "execution_count": null,
      "metadata": {
        "id": "2zgRE7NLAgQH"
      },
      "outputs": [],
      "source": [
        "# Calculate similarity matrix\n",
        "similarity_matrix = np.zeros((len(df1), len(df1)))\n",
        "for i, topic1 in enumerate(topics):\n",
        "    for j, topic2 in enumerate(topics):\n",
        "      try:\n",
        "        similarity_matrix[i][j] = model.wv.n_similarity(topic1, topic2)\n",
        "      except:\n",
        "        similarity_matrix[i][j] = 0"
      ]
    },
    {
      "cell_type": "markdown",
      "metadata": {
        "id": "JVNYZF4nDiBT"
      },
      "source": [
        "### K-means"
      ]
    },
    {
      "cell_type": "code",
      "execution_count": null,
      "metadata": {
        "id": "v9_JwjeXCGuG"
      },
      "outputs": [],
      "source": [
        "# Apply K-means clustering on similarity matrix\n",
        "kmeans = KMeans(n_clusters=10, random_state=0).fit(similarity_matrix)"
      ]
    },
    {
      "cell_type": "code",
      "execution_count": null,
      "metadata": {
        "id": "u75naoPiCm4W"
      },
      "outputs": [],
      "source": [
        "# Find the cluster that the author belongs to\n",
        "author_index = df1[df1['name'] == 'Geetha Ganapathi'].index[0]\n",
        "cluster = kmeans.labels_[author_index]\n",
        "\n"
      ]
    },
    {
      "cell_type": "code",
      "execution_count": null,
      "metadata": {
        "id": "BA2noHlkCm4X"
      },
      "outputs": [],
      "source": [
        "# Recommend other authors who belong to the same cluster\n",
        "recommended_authors = df1[kmeans.labels_ == cluster]['name'].values"
      ]
    },
    {
      "cell_type": "code",
      "execution_count": null,
      "metadata": {
        "colab": {
          "base_uri": "https://localhost:8080/"
        },
        "id": "c_W14nFSCm4X",
        "outputId": "73019602-4c38-4b8b-8456-84a310aa0cd0"
      },
      "outputs": [
        {
          "data": {
            "text/plain": [
              "10"
            ]
          },
          "execution_count": 69,
          "metadata": {},
          "output_type": "execute_result"
        }
      ],
      "source": [
        "len(recommended_authors)"
      ]
    },
    {
      "cell_type": "code",
      "execution_count": null,
      "metadata": {
        "colab": {
          "base_uri": "https://localhost:8080/"
        },
        "id": "4mKgupikCm4Y",
        "outputId": "367435d5-ed15-4230-c4aa-259529a7c103"
      },
      "outputs": [
        {
          "name": "stdout",
          "output_type": "stream",
          "text": [
            "Recommended authors: ['Geetha Ganapathi' 'Dr. Poonthalir Ganesan' 'Nishanthi Dhanasekaran'\n",
            " 'Marx Rajangam' 'Indumathi D' 'Sathiyapriya K' 'Ramesh A C'\n",
            " 'Vijayalakshmi Subramani' 'Ravitha Rajalakshmi N' 'SenthilPrabha R']\n"
          ]
        }
      ],
      "source": [
        "print('Recommended authors:', recommended_authors)"
      ]
    },
    {
      "cell_type": "markdown",
      "metadata": {
        "id": "pT42xIxDDkb2"
      },
      "source": [
        "### Hierarchical Clustering"
      ]
    },
    {
      "cell_type": "code",
      "execution_count": null,
      "metadata": {
        "id": "-TFbzNbxCgmv"
      },
      "outputs": [],
      "source": [
        "# Perform Hierarchical Clustering\n",
        "Z = linkage(similarity_matrix, method='ward')\n"
      ]
    },
    {
      "cell_type": "code",
      "execution_count": null,
      "metadata": {
        "colab": {
          "base_uri": "https://localhost:8080/",
          "height": 463
        },
        "id": "TpZ7tvxVDzub",
        "outputId": "fdcba9e5-92f0-459e-beff-b97f68347af2"
      },
      "outputs": [
        {
          "data": {
            "image/png": "[encoded data removed]",
            "text/plain": [
              "<Figure size 1800x720 with 1 Axes>"
            ]
          },
          "metadata": {},
          "output_type": "display_data"
        }
      ],
      "source": [
        "# Plot the dendrogram\n",
        "plt.figure(figsize=(25, 10))\n",
        "dendrogram(Z)\n",
        "plt.show()\n"
      ]
    },
    {
      "cell_type": "code",
      "execution_count": null,
      "metadata": {
        "id": "UVoP19IkD2sd"
      },
      "outputs": [],
      "source": [
        "# Cut the tree at a desired number of clusters\n",
        "num_clusters = 8\n",
        "clusters = cut_tree(Z, n_clusters=num_clusters)"
      ]
    },
    {
      "cell_type": "code",
      "execution_count": null,
      "metadata": {
        "id": "3veUVK6DEAwc"
      },
      "outputs": [],
      "source": [
        "# Assign the authors to the corresponding clusters\n",
        "df1['cluster'] = clusters"
      ]
    },
    {
      "cell_type": "code",
      "execution_count": null,
      "metadata": {
        "id": "zlOe_OmCGnSr"
      },
      "outputs": [],
      "source": [
        "def related_authors(x):\n",
        "  # Find the cluster that the author belongs to\n",
        "  author_index = df1[df1['name'] == x].index[0]\n",
        "  cluster = kmeans.labels_[author_index]\n",
        "  # Recommend other authors who belong to the same cluster\n",
        "  recommended_authors = df1[kmeans.labels_ == cluster]['name'].values\n",
        "  return recommended_authors"
      ]
    },
    {
      "cell_type": "code",
      "execution_count": null,
      "metadata": {
        "colab": {
          "base_uri": "https://localhost:8080/"
        },
        "id": "1zly7ri2Ge4u",
        "outputId": "50649b51-8649-480a-cd60-893191b0f1e8"
      },
      "outputs": [
        {
          "name": "stderr",
          "output_type": "stream",
          "text": [
            "<ipython-input-84-1643ca8db99d>:1: SettingWithCopyWarning:\n",
            "\n",
            "\n",
            "A value is trying to be set on a copy of a slice from a DataFrame.\n",
            "Try using .loc[row_indexer,col_indexer] = value instead\n",
            "\n",
            "See the caveats in the documentation: https://pandas.pydata.org/pandas-docs/stable/user_guide/indexing.html#returning-a-view-versus-a-copy\n",
            "\n"
          ]
        }
      ],
      "source": [
        "df1['related_authors'] = df1['name'].apply(lambda x: related_authors(x))"
      ]
    },
    {
      "cell_type": "markdown",
      "metadata": {
        "id": "SLmgiW1VFVzV"
      },
      "source": [
        "# Visualization"
      ]
    },
    {
      "cell_type": "code",
      "execution_count": null,
      "metadata": {
        "colab": {
          "base_uri": "https://localhost:8080/"
        },
        "id": "dl9V5RSPED7n",
        "outputId": "82b6c13c-b850-496c-d87f-2720015c2ea1"
      },
      "outputs": [
        {
          "data": {
            "image/png": "[encoded data removed]",
            "text/plain": [
              "<Figure size 432x288 with 1 Axes>"
            ]
          },
          "metadata": {},
          "output_type": "display_data"
        }
      ],
      "source": [
        "# Plot the cluster assignments\n",
        "colors = ['red', 'green', 'blue', 'yellow', 'purple', 'pink', 'orange', 'blue']\n",
        "for cluster in range(df1['cluster'].nunique()):\n",
        "    cluster_df = df1[df1['cluster'] == cluster]\n",
        "    plt.scatter(cluster_df['name'], cluster_df['cluster'], c=colors[cluster])\n",
        "\n",
        "# Add labels and title\n",
        "plt.xlabel('Author Name')\n",
        "plt.ylabel('Cluster')\n",
        "plt.title('Cluster Assignments')\n",
        "\n",
        "# Show the plot\n",
        "plt.show()"
      ]
    },
    {
      "cell_type": "code",
      "execution_count": null,
      "metadata": {
        "colab": {
          "base_uri": "https://localhost:8080/"
        },
        "id": "QCHlLYAmExen",
        "outputId": "55b9f07c-aa6e-482b-b080-8ae968fff2fc"
      },
      "outputs": [
        {
          "data": {
            "text/html": [
              "<html>\n",
              "<head><meta charset=\"utf-8\" /></head>\n",
              "<body>\n",
              "    <div>            <script src=\"https://cdnjs.cloudflare.com/ajax/libs/mathjax/2.7.5/MathJax.js?config=TeX-AMS-MML_SVG\"></script><script type=\"text/javascript\">if (window.MathJax) {MathJax.Hub.Config({SVG: {font: \"STIX-Web\"}});}</script>                <script type=\"text/javascript\">window.PlotlyConfig = {MathJaxConfig: 'local'};</script>\n",
              "        <script src=\"https://cdn.plot.ly/plotly-2.8.3.min.js\"></script>                <div id=\"09c77efb-4077-4ce2-99a0-7fda085b2554\" class=\"plotly-graph-div\" style=\"height:525px; width:100%;\"></div>            <script type=\"text/javascript\">                                    window.PLOTLYENV=window.PLOTLYENV || {};                                    if (document.getElementById(\"09c77efb-4077-4ce2-99a0-7fda085b2554\")) {                    Plotly.newPlot(                        \"09c77efb-4077-4ce2-99a0-7fda085b2554\",                        [{\"hovertemplate\":\"name=%{x}<br>cluster=%{marker.color}<extra></extra>\",\"legendgroup\":\"\",\"marker\":{\"color\":[0,1,1,2,1,3,1,1,0,1,3,1,3,0,0,2,1,3,2,4,1,5,1,1,1,1,1,0,1,1,1,0,1,0,3,6,1,0,0,3,0,1,1,3,1,3,3,1,3,1,0,0,1,3,3,3,1,3,7],\"coloraxis\":\"coloraxis\",\"symbol\":\"circle\"},\"mode\":\"markers\",\"name\":\"\",\"orientation\":\"v\",\"showlegend\":false,\"x\":[\"Geetha Ganapathi\",\"sai sundara Krishnan\",\"Muthukrishnan, Senthil Kumar\",\"MOHANRAJ NATARAJAN\",\"Shina Sheen\",\"Indhumathi Raman\",\"Sreelaja N.K\",\"kaja mohideen\",\"Dr. Poonthalir Ganesan\",\"Dr.V Senthil Kumaran\",\"Dr.G.Kirubavathi\",\"Venkatasamy Sureshkumar\",\"Priya Ramasamy\",\"Latha R\",\"Nishanthi Dhanasekaran\",\"Jeevadoss .S\",\"Sreeja N.K\",\"S Anandhi\",\"Dr. T. Karthick\",\"Kumaresan M\",\"poomagal shanmugam\",\"SASIKUMAR MURUGESAN\",\"Regis Anne W\",\"R Venkatesan\",\"G Sudha Sadasivam\",\"Jayashree L.S.\",\"Dr. N Arulanand\",\"Marx Rajangam\",\"Lovelyn Rose\",\"Dr. Santhi Venkatraman\",\"Dr. Suriya Sundaramoorthy\",\"Indumathi D\",\"J Uma Maheswari\",\"Sathiyapriya K\",\"T Anusha\",\"Gopika Rani N\",\"Prakash Jagadeesan\",\"Ramesh A C\",\"K G Saranya\",\"Thirumahal Rajkumar\",\"Vijayalakshmi Subramani\",\"K.R. CHANDRAN\",\"Umamaheswari Kandaswamy\",\"Dr. K. Anitha Kumari\",\"Karthika Renuka\",\"Dr.Vinoth Kumar Balasubramanian\",\"Sangeetha S\",\"vairam T\",\"Padmashani R\",\"S.Sarathambekai\",\"Ravitha Rajalakshmi N\",\"SenthilPrabha R\",\"rekha r\",\"Shymala Gowri Selvaganapathy\",\"Akalya Devi\",\"radhika E G\",\"Dr. P. Sivakumar\",\"Sangeetha B\",\"Jeneessha .P\"],\"xaxis\":\"x\",\"y\":[0,1,1,2,1,3,1,1,0,1,3,1,3,0,0,2,1,3,2,4,1,5,1,1,1,1,1,0,1,1,1,0,1,0,3,6,1,0,0,3,0,1,1,3,1,3,3,1,3,1,0,0,1,3,3,3,1,3,7],\"yaxis\":\"y\",\"type\":\"scatter\"}],                        {\"template\":{\"data\":{\"bar\":[{\"error_x\":{\"color\":\"#2a3f5f\"},\"error_y\":{\"color\":\"#2a3f5f\"},\"marker\":{\"line\":{\"color\":\"#E5ECF6\",\"width\":0.5},\"pattern\":{\"fillmode\":\"overlay\",\"size\":10,\"solidity\":0.2}},\"type\":\"bar\"}],\"barpolar\":[{\"marker\":{\"line\":{\"color\":\"#E5ECF6\",\"width\":0.5},\"pattern\":{\"fillmode\":\"overlay\",\"size\":10,\"solidity\":0.2}},\"type\":\"barpolar\"}],\"carpet\":[{\"aaxis\":{\"endlinecolor\":\"#2a3f5f\",\"gridcolor\":\"white\",\"linecolor\":\"white\",\"minorgridcolor\":\"white\",\"startlinecolor\":\"#2a3f5f\"},\"baxis\":{\"endlinecolor\":\"#2a3f5f\",\"gridcolor\":\"white\",\"linecolor\":\"white\",\"minorgridcolor\":\"white\",\"startlinecolor\":\"#2a3f5f\"},\"type\":\"carpet\"}],\"choropleth\":[{\"colorbar\":{\"outlinewidth\":0,\"ticks\":\"\"},\"type\":\"choropleth\"}],\"contour\":[{\"colorbar\":{\"outlinewidth\":0,\"ticks\":\"\"},\"colorscale\":[[0.0,\"#0d0887\"],[0.1111111111111111,\"#46039f\"],[0.2222222222222222,\"#7201a8\"],[0.3333333333333333,\"#9c179e\"],[0.4444444444444444,\"#bd3786\"],[0.5555555555555556,\"#d8576b\"],[0.6666666666666666,\"#ed7953\"],[0.7777777777777778,\"#fb9f3a\"],[0.8888888888888888,\"#fdca26\"],[1.0,\"#f0f921\"]],\"type\":\"contour\"}],\"contourcarpet\":[{\"colorbar\":{\"outlinewidth\":0,\"ticks\":\"\"},\"type\":\"contourcarpet\"}],\"heatmap\":[{\"colorbar\":{\"outlinewidth\":0,\"ticks\":\"\"},\"colorscale\":[[0.0,\"#0d0887\"],[0.1111111111111111,\"#46039f\"],[0.2222222222222222,\"#7201a8\"],[0.3333333333333333,\"#9c179e\"],[0.4444444444444444,\"#bd3786\"],[0.5555555555555556,\"#d8576b\"],[0.6666666666666666,\"#ed7953\"],[0.7777777777777778,\"#fb9f3a\"],[0.8888888888888888,\"#fdca26\"],[1.0,\"#f0f921\"]],\"type\":\"heatmap\"}],\"heatmapgl\":[{\"colorbar\":{\"outlinewidth\":0,\"ticks\":\"\"},\"colorscale\":[[0.0,\"#0d0887\"],[0.1111111111111111,\"#46039f\"],[0.2222222222222222,\"#7201a8\"],[0.3333333333333333,\"#9c179e\"],[0.4444444444444444,\"#bd3786\"],[0.5555555555555556,\"#d8576b\"],[0.6666666666666666,\"#ed7953\"],[0.7777777777777778,\"#fb9f3a\"],[0.8888888888888888,\"#fdca26\"],[1.0,\"#f0f921\"]],\"type\":\"heatmapgl\"}],\"histogram\":[{\"marker\":{\"pattern\":{\"fillmode\":\"overlay\",\"size\":10,\"solidity\":0.2}},\"type\":\"histogram\"}],\"histogram2d\":[{\"colorbar\":{\"outlinewidth\":0,\"ticks\":\"\"},\"colorscale\":[[0.0,\"#0d0887\"],[0.1111111111111111,\"#46039f\"],[0.2222222222222222,\"#7201a8\"],[0.3333333333333333,\"#9c179e\"],[0.4444444444444444,\"#bd3786\"],[0.5555555555555556,\"#d8576b\"],[0.6666666666666666,\"#ed7953\"],[0.7777777777777778,\"#fb9f3a\"],[0.8888888888888888,\"#fdca26\"],[1.0,\"#f0f921\"]],\"type\":\"histogram2d\"}],\"histogram2dcontour\":[{\"colorbar\":{\"outlinewidth\":0,\"ticks\":\"\"},\"colorscale\":[[0.0,\"#0d0887\"],[0.1111111111111111,\"#46039f\"],[0.2222222222222222,\"#7201a8\"],[0.3333333333333333,\"#9c179e\"],[0.4444444444444444,\"#bd3786\"],[0.5555555555555556,\"#d8576b\"],[0.6666666666666666,\"#ed7953\"],[0.7777777777777778,\"#fb9f3a\"],[0.8888888888888888,\"#fdca26\"],[1.0,\"#f0f921\"]],\"type\":\"histogram2dcontour\"}],\"mesh3d\":[{\"colorbar\":{\"outlinewidth\":0,\"ticks\":\"\"},\"type\":\"mesh3d\"}],\"parcoords\":[{\"line\":{\"colorbar\":{\"outlinewidth\":0,\"ticks\":\"\"}},\"type\":\"parcoords\"}],\"pie\":[{\"automargin\":true,\"type\":\"pie\"}],\"scatter\":[{\"marker\":{\"colorbar\":{\"outlinewidth\":0,\"ticks\":\"\"}},\"type\":\"scatter\"}],\"scatter3d\":[{\"line\":{\"colorbar\":{\"outlinewidth\":0,\"ticks\":\"\"}},\"marker\":{\"colorbar\":{\"outlinewidth\":0,\"ticks\":\"\"}},\"type\":\"scatter3d\"}],\"scattercarpet\":[{\"marker\":{\"colorbar\":{\"outlinewidth\":0,\"ticks\":\"\"}},\"type\":\"scattercarpet\"}],\"scattergeo\":[{\"marker\":{\"colorbar\":{\"outlinewidth\":0,\"ticks\":\"\"}},\"type\":\"scattergeo\"}],\"scattergl\":[{\"marker\":{\"colorbar\":{\"outlinewidth\":0,\"ticks\":\"\"}},\"type\":\"scattergl\"}],\"scattermapbox\":[{\"marker\":{\"colorbar\":{\"outlinewidth\":0,\"ticks\":\"\"}},\"type\":\"scattermapbox\"}],\"scatterpolar\":[{\"marker\":{\"colorbar\":{\"outlinewidth\":0,\"ticks\":\"\"}},\"type\":\"scatterpolar\"}],\"scatterpolargl\":[{\"marker\":{\"colorbar\":{\"outlinewidth\":0,\"ticks\":\"\"}},\"type\":\"scatterpolargl\"}],\"scatterternary\":[{\"marker\":{\"colorbar\":{\"outlinewidth\":0,\"ticks\":\"\"}},\"type\":\"scatterternary\"}],\"surface\":[{\"colorbar\":{\"outlinewidth\":0,\"ticks\":\"\"},\"colorscale\":[[0.0,\"#0d0887\"],[0.1111111111111111,\"#46039f\"],[0.2222222222222222,\"#7201a8\"],[0.3333333333333333,\"#9c179e\"],[0.4444444444444444,\"#bd3786\"],[0.5555555555555556,\"#d8576b\"],[0.6666666666666666,\"#ed7953\"],[0.7777777777777778,\"#fb9f3a\"],[0.8888888888888888,\"#fdca26\"],[1.0,\"#f0f921\"]],\"type\":\"surface\"}],\"table\":[{\"cells\":{\"fill\":{\"color\":\"#EBF0F8\"},\"line\":{\"color\":\"white\"}},\"header\":{\"fill\":{\"color\":\"#C8D4E3\"},\"line\":{\"color\":\"white\"}},\"type\":\"table\"}]},\"layout\":{\"annotationdefaults\":{\"arrowcolor\":\"#2a3f5f\",\"arrowhead\":0,\"arrowwidth\":1},\"autotypenumbers\":\"strict\",\"coloraxis\":{\"colorbar\":{\"outlinewidth\":0,\"ticks\":\"\"}},\"colorscale\":{\"diverging\":[[0,\"#8e0152\"],[0.1,\"#c51b7d\"],[0.2,\"#de77ae\"],[0.3,\"#f1b6da\"],[0.4,\"#fde0ef\"],[0.5,\"#f7f7f7\"],[0.6,\"#e6f5d0\"],[0.7,\"#b8e186\"],[0.8,\"#7fbc41\"],[0.9,\"#4d9221\"],[1,\"#276419\"]],\"sequential\":[[0.0,\"#0d0887\"],[0.1111111111111111,\"#46039f\"],[0.2222222222222222,\"#7201a8\"],[0.3333333333333333,\"#9c179e\"],[0.4444444444444444,\"#bd3786\"],[0.5555555555555556,\"#d8576b\"],[0.6666666666666666,\"#ed7953\"],[0.7777777777777778,\"#fb9f3a\"],[0.8888888888888888,\"#fdca26\"],[1.0,\"#f0f921\"]],\"sequentialminus\":[[0.0,\"#0d0887\"],[0.1111111111111111,\"#46039f\"],[0.2222222222222222,\"#7201a8\"],[0.3333333333333333,\"#9c179e\"],[0.4444444444444444,\"#bd3786\"],[0.5555555555555556,\"#d8576b\"],[0.6666666666666666,\"#ed7953\"],[0.7777777777777778,\"#fb9f3a\"],[0.8888888888888888,\"#fdca26\"],[1.0,\"#f0f921\"]]},\"colorway\":[\"#636efa\",\"#EF553B\",\"#00cc96\",\"#ab63fa\",\"#FFA15A\",\"#19d3f3\",\"#FF6692\",\"#B6E880\",\"#FF97FF\",\"#FECB52\"],\"font\":{\"color\":\"#2a3f5f\"},\"geo\":{\"bgcolor\":\"white\",\"lakecolor\":\"white\",\"landcolor\":\"#E5ECF6\",\"showlakes\":true,\"showland\":true,\"subunitcolor\":\"white\"},\"hoverlabel\":{\"align\":\"left\"},\"hovermode\":\"closest\",\"mapbox\":{\"style\":\"light\"},\"paper_bgcolor\":\"white\",\"plot_bgcolor\":\"#E5ECF6\",\"polar\":{\"angularaxis\":{\"gridcolor\":\"white\",\"linecolor\":\"white\",\"ticks\":\"\"},\"bgcolor\":\"#E5ECF6\",\"radialaxis\":{\"gridcolor\":\"white\",\"linecolor\":\"white\",\"ticks\":\"\"}},\"scene\":{\"xaxis\":{\"backgroundcolor\":\"#E5ECF6\",\"gridcolor\":\"white\",\"gridwidth\":2,\"linecolor\":\"white\",\"showbackground\":true,\"ticks\":\"\",\"zerolinecolor\":\"white\"},\"yaxis\":{\"backgroundcolor\":\"#E5ECF6\",\"gridcolor\":\"white\",\"gridwidth\":2,\"linecolor\":\"white\",\"showbackground\":true,\"ticks\":\"\",\"zerolinecolor\":\"white\"},\"zaxis\":{\"backgroundcolor\":\"#E5ECF6\",\"gridcolor\":\"white\",\"gridwidth\":2,\"linecolor\":\"white\",\"showbackground\":true,\"ticks\":\"\",\"zerolinecolor\":\"white\"}},\"shapedefaults\":{\"line\":{\"color\":\"#2a3f5f\"}},\"ternary\":{\"aaxis\":{\"gridcolor\":\"white\",\"linecolor\":\"white\",\"ticks\":\"\"},\"baxis\":{\"gridcolor\":\"white\",\"linecolor\":\"white\",\"ticks\":\"\"},\"bgcolor\":\"#E5ECF6\",\"caxis\":{\"gridcolor\":\"white\",\"linecolor\":\"white\",\"ticks\":\"\"}},\"title\":{\"x\":0.05},\"xaxis\":{\"automargin\":true,\"gridcolor\":\"white\",\"linecolor\":\"white\",\"ticks\":\"\",\"title\":{\"standoff\":15},\"zerolinecolor\":\"white\",\"zerolinewidth\":2},\"yaxis\":{\"automargin\":true,\"gridcolor\":\"white\",\"linecolor\":\"white\",\"ticks\":\"\",\"title\":{\"standoff\":15},\"zerolinecolor\":\"white\",\"zerolinewidth\":2}}},\"xaxis\":{\"anchor\":\"y\",\"domain\":[0.0,1.0],\"title\":{\"text\":\"Author Name\"}},\"yaxis\":{\"anchor\":\"x\",\"domain\":[0.0,1.0],\"title\":{\"text\":\"Cluster\"}},\"coloraxis\":{\"colorbar\":{\"title\":{\"text\":\"cluster\"}},\"colorscale\":[[0.0,\"#0d0887\"],[0.1111111111111111,\"#46039f\"],[0.2222222222222222,\"#7201a8\"],[0.3333333333333333,\"#9c179e\"],[0.4444444444444444,\"#bd3786\"],[0.5555555555555556,\"#d8576b\"],[0.6666666666666666,\"#ed7953\"],[0.7777777777777778,\"#fb9f3a\"],[0.8888888888888888,\"#fdca26\"],[1.0,\"#f0f921\"]]},\"legend\":{\"tracegroupgap\":0},\"margin\":{\"t\":60},\"title\":{\"text\":\"Cluster Assignments\"}},                        {\"responsive\": true}                    ).then(function(){\n",
              "                            \n",
              "var gd = document.getElementById('09c77efb-4077-4ce2-99a0-7fda085b2554');\n",
              "var x = new MutationObserver(function (mutations, observer) {{\n",
              "        var display = window.getComputedStyle(gd).display;\n",
              "        if (!display || display === 'none') {{\n",
              "            console.log([gd, 'removed!']);\n",
              "            Plotly.purge(gd);\n",
              "            observer.disconnect();\n",
              "        }}\n",
              "}});\n",
              "\n",
              "// Listen for the removal of the full notebook cells\n",
              "var notebookContainer = gd.closest('#notebook-container');\n",
              "if (notebookContainer) {{\n",
              "    x.observe(notebookContainer, {childList: true});\n",
              "}}\n",
              "\n",
              "// Listen for the clearing of the current output cell\n",
              "var outputEl = gd.closest('.output');\n",
              "if (outputEl) {{\n",
              "    x.observe(outputEl, {childList: true});\n",
              "}}\n",
              "\n",
              "                        })                };                            </script>        </div>\n",
              "</body>\n",
              "</html>"
            ]
          },
          "metadata": {},
          "output_type": "display_data"
        }
      ],
      "source": [
        "# Plot the cluster assignments\n",
        "fig = px.scatter(df1, x='name', y='cluster', color='cluster', hover_data=['name'],\n",
        "                 color_discrete_sequence=px.colors.qualitative.Light24)\n",
        "\n",
        "# Add labels and title\n",
        "fig.update_layout(xaxis_title='Author Name', yaxis_title='Cluster', title='Cluster Assignments')\n",
        "\n",
        "# Show the plot\n",
        "fig.show()"
      ]
    },
    {
      "cell_type": "code",
      "execution_count": null,
      "metadata": {
        "id": "tdcLfnt0FPjD"
      },
      "outputs": [],
      "source": []
    },
    {
      "cell_type": "markdown",
      "metadata": {
        "id": "eKHhYWjGF1Ek"
      },
      "source": [
        "# UI"
      ]
    },
    {
      "cell_type": "code",
      "execution_count": null,
      "metadata": {
        "id": "sS4f-de5F3iW"
      },
      "outputs": [],
      "source": [
        "# Create a dropdown menu for selecting an author\n",
        "author = st.selectbox('Select an author:', df['author'].unique().tolist())\n",
        "\n",
        "# Recommend related authors based on the selected author\n",
        "related_authors = df[df['author'] == author]['related_authors'].iloc[0]\n",
        "st.write(f'Related authors: {related_authors}')\n",
        "\n",
        "# Create a checkbox for displaying the cluster visualization\n",
        "show_clusters = st.checkbox('Show Clusters')\n",
        "if show_clusters:\n",
        "    # Plot the cluster assignments\n",
        "    fig = px.scatter(df, x='author', y='cluster', color='cluster', hover_data=['author'],\n",
        "                     color_discrete_sequence=px.colors.qualitative.Light24)\n",
        "\n",
        "    # Add labels and title\n",
        "    fig.update_layout(xaxis_title='Author Name', yaxis_title='Cluster', title='Cluster Assignments')\n",
        "\n",
        "    # Show the plot\n",
        "    st.plotly_chart(fig)"
      ]
    }
  ],
  "metadata": {
    "accelerator": "GPU",
    "colab": {
      "collapsed_sections": [
        "KtwgLAEqzT6W",
        "rUAATUpY18ot",
        "sAnqxoLZ1-Qz"
      ],
      "provenance": [],
      "toc_visible": true
    },
    "gpuClass": "standard",
    "kernelspec": {
      "display_name": "Python 3",
      "name": "python3"
    },
    "language_info": {
      "name": "python"
    }
  },
  "nbformat": 4,
  "nbformat_minor": 0
}